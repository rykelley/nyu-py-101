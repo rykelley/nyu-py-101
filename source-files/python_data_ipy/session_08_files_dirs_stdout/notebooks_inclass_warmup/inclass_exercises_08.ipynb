{
 "cells": [
  {
   "cell_type": "markdown",
   "id": "8ba6c7f9",
   "metadata": {},
   "source": [
    "# In-Class Exercises, Session 8"
   ]
  },
  {
   "cell_type": "markdown",
   "id": "b34eb345",
   "metadata": {},
   "source": [
    "PLEASE REFER to pythonreference.com for syntax to follow in coding these Exercises"
   ]
  },
  {
   "cell_type": "markdown",
   "id": "441c86fb",
   "metadata": {},
   "source": [
    " "
   ]
  },
  {
   "cell_type": "markdown",
   "id": "db8b4b9d",
   "metadata": {},
   "source": [
    "REVIEW:  FUNCTION ARGUMENTS AND RETURN VALUES"
   ]
  },
  {
   "cell_type": "markdown",
   "id": "9fc84f96",
   "metadata": {},
   "source": [
    "<B>8.1:  <B><U>Write a function that takes two arguments and returns one value</U>.</B>  </B>"
   ]
  },
  {
   "cell_type": "markdown",
   "id": "2a63ff80",
   "metadata": {},
   "source": [
    "Define function 'add' that takes two arguments for int values, adds them together and returns the sum.  <U>Note</U>:  you must not use 'a', 'b', 'x' or 'y' inside the function\n"
   ]
  },
  {
   "cell_type": "code",
   "execution_count": null,
   "id": "3fabd057",
   "metadata": {},
   "outputs": [],
   "source": [
    "# your function definition here\n",
    "\n",
    "a = 5\n",
    "b = 10\n",
    "val1 = add(a, b)\n",
    "print(val1)                     # 15\n",
    "\n",
    "x = 10\n",
    "y = 100\n",
    "val2 = add(x, y)\n",
    "print(val2)                     # 110"
   ]
  },
  {
   "cell_type": "markdown",
   "id": "429fd70b",
   "metadata": {},
   "source": [
    "<U>Expected Output</U>:  "
   ]
  },
  {
   "cell_type": "markdown",
   "id": "7ae3d6fa",
   "metadata": {},
   "source": [
    "<pre style=\"margin: 0; padding=0\"><DIV style=\"font-family: Courier; border: 1px solid #dbdbdb; padding: 7px\">15\n",
    "110</DIV></pre>"
   ]
  },
  {
   "cell_type": "markdown",
   "id": "d9aabb99",
   "metadata": {},
   "source": [
    " "
   ]
  },
  {
   "cell_type": "markdown",
   "id": "15d4285a",
   "metadata": {},
   "source": [
    "<B>8.2:  <B><U>Write a function with one argument and one return value</U>.</B>    </B>"
   ]
  },
  {
   "cell_type": "markdown",
   "id": "0dbd9669",
   "metadata": {},
   "source": [
    "Define function 'get\\_half' that takes one argument, divides the value by two, and returns the halved value.  <U>Note</U>:  you must not use 'a' or 'b' inside the function, and you must not print inside the function -- value must be returned.\n"
   ]
  },
  {
   "cell_type": "code",
   "execution_count": null,
   "id": "9b32951f",
   "metadata": {},
   "outputs": [],
   "source": [
    "# your function code here\n",
    "\n",
    "a = 5\n",
    "x = get_half(a)\n",
    "print(x)           # 2.5\n",
    "\n",
    "b = 100\n",
    "y = get_half(b)\n",
    "print(y)           # 50.0"
   ]
  },
  {
   "cell_type": "markdown",
   "id": "31ffc86b",
   "metadata": {},
   "source": [
    "<U>Expected Output</U>:  "
   ]
  },
  {
   "cell_type": "markdown",
   "id": "16165d19",
   "metadata": {},
   "source": [
    "<pre style=\"margin: 0; padding=0\"><DIV style=\"font-family: Courier; border: 1px solid #dbdbdb; padding: 7px\">2.5\n",
    "50.0</DIV></pre>"
   ]
  },
  {
   "cell_type": "markdown",
   "id": "8cfcaa93",
   "metadata": {},
   "source": [
    " "
   ]
  },
  {
   "cell_type": "markdown",
   "id": "d3fe3fc4",
   "metadata": {},
   "source": [
    "<B>8.3:  <B><U>Write a function with one argument and two return values</U>.</B>  </B>"
   ]
  },
  {
   "cell_type": "markdown",
   "id": "5388464d",
   "metadata": {},
   "source": [
    "Define function 'double\\_and\\_halve' that takes one numeric argument, and returns the value doubled as well as halved.  <U>Note</U>:  you must not use 'a' or 'b' inside the function, and you must not print inside the function - values must be returned\n"
   ]
  },
  {
   "cell_type": "code",
   "execution_count": null,
   "id": "ed9cfa65",
   "metadata": {},
   "outputs": [],
   "source": [
    "# your function def here\n",
    "\n",
    "a = 50\n",
    "\n",
    "d, h = double_and_halve(a)\n",
    "\n",
    "print(d)                # 100\n",
    "print(h)                # 25.0"
   ]
  },
  {
   "cell_type": "markdown",
   "id": "3ddcb952",
   "metadata": {},
   "source": [
    "<U>Expected Output</U>:  "
   ]
  },
  {
   "cell_type": "markdown",
   "id": "a26db557",
   "metadata": {},
   "source": [
    "<pre style=\"margin: 0; padding=0\"><DIV style=\"font-family: Courier; border: 1px solid #dbdbdb; padding: 7px\">100\n",
    "25.0</DIV></pre>"
   ]
  },
  {
   "cell_type": "markdown",
   "id": "ec4fdbb9",
   "metadata": {},
   "source": [
    " "
   ]
  },
  {
   "cell_type": "markdown",
   "id": "b9f543e2",
   "metadata": {},
   "source": [
    "<B>8.4:  <B><U>Write a function with two arguments and one return value</U>.</B>  </B>"
   ]
  },
  {
   "cell_type": "markdown",
   "id": "27f1c9d4",
   "metadata": {},
   "source": [
    "Define function 'get\\_sum' that takes two numeric arguments and returns the values summed.  <U>Note</U>:  you must not use 'x' or 'y' inside the function, and you must not print inside the function - value must be returned.\n"
   ]
  },
  {
   "cell_type": "code",
   "execution_count": null,
   "id": "e0e40e23",
   "metadata": {},
   "outputs": [],
   "source": [
    "# your function def here\n",
    "\n",
    "x = 50\n",
    "y = 25\n",
    "\n",
    "z = get_sum(x, y)\n",
    "print(z)           # 75"
   ]
  },
  {
   "cell_type": "markdown",
   "id": "78fa47cd",
   "metadata": {},
   "source": [
    "<U>Expected Output</U>:  "
   ]
  },
  {
   "cell_type": "markdown",
   "id": "801753de",
   "metadata": {},
   "source": [
    "<pre style=\"margin: 0; padding=0\"><DIV style=\"font-family: Courier; border: 1px solid #dbdbdb; padding: 7px\">75</DIV></pre>"
   ]
  },
  {
   "cell_type": "markdown",
   "id": "e104c5df",
   "metadata": {},
   "source": [
    " "
   ]
  },
  {
   "cell_type": "markdown",
   "id": "8e53d955",
   "metadata": {},
   "source": [
    "LAB 1"
   ]
  },
  {
   "cell_type": "markdown",
   "id": "b8456245",
   "metadata": {},
   "source": [
    "<div style=\"background-color: #ccffcc; padding: 10px; border: 2px solid green\"><B>8.5:  <B><U>Write a function with two arguments and one return value</U>.</B>  </B></div>"
   ]
  },
  {
   "cell_type": "markdown",
   "id": "58c5de0b",
   "metadata": {},
   "source": [
    "Define function <B>get\\_diff()</B> that takes two numeric arguments and returns the difference between the two.  <U>Note</U>:  you must not use 'x' or 'y' inside the function, and you must not print inside the function - value must be returned.\n"
   ]
  },
  {
   "cell_type": "code",
   "execution_count": null,
   "id": "68c40921",
   "metadata": {},
   "outputs": [],
   "source": [
    "# your function def here\n",
    "\n",
    "x = 50\n",
    "y = 10\n",
    "\n",
    "z = get_diff(x, y)         # int, 40\n",
    "print(z)                   # 40"
   ]
  },
  {
   "cell_type": "markdown",
   "id": "e91f40d6",
   "metadata": {},
   "source": [
    " "
   ]
  },
  {
   "cell_type": "markdown",
   "id": "691d5a8b",
   "metadata": {},
   "source": [
    "<div style=\"background-color: #ccffcc; padding: 10px; border: 2px solid green\"><B>8.6:  <B><U>Write a function with two arguments and one return value</U>.</B>  </B></div>"
   ]
  },
  {
   "cell_type": "markdown",
   "id": "efb66492",
   "metadata": {},
   "source": [
    "Define function <B>get\\_quotient()</B> that takes two numeric arguments, divides the first by the second, and returns the result.\n"
   ]
  },
  {
   "cell_type": "code",
   "execution_count": null,
   "id": "fe5aa55b",
   "metadata": {},
   "outputs": [],
   "source": [
    "# your function def here\n",
    "\n",
    "\n",
    "\n",
    "aa = 90\n",
    "bb = 10\n",
    "\n",
    "c = get_quotient(aa, bb)   # float, 9.0\n",
    "print(c)                   # 9.0"
   ]
  },
  {
   "cell_type": "markdown",
   "id": "957f841a",
   "metadata": {},
   "source": [
    " "
   ]
  },
  {
   "cell_type": "markdown",
   "id": "eda6ba1f",
   "metadata": {},
   "source": [
    "<div style=\"background-color: #ccffcc; padding: 10px; border: 2px solid green\"><B>8.7:  <B><U>Write a function with one argument and one return value</U>.</B>  </B></div>"
   ]
  },
  {
   "cell_type": "markdown",
   "id": "2f260f5f",
   "metadata": {},
   "source": [
    "Define function <B>get\\_lower()</B> that takes a string argument and returns the value lowercased.\n"
   ]
  },
  {
   "cell_type": "code",
   "execution_count": null,
   "id": "5fa22e8e",
   "metadata": {},
   "outputs": [],
   "source": [
    "# your function def here\n",
    "\n",
    "\n",
    "\n",
    "x = 'WELCOME TO THE WORLD.'\n",
    "y = get_lower(x)              # str, 'welcome to the world.'\n",
    "\n",
    "print(y)                      # welcome to the world."
   ]
  },
  {
   "cell_type": "markdown",
   "id": "fe75b83a",
   "metadata": {},
   "source": [
    " "
   ]
  },
  {
   "cell_type": "markdown",
   "id": "2516e216",
   "metadata": {},
   "source": [
    "<div style=\"background-color: #ccffcc; padding: 10px; border: 2px solid green\"><B>8.8:  <B><U>Write a function with one argument and one return value</U>.</B>  </B></div>"
   ]
  },
  {
   "cell_type": "markdown",
   "id": "c4d52211",
   "metadata": {},
   "source": [
    "Define function <B>get\\_split()</B> that takes a string argument for a comma-separated CSV string line and returns a list of values from the split.\n"
   ]
  },
  {
   "cell_type": "code",
   "execution_count": null,
   "id": "831c9d9e",
   "metadata": {},
   "outputs": [],
   "source": [
    "# your function def here\n",
    "\n",
    "\n",
    "\n",
    "line = 'this,that,other'\n",
    "\n",
    "items = get_split(line)        # list, ['this', 'that', 'other']\n",
    "\n",
    "print(items)                   # ['this', 'that', 'other']"
   ]
  },
  {
   "cell_type": "markdown",
   "id": "66c6ef79",
   "metadata": {},
   "source": [
    " "
   ]
  },
  {
   "cell_type": "markdown",
   "id": "36fbcd75",
   "metadata": {},
   "source": [
    "<div style=\"background-color: #ccffcc; padding: 10px; border: 2px solid green\"><B>8.9:  <B><U>Write a function with one argument and one return value</U>.</B>  </B></div>"
   ]
  },
  {
   "cell_type": "markdown",
   "id": "ae5d2c30",
   "metadata": {},
   "source": [
    "Define function <B>get\\_last\\_item()</B> that takes a string argument for a comma-separated CSV string line and returns just the first comma-separated item from the line.\n"
   ]
  },
  {
   "cell_type": "code",
   "execution_count": null,
   "id": "10c5e529",
   "metadata": {},
   "outputs": [],
   "source": [
    "# your function def here\n",
    "\n",
    "\n",
    "line = '2017-09-03,Alpha Corp.'\n",
    "\n",
    "last = get_last_item(line)        # str, 'Alpha Corp.'\n",
    "\n",
    "print(last)                       # Alpha Corp."
   ]
  },
  {
   "cell_type": "markdown",
   "id": "73cf7248",
   "metadata": {},
   "source": [
    " "
   ]
  },
  {
   "cell_type": "markdown",
   "id": "e6ab113e",
   "metadata": {},
   "source": [
    "<div style=\"background-color: #ccffcc; padding: 10px; border: 2px solid green\"><B>8.10:  <B><U>Write a function that raises an exception</U>.</B></B></div>"
   ]
  },
  {
   "cell_type": "markdown",
   "id": "6c47e35b",
   "metadata": {},
   "source": [
    "The function below should detect if an incorrect state name is passed to it, and raise a <B>ValueError</B> exception if it is.\n"
   ]
  },
  {
   "cell_type": "code",
   "execution_count": null,
   "id": "098cf970",
   "metadata": {},
   "outputs": [],
   "source": [
    "def get_tristate_pop(state):\n",
    "    states = {'ny': 19.45, 'nj': 8.88, 'ct': 3.57}\n",
    "\n",
    "    # if state is not in the states dict, please\n",
    "    # raise a ValueError exception with below message\n",
    "\n",
    "\n",
    "    return states[state]\n",
    "\n",
    "\n",
    "popny = get_tristate_pop('ny')       # 19.45\n",
    "print(popny)\n",
    "\n",
    "popca = get_tristate_pop('ca')       # ValueError:\n",
    "                                     # state \"ca\" not found\n",
    "print(popca)"
   ]
  },
  {
   "cell_type": "markdown",
   "id": "ff667c52",
   "metadata": {},
   "source": [
    " "
   ]
  },
  {
   "cell_type": "markdown",
   "id": "92f086ff",
   "metadata": {},
   "source": [
    "FILE INSPECTIONS"
   ]
  },
  {
   "cell_type": "markdown",
   "id": "1a87b7b3",
   "metadata": {},
   "source": [
    "<B>8.11:  <B><U>Show the present/current working directory</U>.</B></B>"
   ]
  },
  {
   "cell_type": "markdown",
   "id": "70626289",
   "metadata": {},
   "source": [
    "This is the one from which you are running your Python program.  In most cases (but not always) it is the same as the location of the file you are running.\n",
    "\n",
    "Use <B>os.getcwd()</B>.  Remember to <B>import os</B>.\n"
   ]
  },
  {
   "cell_type": "code",
   "execution_count": null,
   "id": "6c1f0262",
   "metadata": {},
   "outputs": [],
   "source": []
  },
  {
   "cell_type": "markdown",
   "id": "085e02a4",
   "metadata": {},
   "source": [
    " "
   ]
  },
  {
   "cell_type": "markdown",
   "id": "a56a4802",
   "metadata": {},
   "source": [
    "<B>8.12:  <B><U>List a directory</U>.</B>  </B>"
   ]
  },
  {
   "cell_type": "markdown",
   "id": "02b55607",
   "metadata": {},
   "source": [
    "Loop through the <B>warmup\\_exercises/</B> directory list, printing each item.  Use <B>os.listdir()</B>.  (Note:  don't forget to <B>import os</B>.)\n"
   ]
  },
  {
   "cell_type": "code",
   "execution_count": null,
   "id": "876ae474",
   "metadata": {},
   "outputs": [],
   "source": [
    "this_dir = '../warmup_exercises'\n"
   ]
  },
  {
   "cell_type": "markdown",
   "id": "129d232b",
   "metadata": {},
   "source": [
    "<U>Expected Output</U>:  "
   ]
  },
  {
   "cell_type": "markdown",
   "id": "526d24ef",
   "metadata": {},
   "source": [
    "<pre style=\"margin: 0; padding=0\"><DIV style=\"font-family: Courier; border: 1px solid #dbdbdb; padding: 7px\">warmup_8.3.py\n",
    "warmup_8.6.py\n",
    "warmup_8.2.py\n",
    "warmup_8.5.py\n",
    "warmup_8.1.py\n",
    "warmup_8.4.py</DIV></pre>"
   ]
  },
  {
   "cell_type": "markdown",
   "id": "da3002c8",
   "metadata": {},
   "source": [
    "(your file output order may be different)"
   ]
  },
  {
   "cell_type": "markdown",
   "id": "879864cf",
   "metadata": {},
   "source": [
    " "
   ]
  },
  {
   "cell_type": "markdown",
   "id": "05f79971",
   "metadata": {},
   "source": [
    "<B>8.13:  <B><U>Build a filepath</U>.</B>  </B>"
   ]
  },
  {
   "cell_type": "markdown",
   "id": "b8d4be6d",
   "metadata": {},
   "source": [
    "Given the below directory name and filename, build a complete filepath.  Use <B>os.path.join()</B>\n"
   ]
  },
  {
   "cell_type": "code",
   "execution_count": null,
   "id": "726ecf00",
   "metadata": {},
   "outputs": [],
   "source": [
    "dirname = '../warmup_exercises/'\n",
    "\n",
    "filename = 'warmup_1.1.py'\n"
   ]
  },
  {
   "cell_type": "markdown",
   "id": "4e16ac61",
   "metadata": {},
   "source": [
    "Note that on Windows computers, <B>os.path.join()</B> will insert a backslash instead of a forward slash.  This completed path is still valid.\n"
   ]
  },
  {
   "cell_type": "markdown",
   "id": "660c2b6d",
   "metadata": {},
   "source": [
    "<U>Expected Output</U>:  "
   ]
  },
  {
   "cell_type": "markdown",
   "id": "810bd316",
   "metadata": {},
   "source": [
    "<pre style=\"margin: 0; padding=0\"><DIV style=\"font-family: Courier; border: 1px solid #dbdbdb; padding: 7px\">../warmup_exercises/challenge_1.1.py</DIV></pre>"
   ]
  },
  {
   "cell_type": "markdown",
   "id": "31897860",
   "metadata": {},
   "source": [
    " "
   ]
  },
  {
   "cell_type": "markdown",
   "id": "b3083e05",
   "metadata": {},
   "source": [
    "<B>8.14:  <B><U>Check to see if an entry is a file</U>.</B>  </B>"
   ]
  },
  {
   "cell_type": "markdown",
   "id": "c0245e1f",
   "metadata": {},
   "source": [
    "Given the below filename, confirm that the entry is a file by printing <B>is a file!</B>.  Use <B>os.path.isfile()</B>.\n"
   ]
  },
  {
   "cell_type": "code",
   "execution_count": null,
   "id": "9d300b92",
   "metadata": {},
   "outputs": [],
   "source": [
    "fname = '../pyku.txt'\n"
   ]
  },
  {
   "cell_type": "markdown",
   "id": "274ca546",
   "metadata": {},
   "source": [
    "<U>Expected Output</U>:  "
   ]
  },
  {
   "cell_type": "markdown",
   "id": "efcf1371",
   "metadata": {},
   "source": [
    "<pre style=\"margin: 0; padding=0\"><DIV style=\"font-family: Courier; border: 1px solid #dbdbdb; padding: 7px\">is a file!</DIV></pre>"
   ]
  },
  {
   "cell_type": "markdown",
   "id": "74da1294",
   "metadata": {},
   "source": [
    " "
   ]
  },
  {
   "cell_type": "markdown",
   "id": "90cfe194",
   "metadata": {},
   "source": [
    "<B>8.15:  <B><U>Check to see if an entry is a directory</U>.</B>  </B>"
   ]
  },
  {
   "cell_type": "markdown",
   "id": "add080ca",
   "metadata": {},
   "source": [
    "Given the below directory name, confirm the entry is a directory by printing <B>is a directory!</B>.  Use <B>os.path.isdir()</B>.\n"
   ]
  },
  {
   "cell_type": "code",
   "execution_count": null,
   "id": "7ba1e9d6",
   "metadata": {},
   "outputs": [],
   "source": [
    "dirname = '../shakespeare'\n"
   ]
  },
  {
   "cell_type": "markdown",
   "id": "7e0164f3",
   "metadata": {},
   "source": [
    "<U>Expected Output</U>:  "
   ]
  },
  {
   "cell_type": "markdown",
   "id": "1b15cb35",
   "metadata": {},
   "source": [
    "<pre style=\"margin: 0; padding=0\"><DIV style=\"font-family: Courier; border: 1px solid #dbdbdb; padding: 7px\">is a directory!</DIV></pre>"
   ]
  },
  {
   "cell_type": "markdown",
   "id": "4dd862a2",
   "metadata": {},
   "source": [
    " "
   ]
  },
  {
   "cell_type": "markdown",
   "id": "6ec8c3a7",
   "metadata": {},
   "source": [
    "<B>8.16:  <B><U>Get the size of a file</U>.</B>  </B>"
   ]
  },
  {
   "cell_type": "markdown",
   "id": "59ee18f8",
   "metadata": {},
   "source": [
    "Given the below filepath, check the size of the file.  Use <B>os.path.getsize()</B>.\n"
   ]
  },
  {
   "cell_type": "code",
   "execution_count": null,
   "id": "40212af9",
   "metadata": {},
   "outputs": [],
   "source": [
    "fname = '../pyku.txt'\n"
   ]
  },
  {
   "cell_type": "markdown",
   "id": "a2fcf9d1",
   "metadata": {},
   "source": [
    "<U>Expected Output</U>:  "
   ]
  },
  {
   "cell_type": "markdown",
   "id": "7edd7c1c",
   "metadata": {},
   "source": [
    "<pre style=\"margin: 0; padding=0\"><DIV style=\"font-family: Courier; border: 1px solid #dbdbdb; padding: 7px\">80</DIV></pre>"
   ]
  },
  {
   "cell_type": "markdown",
   "id": "a18062f8",
   "metadata": {},
   "source": [
    " "
   ]
  },
  {
   "cell_type": "markdown",
   "id": "91ea7eaa",
   "metadata": {},
   "source": [
    "<B>8.17:  <B>(running from command line only) <U>Read from sys.argv</U>.</B>  </B>"
   ]
  },
  {
   "cell_type": "markdown",
   "id": "7d29850f",
   "metadata": {},
   "source": [
    "Running the below code from the command line, print the value of <B>sys.argv</B>.  Then, run the code again with the following 3 \"words\" on the same line when executing the script:  <B>greetings</B> <B>filesystem</B> <B>arguments</B>.\n"
   ]
  },
  {
   "cell_type": "code",
   "execution_count": null,
   "id": "3248a560",
   "metadata": {},
   "outputs": [],
   "source": [
    "import sys\n",
    "\n",
    "print(sys.argv)"
   ]
  },
  {
   "cell_type": "markdown",
   "id": "7036ec7a",
   "metadata": {},
   "source": [
    "<U>Expected Output</U>:  "
   ]
  },
  {
   "cell_type": "markdown",
   "id": "ce06ffab",
   "metadata": {},
   "source": [
    "<pre style=\"margin: 0; padding=0\"><DIV style=\"font-family: Courier; border: 1px solid #dbdbdb; padding: 7px\">['inclass_X.py', 'greetings', 'filesystem', 'arguments']</DIV></pre>"
   ]
  },
  {
   "cell_type": "markdown",
   "id": "8ae568fe",
   "metadata": {},
   "source": [
    " "
   ]
  },
  {
   "cell_type": "markdown",
   "id": "fd10996a",
   "metadata": {},
   "source": [
    "REVIEW:  TRAPPING EXCEPTIONS -- TRY/EXCEPT"
   ]
  },
  {
   "cell_type": "markdown",
   "id": "8d46278f",
   "metadata": {},
   "source": [
    "<B>8.18:  <B><U>Trap a \"bad index\" error</U>.</B>   The below code takes user input and converts to int, then attempts to read the list item at that index value.  A correct index (0-3) should allow you to print the value at that index.  An incorrect index (>3) should raise an exception.  Once you have observed this, use a 'try/except' statement to trap the exception and instead print 'no value at that index'.  Make sure to put your 'try' block around just one line of code.</B>"
   ]
  },
  {
   "cell_type": "code",
   "execution_count": null,
   "id": "df11e578",
   "metadata": {},
   "outputs": [],
   "source": [
    "x = ['a', 'b', 'c', 'd']\n",
    "\n",
    "uidx = int(input('please enter an index:  '))\n",
    "\n",
    "print(x[uidx])\n"
   ]
  },
  {
   "cell_type": "markdown",
   "id": "91a58f77",
   "metadata": {},
   "source": [
    "<U>Expected Output</U>:  "
   ]
  },
  {
   "cell_type": "markdown",
   "id": "8443de23",
   "metadata": {},
   "source": [
    "<pre style=\"margin: 0; padding=0\"><DIV style=\"font-family: Courier; border: 1px solid #dbdbdb; padding: 7px\">please enter an index:  4\n",
    "no value at that index</DIV></pre>"
   ]
  },
  {
   "cell_type": "markdown",
   "id": "df2a8645",
   "metadata": {},
   "source": [
    " "
   ]
  },
  {
   "cell_type": "markdown",
   "id": "9a4884b0",
   "metadata": {},
   "source": [
    "<B>8.19:  <B><U>Trap a \"bad value\" error</U>.</B>  </B>"
   ]
  },
  {
   "cell_type": "markdown",
   "id": "cf3c8451",
   "metadata": {},
   "source": [
    "Since the input line also converts to int an input value that is not all digits should also raise an exception.  Once you have observed this, use a 'try/except' statement to trap the exception and instead print 'numbers, only please'.  Make sure to put your new 'try' block around just one line of code.  Also, add an <B>exit()</B> to the <B>except:</B> block so the code doesn't continue executing past that line.  (Note that in Jupyter Notebook you must use <B>sys.exit()</B> and that Jupyter will respond as if this is an error.)\n"
   ]
  },
  {
   "cell_type": "code",
   "execution_count": null,
   "id": "df9d0a3a",
   "metadata": {},
   "outputs": [],
   "source": [
    "x = ['a', 'b', 'c', 'd']\n",
    "\n",
    "uidx = int(input('please enter an index:  '))\n",
    "\n",
    "try:\n",
    "    print(x[uidx])\n",
    "except IndexError:\n",
    "    print('no value at that index')"
   ]
  },
  {
   "cell_type": "markdown",
   "id": "645c0d9b",
   "metadata": {},
   "source": [
    "<U>Expected Output</U>:  "
   ]
  },
  {
   "cell_type": "markdown",
   "id": "a703f240",
   "metadata": {},
   "source": [
    "<pre style=\"margin: 0; padding=0\"><DIV style=\"font-family: Courier; border: 1px solid #dbdbdb; padding: 7px\">please enter an index:  hello\n",
    "numbers only, please</DIV></pre>"
   ]
  },
  {
   "cell_type": "markdown",
   "id": "32d81ac6",
   "metadata": {},
   "source": [
    " "
   ]
  },
  {
   "cell_type": "markdown",
   "id": "ec9771d8",
   "metadata": {},
   "source": [
    "<B>8.20:  <B><U>Combine traps</U>.</B>  Place the <B>try:</B> block around <I>both</I> the input line and the list index line.  Now move your <B>except:</B> blocks so that they follow one another consecutively.  Test the program both with a bad integer value and a bad index, to see that either exception can be handled.  </B>"
   ]
  },
  {
   "cell_type": "code",
   "execution_count": null,
   "id": "572a278e",
   "metadata": {},
   "outputs": [],
   "source": [
    "x = ['a', 'b', 'c', 'd']\n",
    "\n",
    "try:\n",
    "    uidx = int(input('please enter an index:  '))\n",
    "except ValueError:\n",
    "    print('numbers only, please')\n",
    "\n",
    "try:\n",
    "    print(x[uidx])\n",
    "except IndexError:\n",
    "    print('no value at that index')"
   ]
  },
  {
   "cell_type": "markdown",
   "id": "4a12ff53",
   "metadata": {},
   "source": [
    "<U>Sample program run</U>:  "
   ]
  },
  {
   "cell_type": "markdown",
   "id": "1cd34cb5",
   "metadata": {},
   "source": [
    "<pre style=\"margin: 0; padding=0\"><DIV style=\"font-family: Courier; border: 1px solid #dbdbdb; padding: 7px\">please enter an index:  4\n",
    "no value at that index</DIV></pre>"
   ]
  },
  {
   "cell_type": "markdown",
   "id": "ee05ed26",
   "metadata": {},
   "source": [
    "<U>Sample program run</U>:  "
   ]
  },
  {
   "cell_type": "markdown",
   "id": "174c51db",
   "metadata": {},
   "source": [
    "<pre style=\"margin: 0; padding=0\"><DIV style=\"font-family: Courier; border: 1px solid #dbdbdb; padding: 7px\">please enter an index:  hello\n",
    "numbers only, please</DIV></pre>"
   ]
  },
  {
   "cell_type": "markdown",
   "id": "211c1a7d",
   "metadata": {},
   "source": [
    " "
   ]
  },
  {
   "cell_type": "markdown",
   "id": "a9d988e4",
   "metadata": {},
   "source": [
    "<B>8.21:  <B><U>Trap a \"missing file\" error</U>.</B>   The below code attempts to open a file specified by the user's input.  An existing filename should allow the program to show the length of the file in bytes.  A non-existent filename should raise an exception.  Once you have observed this, use a 'try/except' statement to trap the exception and instead print 'file does not exist'.  Make sure to put your 'try' block around just one line.  </B>"
   ]
  },
  {
   "cell_type": "code",
   "execution_count": null,
   "id": "47c9e0d9",
   "metadata": {},
   "outputs": [],
   "source": [
    "# existing filename:  ../pyku.txt\n",
    "\n",
    "import os\n",
    "\n",
    "uifn = input(\"enter filename to see size in bytes: \")\n",
    "\n",
    "print(f\"this file's length is {os.path.getsize(uifn)}\")"
   ]
  },
  {
   "cell_type": "markdown",
   "id": "abd4621f",
   "metadata": {},
   "source": [
    "<U>Expected Output</U>:  "
   ]
  },
  {
   "cell_type": "markdown",
   "id": "70f03b8b",
   "metadata": {},
   "source": [
    "<pre style=\"margin: 0; padding=0\"><DIV style=\"font-family: Courier; border: 1px solid #dbdbdb; padding: 7px\">enter filename to see size in bytes: ../pyku.txt\n",
    "this file's length is 80</DIV></pre>"
   ]
  },
  {
   "cell_type": "markdown",
   "id": "75cdef36",
   "metadata": {},
   "source": [
    " "
   ]
  },
  {
   "cell_type": "markdown",
   "id": "1e47344c",
   "metadata": {},
   "source": [
    "<B>8.22:  <B><U>Trap a \"bad directory\" error</U>.</B>   </B>"
   ]
  },
  {
   "cell_type": "markdown",
   "id": "572ec1be",
   "metadata": {},
   "source": [
    "The below code attempts to list a directory specified by the user's input.  An existing directory should allow the program to loop through the items in that directory.  A non-existent directory should raise an exception.  Once you have observed this, use a 'try/except' statement to trap the exception and instead print 'directory not found'.  Make sure to put your 'try' block around just one line, and make sure to add an exit() to the end of the <B>except:</B> block so the program doesn't continue if the directory can't be found.  (Note that in Jupyter Notebook you must use <B>sys.exit()</B> and that Jupyter will respond as if this is an error.)\n",
    "\n",
    "Test for both correct directory (shown at top) and incorrect directory."
   ]
  },
  {
   "cell_type": "code",
   "execution_count": null,
   "id": "5beb34f9",
   "metadata": {},
   "outputs": [],
   "source": [
    "# existing directory name:  ../shakespeare\n",
    "\n",
    "import os\n",
    "\n",
    "uidn = input(\"name of directory to list: \")\n",
    "\n",
    "uidpath = os.path.join('..', uidn)\n",
    "\n",
    "items = os.listdir(uidpath)\n",
    "\n",
    "for item in items:\n",
    "    print(item)\n"
   ]
  },
  {
   "cell_type": "markdown",
   "id": "4837ec97",
   "metadata": {},
   "source": [
    "<U>Expected Output</U>:  "
   ]
  },
  {
   "cell_type": "markdown",
   "id": "8d9941c7",
   "metadata": {},
   "source": [
    "<pre style=\"margin: 0; padding=0\"><DIV style=\"font-family: Courier; border: 1px solid #dbdbdb; padding: 7px\">directory not found</DIV></pre>"
   ]
  },
  {
   "cell_type": "markdown",
   "id": "ff0d9193",
   "metadata": {},
   "source": [
    " "
   ]
  },
  {
   "cell_type": "markdown",
   "id": "e57d3024",
   "metadata": {},
   "source": [
    "<B>8.23:  <B>Command line only:  <U>Identify error type and trap exception for missing command line argument</U>.</B>  </B>"
   ]
  },
  {
   "cell_type": "markdown",
   "id": "adfb1321",
   "metadata": {},
   "source": [
    "Suppose that the user has provided arguments at the command line resulting in <B>sys.argv</B> having the list values, as shown:"
   ]
  },
  {
   "cell_type": "markdown",
   "id": "e3b57901",
   "metadata": {},
   "source": [
    "<pre style=\"margin: 0; padding=0\"><DIV style=\"font-family: Courier; border: 1px solid #dbdbdb; padding: 7px\">command line argument:  1927\n",
    "\n",
    "sys.argv value:          ['inclass_X.X.py', '1927']</DIV></pre>"
   ]
  },
  {
   "cell_type": "markdown",
   "id": "f4a1d333",
   "metadata": {},
   "source": [
    "The program currently reads and prints the 1st command line argument ('1927', i.e. 2nd item of the list).  Now run the program without any argument and see what exception results.  Then use a <B>try/except</B> to trap the error if it occurs.  If it does, print 'please enter an argument'.\n"
   ]
  },
  {
   "cell_type": "code",
   "execution_count": null,
   "id": "7aee9343",
   "metadata": {},
   "outputs": [],
   "source": [
    "import sys\n",
    "\n",
    "arg = sys.argv[1]\n",
    "\n",
    "print('argument is {arg}')"
   ]
  },
  {
   "cell_type": "markdown",
   "id": "8e9d1232",
   "metadata": {},
   "source": [
    "<U>Expected Output</U>:  "
   ]
  },
  {
   "cell_type": "markdown",
   "id": "a1aec5ab",
   "metadata": {},
   "source": [
    "<pre style=\"margin: 0; padding=0\"><DIV style=\"font-family: Courier; border: 1px solid #dbdbdb; padding: 7px\">please enter an argument</DIV></pre>"
   ]
  },
  {
   "cell_type": "markdown",
   "id": "1d1472ad",
   "metadata": {},
   "source": [
    " "
   ]
  },
  {
   "cell_type": "markdown",
   "id": "77177ea8",
   "metadata": {},
   "source": [
    "LAB 2"
   ]
  },
  {
   "cell_type": "markdown",
   "id": "31ce9a74",
   "metadata": {},
   "source": [
    "<div style=\"background-color: #ccffcc; padding: 10px; border: 2px solid green\"><B>8.24:  <B><U>List a directory and show full path to each file</U>.</B></B></div>"
   ]
  },
  {
   "cell_type": "markdown",
   "id": "4e5382a9",
   "metadata": {},
   "source": [
    "Starting with the below directory, list the directory's contents, joining each entry to the directory name so it becomes a full path to the directory.\n"
   ]
  },
  {
   "cell_type": "code",
   "execution_count": null,
   "id": "9b7cc952",
   "metadata": {},
   "outputs": [],
   "source": [
    "dirname = '../testdir'\n",
    "\n"
   ]
  },
  {
   "cell_type": "markdown",
   "id": "1a53a657",
   "metadata": {},
   "source": [
    "<U>Expected Output</U>:  "
   ]
  },
  {
   "cell_type": "markdown",
   "id": "7a9b1ddf",
   "metadata": {},
   "source": [
    "<pre style=\"margin: 0; padding=0\"><DIV style=\"font-family: Courier; border: 1px solid #dbdbdb; padding: 7px\">../testdir/file2.txt\n",
    "../testdir/file3.txt\n",
    "../testdir/file1.txt\n",
    "../testdir/testdir3\n",
    "../testdir/testdir2</DIV></pre>"
   ]
  },
  {
   "cell_type": "markdown",
   "id": "3bdf387d",
   "metadata": {},
   "source": [
    "Note the above results may be in a different order on your system.  Also, you may see additional entries <B>.DS\\_Store</B>, <B>.Trashes</B> or other \"hidden\" files starting with a period."
   ]
  },
  {
   "cell_type": "markdown",
   "id": "54851d4d",
   "metadata": {},
   "source": [
    " "
   ]
  },
  {
   "cell_type": "markdown",
   "id": "aaa8fd6e",
   "metadata": {},
   "source": [
    "<div style=\"background-color: #ccffcc; padding: 10px; border: 2px solid green\"><B>8.25:  <B><U>List a directory and show file sizes</U>.</B></B></div>"
   ]
  },
  {
   "cell_type": "markdown",
   "id": "f995709a",
   "metadata": {},
   "source": [
    "Extend the previous solution by printing the file size of each file or directory.  Use a comma between varaible names to print two values on the same line, e.g. <B>print(this, that)</B>.\n"
   ]
  },
  {
   "cell_type": "code",
   "execution_count": null,
   "id": "ebb4a41b",
   "metadata": {},
   "outputs": [],
   "source": [
    "import os\n",
    "\n",
    "dirname = '../testdir'\n",
    "\n",
    "items = os.listdir(dirname)\n",
    "\n",
    "for name in items:\n",
    "    fpath = os.path.join(dirname, name)\n",
    "    print(fpath)"
   ]
  },
  {
   "cell_type": "markdown",
   "id": "4c12e73c",
   "metadata": {},
   "source": [
    "<U>Expected Output</U>:  "
   ]
  },
  {
   "cell_type": "markdown",
   "id": "a1987eaf",
   "metadata": {},
   "source": [
    "<pre style=\"margin: 0; padding=0\"><DIV style=\"font-family: Courier; border: 1px solid #dbdbdb; padding: 7px\">../testdir/file2.txt 752\n",
    "../testdir/file3.txt 200\n",
    "../testdir/testdir3 160\n",
    "../testdir/testdir2 128</DIV></pre>"
   ]
  },
  {
   "cell_type": "markdown",
   "id": "63ae5e8f",
   "metadata": {},
   "source": [
    " "
   ]
  },
  {
   "cell_type": "markdown",
   "id": "d8ef324b",
   "metadata": {},
   "source": [
    "<div style=\"background-color: #ccffcc; padding: 10px; border: 2px solid green\"><B>8.26:  <B><U>List a directory and identify file or directory</U>.</B></B></div>"
   ]
  },
  {
   "cell_type": "markdown",
   "id": "a9461cd6",
   "metadata": {},
   "source": [
    "Modify the previous solution so that the program identifies each listing as either a file or directory.\n"
   ]
  },
  {
   "cell_type": "code",
   "execution_count": null,
   "id": "1d0302bd",
   "metadata": {},
   "outputs": [],
   "source": [
    "import os\n",
    "\n",
    "dirname = '../testdir'\n",
    "\n",
    "entries = os.listdir(dirnames)\n",
    "\n",
    "for name in entries:\n",
    "    fpath = os.path.join(dirname, name)\n",
    "    print(fpath)"
   ]
  },
  {
   "cell_type": "markdown",
   "id": "2b010ac9",
   "metadata": {},
   "source": [
    "<U>Expected Output</U>:  "
   ]
  },
  {
   "cell_type": "markdown",
   "id": "63da9739",
   "metadata": {},
   "source": [
    "<pre style=\"margin: 0; padding=0\"><DIV style=\"font-family: Courier; border: 1px solid #dbdbdb; padding: 7px\">../testdir/file2.txt:  file\n",
    "../testdir/file3.txt:  file\n",
    "../testdir/testdir3:  dir\n",
    "../testdir/testdir2:  dir</DIV></pre>"
   ]
  },
  {
   "cell_type": "markdown",
   "id": "031773db",
   "metadata": {},
   "source": [
    "In the above example, I am using an f'' strings to print the colon and <B>file</B> or <B>dir</B> after each entry."
   ]
  },
  {
   "cell_type": "markdown",
   "id": "2576d57e",
   "metadata": {},
   "source": [
    " "
   ]
  },
  {
   "cell_type": "markdown",
   "id": "90860c3e",
   "metadata": {},
   "source": [
    "<div style=\"background-color: #ccffcc; padding: 10px; border: 2px solid green\"><B>8.27:  <B><U>See if a file exists as a file; if not, show present working directory</U>.</B></B></div>"
   ]
  },
  {
   "cell_type": "markdown",
   "id": "38da002b",
   "metadata": {},
   "source": [
    "Take input for a filepath; check to see if the file exists.  If not, show the present working directory.\n"
   ]
  },
  {
   "cell_type": "code",
   "execution_count": null,
   "id": "a31b3f5f",
   "metadata": {},
   "outputs": [],
   "source": [
    "filename = input('please enter a filename: ')\n",
    "\n",
    "\n"
   ]
  },
  {
   "cell_type": "markdown",
   "id": "a2e6a206",
   "metadata": {},
   "source": [
    "If the file can't be opened, we should see a message like this one:"
   ]
  },
  {
   "cell_type": "markdown",
   "id": "7e6ec7f2",
   "metadata": {},
   "source": [
    "<pre style=\"margin: 0; padding=0\"><DIV style=\"font-family: Courier; border: 1px solid #dbdbdb; padding: 7px\">Error:  \"thisfile.txt\" does not exist.  Present working directory is\n",
    "/Users/david/Downloads/session_08_files_dirs_stdout/inclass_exercises</DIV></pre>"
   ]
  },
  {
   "cell_type": "markdown",
   "id": "027d8718",
   "metadata": {},
   "source": [
    " "
   ]
  },
  {
   "cell_type": "markdown",
   "id": "03f53966",
   "metadata": {},
   "source": [
    "<div style=\"background-color: #ccffcc; padding: 10px; border: 2px solid green\"><B>8.28:  <B><U>A function to generate a file listing</U>.</B></B></div>"
   ]
  },
  {
   "cell_type": "markdown",
   "id": "5c9801c9",
   "metadata": {},
   "source": [
    "Write a function <B>get\\_listing()</B> that takes a directory name and returns the list of entries in that directory.  If the directory name is not a valid directory, have the function <B>raise</B> a <B>NotADirectoryError</B> exception.\n",
    "\n"
   ]
  },
  {
   "cell_type": "code",
   "execution_count": null,
   "id": "fe9164be",
   "metadata": {},
   "outputs": [],
   "source": [
    "# your function def here\n",
    "\n",
    "\n",
    "\n",
    "# this should succeed\n",
    "listing = get_listing('.')      # list, files and dirs in this dir\n",
    "print(listing)\n",
    "print()\n",
    "\n",
    "\n",
    "# this should raise NotADirectoryError exception\n",
    "listing = get_listing('wrong')\n",
    "      # NotADirectoryError:  directory \"wrong\" could not be opened"
   ]
  },
  {
   "cell_type": "markdown",
   "id": "3e98c828",
   "metadata": {},
   "source": [
    " "
   ]
  },
  {
   "cell_type": "markdown",
   "id": "5409def3",
   "metadata": {},
   "source": [
    "<div style=\"background-color: #ccffcc; padding: 10px; border: 2px solid green\"><B>8.29:  <B><U>A function to process command line arguments</U> (test from command line only).</B></B></div>"
   ]
  },
  {
   "cell_type": "markdown",
   "id": "c34c2229",
   "metadata": {},
   "source": [
    "Write a function <B>get\\_args()</B> that reads from <B>sys.argv</B> and returns the 2nd through last items in the <B>sys.argv</B> list (i.e., a slice omitting the first item).  If no arguments are passed at the command line, the function will return an empty list.\n",
    "\n"
   ]
  },
  {
   "cell_type": "code",
   "execution_count": null,
   "id": "41415be1",
   "metadata": {},
   "outputs": [],
   "source": [
    "import sys\n",
    "\n",
    "# your function def here\n",
    "\n",
    "\n",
    "\n",
    "args = get_args()          # returns a list with 2nd through\n",
    "                           # last items in sys.argv\n",
    "print(args)"
   ]
  },
  {
   "cell_type": "markdown",
   "id": "b8330438",
   "metadata": {},
   "source": [
    "You must of course run this program from the command line and pass arguments at the command line to see this program work properly."
   ]
  },
  {
   "cell_type": "markdown",
   "id": "7b18f4cb",
   "metadata": {},
   "source": [
    " "
   ]
  },
  {
   "cell_type": "markdown",
   "id": "5045b497",
   "metadata": {},
   "source": [
    "<div style=\"background-color: #ccffcc; padding: 10px; border: 2px solid green\"><B>8.30:  <B><U>Raise an exception if input is correct</U> (command line only).</B></B></div>"
   ]
  },
  {
   "cell_type": "markdown",
   "id": "d1567229",
   "metadata": {},
   "source": [
    "Extend the previous solution to accept an argument, an integer.  The integer will specify how many arguments should be in <B>sys.argv</B> (not counting the initial filename argument of course).  If there are not the indicated number of arguments, the function will <B>raise</B> a <B>ValueError</B> exception.\n"
   ]
  },
  {
   "cell_type": "code",
   "execution_count": null,
   "id": "a75e94e3",
   "metadata": {},
   "outputs": [],
   "source": [
    "import sys\n",
    "\n",
    "def get_args():             # add argument here\n",
    "    args = sys.argv[1:]\n",
    "    # add the size test and exception raising here\n",
    "\n",
    "    return args\n",
    "\n",
    "\n",
    "args = get_args(2)"
   ]
  },
  {
   "cell_type": "markdown",
   "id": "472e5bf2",
   "metadata": {},
   "source": [
    "<U>Expected Output</U>:  "
   ]
  },
  {
   "cell_type": "markdown",
   "id": "17e4d049",
   "metadata": {},
   "source": [
    "<pre style=\"margin: 0; padding=0\"><DIV style=\"font-family: Courier; border: 1px solid #dbdbdb; padding: 7px\"># if no arguments are passed\n",
    "args = get_args(2)              # ValueError('must pass 2 cmd args')\n",
    "\n",
    "\n",
    "# if two arguments are passed (<B>this that</B>)\n",
    "args = get_args(2)              # list, ['this', 'that']</DIV></pre>"
   ]
  },
  {
   "cell_type": "markdown",
   "id": "59efccec",
   "metadata": {},
   "source": [
    " "
   ]
  },
  {
   "cell_type": "markdown",
   "id": "a5f25884",
   "metadata": {},
   "source": [
    "WRITING TO FILES"
   ]
  },
  {
   "cell_type": "markdown",
   "id": "5b6b650c",
   "metadata": {},
   "source": [
    "<B>8.31:  <B><U>Write to a file</U>.</B>  </B>"
   ]
  },
  {
   "cell_type": "markdown",
   "id": "b3b4a479",
   "metadata": {},
   "source": [
    "Open a file for writing (using a new filename such as <B>newfile.txt</B> and the additional argument <B>'w'</B>) and write some text to it (using the file <B>.write()</B> method.  After running the program/cell, open the file and look at it to see it has been written to (make sure to call <B>.close()</B> on the file or you may not see the written text.)\n"
   ]
  },
  {
   "cell_type": "code",
   "execution_count": null,
   "id": "c3595cb0",
   "metadata": {},
   "outputs": [],
   "source": []
  },
  {
   "cell_type": "markdown",
   "id": "d542d8d7",
   "metadata": {},
   "source": [
    " "
   ]
  },
  {
   "cell_type": "markdown",
   "id": "29a0f52c",
   "metadata": {},
   "source": [
    "<B>8.32:  <B><U>Write lines to a file, including newlines</U>.</B></B>"
   ]
  },
  {
   "cell_type": "markdown",
   "id": "152189d7",
   "metadata": {},
   "source": [
    "Open a file for writing (using a new filename) and write 3 lines to it (they can be as simple as 'line1', 'line2' and 'line3'.  Add the newline character to each line.  After running the program/cell, open the file and look at it to see it has been written to (make sure to call <B>.close()</B> on the file or you may not see the written text.)\n"
   ]
  },
  {
   "cell_type": "code",
   "execution_count": null,
   "id": "e854f0bf",
   "metadata": {},
   "outputs": [],
   "source": []
  },
  {
   "cell_type": "markdown",
   "id": "cb60eaec",
   "metadata": {},
   "source": [
    " "
   ]
  },
  {
   "cell_type": "markdown",
   "id": "242f872b",
   "metadata": {},
   "source": [
    "<B>8.33:  <B><U>Append to an existing file</U>.</B>   </B>"
   ]
  },
  {
   "cell_type": "markdown",
   "id": "91fd4b0c",
   "metadata": {},
   "source": [
    "Open the file you created previously for appending (using the <B>'a'</B> argument instead of <B>'w'</B>) and write one or more additional lines to it.  Again, add the newline character to each line.  After running the program/cell, open the file and look at it to see it has been written to (make sure to call <B>.close()</B> on the file or you may not see the written text.)\n"
   ]
  },
  {
   "cell_type": "code",
   "execution_count": null,
   "id": "cd8ab830",
   "metadata": {},
   "outputs": [],
   "source": []
  },
  {
   "cell_type": "markdown",
   "id": "4130a2d8",
   "metadata": {},
   "source": [
    " "
   ]
  }
 ],
 "metadata": {},
 "nbformat": 4,
 "nbformat_minor": 5
}
