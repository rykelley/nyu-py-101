{
 "cells": [
  {
   "cell_type": "markdown",
   "id": "d85f45ff",
   "metadata": {},
   "source": [
    "# Project Warmup Exercises, Session 8"
   ]
  },
  {
   "cell_type": "markdown",
   "id": "05d78f28",
   "metadata": {},
   "source": [
    "<B>8.1:  Allow your Program to Accept Arguments.  Accept two arguments at the command line, using the default list object sys.argv, a list that is automatically available after you execute the statement import sys.  Sum the values and print out a formatted string with an \"addition\" formula.  (As mentioned in the slides, the first argument is at sys.argv[1], the second at sys.argv[2], etc.)</B>"
   ]
  },
  {
   "cell_type": "markdown",
   "id": "06c5de1b",
   "metadata": {},
   "source": [
    "<U>Expected Output</U>:  "
   ]
  },
  {
   "cell_type": "markdown",
   "id": "eb37f444",
   "metadata": {},
   "source": [
    "<pre style=\"margin: 0; padding=0\"><DIV style=\"font-family: Courier; border: 1px solid #dbdbdb; padding: 7px\">$ python myprog.py 5 19\n",
    "5 + 19 = 24\n",
    "\n",
    "$ python myprog.py 100 4\n",
    "100 + 4 = 104</DIV></pre>"
   ]
  },
  {
   "cell_type": "markdown",
   "id": "3f5c3108",
   "metadata": {},
   "source": [
    " "
   ]
  },
  {
   "cell_type": "markdown",
   "id": "721c1f41",
   "metadata": {},
   "source": [
    "<B>8.2:  Validate Arguments.  Extend the previous program to validate user input.  Using try: and except:, trap an IndexError exception if one of the two arguments is missing - and have the program exit() with a Usage: string if the exception occurs (see output and note below).</B>"
   ]
  },
  {
   "cell_type": "markdown",
   "id": "3f146734",
   "metadata": {},
   "source": [
    "Exceptions:  trap an exception for missing arguments (IndexError when reading from sys.argv).  (Remember to place as little code as possible in your try: block.)   If possible, print the program name in the Usage string (as shown below) using sys.argv[0].\n"
   ]
  },
  {
   "cell_type": "markdown",
   "id": "54bd5cb9",
   "metadata": {},
   "source": [
    "<U>Expected Output</U>:  "
   ]
  },
  {
   "cell_type": "markdown",
   "id": "42ef7c79",
   "metadata": {},
   "source": [
    "<pre style=\"margin: 0; padding=0\"><DIV style=\"font-family: Courier; border: 1px solid #dbdbdb; padding: 7px\">$ python myprog.py\n",
    "Usage: myprog.py [int1] [int2]\n",
    "\n",
    "$ python myprog.py 5\n",
    "Usage: myprog.py [int1] [int2]\n",
    "\n",
    "$ python myprog.py 5 hello\n",
    "Usage: myprog.py [int1] [int2]\n",
    "\n",
    "$ python myprog.py 5 10\n",
    "5 + 10 = 15</DIV></pre>"
   ]
  },
  {
   "cell_type": "markdown",
   "id": "ab1eefc6",
   "metadata": {},
   "source": [
    " "
   ]
  },
  {
   "cell_type": "markdown",
   "id": "0c09de7e",
   "metadata": {},
   "source": [
    "<B>File and Directory Input / Output</B>\n",
    "\n",
    "Note on files and directories:  anytime we ask Python to ask the OS to find a file or directory (through os.listdir(), os.path.isfile(), os.path.getsize(), etc.), the OS is starting from the present working directory (pwd), which is the directory from which we are running our Python program.  If the OS can't find this file or directory in the pwd, it will not look elsewhere.\n",
    "\n",
    "The straightforward way to find a file or directory is to use the absolute pathname, which is the full location of the file within the filesystem.  In Unix/Linux/Mac, it begins with a forward slash, e.g. /Users/dblaikie/thisdir/myfile.txt; and in Windows it usually begins with C:\\:  as in C:\\Documents\\ and\\ Settings\\dblaikie\\thisdir\\myfile.txt, or C:\\Users\\dblaikie\\thisdir\\myfile.txt.\n",
    "\n",
    "To find the absolute path of any file, go to the directory where it is listed, and type pwd at the prompt.  Add the filename to this path and you should have the absolute path.  You can confirm this is the case with one of the following commands:  ls [pathname] (that's \"ell ess\") on Unix/Linux/Mac, or dir [pathname] on Windows."
   ]
  },
  {
   "cell_type": "markdown",
   "id": "1ceae630",
   "metadata": {},
   "source": [
    " "
   ]
  },
  {
   "cell_type": "markdown",
   "id": "2c8c25f2",
   "metadata": {},
   "source": [
    "<B>8.3:  os.path.getsize().  Pick a file in the python\\_data directory (or any file) and save the path to the file in a string variable, like so: </B>"
   ]
  },
  {
   "cell_type": "code",
   "execution_count": null,
   "id": "3e2afb46",
   "metadata": {},
   "outputs": [],
   "source": [
    "filename = 'student_db.txt'   # this is the name of an existing file"
   ]
  },
  {
   "cell_type": "markdown",
   "id": "17859394",
   "metadata": {},
   "source": [
    "Write a script that prints the size of the file in bytes.\n"
   ]
  },
  {
   "cell_type": "markdown",
   "id": "9fedb243",
   "metadata": {},
   "source": [
    "Expected output (will vary depending on file chosen):"
   ]
  },
  {
   "cell_type": "markdown",
   "id": "cd792344",
   "metadata": {},
   "source": [
    "<pre style=\"margin: 0; padding=0\"><DIV style=\"font-family: Courier; border: 1px solid #dbdbdb; padding: 7px\">student_db.txt:   333 bytes</DIV></pre>"
   ]
  },
  {
   "cell_type": "markdown",
   "id": "5969b68b",
   "metadata": {},
   "source": [
    " "
   ]
  },
  {
   "cell_type": "markdown",
   "id": "b1242dcd",
   "metadata": {},
   "source": [
    "<B>8.4:  Validate filename.  Continuing the previous program, take a filename from the user through the command line.  Use os.path.isfile() to see if the submitted file is an existing file (and not a directory or link or other entity).  If it is a file, then print the filename and size.  If it is not a file, then print an error message.  </B>"
   ]
  },
  {
   "cell_type": "markdown",
   "id": "cdaaca19",
   "metadata": {},
   "source": [
    "Expected output (will vary depending on file chosen)"
   ]
  },
  {
   "cell_type": "markdown",
   "id": "b8248f4f",
   "metadata": {},
   "source": [
    "<pre style=\"margin: 0; padding=0\"><DIV style=\"font-family: Courier; border: 1px solid #dbdbdb; padding: 7px\">$ python myprog.py student_db.txt\n",
    "student_db.txt:  333 bytes\n",
    "\n",
    "$ python myprog.py xxxfile.txt\n",
    "error:  xxxfile.txt is not a file in this dir</DIV></pre>"
   ]
  },
  {
   "cell_type": "markdown",
   "id": "4f622dd5",
   "metadata": {},
   "source": [
    " "
   ]
  },
  {
   "cell_type": "markdown",
   "id": "1b3c04f3",
   "metadata": {},
   "source": [
    "<B>8.5:  List a Directory.  Accept a string argument that is the pathname of a directory.  Print out all items in the directory listing using os.listdir().  Trap the exception that would result from an unreadable directory (i.e., if not exist or no permissions.  To determine this exception, try to read a directory that doesn't exist, and note the exception that results).  Using os.path.isfile(listing) and os.path.isdir(listing), where listing is one of the items returned from listdir(), identify whether the listing is a file or directory.  </B>"
   ]
  },
  {
   "cell_type": "markdown",
   "id": "e423d32a",
   "metadata": {},
   "source": [
    "Note that while listdir returns filenames, it doesn't return file paths.  So if the directory you're listing isn't in the same directory as your Python program, you'll need the whole path.  You can construct a whole path and test a file this way:\n"
   ]
  },
  {
   "cell_type": "code",
   "execution_count": null,
   "id": "673e54a0",
   "metadata": {},
   "outputs": [],
   "source": [
    "filepath = os.path.join(dir, filename)"
   ]
  },
  {
   "cell_type": "markdown",
   "id": "479d4bf7",
   "metadata": {},
   "source": [
    "so you can do a file test this way:\n"
   ]
  },
  {
   "cell_type": "code",
   "execution_count": null,
   "id": "33c6aa39",
   "metadata": {},
   "outputs": [],
   "source": [
    "if os.path.isfile(os.path.join(dir, filename)):"
   ]
  },
  {
   "cell_type": "markdown",
   "id": "0b216792",
   "metadata": {},
   "source": [
    "Exceptions:  trap exception for missing argument (IndexError when trying to access sys.argv[1]) and unreadable directory (OSError when attempting to read directory using os.listdir()).\n"
   ]
  },
  {
   "cell_type": "markdown",
   "id": "43ddaf70",
   "metadata": {},
   "source": [
    "Program runs (output of course depends on the directory you supply):"
   ]
  },
  {
   "cell_type": "markdown",
   "id": "0ea93c74",
   "metadata": {},
   "source": [
    "<pre style=\"margin: 0; padding=0\"><DIV style=\"font-family: Courier; border: 1px solid #dbdbdb; padding: 7px\">$ python myprog.py\n",
    "error:  please provide an argument\n",
    "\n",
    "$ python myprog.py xxxxnonexistxxx\n",
    "error:  directory does not exist or is not readable\n",
    "\n",
    "$ python myprog.py .       # '.' represents the current directory\n",
    "access_log.txt (file)\n",
    "ALL_DATA.zip (file)\n",
    "dormouse.html (file)\n",
    "ex3.txt (file)\n",
    "... [etc.] ...</DIV></pre>"
   ]
  },
  {
   "cell_type": "markdown",
   "id": "2c226d5b",
   "metadata": {},
   "source": [
    " "
   ]
  },
  {
   "cell_type": "markdown",
   "id": "a7828fba",
   "metadata": {},
   "source": [
    "<B>8.6:  List files and sizes in another directory. Continuing the previous exercise, output the file name and byte size (using os.path.getsize()) of each file.  </B>"
   ]
  },
  {
   "cell_type": "markdown",
   "id": "7df695db",
   "metadata": {},
   "source": [
    "<pre style=\"margin: 0; padding=0\"><DIV style=\"font-family: Courier; border: 1px solid #dbdbdb; padding: 7px\">$ python myprog.py .\n",
    "access_log.txt (file):  395062\n",
    "ALL_DATA.zip (file):  2447578\n",
    "dormouse.html (file):  832\n",
    "... [etc.] ...</DIV></pre>"
   ]
  },
  {
   "cell_type": "markdown",
   "id": "2852d7a1",
   "metadata": {},
   "source": [
    " "
   ]
  }
 ],
 "metadata": {},
 "nbformat": 4,
 "nbformat_minor": 5
}
