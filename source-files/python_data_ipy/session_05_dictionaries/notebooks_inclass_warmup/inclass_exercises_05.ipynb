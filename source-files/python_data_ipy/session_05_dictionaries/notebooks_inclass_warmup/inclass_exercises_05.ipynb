{
 "cells": [
  {
   "cell_type": "markdown",
   "id": "837d0bd4",
   "metadata": {},
   "source": [
    "# In-Class Exercises, Session 5"
   ]
  },
  {
   "cell_type": "markdown",
   "id": "8a65323d",
   "metadata": {},
   "source": [
    "PLEASE REFER to pythonreference.com for syntax to follow in coding these Exercises"
   ]
  },
  {
   "cell_type": "markdown",
   "id": "1cc66f03",
   "metadata": {},
   "source": [
    " "
   ]
  },
  {
   "cell_type": "markdown",
   "id": "acddac66",
   "metadata": {},
   "source": [
    "DICTIONARIES:  INITIALIZING, ADDING/READING PAIRS, CHECKING FOR MEMBERSHIP"
   ]
  },
  {
   "cell_type": "markdown",
   "id": "11ec4816",
   "metadata": {},
   "source": [
    "<B>5.1:  <B><U>Perform basic operations on a dict</U></B>.  </B>"
   ]
  },
  {
   "cell_type": "code",
   "execution_count": null,
   "id": "b556bd94",
   "metadata": {},
   "outputs": [],
   "source": [
    "# initialize the dict\n",
    "thisd = {'a': 1, 'c': 3.9, 'd': 4.0, 'b': 1.01, 'e': 0}\n",
    "\n",
    "\n",
    "# print the dict and print its type\n",
    "\n",
    "\n",
    "\n",
    "# add a key/value pair (use dict subscript with key and value)\n",
    "\n",
    "\n",
    "\n",
    "print(thisd)\n",
    "\n",
    "\n",
    "# add a duplicate key with a new value\n",
    "\n",
    "\n",
    "\n",
    "print(thisd)\n",
    "\n",
    "\n",
    "# access and print a single value in the dict (use dict subscript with key)\n",
    "\n",
    "\n",
    "\n",
    "\n",
    "# check to see if a key exists in the dict (use 'if key in dict').\n",
    "# If so, print 'found', else print 'not found'.  Test with both\n",
    "# existing key and non-existent key.\n",
    "\n",
    "\n",
    "\n"
   ]
  },
  {
   "cell_type": "markdown",
   "id": "53dac5a4",
   "metadata": {},
   "source": [
    "<U>Expected Output</U>:  "
   ]
  },
  {
   "cell_type": "markdown",
   "id": "1f091326",
   "metadata": {},
   "source": [
    "<pre style=\"margin: 0; padding=0\"><DIV style=\"font-family: Courier; border: 1px solid #dbdbdb; padding: 7px\">{'a': 1, 'c': 3.9, 'd': 4.0, 'b': 1.01, 'e': 0}\n",
    "<class 'dict'>\n",
    "{'a': 1, 'c': 3.9, 'd': 4.0, 'b': 1.01, 'e': 0, 'f': 99}\n",
    "{'a': 100000, 'c': 3.9, 'd': 4.0, 'b': 1.01, 'e': 0, 'f': 99}\n",
    "99\n",
    "found</DIV></pre>"
   ]
  },
  {
   "cell_type": "markdown",
   "id": "0e8a18db",
   "metadata": {},
   "source": [
    " "
   ]
  },
  {
   "cell_type": "markdown",
   "id": "6bd793d4",
   "metadata": {},
   "source": [
    "<B>5.2:  <B><U>Add key/value pairs, then query dict</U>.</B></B>"
   ]
  },
  {
   "cell_type": "markdown",
   "id": "02d3a03a",
   "metadata": {},
   "source": [
    "Initialize an empty dictionary.  Then in 2 statements, add 2 key/value pairs using the variables below.  Then use a subscript to print the value <B>2</B>.\n"
   ]
  },
  {
   "cell_type": "code",
   "execution_count": null,
   "id": "729bd296",
   "metadata": {},
   "outputs": [],
   "source": [
    "key1 = 'a'\n",
    "val1 = 1\n",
    "\n",
    "key2 = 'b'\n",
    "val2 = 2\n",
    "\n",
    "\n"
   ]
  },
  {
   "cell_type": "markdown",
   "id": "e1dd2fae",
   "metadata": {},
   "source": [
    "<U>Expected Output</U>:  "
   ]
  },
  {
   "cell_type": "markdown",
   "id": "e556da2a",
   "metadata": {},
   "source": [
    "<pre style=\"margin: 0; padding=0\"><DIV style=\"font-family: Courier; border: 1px solid #dbdbdb; padding: 7px\">2</DIV></pre>"
   ]
  },
  {
   "cell_type": "markdown",
   "id": "b494500a",
   "metadata": {},
   "source": [
    " "
   ]
  },
  {
   "cell_type": "markdown",
   "id": "3c638ebc",
   "metadata": {},
   "source": [
    "<B>5.3:  <U><B>Demo:  generate KeyError exception</B></U>.  </B>"
   ]
  },
  {
   "cell_type": "markdown",
   "id": "9715f86e",
   "metadata": {},
   "source": [
    "Run the below program, entering a key in the dict.  Then enter a key that is not in the dict.  Note the exception type and message.\n"
   ]
  },
  {
   "cell_type": "code",
   "execution_count": null,
   "id": "0d8ac9cc",
   "metadata": {},
   "outputs": [],
   "source": [
    "myd = {'a': 1, 'b': 2, 'c': 3}\n",
    "\n",
    "ukey = input('please enter a key:  ')\n",
    "\n",
    "print(myd[ukey])"
   ]
  },
  {
   "cell_type": "markdown",
   "id": "60c87215",
   "metadata": {},
   "source": [
    " "
   ]
  },
  {
   "cell_type": "markdown",
   "id": "338cf565",
   "metadata": {},
   "source": [
    "LAB 1"
   ]
  },
  {
   "cell_type": "markdown",
   "id": "d7aaed7d",
   "metadata": {},
   "source": [
    "<div style=\"background-color: #ccffcc; padding: 10px; border: 2px solid green\"><B>5.4:  <U><B>Add a key/value pair</B>.</U></B></div>"
   ]
  },
  {
   "cell_type": "markdown",
   "id": "514dfd5d",
   "metadata": {},
   "source": [
    "Take two inputs from the user and add them as key/value pair to the below dict.  Print the dict to see that it has been added."
   ]
  },
  {
   "cell_type": "code",
   "execution_count": null,
   "id": "e85c698d",
   "metadata": {},
   "outputs": [],
   "source": [
    "cocap = {'Apple': 1.98, 'Microsoft': 1.55, 'Amazon': 1.57 }\n",
    "\n",
    "company = input('please enter a company name: ')\n",
    "cap =     input('please enter a market cap in Tn: ')\n",
    "\n",
    "\n"
   ]
  },
  {
   "cell_type": "markdown",
   "id": "a7c5823b",
   "metadata": {},
   "source": [
    "<U>Expected Output</U>:  "
   ]
  },
  {
   "cell_type": "markdown",
   "id": "a6245b37",
   "metadata": {},
   "source": [
    "<pre style=\"margin: 0; padding=0\"><DIV style=\"font-family: Courier; border: 1px solid #dbdbdb; padding: 7px\">please enter a company name: Boorish\n",
    "please enter a market cap in Tn: .000009\n",
    "{'Apple': 1.98, 'Microsoft': 1.55, 'Amazon': 1.57, 'Boorish': '.000009'}</DIV></pre>"
   ]
  },
  {
   "cell_type": "markdown",
   "id": "33334b76",
   "metadata": {},
   "source": [
    " "
   ]
  },
  {
   "cell_type": "markdown",
   "id": "75e342e7",
   "metadata": {},
   "source": [
    "<div style=\"background-color: #ccffcc; padding: 10px; border: 2px solid green\"><B>5.5:  <U><B>Review:  access a value based on a key</B></U>.    </B></div>"
   ]
  },
  {
   "cell_type": "markdown",
   "id": "6e41a1a5",
   "metadata": {},
   "source": [
    "Take input from the user for a chemical compound, and print the boiling point associated with that key in the dict.\n"
   ]
  },
  {
   "cell_type": "code",
   "execution_count": null,
   "id": "3df80550",
   "metadata": {},
   "outputs": [],
   "source": [
    "bps = { 'water':    212,\n",
    "        'methanol': 148.5,\n",
    "        'wax':      698    }\n",
    "\n",
    "compound = input('please enter a compound: ')\n",
    "\n"
   ]
  },
  {
   "cell_type": "markdown",
   "id": "91fb5329",
   "metadata": {},
   "source": [
    "<U>Sample program run</U>:  "
   ]
  },
  {
   "cell_type": "markdown",
   "id": "2dbc2c04",
   "metadata": {},
   "source": [
    "<pre style=\"margin: 0; padding=0\"><DIV style=\"font-family: Courier; border: 1px solid #dbdbdb; padding: 7px\">please enter a compound: water\n",
    "212\n",
    "</DIV></pre>"
   ]
  },
  {
   "cell_type": "markdown",
   "id": "13400ff1",
   "metadata": {},
   "source": [
    " "
   ]
  },
  {
   "cell_type": "markdown",
   "id": "0774b0dc",
   "metadata": {},
   "source": [
    "<div style=\"background-color: #ccffcc; padding: 10px; border: 2px solid green\"><B>5.6:  <B><U>Test for presence of a key</U>.</B>  </B></div>"
   ]
  },
  {
   "cell_type": "markdown",
   "id": "6815c9cd",
   "metadata": {},
   "source": [
    "Again take user input for a key.  If the key exists in the dict, print the value for that key, but if the key is not found in the dict, print \"not found\".\n"
   ]
  },
  {
   "cell_type": "code",
   "execution_count": null,
   "id": "9ac6d128",
   "metadata": {},
   "outputs": [],
   "source": [
    "deage = { 'Biden': 77,\n",
    "          'Harris': 55,\n",
    "          'Sanders': 79 }\n",
    "\n",
    "can = input('please enter the name of a candidate: ')\n",
    "\n"
   ]
  },
  {
   "cell_type": "markdown",
   "id": "991591fa",
   "metadata": {},
   "source": [
    "<U>Sample program run</U>:  "
   ]
  },
  {
   "cell_type": "markdown",
   "id": "1dadfc43",
   "metadata": {},
   "source": [
    "<pre style=\"margin: 0; padding=0\"><DIV style=\"font-family: Courier; border: 1px solid #dbdbdb; padding: 7px\">please enter the name of a candidate: Harris\n",
    "55</DIV></pre>"
   ]
  },
  {
   "cell_type": "markdown",
   "id": "db80e440",
   "metadata": {},
   "source": [
    " "
   ]
  },
  {
   "cell_type": "markdown",
   "id": "995c2bc6",
   "metadata": {},
   "source": [
    "DICTIONARIES:  LOOPING THROUGH"
   ]
  },
  {
   "cell_type": "markdown",
   "id": "bd6d84fc",
   "metadata": {},
   "source": [
    "<B>5.7:  <B><U>Loop through and print each dict key, then modify the loop to print the key as well as the value</U>.</B></B>"
   ]
  },
  {
   "cell_type": "code",
   "execution_count": null,
   "id": "f551d61c",
   "metadata": {},
   "outputs": [],
   "source": [
    "pdist = { 'Earth': 149.6,\n",
    "          'Mars': 227.9,\n",
    "          'Venus': 108.2,\n",
    "          'Mercury': 57.9 }\n",
    "\n",
    "# loop through the dict keys\n",
    "\n",
    "    # print each key and the value for that key"
   ]
  },
  {
   "cell_type": "markdown",
   "id": "cf5a849e",
   "metadata": {},
   "source": [
    "<U>Expected Output</U>:  "
   ]
  },
  {
   "cell_type": "markdown",
   "id": "58620a0a",
   "metadata": {},
   "source": [
    "<pre style=\"margin: 0; padding=0\"><DIV style=\"font-family: Courier; border: 1px solid #dbdbdb; padding: 7px\">Earth 149.6\n",
    "Mars 227.9\n",
    "Venus 108.2\n",
    "Mercury 57.9</DIV></pre>"
   ]
  },
  {
   "cell_type": "markdown",
   "id": "68299e14",
   "metadata": {},
   "source": [
    " "
   ]
  },
  {
   "cell_type": "markdown",
   "id": "0e19ca43",
   "metadata": {},
   "source": [
    "DICTIONARIES:  SORTING KEYS"
   ]
  },
  {
   "cell_type": "markdown",
   "id": "19b7b21c",
   "metadata": {},
   "source": [
    "<B>5.8:  <B><U>Sort dict keys</U>.</B>  </B>"
   ]
  },
  {
   "cell_type": "markdown",
   "id": "e43be234",
   "metadata": {},
   "source": [
    "Sort the keys in this dict.  Print the list of sorted keys.  Then loop through the sorted list and print each key as well as the value associated with that key from the dict.\n"
   ]
  },
  {
   "cell_type": "code",
   "execution_count": null,
   "id": "dcc8b7b5",
   "metadata": {},
   "outputs": [],
   "source": [
    "uscitypop = {  'Houston': 2.3,\n",
    "               'Los Angeles': 4.0,\n",
    "               'Chicago': 2.7,\n",
    "               'New York': 8.4  }\n",
    "\n",
    "\n",
    "# sort and print the dict keys\n",
    "\n",
    "\n",
    "\n",
    "# loop through the sorted keys\n",
    "\n",
    "\n",
    "\n",
    "    # print each sorted key and the value for that key in the dict\n",
    "\n",
    "\n"
   ]
  },
  {
   "cell_type": "markdown",
   "id": "83dc6b1f",
   "metadata": {},
   "source": [
    "<U>Expected Output</U>:  "
   ]
  },
  {
   "cell_type": "markdown",
   "id": "a973d07b",
   "metadata": {},
   "source": [
    "<pre style=\"margin: 0; padding=0\"><DIV style=\"font-family: Courier; border: 1px solid #dbdbdb; padding: 7px\">Chicago 2.7\n",
    "Houston 2.3\n",
    "Los Angeles 4.0\n",
    "New York 8.4</DIV></pre>"
   ]
  },
  {
   "cell_type": "markdown",
   "id": "6ff46f8a",
   "metadata": {},
   "source": [
    " "
   ]
  },
  {
   "cell_type": "markdown",
   "id": "d4619725",
   "metadata": {},
   "source": [
    "<B>5.9:  <B><U>Sort dict keys by value</U>.</B>  </B>"
   ]
  },
  {
   "cell_type": "markdown",
   "id": "59e170fc",
   "metadata": {},
   "source": [
    "Sort the keys in this dict by value, low to high, then loop through and print each key and associated value.\n",
    "\n",
    "Next, sort the keys by value by adding additional arguments to <B>sorted()</B>, <B>key=uscitypop.get</B> and <B>reverse=True</B> to sort the keys by value, high to low.\n",
    "\n",
    "Print the sorted keys and see that they are in the order <B>['New York', 'Los Angeles', 'Chicago', 'Houston']</B>.  Loop through these sorted keys and print sorted keys and values.\n"
   ]
  },
  {
   "cell_type": "code",
   "execution_count": null,
   "id": "4d27b031",
   "metadata": {},
   "outputs": [],
   "source": [
    "uscitypop = {  'Houston': 2.3,\n",
    "               'Los Angeles': 4.0,\n",
    "               'Chicago': 2.7,\n",
    "               'New York': 8.4  }\n",
    "\n",
    "\n",
    "# sort dict keys by value; print the keys\n",
    "\n",
    "\n",
    "\n",
    "# loop through the sorted keys\n",
    "\n",
    "\n",
    "\n",
    "    # print each sorted key and the value for that key in the dict\n",
    "\n",
    "\n"
   ]
  },
  {
   "cell_type": "markdown",
   "id": "4a19ed17",
   "metadata": {},
   "source": [
    "<U>Expected Output</U>:  "
   ]
  },
  {
   "cell_type": "markdown",
   "id": "d54fce95",
   "metadata": {},
   "source": [
    "<pre style=\"margin: 0; padding=0\"><DIV style=\"font-family: Courier; border: 1px solid #dbdbdb; padding: 7px\">New York 8.4\n",
    "Los Angeles 4.0\n",
    "Chicago 2.7\n",
    "Houston 2.3</DIV></pre>"
   ]
  },
  {
   "cell_type": "markdown",
   "id": "b88df912",
   "metadata": {},
   "source": [
    " "
   ]
  },
  {
   "cell_type": "markdown",
   "id": "0c806f22",
   "metadata": {},
   "source": [
    "LAB 2"
   ]
  },
  {
   "cell_type": "markdown",
   "id": "3cf50922",
   "metadata": {},
   "source": [
    "<div style=\"background-color: #ccffcc; padding: 10px; border: 2px solid green\"><B>5.10:  <U><B>Review:  add a key</B>.</U></B></div>"
   ]
  },
  {
   "cell_type": "markdown",
   "id": "e2e9842a",
   "metadata": {},
   "source": [
    "Take two inputs from the user and add them as key/value pair to the below dict.  Print the dict to see that it has been added."
   ]
  },
  {
   "cell_type": "code",
   "execution_count": null,
   "id": "777b6508",
   "metadata": {},
   "outputs": [],
   "source": [
    "cocap = {'Apple': 1.98, 'Microsoft': 1.55, 'Amazon': 1.57 }\n",
    "\n",
    "company = input('please enter a company name: ')\n",
    "cap =     input('please enter a market cap in Tn: ')\n",
    "\n",
    "\n"
   ]
  },
  {
   "cell_type": "markdown",
   "id": "9e518f47",
   "metadata": {},
   "source": [
    "<U>Expected Output</U>:  "
   ]
  },
  {
   "cell_type": "markdown",
   "id": "0294ffd1",
   "metadata": {},
   "source": [
    "<pre style=\"margin: 0; padding=0\"><DIV style=\"font-family: Courier; border: 1px solid #dbdbdb; padding: 7px\">please enter a company name: Boorish\n",
    "please enter a market cap in Tn: .000009\n",
    "{'Apple': 1.98, 'Microsoft': 1.55, 'Amazon': 1.57, 'Boorish': '.000009'}</DIV></pre>"
   ]
  },
  {
   "cell_type": "markdown",
   "id": "f441760f",
   "metadata": {},
   "source": [
    " "
   ]
  },
  {
   "cell_type": "markdown",
   "id": "8f21b028",
   "metadata": {},
   "source": [
    "<div style=\"background-color: #ccffcc; padding: 10px; border: 2px solid green\"><B>5.11:  <U><B>Review:  access a value based on a key</B></U>.    </B></div>"
   ]
  },
  {
   "cell_type": "markdown",
   "id": "665e1d54",
   "metadata": {},
   "source": [
    "Take input from the user for a chemical compound, and print the boiling point associated with that key in the dict.\n"
   ]
  },
  {
   "cell_type": "code",
   "execution_count": null,
   "id": "0fc1a2db",
   "metadata": {},
   "outputs": [],
   "source": [
    "bps = { 'water':    212,\n",
    "        'methanol': 148.5,\n",
    "        'wax':      698    }\n",
    "\n",
    "compound = input('please enter a compound: ')\n",
    "\n"
   ]
  },
  {
   "cell_type": "markdown",
   "id": "ed6e7148",
   "metadata": {},
   "source": [
    "<U>Sample program run</U>:  "
   ]
  },
  {
   "cell_type": "markdown",
   "id": "6c5eecca",
   "metadata": {},
   "source": [
    "<pre style=\"margin: 0; padding=0\"><DIV style=\"font-family: Courier; border: 1px solid #dbdbdb; padding: 7px\">please enter a compound: water\n",
    "212\n",
    "</DIV></pre>"
   ]
  },
  {
   "cell_type": "markdown",
   "id": "2d45fadb",
   "metadata": {},
   "source": [
    " "
   ]
  },
  {
   "cell_type": "markdown",
   "id": "3524e41b",
   "metadata": {},
   "source": [
    "<div style=\"background-color: #ccffcc; padding: 10px; border: 2px solid green\"><B>5.12:  <B><U>Loop through and print keys and values of a dict</U>.</B>  </B></div>"
   ]
  },
  {
   "cell_type": "markdown",
   "id": "1b7f8e28",
   "metadata": {},
   "source": [
    "Loop through the below dict and print each key and associated value.  You can use the comma between values when printing, e.g. <B>print(this, that)</B>.\n"
   ]
  },
  {
   "cell_type": "code",
   "execution_count": null,
   "id": "29abfde5",
   "metadata": {},
   "outputs": [],
   "source": [
    "planet_colors = { 'Mercury': 'green',\n",
    "                  'Venus': 'white',\n",
    "                  'Earth': 'blue',\n",
    "                  'Mars': 'red',\n",
    "                  'Jupiter': 'orange' }\n",
    "\n"
   ]
  },
  {
   "cell_type": "markdown",
   "id": "30d702af",
   "metadata": {},
   "source": [
    "<U>Expected Output</U>:  "
   ]
  },
  {
   "cell_type": "markdown",
   "id": "e67c7376",
   "metadata": {},
   "source": [
    "<pre style=\"margin: 0; padding=0\"><DIV style=\"font-family: Courier; border: 1px solid #dbdbdb; padding: 7px\">Mercury green\n",
    "Venus white\n",
    "Earth blue\n",
    "Mars red\n",
    "Jupiter orange</DIV></pre>"
   ]
  },
  {
   "cell_type": "markdown",
   "id": "d7054c40",
   "metadata": {},
   "source": [
    " "
   ]
  },
  {
   "cell_type": "markdown",
   "id": "2d98363c",
   "metadata": {},
   "source": [
    "<div style=\"background-color: #ccffcc; padding: 10px; border: 2px solid green\"><B>5.13:  <B><U>Sort a dict's keys and print</U>.</B>  </B></div>"
   ]
  },
  {
   "cell_type": "markdown",
   "id": "4cf14ebe",
   "metadata": {},
   "source": [
    "Sort the dict's keys, loop through the sorted keys and print each key and associated value from the dict.  You can use the comma between values when printing, e.g. <B>print(this, that)</B>.\n"
   ]
  },
  {
   "cell_type": "code",
   "execution_count": null,
   "id": "4028f453",
   "metadata": {},
   "outputs": [],
   "source": [
    "towers = {\n",
    "    'Shanghai Tower': 128,\n",
    "    'Burj Khalifa': 163,\n",
    "    'Lotte World Tower':  123,\n",
    "    'One World Trade Center':  104,\n",
    "    'Ping An Finance Center': 115,\n",
    "    'Abraj Al-Bait Clock Tower': 120,\n",
    "}\n",
    "\n"
   ]
  },
  {
   "cell_type": "markdown",
   "id": "94b3d913",
   "metadata": {},
   "source": [
    "<U>Expected Output</U>:  "
   ]
  },
  {
   "cell_type": "markdown",
   "id": "e8412989",
   "metadata": {},
   "source": [
    "<pre style=\"margin: 0; padding=0\"><DIV style=\"font-family: Courier; border: 1px solid #dbdbdb; padding: 7px\">Abraj Al-Bait Clock Tower 120\n",
    "Burj Khalifa 163\n",
    "Lotte World Tower 123\n",
    "One World Trade Center 104\n",
    "Ping An Finance Center 115\n",
    "Shanghai Tower 128</DIV></pre>"
   ]
  },
  {
   "cell_type": "markdown",
   "id": "704db689",
   "metadata": {},
   "source": [
    " "
   ]
  },
  {
   "cell_type": "markdown",
   "id": "b82b5376",
   "metadata": {},
   "source": [
    "<div style=\"background-color: #ccffcc; padding: 10px; border: 2px solid green\"><B>5.14:  <B><U>Sort a dict's keys by value and print</U>.</B>  </B></div>"
   ]
  },
  {
   "cell_type": "markdown",
   "id": "34234a3d",
   "metadata": {},
   "source": [
    "Sort the dict's keys by value in reverse order, loop through the sorted keys and print each key and associated value from the dict.\n"
   ]
  },
  {
   "cell_type": "code",
   "execution_count": null,
   "id": "5d502cdd",
   "metadata": {},
   "outputs": [],
   "source": [
    "towers = {\n",
    "    'Shanghai Tower': 128,\n",
    "    'Burj Khalifa': 163,\n",
    "    'Lotte World Tower':  123,\n",
    "    'One World Trade Center':  104,\n",
    "    'Ping An Finance Center': 115,\n",
    "    'Abraj Al-Bait Clock Tower': 120,\n",
    "}\n",
    "\n"
   ]
  },
  {
   "cell_type": "markdown",
   "id": "bf6225ca",
   "metadata": {},
   "source": [
    "<U>Expected Output</U>:  "
   ]
  },
  {
   "cell_type": "markdown",
   "id": "ff5aae4c",
   "metadata": {},
   "source": [
    "<pre style=\"margin: 0; padding=0\"><DIV style=\"font-family: Courier; border: 1px solid #dbdbdb; padding: 7px\">Burj Khalifa 163\n",
    "Shanghai Tower 128\n",
    "Lotte World Tower 123\n",
    "Abraj Al-Bait Clock Tower 120\n",
    "Ping An Finance Center 115\n",
    "One World Trade Center 104</DIV></pre>"
   ]
  },
  {
   "cell_type": "markdown",
   "id": "c213f939",
   "metadata": {},
   "source": [
    " "
   ]
  },
  {
   "cell_type": "markdown",
   "id": "4903d821",
   "metadata": {},
   "source": [
    "DICTIONARIES:  BUILDING FROM FILE"
   ]
  },
  {
   "cell_type": "markdown",
   "id": "59363aeb",
   "metadata": {},
   "source": [
    "<B>5.15:  <B><U>Assign a CSV line to separate variables</U>.</B></B>"
   ]
  },
  {
   "cell_type": "markdown",
   "id": "72a02622",
   "metadata": {},
   "source": [
    "Split the below CSV line into items, then assign the items to variables <B>fname</B>, <B>lname</B> and <B>job</B>.\n",
    "\n",
    "Print the variables <B>fname</B> and <B>job</B>.\n"
   ]
  },
  {
   "cell_type": "code",
   "execution_count": null,
   "id": "a87bd464",
   "metadata": {},
   "outputs": [],
   "source": [
    "line = 'Joe,Wilson,Mechanic'\n",
    "\n",
    "\n"
   ]
  },
  {
   "cell_type": "markdown",
   "id": "8df32011",
   "metadata": {},
   "source": [
    "<U>Expected Output</U>:  "
   ]
  },
  {
   "cell_type": "markdown",
   "id": "a8c42aea",
   "metadata": {},
   "source": [
    "<pre style=\"margin: 0; padding=0\"><DIV style=\"font-family: Courier; border: 1px solid #dbdbdb; padding: 7px\">Joe\n",
    "Mechanic</DIV></pre>"
   ]
  },
  {
   "cell_type": "markdown",
   "id": "14562e72",
   "metadata": {},
   "source": [
    " "
   ]
  },
  {
   "cell_type": "markdown",
   "id": "46c2d4f1",
   "metadata": {},
   "source": [
    "<B>5.16:  <B><U>Build a \"lookup\" dict from row values in a CSV file</U>.</B>  </B>"
   ]
  },
  {
   "cell_type": "markdown",
   "id": "0a6c8878",
   "metadata": {},
   "source": [
    "Looping through <I>revenue.csv</I>, build a dict with the company name as string key and the revenue number as float value.\n"
   ]
  },
  {
   "cell_type": "code",
   "execution_count": null,
   "id": "d61e9081",
   "metadata": {},
   "outputs": [],
   "source": [
    "corev = {}\n",
    "\n",
    "fh = open('../revenue.csv')\n",
    "\n",
    "for line in fh:\n",
    "    company, state, rev = line.split(',')     # multi-target assignment\n",
    "\n",
    "\n",
    "fh.close()\n",
    "\n",
    "print(corev)"
   ]
  },
  {
   "cell_type": "markdown",
   "id": "bce414ba",
   "metadata": {},
   "source": [
    "<B>Multi-target assignment</B> allows us to assign multiple values from a list at one time.  The above code depends on each line having 3 items; otherwise the variables on the left would not match the number of items from the <B>split()</B> on the right.\n"
   ]
  },
  {
   "cell_type": "markdown",
   "id": "2e0a935e",
   "metadata": {},
   "source": [
    "<U>Expected Output</U>:  "
   ]
  },
  {
   "cell_type": "markdown",
   "id": "58e21878",
   "metadata": {},
   "source": [
    "<pre style=\"margin: 0; padding=0\"><DIV style=\"font-family: Courier; border: 1px solid #dbdbdb; padding: 7px\">{\"Haddad's\": 239.5, 'Westfield': 53.9, 'The Store': 211.5,\n",
    " \"Hipster's\": 11.98, 'Dothraki Fashions': 5.98, \"Awful's\": 23.95,\n",
    " 'The Clothiers': 115.2}</DIV></pre>"
   ]
  },
  {
   "cell_type": "markdown",
   "id": "da8d3383",
   "metadata": {},
   "source": [
    " "
   ]
  },
  {
   "cell_type": "markdown",
   "id": "5c8fb30b",
   "metadata": {},
   "source": [
    "<B>5.17:  <B><U>Build a \"counting\" dict from a file</U>.</B>  </B>"
   ]
  },
  {
   "cell_type": "markdown",
   "id": "3187f48a",
   "metadata": {},
   "source": [
    "Again looping through <I>revenue.csv</I>, build a dict that counts how many states are in the 2nd column.\n"
   ]
  },
  {
   "cell_type": "code",
   "execution_count": null,
   "id": "495bcb2d",
   "metadata": {},
   "outputs": [],
   "source": [
    "corevcount = {}\n",
    "\n",
    "fh = open('../revenue.csv')\n",
    "\n",
    "for line in fh:\n",
    "    company, state, rev = line.split(',')     # multi-target assignment\n",
    "\n",
    "\n",
    "fh.close()\n",
    "\n",
    "print(corevcount)"
   ]
  },
  {
   "cell_type": "markdown",
   "id": "4733581d",
   "metadata": {},
   "source": [
    "<U>Expected Output</U>:  "
   ]
  },
  {
   "cell_type": "markdown",
   "id": "46b72023",
   "metadata": {},
   "source": [
    "<pre style=\"margin: 0; padding=0\"><DIV style=\"font-family: Courier; border: 1px solid #dbdbdb; padding: 7px\">{'PA': 2, 'NJ': 2, 'NY': 3}</DIV></pre>"
   ]
  },
  {
   "cell_type": "markdown",
   "id": "9a71f997",
   "metadata": {},
   "source": [
    " "
   ]
  },
  {
   "cell_type": "markdown",
   "id": "463f0d53",
   "metadata": {},
   "source": [
    "LAB 3"
   ]
  },
  {
   "cell_type": "markdown",
   "id": "b21e5e05",
   "metadata": {},
   "source": [
    "<div style=\"background-color: #ccffcc; padding: 10px; border: 2px solid green\"><B>5.18:  <B><U>Assign a list to separate variables</U>.</B></B></div>"
   ]
  },
  {
   "cell_type": "markdown",
   "id": "2a3eae92",
   "metadata": {},
   "source": [
    "Use multi-target assignment to \"unpack\" the items in the list to three separate variables called <B>company</B>, <B>business</B> and <B>state</B>.  Print <B>company</B> (should be <B>Acme</B>) and <B>state</B> (should be <B>California</B>).\n"
   ]
  },
  {
   "cell_type": "code",
   "execution_count": null,
   "id": "433265b0",
   "metadata": {},
   "outputs": [],
   "source": [
    "items = ['Acme', 'Manufacturing', 'California']\n",
    "\n"
   ]
  },
  {
   "cell_type": "markdown",
   "id": "8ca332e6",
   "metadata": {},
   "source": [
    "<U>Expected Output</U>:  "
   ]
  },
  {
   "cell_type": "markdown",
   "id": "e72bbe03",
   "metadata": {},
   "source": [
    "<pre style=\"margin: 0; padding=0\"><DIV style=\"font-family: Courier; border: 1px solid #dbdbdb; padding: 7px\">Acme\n",
    "California</DIV></pre>"
   ]
  },
  {
   "cell_type": "markdown",
   "id": "e892a5eb",
   "metadata": {},
   "source": [
    " "
   ]
  },
  {
   "cell_type": "markdown",
   "id": "256328df",
   "metadata": {},
   "source": [
    "<div style=\"background-color: #ccffcc; padding: 10px; border: 2px solid green\"><B>5.19:  <B><U>Split a string's fields to separate variables</U>.</B></B></div>"
   ]
  },
  {
   "cell_type": "markdown",
   "id": "4af26f44",
   "metadata": {},
   "source": [
    "Taking the previous one step further, split the below string into 3 items and unpack them into three separate variables called <B>company</B>, <B>business</B> and <B>state</B>.  Print <B>company</B> (should be <B>Acme</B>) and <B>state</B> (should be <B>California</B>).\n"
   ]
  },
  {
   "cell_type": "code",
   "execution_count": null,
   "id": "aff2de02",
   "metadata": {},
   "outputs": [],
   "source": [
    "line = 'Acme,Manufacturing,California'\n",
    "\n"
   ]
  },
  {
   "cell_type": "markdown",
   "id": "c91a1f8c",
   "metadata": {},
   "source": [
    "<U>Expected Output</U>:  "
   ]
  },
  {
   "cell_type": "markdown",
   "id": "7ea1abfe",
   "metadata": {},
   "source": [
    "<pre style=\"margin: 0; padding=0\"><DIV style=\"font-family: Courier; border: 1px solid #dbdbdb; padding: 7px\">Acme\n",
    "California</DIV></pre>"
   ]
  },
  {
   "cell_type": "markdown",
   "id": "6d488b9d",
   "metadata": {},
   "source": [
    " "
   ]
  },
  {
   "cell_type": "markdown",
   "id": "c050f22f",
   "metadata": {},
   "source": [
    "<div style=\"background-color: #ccffcc; padding: 10px; border: 2px solid green\"><B>5.20:  <B><U>Build a dict from file</U>.</B>  </B></div>"
   ]
  },
  {
   "cell_type": "markdown",
   "id": "eb038b92",
   "metadata": {},
   "source": [
    "Looping through <B>student\\_db\\_names.txt</B> below, build up a dict of student ids to last name.  Print the dict.\n"
   ]
  },
  {
   "cell_type": "code",
   "execution_count": null,
   "id": "2d6d3766",
   "metadata": {},
   "outputs": [],
   "source": [
    "fname = '../student_db_names.txt'\n",
    "\n",
    "fh = open(fname)\n",
    "next(fh)\n",
    "\n",
    "for row in fh:\n",
    "\n",
    "    stuid, fname, lname, address, city, state, stuzip = row.split(':')\n",
    "\n"
   ]
  },
  {
   "cell_type": "markdown",
   "id": "ab9e12f5",
   "metadata": {},
   "source": [
    "<U>Expected Output</U>:  "
   ]
  },
  {
   "cell_type": "markdown",
   "id": "f5fa778e",
   "metadata": {},
   "source": [
    "<pre style=\"margin: 0; padding=0\"><DIV style=\"font-family: Courier; border: 1px solid #dbdbdb; padding: 7px\">{'jk43': 'Kane', 'axe99': 'Everbooty', 'jab44': 'Brillo',\n",
    " 'ak9': 'Krumpet', 'ap172': 'Perillo', 'jb23': 'Boto',\n",
    " 'jb29': 'Best'}</DIV></pre>"
   ]
  },
  {
   "cell_type": "markdown",
   "id": "909ee075",
   "metadata": {},
   "source": [
    " "
   ]
  },
  {
   "cell_type": "markdown",
   "id": "fe392121",
   "metadata": {},
   "source": [
    "<div style=\"background-color: #ccffcc; padding: 10px; border: 2px solid green\"><B>5.21:  <B><U>Build a counting dict</U>.</B>  </B></div>"
   ]
  },
  {
   "cell_type": "markdown",
   "id": "7c9e2b3d",
   "metadata": {},
   "source": [
    "Looping through <B>revenue.csv</B> below, build up a dict with state keys and a count of each state as values.   Print the dict.\n"
   ]
  },
  {
   "cell_type": "code",
   "execution_count": null,
   "id": "8e59fcfe",
   "metadata": {},
   "outputs": [],
   "source": [
    "fname = '../revenue.csv'\n",
    "\n",
    "fh =  open(fname)\n",
    "\n",
    "for row in fh:\n",
    "    name, state, amount = row.split(',')\n",
    "\n"
   ]
  },
  {
   "cell_type": "markdown",
   "id": "c8e53dd1",
   "metadata": {},
   "source": [
    "<U>Expected Output</U>:  "
   ]
  },
  {
   "cell_type": "markdown",
   "id": "7e5bc62b",
   "metadata": {},
   "source": [
    "<pre style=\"margin: 0; padding=0\"><DIV style=\"font-family: Courier; border: 1px solid #dbdbdb; padding: 7px\">{'PA': 2, 'NJ': 2, 'NY': 3}</DIV></pre>"
   ]
  },
  {
   "cell_type": "markdown",
   "id": "a986c55e",
   "metadata": {},
   "source": [
    " "
   ]
  },
  {
   "cell_type": "markdown",
   "id": "b19e6ada",
   "metadata": {},
   "source": [
    "DICTIONARIES:  len(), .get(), KEYS, VALUES, ITEMS"
   ]
  },
  {
   "cell_type": "markdown",
   "id": "df51cdeb",
   "metadata": {},
   "source": [
    " "
   ]
  },
  {
   "cell_type": "markdown",
   "id": "12436fa5",
   "metadata": {},
   "source": [
    "<B>5.22:  <B><U>Get the length of a dict</U></B>.  Use <B>len()</B>.  Print the result.  </B>"
   ]
  },
  {
   "cell_type": "code",
   "execution_count": null,
   "id": "abb7f529",
   "metadata": {},
   "outputs": [],
   "source": [
    "thisd = {'a': 1, 'b': 2, 'c': 3}\n",
    "\n",
    "# your code here"
   ]
  },
  {
   "cell_type": "markdown",
   "id": "1b842c21",
   "metadata": {},
   "source": [
    "<U>Expected Output</U>:  "
   ]
  },
  {
   "cell_type": "markdown",
   "id": "e340f31d",
   "metadata": {},
   "source": [
    "<pre style=\"margin: 0; padding=0\"><DIV style=\"font-family: Courier; border: 1px solid #dbdbdb; padding: 7px\">3</DIV></pre>"
   ]
  },
  {
   "cell_type": "markdown",
   "id": "a8f53ad9",
   "metadata": {},
   "source": [
    " "
   ]
  },
  {
   "cell_type": "markdown",
   "id": "3cab4a6e",
   "metadata": {},
   "source": [
    "<B>5.23:  <B><U>Use <B>.get()</B> to get a value for a key</U></B>.  Input a key that exists in the dict and use <B>.get()</B> with the key to get the value.  Then input a key that does not exist and note the return value.  </B>"
   ]
  },
  {
   "cell_type": "code",
   "execution_count": null,
   "id": "0e3a3926",
   "metadata": {},
   "outputs": [],
   "source": [
    "thisd = {'a': 1, 'b': 2, 'c': 3}\n",
    "\n",
    "ukey = input('please enter a key: ')\n",
    "\n",
    "# your code here"
   ]
  },
  {
   "cell_type": "markdown",
   "id": "aac0eead",
   "metadata": {},
   "source": [
    " "
   ]
  },
  {
   "cell_type": "markdown",
   "id": "c27faf9f",
   "metadata": {},
   "source": [
    "<B>5.24:  <B><U>Show keys, values and items in a dict</U>.</B>  </B>"
   ]
  },
  {
   "cell_type": "markdown",
   "id": "99def930",
   "metadata": {},
   "source": [
    "Use the so-named dict methods to retrieve keys, values and items from the dict.\n"
   ]
  },
  {
   "cell_type": "code",
   "execution_count": null,
   "id": "b28a033d",
   "metadata": {},
   "outputs": [],
   "source": [
    "tvshows = { 'The Twilight Zone': 1959,\n",
    "            'Star Trek': 1966,\n",
    "            'I Love Lucy': 1951,\n",
    "            'Lost': 2004 }\n",
    "\n",
    "\n",
    "# print list of keys (use list() with dict, or list() with .keys())\n",
    "\n",
    "\n",
    "# print list of values (use list() with .values())\n",
    "\n",
    "\n",
    "# print list of items (use list() with .items())\n",
    "\n"
   ]
  },
  {
   "cell_type": "markdown",
   "id": "efe00077",
   "metadata": {},
   "source": [
    "<U>Expected Output</U>:  "
   ]
  },
  {
   "cell_type": "markdown",
   "id": "53e671ee",
   "metadata": {},
   "source": [
    "<pre style=\"margin: 0; padding=0\"><DIV style=\"font-family: Courier; border: 1px solid #dbdbdb; padding: 7px\">['The Twilight Zone', 'Star Trek', 'I Love Lucy', 'Lost']\n",
    "[1959, 1966, 1951, 2004]\n",
    "[('The Twilight Zone', 1959), ('Star Trek', 1966),\n",
    " ('I Love Lucy', 1951), ('Lost', 2004)]</DIV></pre>"
   ]
  },
  {
   "cell_type": "markdown",
   "id": "b517fb85",
   "metadata": {},
   "source": [
    " "
   ]
  },
  {
   "cell_type": "markdown",
   "id": "4488ca61",
   "metadata": {},
   "source": [
    "TRAPPING EXCEPTIONS:  TRY/EXCEPT"
   ]
  },
  {
   "cell_type": "markdown",
   "id": "d109a3ac",
   "metadata": {},
   "source": [
    "<B>5.25:  <B><U>Trap a \"bad dict key\" error</U>.</B>  If the user's key can't be found in the dict, an error occurs -- test this by inputting a key of 'XXX'.  Once you have observed the exception and exception type, use a 'try/except' statement to trap the exception and instead print 'key does not exist'.  Make sure to put your 'try' block around just one line of code.  </B>"
   ]
  },
  {
   "cell_type": "code",
   "execution_count": null,
   "id": "769b0f04",
   "metadata": {},
   "outputs": [],
   "source": [
    "z = {'a': 1, 'b': 2, 'c': 3}\n",
    "\n",
    "ukey = input('please enter a key:  ')\n",
    "\n",
    "print(z[ukey])"
   ]
  },
  {
   "cell_type": "markdown",
   "id": "ca93d3db",
   "metadata": {},
   "source": [
    "<U>Sample program run</U>:  "
   ]
  },
  {
   "cell_type": "markdown",
   "id": "c8bf76cc",
   "metadata": {},
   "source": [
    "<pre style=\"margin: 0; padding=0\"><DIV style=\"font-family: Courier; border: 1px solid #dbdbdb; padding: 7px\">please enter a key:  XXX\n",
    "key does not exist\n",
    "</DIV></pre>"
   ]
  },
  {
   "cell_type": "markdown",
   "id": "56bf562d",
   "metadata": {},
   "source": [
    " "
   ]
  },
  {
   "cell_type": "markdown",
   "id": "db3c6f6f",
   "metadata": {},
   "source": [
    "<B>5.26:  <B><U>Trap a \"bad list index\" error</U>.</B>   If the user's index can't be found in the list, an error occurs -- test this by inputting an index of 9.  Once you have observed the exception and exception type, use a 'try/except' statement to trap the exception and instead print 'no value at that index'.  Make sure to put your 'try' block around just one line of code.</B>"
   ]
  },
  {
   "cell_type": "code",
   "execution_count": null,
   "id": "c1b24489",
   "metadata": {},
   "outputs": [],
   "source": [
    "x = ['a', 'b', 'c', 'd']\n",
    "\n",
    "uidx = int(input('please enter an index:  '))\n",
    "\n",
    "print(x[uidx])"
   ]
  },
  {
   "cell_type": "markdown",
   "id": "0529554e",
   "metadata": {},
   "source": [
    "<U>Sample program run</U>:  "
   ]
  },
  {
   "cell_type": "markdown",
   "id": "038e2924",
   "metadata": {},
   "source": [
    "<pre style=\"margin: 0; padding=0\"><DIV style=\"font-family: Courier; border: 1px solid #dbdbdb; padding: 7px\">please enter an index:  9\n",
    "no value at that index</DIV></pre>"
   ]
  },
  {
   "cell_type": "markdown",
   "id": "520d230b",
   "metadata": {},
   "source": [
    " "
   ]
  },
  {
   "cell_type": "markdown",
   "id": "2915c593",
   "metadata": {},
   "source": [
    "<B>5.27:  <B><U>Trap a \"bad int value\" error</U>.</B>  Add another <B>except:</B> block to the one below that will trap the exception that occurs if the user doesn't type a number.  If this exception is trapped, print 'please enter a number'.  </B>"
   ]
  },
  {
   "cell_type": "code",
   "execution_count": null,
   "id": "bda18a07",
   "metadata": {},
   "outputs": [],
   "source": [
    "x = ['a', 'b', 'c', 'd']\n",
    "\n",
    "try:\n",
    "    uidx = int(input('please enter an index:  '))\n",
    "    print(x[uidx])\n",
    "except IndexError:\n",
    "    print('no value at that index')"
   ]
  },
  {
   "cell_type": "markdown",
   "id": "f0c188e8",
   "metadata": {},
   "source": [
    "<U>Sample program run</U>:  "
   ]
  },
  {
   "cell_type": "markdown",
   "id": "5b0a5429",
   "metadata": {},
   "source": [
    "<pre style=\"margin: 0; padding=0\"><DIV style=\"font-family: Courier; border: 1px solid #dbdbdb; padding: 7px\">please enter an index:  hey\n",
    "please enter a number</DIV></pre>"
   ]
  },
  {
   "cell_type": "markdown",
   "id": "5d19fb30",
   "metadata": {},
   "source": [
    " "
   ]
  }
 ],
 "metadata": {},
 "nbformat": 4,
 "nbformat_minor": 5
}
