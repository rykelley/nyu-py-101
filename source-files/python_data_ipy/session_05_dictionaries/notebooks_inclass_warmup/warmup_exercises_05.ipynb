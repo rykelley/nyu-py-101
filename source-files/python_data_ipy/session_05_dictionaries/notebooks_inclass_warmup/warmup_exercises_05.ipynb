{
 "cells": [
  {
   "cell_type": "markdown",
   "id": "3ecc8e44",
   "metadata": {},
   "source": [
    "# Project Warmup Exercises, Session 5"
   ]
  },
  {
   "cell_type": "markdown",
   "id": "3d5c96e5",
   "metadata": {},
   "source": [
    "<B>5.1:  Given the following dict:</B>"
   ]
  },
  {
   "cell_type": "code",
   "execution_count": null,
   "id": "a6c20587",
   "metadata": {},
   "outputs": [],
   "source": [
    "mydict = {'a': 1, 'b': 2, 'c': 3}"
   ]
  },
  {
   "cell_type": "markdown",
   "id": "02380005",
   "metadata": {},
   "source": [
    "In two statements, add two key/value pairs to mydict (continuing the series values indicated).  Print the dict.\n"
   ]
  },
  {
   "cell_type": "markdown",
   "id": "e47fafe3",
   "metadata": {},
   "source": [
    "<U>Expected Output</U>:  "
   ]
  },
  {
   "cell_type": "markdown",
   "id": "de9a14c3",
   "metadata": {},
   "source": [
    "<pre style=\"margin: 0; padding=0\"><DIV style=\"font-family: Courier; border: 1px solid #dbdbdb; padding: 7px\">{'a': 1, 'b': 2, 'c': 3, 'd': 4, 'e': 5}</DIV></pre>"
   ]
  },
  {
   "cell_type": "markdown",
   "id": "6770fbfb",
   "metadata": {},
   "source": [
    " "
   ]
  },
  {
   "cell_type": "markdown",
   "id": "ead713bd",
   "metadata": {},
   "source": [
    "<B>5.2:  Given the following list:</B>"
   ]
  },
  {
   "cell_type": "code",
   "execution_count": null,
   "id": "d4c2ec8a",
   "metadata": {},
   "outputs": [],
   "source": [
    "mylist = ['Hey', 'there', 'I', 'am', 'amazing!']"
   ]
  },
  {
   "cell_type": "markdown",
   "id": "40f3b2db",
   "metadata": {},
   "source": [
    "Initialize an empty dictionary.  Looping through each element in mylist, add a key/value pair to the dict where the key is the word and the value is the len() of the word.  Print the dict.\n"
   ]
  },
  {
   "cell_type": "markdown",
   "id": "d4ed0de3",
   "metadata": {},
   "source": [
    "<U>Expected Output</U>:  "
   ]
  },
  {
   "cell_type": "markdown",
   "id": "be441583",
   "metadata": {},
   "source": [
    "<pre style=\"margin: 0; padding=0\"><DIV style=\"font-family: Courier; border: 1px solid #dbdbdb; padding: 7px\">{'I': 1, 'there': 5, 'am': 2, 'Hey': 3, 'amazing!': 8}</DIV></pre>"
   ]
  },
  {
   "cell_type": "markdown",
   "id": "a48dcccd",
   "metadata": {},
   "source": [
    " "
   ]
  },
  {
   "cell_type": "markdown",
   "id": "7783df79",
   "metadata": {},
   "source": [
    "<B>5.3:  Modify the previous script:  at the end of the script, instead of printing the dict directly, loop through the dict and print each key and value pair with a descriptive message (hint: use an f'' string for easy embedding of values within a string).  </B>"
   ]
  },
  {
   "cell_type": "code",
   "execution_count": null,
   "id": "9806939c",
   "metadata": {},
   "outputs": [],
   "source": []
  },
  {
   "cell_type": "markdown",
   "id": "32d1bad3",
   "metadata": {},
   "source": [
    "<U>Expected Output</U>:  "
   ]
  },
  {
   "cell_type": "markdown",
   "id": "08ed6cca",
   "metadata": {},
   "source": [
    "<pre style=\"margin: 0; padding=0\"><DIV style=\"font-family: Courier; border: 1px solid #dbdbdb; padding: 7px\">\"I\" is len 1.\n",
    "\"there\" is len 5.\n",
    "\"am\" is len 2.\n",
    "\"Hey\" is len 3.\n",
    "\"amazing!\" is len 8.</DIV></pre>"
   ]
  },
  {
   "cell_type": "markdown",
   "id": "f582a4a8",
   "metadata": {},
   "source": [
    " "
   ]
  },
  {
   "cell_type": "markdown",
   "id": "4749e9b5",
   "metadata": {},
   "source": [
    "<B>5.4:  Modify the previous script:  at the end of the script, instead of looping through the dict, use input() to ask for one of the words.  If the user inputs one of the words, the program prints the word and its length.</B>"
   ]
  },
  {
   "cell_type": "code",
   "execution_count": null,
   "id": "a9f8750a",
   "metadata": {},
   "outputs": [],
   "source": []
  },
  {
   "cell_type": "markdown",
   "id": "ea81be76",
   "metadata": {},
   "source": [
    "<U>Expected Output</U>:  "
   ]
  },
  {
   "cell_type": "markdown",
   "id": "9d304312",
   "metadata": {},
   "source": [
    "<pre style=\"margin: 0; padding=0\"><DIV style=\"font-family: Courier; border: 1px solid #dbdbdb; padding: 7px\">please enter a word:  there\n",
    "the word \"there\" is len 5</DIV></pre>"
   ]
  },
  {
   "cell_type": "markdown",
   "id": "26aacf58",
   "metadata": {},
   "source": [
    " "
   ]
  },
  {
   "cell_type": "markdown",
   "id": "0ee8d08e",
   "metadata": {},
   "source": [
    "<B>5.5:  Extend the previous script to allow for the possibility of a missing key.  If the user's input word does not exist in the dict, print a statement to that effect (hint:  use the <B>in</B> operator to test for the existence of a key).  </B>"
   ]
  },
  {
   "cell_type": "code",
   "execution_count": null,
   "id": "c733fba0",
   "metadata": {},
   "outputs": [],
   "source": []
  },
  {
   "cell_type": "markdown",
   "id": "e9509358",
   "metadata": {},
   "source": [
    "<U>Sample program runs</U>:  "
   ]
  },
  {
   "cell_type": "markdown",
   "id": "9fccead0",
   "metadata": {},
   "source": [
    "<pre style=\"margin: 0; padding=0\"><DIV style=\"font-family: Courier; border: 1px solid #dbdbdb; padding: 7px\">please enter a word:  I\n",
    "the word \"I\" is len 1</DIV></pre>"
   ]
  },
  {
   "cell_type": "markdown",
   "id": "5a864c1e",
   "metadata": {},
   "source": [
    "<pre style=\"margin: 0; padding=0\"><DIV style=\"font-family: Courier; border: 1px solid #dbdbdb; padding: 7px\">please enter a word:  Jamie\n",
    "the word \"Jamie\" does not exist in the dictionary</DIV></pre>"
   ]
  },
  {
   "cell_type": "markdown",
   "id": "4e819d81",
   "metadata": {},
   "source": [
    " "
   ]
  },
  {
   "cell_type": "markdown",
   "id": "d4b37ddc",
   "metadata": {},
   "source": [
    "<B>5.6:  Start with an empty dict.  Opening and looping through the file revenue.csv, load the name of the store as the key and the decimal point value as the value in the dict.  Print the dict.</B>"
   ]
  },
  {
   "cell_type": "code",
   "execution_count": null,
   "id": "e62781af",
   "metadata": {},
   "outputs": [],
   "source": []
  },
  {
   "cell_type": "markdown",
   "id": "8094782d",
   "metadata": {},
   "source": [
    "<U>Expected Output</U>:  "
   ]
  },
  {
   "cell_type": "markdown",
   "id": "9a674acc",
   "metadata": {},
   "source": [
    "<pre style=\"margin: 0; padding=0\"><DIV style=\"font-family: Courier; border: 1px solid #dbdbdb; padding: 7px\">{\"Hipster's\": '11.98\\n', 'Dothraki Fashions': '5.98\\n',\n",
    " \"Awful's\": '23.95\\n', \"Haddad's\": '239.50\\n',\n",
    " 'The Clothiers': '115.20\\n', 'The Store': '211.50\\n',\n",
    " 'Westfield': '53.90\\n'}</DIV></pre>"
   ]
  },
  {
   "cell_type": "markdown",
   "id": "78991528",
   "metadata": {},
   "source": [
    " "
   ]
  },
  {
   "cell_type": "markdown",
   "id": "89859d70",
   "metadata": {},
   "source": [
    "<B>5.7:  Fix the previous script by removing the newline from each value (hint:  remove it when it is still part of the line by calling rstrip() on the line, before splitting).  </B>"
   ]
  },
  {
   "cell_type": "code",
   "execution_count": null,
   "id": "7cbbcc87",
   "metadata": {},
   "outputs": [],
   "source": []
  },
  {
   "cell_type": "markdown",
   "id": "f4cc2f45",
   "metadata": {},
   "source": [
    "<U>Expected Output</U>:  "
   ]
  },
  {
   "cell_type": "markdown",
   "id": "5ff9fe2b",
   "metadata": {},
   "source": [
    "<pre style=\"margin: 0; padding=0\"><DIV style=\"font-family: Courier; border: 1px solid #dbdbdb; padding: 7px\">{\"Hipster's\": '11.98', 'Dothraki Fashions': '5.98',\n",
    " \"Awful's\": '23.95', \"Haddad's\": '239.50',\n",
    " 'The Clothiers': '115.20', 'The Store': '211.50',\n",
    " 'Westfield': '53.90'}</DIV></pre>"
   ]
  },
  {
   "cell_type": "markdown",
   "id": "9a205bd8",
   "metadata": {},
   "source": [
    " "
   ]
  },
  {
   "cell_type": "markdown",
   "id": "af9fe790",
   "metadata": {},
   "source": [
    "<B>5.8:  Given the following string:</B>"
   ]
  },
  {
   "cell_type": "code",
   "execution_count": null,
   "id": "d8f8c6d8",
   "metadata": {},
   "outputs": [],
   "source": [
    "personal_info = \"595-33-9193:68:Columbus, OH\""
   ]
  },
  {
   "cell_type": "markdown",
   "id": "91981ddd",
   "metadata": {},
   "source": [
    "Split the data into a list of strings.  Then in a single statement insert it into a string so that it appears as shown in the output.  (Hint:  the easiest with is to use a triple-quoted <B>f\"\"\" \"\"\"</B> string (which may include newlines):\n"
   ]
  },
  {
   "cell_type": "markdown",
   "id": "a511e058",
   "metadata": {},
   "source": [
    "<pre style=\"margin: 0; padding=0\"><DIV style=\"font-family: Courier; border: 1px solid #dbdbdb; padding: 7px\">print(f\"\"\"SS#: {}\n",
    "Age: {}\n",
    "Residence: {}\"\"\")   # fill these {} tokens with variables in the string</DIV></pre>"
   ]
  },
  {
   "cell_type": "markdown",
   "id": "239ada88",
   "metadata": {},
   "source": [
    "or a single string with newlines (\\n), i.e."
   ]
  },
  {
   "cell_type": "code",
   "execution_count": null,
   "id": "0af6636c",
   "metadata": {},
   "outputs": [],
   "source": [
    "print(f\"SS#: {}\\nAge: {}\\nResidence: {}\")   # fill these {} tokens with variables in the string"
   ]
  },
  {
   "cell_type": "markdown",
   "id": "b324d462",
   "metadata": {},
   "source": [
    "(in either example above, you would fill the {} tokens with the three items from the split)\n"
   ]
  },
  {
   "cell_type": "markdown",
   "id": "d7602e8a",
   "metadata": {},
   "source": [
    "<U>Expected Output</U>:  "
   ]
  },
  {
   "cell_type": "markdown",
   "id": "74eeb364",
   "metadata": {},
   "source": [
    "<pre style=\"margin: 0; padding=0\"><DIV style=\"font-family: Courier; border: 1px solid #dbdbdb; padding: 7px\">SS#:  595-33-9193\n",
    "Age:  68\n",
    "Residence:  Columbus, OH</DIV></pre>"
   ]
  },
  {
   "cell_type": "markdown",
   "id": "b5f99c29",
   "metadata": {},
   "source": [
    " "
   ]
  },
  {
   "cell_type": "markdown",
   "id": "67a83c75",
   "metadata": {},
   "source": [
    "<B>5.9:  Starting with this list of non-unique values:</B>"
   ]
  },
  {
   "cell_type": "code",
   "execution_count": null,
   "id": "8a35acd5",
   "metadata": {},
   "outputs": [],
   "source": [
    "cities = ['Boston', 'Chicago', 'New York', 'Boston', 'Chicago',\n",
    "          'Boston']"
   ]
  },
  {
   "cell_type": "markdown",
   "id": "bda0d040",
   "metadata": {},
   "source": [
    "Count the occurrence of each value in the list by compiling a count of cities in the dict:  store the city as a key in the dict and set or increment an integer count for the number of times that city occurred.  However, don't attempt to loop through the list more than once.  Hint:  as your loop encounters each element in the list, use the <B>in</B> membership test to see if the value is a key in the dict.  If it isn't, add it as a key with a value of 0.  Then, still in the block, and whether or not it is in the dict, add one to the value for that key, and assign the new +1 value back to the dict for that key.\n"
   ]
  },
  {
   "cell_type": "markdown",
   "id": "5d6ef621",
   "metadata": {},
   "source": [
    "<U>Expected Output</U>:  "
   ]
  },
  {
   "cell_type": "markdown",
   "id": "1e2b90c2",
   "metadata": {},
   "source": [
    "<pre style=\"margin: 0; padding=0\"><DIV style=\"font-family: Courier; border: 1px solid #dbdbdb; padding: 7px\">{'Boston': 3, 'Chicago': 2, 'New York': 1}</DIV></pre>"
   ]
  },
  {
   "cell_type": "markdown",
   "id": "11799d73",
   "metadata": {},
   "source": [
    " "
   ]
  },
  {
   "cell_type": "markdown",
   "id": "c757bb3c",
   "metadata": {},
   "source": [
    "<B>5.10:  Start with an empty dictionary.  Opening and reading <B>student\\_db.txt</B>, build a dictionary of states and a count for each state.  Print the dictionary.  Make sure to use only the dictionary to count -- no independent counting with an integer, list, etc.</B>"
   ]
  },
  {
   "cell_type": "code",
   "execution_count": null,
   "id": "b1b2cb64",
   "metadata": {},
   "outputs": [],
   "source": []
  },
  {
   "cell_type": "markdown",
   "id": "a49b860c",
   "metadata": {},
   "source": [
    "<U>Expected Output</U>:  "
   ]
  },
  {
   "cell_type": "markdown",
   "id": "2603ee75",
   "metadata": {},
   "source": [
    "<pre style=\"margin: 0; padding=0\"><DIV style=\"font-family: Courier; border: 1px solid #dbdbdb; padding: 7px\">{'NY': 4, 'NJ': 2, 'PA': 1}</DIV></pre>"
   ]
  },
  {
   "cell_type": "markdown",
   "id": "4c4a81f2",
   "metadata": {},
   "source": [
    "Hint:  the key to making a counting dictionary work is in checking to see if any given key ito be counted is new to the dictionary.  If the key is new, it must be added to the dictionary.  If it isn't new, it will be rewritten to the dictionary, but with a new value that is (in this case) one more than the value it held earlier.  So consider the dict equivalent of this:\n"
   ]
  },
  {
   "cell_type": "code",
   "execution_count": null,
   "id": "25e9c91e",
   "metadata": {},
   "outputs": [],
   "source": [
    "x = x + 1\n",
    "\n",
    "# would only work if 'x' already exists"
   ]
  },
  {
   "cell_type": "markdown",
   "id": "4738e288",
   "metadata": {},
   "source": [
    "Here is the dict equivalent:"
   ]
  },
  {
   "cell_type": "code",
   "execution_count": null,
   "id": "b0937023",
   "metadata": {},
   "outputs": [],
   "source": [
    "mydict['x'] = mydict['x'] + 1\n",
    "\n",
    "# would only work if key 'x' already exists"
   ]
  },
  {
   "cell_type": "markdown",
   "id": "3157ca0f",
   "metadata": {},
   "source": [
    "where 'x' is a value that may appear multiple times in the data, and our object is to count it (as well as any other values that appear).\n",
    "\n",
    "So, since we can't know whether any given key is new, we must check:"
   ]
  },
  {
   "cell_type": "code",
   "execution_count": null,
   "id": "5b59403f",
   "metadata": {},
   "outputs": [],
   "source": [
    "if 'x' not in mydict:"
   ]
  },
  {
   "cell_type": "markdown",
   "id": "fbed9f84",
   "metadata": {},
   "source": [
    "Basically the simplest way to make this work is check to see if the key is new; if it is, set it in the dict with a value of 0.  Then, whether or not it is new, you can go ahead and add 1 to it - if it is new, the new value with this key will be 1.  If it is not new, this adding will simply increment the value."
   ]
  },
  {
   "cell_type": "markdown",
   "id": "a4a5b37f",
   "metadata": {},
   "source": [
    " "
   ]
  },
  {
   "cell_type": "markdown",
   "id": "faba72c4",
   "metadata": {},
   "source": [
    "<B>5.11:  Now reading from revenue.csv, sum up the values associated with each state.  (Hint:  this will be very much like the counting dictionary, but we will be adding float values to a sum (that starts at 0.0 for new keys; see the above explanation for working with keys new to the dictionary vs. \"old\" keys).)  </B>"
   ]
  },
  {
   "cell_type": "code",
   "execution_count": null,
   "id": "0de71427",
   "metadata": {},
   "outputs": [],
   "source": []
  },
  {
   "cell_type": "markdown",
   "id": "91a94e71",
   "metadata": {},
   "source": [
    "<U>Expected Output</U>:  "
   ]
  },
  {
   "cell_type": "markdown",
   "id": "89b957ce",
   "metadata": {},
   "source": [
    "<pre style=\"margin: 0; padding=0\"><DIV style=\"font-family: Courier; border: 1px solid #dbdbdb; padding: 7px\">{'NY': 133.16, 'NJ': 265.4, 'PA': 263.45}</DIV></pre>"
   ]
  },
  {
   "cell_type": "markdown",
   "id": "76771c90",
   "metadata": {},
   "source": [
    " "
   ]
  },
  {
   "cell_type": "markdown",
   "id": "cd4d1f8e",
   "metadata": {},
   "source": [
    "<B>5.12:  Starting with the following dictionary:</B>"
   ]
  },
  {
   "cell_type": "code",
   "execution_count": null,
   "id": "e4ba5990",
   "metadata": {},
   "outputs": [],
   "source": [
    "mydict = {'c': 0.3, 'b': 7, 'a': 5}"
   ]
  },
  {
   "cell_type": "markdown",
   "id": "9132aca2",
   "metadata": {},
   "source": [
    "Sort this dictionary by letter.  Since the sorted() function will return a list of dictionary keys, you can then loop through those keys to print the sorted keys, and use each key with the dictionary to look up each value associated with it.  Loop through the sorted keys, look up each value, and output each pair on a line.\n"
   ]
  },
  {
   "cell_type": "markdown",
   "id": "2f1331f5",
   "metadata": {},
   "source": [
    "<U>Expected Output</U>:  "
   ]
  },
  {
   "cell_type": "markdown",
   "id": "da3451ee",
   "metadata": {},
   "source": [
    "<pre style=\"margin: 0; padding=0\"><DIV style=\"font-family: Courier; border: 1px solid #dbdbdb; padding: 7px\">a => 5\n",
    "b => 7\n",
    "c => 0.3</DIV></pre>"
   ]
  },
  {
   "cell_type": "markdown",
   "id": "2a1ab497",
   "metadata": {},
   "source": [
    " "
   ]
  },
  {
   "cell_type": "markdown",
   "id": "abb6454a",
   "metadata": {},
   "source": [
    "<B>5.13:  Modifying the previous solution, sort the dictionary by value.  This done using the <B>key=mydict.get</B> argument to sorted() (assuming the variable name of your dictionary is mydict).  </B>"
   ]
  },
  {
   "cell_type": "code",
   "execution_count": null,
   "id": "53f4b8b4",
   "metadata": {},
   "outputs": [],
   "source": []
  },
  {
   "cell_type": "markdown",
   "id": "b39ae70a",
   "metadata": {},
   "source": [
    "<U>Expected Output</U>:  "
   ]
  },
  {
   "cell_type": "markdown",
   "id": "899985f5",
   "metadata": {},
   "source": [
    "<pre style=\"margin: 0; padding=0\"><DIV style=\"font-family: Courier; border: 1px solid #dbdbdb; padding: 7px\">c => 0.3\n",
    "a => 5\n",
    "b => 7</DIV></pre>"
   ]
  },
  {
   "cell_type": "markdown",
   "id": "d354641a",
   "metadata": {},
   "source": [
    " "
   ]
  },
  {
   "cell_type": "markdown",
   "id": "86d86e64",
   "metadata": {},
   "source": [
    "<B>5.14:  Modifying the previous solution, reverse the sort using the reverse=True argument to sorted().</B>"
   ]
  },
  {
   "cell_type": "code",
   "execution_count": null,
   "id": "544fa1a9",
   "metadata": {},
   "outputs": [],
   "source": []
  },
  {
   "cell_type": "markdown",
   "id": "dc08c0a5",
   "metadata": {},
   "source": [
    "<U>Expected Output</U>:  "
   ]
  },
  {
   "cell_type": "markdown",
   "id": "da0afe05",
   "metadata": {},
   "source": [
    "<pre style=\"margin: 0; padding=0\"><DIV style=\"font-family: Courier; border: 1px solid #dbdbdb; padding: 7px\">b => 7\n",
    "a => 5\n",
    "c => 0.3</DIV></pre>"
   ]
  },
  {
   "cell_type": "markdown",
   "id": "657f5cea",
   "metadata": {},
   "source": [
    " "
   ]
  },
  {
   "cell_type": "markdown",
   "id": "a9052f79",
   "metadata": {},
   "source": [
    "<B>5.15:  Modifying the previous solution, allow the user to enter an argument indicating which direction the sort should go (the user can enter \"ascending\" or \"descending\").  Then using an if/else and testing the user's input, if \"ascending\", set a new variable rev to False; if \"descending\", set variable rev to True.  Finally, use this variable rev as part of the reverse argument, i.e.:</B>"
   ]
  },
  {
   "cell_type": "code",
   "execution_count": null,
   "id": "7ab1783b",
   "metadata": {},
   "outputs": [],
   "source": [
    "sorted_keys = sorted(mydict, key=mydict.get, reverse=rev)"
   ]
  },
  {
   "cell_type": "markdown",
   "id": "366f3601",
   "metadata": {},
   "source": [
    "<U>Sample program runs</U>:  "
   ]
  },
  {
   "cell_type": "markdown",
   "id": "812c5bc2",
   "metadata": {},
   "source": [
    "<pre style=\"margin: 0; padding=0\"><DIV style=\"font-family: Courier; border: 1px solid #dbdbdb; padding: 7px\">please enter a direction:  ascending\n",
    "c => 0.3\n",
    "a => 5\n",
    "b => 7</DIV></pre>"
   ]
  },
  {
   "cell_type": "markdown",
   "id": "077e9e0d",
   "metadata": {},
   "source": [
    "<pre style=\"margin: 0; padding=0\"><DIV style=\"font-family: Courier; border: 1px solid #dbdbdb; padding: 7px\">please enter a direction:  descending\n",
    "b => 7\n",
    "a => 5\n",
    "c => 0.3</DIV></pre>"
   ]
  },
  {
   "cell_type": "markdown",
   "id": "02eee07d",
   "metadata": {},
   "source": [
    "<pre style=\"margin: 0; padding=0\"><DIV style=\"font-family: Courier; border: 1px solid #dbdbdb; padding: 7px\">please enter a direction:  arskando\n",
    "enter \"ascending\" or \"descending\"</DIV></pre>"
   ]
  },
  {
   "cell_type": "markdown",
   "id": "080dd2d1",
   "metadata": {},
   "source": [
    " "
   ]
  },
  {
   "cell_type": "markdown",
   "id": "577b2b5e",
   "metadata": {},
   "source": [
    "<B>5.16:  Extending the summing dictionary (or the counting dictionary) taken from revenue.csv, once the loop is complete, sort the dictionary using a standard sort (which will sort the dict by state names). </B>"
   ]
  },
  {
   "cell_type": "code",
   "execution_count": null,
   "id": "a04e7459",
   "metadata": {},
   "outputs": [],
   "source": []
  },
  {
   "cell_type": "markdown",
   "id": "ae59bfcb",
   "metadata": {},
   "source": [
    "<U>Expected Output</U>:  "
   ]
  },
  {
   "cell_type": "markdown",
   "id": "3394d148",
   "metadata": {},
   "source": [
    "<pre style=\"margin: 0; padding=0\"><DIV style=\"font-family: Courier; border: 1px solid #dbdbdb; padding: 7px\"># (note that the states are sorted alphabetically):\n",
    "NJ => 265.4\n",
    "NY => 133.16\n",
    "PA => 263.45</DIV></pre>"
   ]
  },
  {
   "cell_type": "markdown",
   "id": "6e79b5ff",
   "metadata": {},
   "source": [
    " "
   ]
  },
  {
   "cell_type": "markdown",
   "id": "8a936ab6",
   "metadata": {},
   "source": [
    "<B>5.17:  Now sort the summing dictionary by value.</B>"
   ]
  },
  {
   "cell_type": "code",
   "execution_count": null,
   "id": "54857084",
   "metadata": {},
   "outputs": [],
   "source": []
  },
  {
   "cell_type": "markdown",
   "id": "5ce307e9",
   "metadata": {},
   "source": [
    "<U>Expected Output</U>:  "
   ]
  },
  {
   "cell_type": "markdown",
   "id": "09a77cc3",
   "metadata": {},
   "source": [
    "<pre style=\"margin: 0; padding=0\"><DIV style=\"font-family: Courier; border: 1px solid #dbdbdb; padding: 7px\">NY => 133.16\n",
    "PA => 263.45\n",
    "NJ => 265.4</DIV></pre>"
   ]
  },
  {
   "cell_type": "markdown",
   "id": "e2193b41",
   "metadata": {},
   "source": [
    " "
   ]
  }
 ],
 "metadata": {},
 "nbformat": 4,
 "nbformat_minor": 5
}
