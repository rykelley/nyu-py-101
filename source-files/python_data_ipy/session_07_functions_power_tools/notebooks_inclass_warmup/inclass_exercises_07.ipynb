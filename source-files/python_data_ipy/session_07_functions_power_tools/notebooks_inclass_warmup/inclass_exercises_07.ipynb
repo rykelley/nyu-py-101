{
 "cells": [
  {
   "cell_type": "markdown",
   "id": "bdff4aaa",
   "metadata": {},
   "source": [
    "# In-Class Exercises, Session 7"
   ]
  },
  {
   "cell_type": "markdown",
   "id": "3397f864",
   "metadata": {},
   "source": [
    "PLEASE REFER to pythonreference.com for syntax to follow in coding these Exercises"
   ]
  },
  {
   "cell_type": "markdown",
   "id": "9ecdbaaf",
   "metadata": {},
   "source": [
    " "
   ]
  },
  {
   "cell_type": "markdown",
   "id": "f0cc7bad",
   "metadata": {},
   "source": [
    "FUNCTION ARGUMENTS AND RETURN VALUES"
   ]
  },
  {
   "cell_type": "markdown",
   "id": "72ab974b",
   "metadata": {},
   "source": [
    "<B>7.1:  <B><U>Write a function that returns a value</U>.</B>  </B>"
   ]
  },
  {
   "cell_type": "markdown",
   "id": "056e96d6",
   "metadata": {},
   "source": [
    "Define a demonstration function <B>return\\_ten()</B> that returns the value 10.\n"
   ]
  },
  {
   "cell_type": "code",
   "execution_count": null,
   "id": "f4575c8c",
   "metadata": {},
   "outputs": [],
   "source": [
    "def return_ten():\n",
    "\n",
    "    # your function code here\n",
    "\n",
    "\n",
    "val = return_ten()\n",
    "\n",
    "print(val)          # 10"
   ]
  },
  {
   "cell_type": "markdown",
   "id": "84b5bf67",
   "metadata": {},
   "source": [
    " "
   ]
  },
  {
   "cell_type": "markdown",
   "id": "02efc46f",
   "metadata": {},
   "source": [
    "<B>7.2:  <B><U>Write a function with one argument and one return value</U>.</B>  </B>"
   ]
  },
  {
   "cell_type": "markdown",
   "id": "24ea8070",
   "metadata": {},
   "source": [
    "Define function 'doubleme' that takes one argument, doubles the value, and returns the doubled value.  <U>Note</U>:  you must not use 'a' or 'b' inside the function, and you must not print inside the function -- value must be returned.\n"
   ]
  },
  {
   "cell_type": "code",
   "execution_count": null,
   "id": "605fec37",
   "metadata": {},
   "outputs": [],
   "source": [
    "# your function code here\n",
    "\n",
    "a = 5\n",
    "x = doubleme(a)\n",
    "print(x)           # 10\n",
    "\n",
    "b = 100\n",
    "y = doubleme(b)\n",
    "print(y)           # 200"
   ]
  },
  {
   "cell_type": "markdown",
   "id": "9e7f696e",
   "metadata": {},
   "source": [
    " "
   ]
  },
  {
   "cell_type": "markdown",
   "id": "2ea9f874",
   "metadata": {},
   "source": [
    "<B>7.3:  <B><U>Write a function with two arguments and two return values</U>.</B>  </B>"
   ]
  },
  {
   "cell_type": "markdown",
   "id": "26aa20c0",
   "metadata": {},
   "source": [
    "Define function 'doubletwo' that takes two numeric arguments, doubles each of them, and returns the two doubled values.  <U>Note</U>:  you must not use 'a' or 'b' inside the function, and you must not print inside the function - values must be returned.\n"
   ]
  },
  {
   "cell_type": "code",
   "execution_count": null,
   "id": "615b0bc2",
   "metadata": {},
   "outputs": [],
   "source": [
    "# your function def here\n",
    "\n",
    "a = 50\n",
    "b = 10\n",
    "\n",
    "c, d = doubletwo(a, b)\n",
    "\n",
    "print(c)                # 100\n",
    "print(d)                # 20"
   ]
  },
  {
   "cell_type": "markdown",
   "id": "112b259d",
   "metadata": {},
   "source": [
    " "
   ]
  },
  {
   "cell_type": "markdown",
   "id": "e8a22620",
   "metadata": {},
   "source": [
    "<B>7.4:  <B><U>Write a function that returns None, without explicitly returning it</U>.</B>  </B>"
   ]
  },
  {
   "cell_type": "markdown",
   "id": "3cbd53e0",
   "metadata": {},
   "source": [
    "Write function <B>greet()</B>, which simply prints 'Hello, world!'.  Printing <B>x</B> should show <B>None</B>.\n"
   ]
  },
  {
   "cell_type": "code",
   "execution_count": null,
   "id": "f01150c0",
   "metadata": {},
   "outputs": [],
   "source": [
    "# make sure your function does not attempt to return anything\n",
    "\n",
    "\n",
    "\n",
    "x = greet()\n",
    "print(x)         # None"
   ]
  },
  {
   "cell_type": "markdown",
   "id": "8598a959",
   "metadata": {},
   "source": [
    " "
   ]
  },
  {
   "cell_type": "markdown",
   "id": "f865d9f8",
   "metadata": {},
   "source": [
    "<B>7.5:  <B><U>Demonstration:  remove a <B>return</B> statement and note the value</U>.  </B></B>"
   ]
  },
  {
   "cell_type": "markdown",
   "id": "4b3ec871",
   "metadata": {},
   "source": [
    "The below function returns the sum of its arguments.  First run the program and note the printed value, then remove the <B>return</B> statement to see the printed value.\n"
   ]
  },
  {
   "cell_type": "code",
   "execution_count": null,
   "id": "4a41d870",
   "metadata": {},
   "outputs": [],
   "source": [
    "def get_sum(val1, val2):\n",
    "    valsum = val1 + val2\n",
    "    return valsum\n",
    "\n",
    "\n",
    "r = get_sum(5, 10)\n",
    "print(r)"
   ]
  },
  {
   "cell_type": "markdown",
   "id": "f4997cf8",
   "metadata": {},
   "source": [
    " "
   ]
  },
  {
   "cell_type": "markdown",
   "id": "db69ee00",
   "metadata": {},
   "source": [
    "LAB 1"
   ]
  },
  {
   "cell_type": "markdown",
   "id": "2954fa7f",
   "metadata": {},
   "source": [
    "<div style=\"background-color: #ccffcc; padding: 10px; border: 2px solid green\"><B>7.6:  <B><U>Write a function that returns a value</U>.</B>  </B></div>"
   ]
  },
  {
   "cell_type": "markdown",
   "id": "26938ee7",
   "metadata": {},
   "source": [
    "Define function 'get\\_rand()' that uses the following code to generate a random number between 1 and 10, then returns that number.  <U>Note</U>:  you must not print inside the function -- value must be returned."
   ]
  },
  {
   "cell_type": "code",
   "execution_count": null,
   "id": "9fc99f4d",
   "metadata": {},
   "outputs": [],
   "source": [
    "# code to place inside your function:\n",
    "# randval = random.randint(1, 10)\n",
    "\n",
    "\n",
    "import random\n",
    "\n",
    "# your function code here\n",
    "\n",
    "\n",
    "\n",
    "num = get_rand()\n",
    "\n",
    "print(num)"
   ]
  },
  {
   "cell_type": "markdown",
   "id": "3779b186",
   "metadata": {},
   "source": [
    "If you see <B>None</B> printed, then you did not return anything from the function, but are printing the value returned from the function.  Make sure not to print inside the function."
   ]
  },
  {
   "cell_type": "markdown",
   "id": "d7c76691",
   "metadata": {},
   "source": [
    " "
   ]
  },
  {
   "cell_type": "markdown",
   "id": "3e7dccbf",
   "metadata": {},
   "source": [
    "<div style=\"background-color: #ccffcc; padding: 10px; border: 2px solid green\"><B>7.7:  <B><U>Write a function with two arguments and one return value</U>.</B>  </B></div>"
   ]
  },
  {
   "cell_type": "markdown",
   "id": "e95999ef",
   "metadata": {},
   "source": [
    "Define function <B>get\\_sum()</B> that takes two numeric arguments and returns the values summed.  <U>Note</U>:  you must not use 'x' or 'y' inside the function, and you must not print inside the function - value must be returned.\n"
   ]
  },
  {
   "cell_type": "code",
   "execution_count": null,
   "id": "6ef5f58b",
   "metadata": {},
   "outputs": [],
   "source": [
    "# your function def here\n",
    "\n",
    "x = 50\n",
    "y = 25\n",
    "\n",
    "z = get_sum(x, y)\n",
    "print(z)           # 75"
   ]
  },
  {
   "cell_type": "markdown",
   "id": "761233d3",
   "metadata": {},
   "source": [
    " "
   ]
  },
  {
   "cell_type": "markdown",
   "id": "6eb77fa7",
   "metadata": {},
   "source": [
    "<div style=\"background-color: #ccffcc; padding: 10px; border: 2px solid green\"><B>7.8:  <B><U>Write a function with two arguments and one return value</U>.</B>  </B></div>"
   ]
  },
  {
   "cell_type": "markdown",
   "id": "d1a40ac5",
   "metadata": {},
   "source": [
    "Define function <B>get\\_prod()</B> that takes two numeric arguments and returns their values multiplied together.\n"
   ]
  },
  {
   "cell_type": "code",
   "execution_count": null,
   "id": "22cd5dd1",
   "metadata": {},
   "outputs": [],
   "source": [
    "# your function def here\n",
    "\n",
    "\n",
    "\n",
    "aa = 5\n",
    "bb = 9\n",
    "\n",
    "c = get_prod(aa, bb)     # int, 45\n",
    "print(c)                 # 45"
   ]
  },
  {
   "cell_type": "markdown",
   "id": "5f7d2f5d",
   "metadata": {},
   "source": [
    " "
   ]
  },
  {
   "cell_type": "markdown",
   "id": "b019cd6e",
   "metadata": {},
   "source": [
    "<div style=\"background-color: #ccffcc; padding: 10px; border: 2px solid green\"><B>7.9:  <B><U>Write a function with one argument and one return value</U>.</B>  </B></div>"
   ]
  },
  {
   "cell_type": "markdown",
   "id": "bd5e1aa1",
   "metadata": {},
   "source": [
    "Define function <B>get\\_upper()</B> that takes a string argument and returns the value uppercased.\n"
   ]
  },
  {
   "cell_type": "code",
   "execution_count": null,
   "id": "152fc192",
   "metadata": {},
   "outputs": [],
   "source": [
    "# your function def here\n",
    "\n",
    "\n",
    "\n",
    "x = 'hello'\n",
    "y = get_upper(x)         # str, 'HELLO'\n",
    "\n",
    "print(y)                 # HELLO"
   ]
  },
  {
   "cell_type": "markdown",
   "id": "41dd8358",
   "metadata": {},
   "source": [
    " "
   ]
  },
  {
   "cell_type": "markdown",
   "id": "b091672a",
   "metadata": {},
   "source": [
    "<div style=\"background-color: #ccffcc; padding: 10px; border: 2px solid green\"><B>7.10:  <B><U>Write a function with one argument and one return value</U>.</B>  </B></div>"
   ]
  },
  {
   "cell_type": "markdown",
   "id": "378f063d",
   "metadata": {},
   "source": [
    "Define function <B>get\\_split()</B> that takes a string argument for a comma-separated CSV string line and returns a list of values from the split.\n"
   ]
  },
  {
   "cell_type": "code",
   "execution_count": null,
   "id": "e660ee85",
   "metadata": {},
   "outputs": [],
   "source": [
    "# your function def here\n",
    "\n",
    "\n",
    "\n",
    "line = 'this,that,other'\n",
    "\n",
    "items = get_split(line)        # list, ['this', 'that', 'other']\n",
    "\n",
    "print(items)                   # ['this', 'that', 'other']"
   ]
  },
  {
   "cell_type": "markdown",
   "id": "ff8a7719",
   "metadata": {},
   "source": [
    " "
   ]
  },
  {
   "cell_type": "markdown",
   "id": "cfee06b7",
   "metadata": {},
   "source": [
    "<div style=\"background-color: #ccffcc; padding: 10px; border: 2px solid green\"><B>7.11:  <B><U>Write a function with one argument and one return value</U>.</B>  </B></div>"
   ]
  },
  {
   "cell_type": "markdown",
   "id": "c0e49797",
   "metadata": {},
   "source": [
    "Define function <B>get\\_first\\_item()</B> that takes a string argument for a comma-separated CSV string line and returns just the first comma-separated item from the line.\n"
   ]
  },
  {
   "cell_type": "code",
   "execution_count": null,
   "id": "18d2184e",
   "metadata": {},
   "outputs": [],
   "source": [
    "# your function def here\n",
    "\n",
    "\n",
    "line = '2017-09-03,Alpha Corp.'\n",
    "\n",
    "first = get_first_item(line)      # str, '2017-09-03'\n",
    "\n",
    "print(first)                      # 2017-09-03"
   ]
  },
  {
   "cell_type": "markdown",
   "id": "58c5acc6",
   "metadata": {},
   "source": [
    " "
   ]
  },
  {
   "cell_type": "markdown",
   "id": "f56f1b7c",
   "metadata": {},
   "source": [
    "EXCEPTIONS:  RAISE STATEMENT"
   ]
  },
  {
   "cell_type": "markdown",
   "id": "f7963aaa",
   "metadata": {},
   "source": [
    "<B>7.12:  <B><U>Raise an exception</U>.</B>  Test to see if the user's input matches one of the values in the <B>valid\\_choices</B> list (use <B>if uchoice not in valid\\_choices</B>).  If not, raise a <B>ValueError</B> exception.  </B>"
   ]
  },
  {
   "cell_type": "code",
   "execution_count": null,
   "id": "5d602ecf",
   "metadata": {},
   "outputs": [],
   "source": [
    "def validate(uchoice):\n",
    "    valid_choices = ['buy', 'sell', 'hold']\n",
    "    if uchoice not in valid_choices:\n",
    "        \" raise a ValueError exception here \"\n",
    "\n",
    "    # return 1, 2 or 3 based on choice\n",
    "    idx = valid_choices.index(uchoice) + 1\n",
    "\n",
    "    return idx\n",
    "\n",
    "\n",
    "choice = input('please enter an action (\"buy\", \"sell\", \"hold\"): ')\n",
    "\n",
    "index = validate(choice)\n",
    "\n",
    "print(f'action index is {index}')"
   ]
  },
  {
   "cell_type": "markdown",
   "id": "fcb91c7b",
   "metadata": {},
   "source": [
    " "
   ]
  },
  {
   "cell_type": "markdown",
   "id": "432259bb",
   "metadata": {},
   "source": [
    "<B>7.13:  <B><U>Detect object type and raise TypeError</U>.</B>  Use the <B>isinstance()</B> function to see if the argument to this function is an integer.  If it isn't, raise your own <B>TypeError</B> exception.  </B>"
   ]
  },
  {
   "cell_type": "code",
   "execution_count": null,
   "id": "f360c064",
   "metadata": {},
   "outputs": [],
   "source": [
    "def doubleit(arg):\n",
    "    if not isinstance(arg, int):\n",
    "        # your code here\n",
    "    return arg * 2\n",
    "\n",
    "x = doubleit('5')\n"
   ]
  },
  {
   "cell_type": "markdown",
   "id": "65b339f2",
   "metadata": {},
   "source": [
    " "
   ]
  },
  {
   "cell_type": "markdown",
   "id": "50b4d77e",
   "metadata": {},
   "source": [
    "SET COMPARISONS"
   ]
  },
  {
   "cell_type": "markdown",
   "id": "e0fdf590",
   "metadata": {},
   "source": [
    "<B>7.14:  <B><U>Show items in one set that are not in another set</U>.</B>  Use set.difference().  </B>"
   ]
  },
  {
   "cell_type": "code",
   "execution_count": null,
   "id": "d5371ba3",
   "metadata": {},
   "outputs": [],
   "source": [
    "xx = {'a', 'b', 'c', 'd'}\n",
    "yy = {'b', 'd'}\n",
    "\n",
    "# your code here\n"
   ]
  },
  {
   "cell_type": "markdown",
   "id": "964aa0ea",
   "metadata": {},
   "source": [
    " "
   ]
  },
  {
   "cell_type": "markdown",
   "id": "57ddb45e",
   "metadata": {},
   "source": [
    "<B>7.15:  <B><U>Show items common between two sets</U>.</B>  Use set.intersection().  </B>"
   ]
  },
  {
   "cell_type": "code",
   "execution_count": null,
   "id": "b7c285ba",
   "metadata": {},
   "outputs": [],
   "source": [
    "xx = {'a', 'b', 'c', 'd'}\n",
    "yy = {'c', 'd', 'e', 'f'}\n",
    "\n",
    "# your code here\n"
   ]
  },
  {
   "cell_type": "markdown",
   "id": "6fc637ab",
   "metadata": {},
   "source": [
    " "
   ]
  },
  {
   "cell_type": "markdown",
   "id": "9a21a8da",
   "metadata": {},
   "source": [
    "<B>7.16:  <B><U>Show all items that are in either of two sets</U>.</B>  Use set.union().  </B>"
   ]
  },
  {
   "cell_type": "code",
   "execution_count": null,
   "id": "30ddfb61",
   "metadata": {},
   "outputs": [],
   "source": [
    "xx = {'a', 'b', 'c', 'd'}\n",
    "yy = {'c', 'd', 'e', 'f'}\n",
    "\n",
    "# your code here\n"
   ]
  },
  {
   "cell_type": "markdown",
   "id": "d4d5f0fe",
   "metadata": {},
   "source": [
    " "
   ]
  },
  {
   "cell_type": "markdown",
   "id": "ba27bce9",
   "metadata": {},
   "source": [
    "LIST COMPREHENSIONS"
   ]
  },
  {
   "cell_type": "markdown",
   "id": "f118ad29",
   "metadata": {},
   "source": [
    "<B>7.17:  <B><U>Use a list comprehension to modify each item from a list</U>.</B>  </B>"
   ]
  },
  {
   "cell_type": "markdown",
   "id": "287f89dc",
   "metadata": {},
   "source": [
    "The new list should have each value from the old list doubled.\n"
   ]
  },
  {
   "cell_type": "code",
   "execution_count": null,
   "id": "625faad3",
   "metadata": {},
   "outputs": [],
   "source": [
    "x = [1, 2, 3, 4]\n",
    "\n",
    "\n"
   ]
  },
  {
   "cell_type": "markdown",
   "id": "f67732c3",
   "metadata": {},
   "source": [
    "<U>Expected Output</U>:  "
   ]
  },
  {
   "cell_type": "markdown",
   "id": "03864f40",
   "metadata": {},
   "source": [
    "<pre style=\"margin: 0; padding=0\"><DIV style=\"font-family: Courier; border: 1px solid #dbdbdb; padding: 7px\">[2, 4, 6, 8]</DIV></pre>"
   ]
  },
  {
   "cell_type": "markdown",
   "id": "a1681467",
   "metadata": {},
   "source": [
    " "
   ]
  },
  {
   "cell_type": "markdown",
   "id": "844bd7f8",
   "metadata": {},
   "source": [
    "<B>7.18:  <B><U>Use a list comprehension to filter items from a list</U>.</B>  The new list should have only those values that are greater than 100.  </B>"
   ]
  },
  {
   "cell_type": "code",
   "execution_count": null,
   "id": "0fc50aa5",
   "metadata": {},
   "outputs": [],
   "source": [
    "temps = [86, 89, 93, 101, 92, 107, 90, 110]\n",
    "\n",
    "\n"
   ]
  },
  {
   "cell_type": "markdown",
   "id": "d2799c04",
   "metadata": {},
   "source": [
    "<U>Expected Output</U>:  "
   ]
  },
  {
   "cell_type": "markdown",
   "id": "3d615bad",
   "metadata": {},
   "source": [
    "<pre style=\"margin: 0; padding=0\"><DIV style=\"font-family: Courier; border: 1px solid #dbdbdb; padding: 7px\">[101, 107, 110]</DIV></pre>"
   ]
  },
  {
   "cell_type": "markdown",
   "id": "d2a52180",
   "metadata": {},
   "source": [
    " "
   ]
  },
  {
   "cell_type": "markdown",
   "id": "81f7aca1",
   "metadata": {},
   "source": [
    "<B>7.19:  <B><U>Use a list comprehension to both modify and filter items from a list</U>.</B>  The new list should have each value above 0 doubled.  </B>"
   ]
  },
  {
   "cell_type": "code",
   "execution_count": null,
   "id": "9e463dcc",
   "metadata": {},
   "outputs": [],
   "source": [
    "aa = [-5, -3, 2, 0, 15, 73, -100]\n",
    "\n",
    "\n"
   ]
  },
  {
   "cell_type": "markdown",
   "id": "26b54db2",
   "metadata": {},
   "source": [
    "<U>Expected Output</U>:  "
   ]
  },
  {
   "cell_type": "markdown",
   "id": "ef42aa07",
   "metadata": {},
   "source": [
    "<pre style=\"margin: 0; padding=0\"><DIV style=\"font-family: Courier; border: 1px solid #dbdbdb; padding: 7px\">[4, 30, 146]</DIV></pre>"
   ]
  },
  {
   "cell_type": "markdown",
   "id": "b4e602d9",
   "metadata": {},
   "source": [
    " "
   ]
  },
  {
   "cell_type": "markdown",
   "id": "a674f025",
   "metadata": {},
   "source": [
    "LAB 2"
   ]
  },
  {
   "cell_type": "markdown",
   "id": "999e668d",
   "metadata": {},
   "source": [
    "<div style=\"background-color: #ccffcc; padding: 10px; border: 2px solid green\"><B>7.20:  <B><U>Show common items between two sets</U>.</B>  </B></div>"
   ]
  },
  {
   "cell_type": "markdown",
   "id": "ae251452",
   "metadata": {},
   "source": [
    "In a single statement, show what is common between the two sets.\n"
   ]
  },
  {
   "cell_type": "code",
   "execution_count": null,
   "id": "c275769c",
   "metadata": {},
   "outputs": [],
   "source": [
    "first_round = {'Miller, George', 'Adams, Abdul', 'Feiner, Billy', 'Pollinator, Jim'}\n",
    "\n",
    "second_round = {'Adams, Abdul', 'Pollinator, Jim', 'Freeman, Kalley', 'Boom, Boom'}\n",
    "\n",
    "\n",
    "\n"
   ]
  },
  {
   "cell_type": "markdown",
   "id": "c53b7f9d",
   "metadata": {},
   "source": [
    "<U>Expected Output</U>:  "
   ]
  },
  {
   "cell_type": "markdown",
   "id": "a186c606",
   "metadata": {},
   "source": [
    "<pre style=\"margin: 0; padding=0\"><DIV style=\"font-family: Courier; border: 1px solid #dbdbdb; padding: 7px\">{'Adams, Abdul', 'Pollinator, Jim'}</DIV></pre>"
   ]
  },
  {
   "cell_type": "markdown",
   "id": "1abd404c",
   "metadata": {},
   "source": [
    "(Note that set results may be in any order.)"
   ]
  },
  {
   "cell_type": "markdown",
   "id": "4d9147b1",
   "metadata": {},
   "source": [
    " "
   ]
  },
  {
   "cell_type": "markdown",
   "id": "3c38503b",
   "metadata": {},
   "source": [
    "<div style=\"background-color: #ccffcc; padding: 10px; border: 2px solid green\"><B>7.21:  <B><U>Show difference between two sets</U>.</B>  </B></div>"
   ]
  },
  {
   "cell_type": "markdown",
   "id": "7169db23",
   "metadata": {},
   "source": [
    "In a single statement, show what is in set <B>first\\_round</B> that is not in set <B>second\\_round</B>; then show the reverse.\n"
   ]
  },
  {
   "cell_type": "code",
   "execution_count": null,
   "id": "9a4737c8",
   "metadata": {},
   "outputs": [],
   "source": [
    "first_round = {'Miller, George', 'Adams, Abdul', 'Feiner, Billy', 'Pollinator, Jim'}\n",
    "\n",
    "second_round = {'Adams, Abdul', 'Pollinator, Jim', 'Freeman, Kalley', 'Boom, Boom'}\n",
    "\n",
    "\n",
    "\n"
   ]
  },
  {
   "cell_type": "markdown",
   "id": "97bbbdf3",
   "metadata": {},
   "source": [
    "<U>Expected Output</U>:  "
   ]
  },
  {
   "cell_type": "markdown",
   "id": "35cb065f",
   "metadata": {},
   "source": [
    "<pre style=\"margin: 0; padding=0\"><DIV style=\"font-family: Courier; border: 1px solid #dbdbdb; padding: 7px\">{'Miller, George', 'Feiner, Billy'}\n",
    "{'Freeman, Kalley', 'Boom, Boom'}</DIV></pre>"
   ]
  },
  {
   "cell_type": "markdown",
   "id": "e31ce816",
   "metadata": {},
   "source": [
    "(Note that set results may be in any order.)"
   ]
  },
  {
   "cell_type": "markdown",
   "id": "e073bea3",
   "metadata": {},
   "source": [
    " "
   ]
  },
  {
   "cell_type": "markdown",
   "id": "48aa4c0b",
   "metadata": {},
   "source": [
    "<div style=\"background-color: #ccffcc; padding: 10px; border: 2px solid green\"><B>7.22:  <B><U>Show all values in two sets</U>.</B>  </B></div>"
   ]
  },
  {
   "cell_type": "markdown",
   "id": "f1ab2425",
   "metadata": {},
   "source": [
    "In a single statement, show a complete set of values contained in both sets.\n"
   ]
  },
  {
   "cell_type": "code",
   "execution_count": null,
   "id": "ff4e3547",
   "metadata": {},
   "outputs": [],
   "source": [
    "first_round = {'Miller, George', 'Adams, Abdul', 'Feiner, Billy', 'Pollinator, Jim'}\n",
    "\n",
    "second_round = {'Adams, Abdul', 'Pollinator, Jim', 'Freeman, Kalley', 'Boom, Boom'}\n",
    "\n"
   ]
  },
  {
   "cell_type": "markdown",
   "id": "9fc9aad8",
   "metadata": {},
   "source": [
    "<U>Expected Output</U>:  "
   ]
  },
  {
   "cell_type": "markdown",
   "id": "c637cb0e",
   "metadata": {},
   "source": [
    "<pre style=\"margin: 0; padding=0\"><DIV style=\"font-family: Courier; border: 1px solid #dbdbdb; padding: 7px\">{'Miller, George', 'Adams, Abdul', 'Feiner, Billy', 'Pollinator, Jim',\n",
    " 'Freeman, Kalley', 'Boom, Boom'}</DIV></pre>"
   ]
  },
  {
   "cell_type": "markdown",
   "id": "4bedc88c",
   "metadata": {},
   "source": [
    "(Note that set results may be in any order.)"
   ]
  },
  {
   "cell_type": "markdown",
   "id": "635afd1b",
   "metadata": {},
   "source": [
    " "
   ]
  },
  {
   "cell_type": "markdown",
   "id": "e45f6686",
   "metadata": {},
   "source": [
    "<div style=\"background-color: #ccffcc; padding: 10px; border: 2px solid green\"><B>7.23:  <B><U>Modify each item in a list using a list comprehension</U>.</B>  </B></div>"
   ]
  },
  {
   "cell_type": "markdown",
   "id": "b7ee71f7",
   "metadata": {},
   "source": [
    "Write a list comprehension that uppercases each word in the list.  Print the list.\n"
   ]
  },
  {
   "cell_type": "code",
   "execution_count": null,
   "id": "f7ce7383",
   "metadata": {},
   "outputs": [],
   "source": [
    "x = [\"It's\", 'important', 'to', 'speak', 'moderately.']\n",
    "\n"
   ]
  },
  {
   "cell_type": "markdown",
   "id": "541d1a5c",
   "metadata": {},
   "source": [
    "<U>Expected Output</U>:  "
   ]
  },
  {
   "cell_type": "markdown",
   "id": "ce175a40",
   "metadata": {},
   "source": [
    "<pre style=\"margin: 0; padding=0\"><DIV style=\"font-family: Courier; border: 1px solid #dbdbdb; padding: 7px\">[\"IT'S\", 'IMPORTANT', 'TO', 'SPEAK', 'MODERATELY.']</DIV></pre>"
   ]
  },
  {
   "cell_type": "markdown",
   "id": "c981aea9",
   "metadata": {},
   "source": [
    " "
   ]
  },
  {
   "cell_type": "markdown",
   "id": "6c0e287d",
   "metadata": {},
   "source": [
    "<div style=\"background-color: #ccffcc; padding: 10px; border: 2px solid green\"><B>7.24:  <B><U>Modify each item in a list using a list comprehension</U>.</B>  </B></div>"
   ]
  },
  {
   "cell_type": "markdown",
   "id": "9b71bd6b",
   "metadata": {},
   "source": [
    "Write a list comprehension that returns the list of numbers showing their percentage value as a whole number (i.e., multiplied by 100).\n"
   ]
  },
  {
   "cell_type": "code",
   "execution_count": null,
   "id": "c2d776d0",
   "metadata": {},
   "outputs": [],
   "source": [
    "pcts = [.353, .4911, .0309, .9998]\n",
    "\n"
   ]
  },
  {
   "cell_type": "markdown",
   "id": "3e45f300",
   "metadata": {},
   "source": [
    "<U>Expected Output</U>:  "
   ]
  },
  {
   "cell_type": "markdown",
   "id": "2612c348",
   "metadata": {},
   "source": [
    "<pre style=\"margin: 0; padding=0\"><DIV style=\"font-family: Courier; border: 1px solid #dbdbdb; padding: 7px\">[35.3, 49.11, 3.09, 99.98]</DIV></pre>"
   ]
  },
  {
   "cell_type": "markdown",
   "id": "b870be8a",
   "metadata": {},
   "source": [
    " "
   ]
  },
  {
   "cell_type": "markdown",
   "id": "4de8e8a0",
   "metadata": {},
   "source": [
    "<div style=\"background-color: #ccffcc; padding: 10px; border: 2px solid green\"><B>7.25:  <B><U>Modify selected items in a list using a list comprehension</U>.</B>  </B></div>"
   ]
  },
  {
   "cell_type": "markdown",
   "id": "13d29111",
   "metadata": {},
   "source": [
    "Write a list comprehension that returns the square root of each number greater than 0.  To calculate square root, you can raise to the power of 0.5, or <B>num ** 0.5</B> (where <B>num</B> is the variable holding the number).\n"
   ]
  },
  {
   "cell_type": "code",
   "execution_count": null,
   "id": "9eba3f82",
   "metadata": {},
   "outputs": [],
   "source": [
    "x = [5, 3, -3, 9, -7, 0, 10]\n",
    "\n"
   ]
  },
  {
   "cell_type": "markdown",
   "id": "56e414ba",
   "metadata": {},
   "source": [
    "<U>Expected Output</U>:  "
   ]
  },
  {
   "cell_type": "markdown",
   "id": "96953ee0",
   "metadata": {},
   "source": [
    "<pre style=\"margin: 0; padding=0\"><DIV style=\"font-family: Courier; border: 1px solid #dbdbdb; padding: 7px\">[2.23606797749979, 1.7320508075688772, 3.0, 3.1622776601683795]</DIV></pre>"
   ]
  },
  {
   "cell_type": "markdown",
   "id": "5b2f0eba",
   "metadata": {},
   "source": [
    "Note that there may be small fractional differences on your computer."
   ]
  },
  {
   "cell_type": "markdown",
   "id": "4d334778",
   "metadata": {},
   "source": [
    " "
   ]
  },
  {
   "cell_type": "markdown",
   "id": "b1c88be5",
   "metadata": {},
   "source": [
    "<div style=\"background-color: #ccffcc; padding: 10px; border: 2px solid green\"><B>7.26:  <B><U>Modify each item in a list using a list comprehension</U>.</B>  </B></div>"
   ]
  },
  {
   "cell_type": "markdown",
   "id": "449eaa8c",
   "metadata": {},
   "source": [
    "Write a list comprehension that returns a list of strings that show each number as a currency value with comma separators (use the <B>f'${num:,}</B> format string, where <B>num</B> is the variable holding the number).  Also round each item to 2 decimal places.\n"
   ]
  },
  {
   "cell_type": "code",
   "execution_count": null,
   "id": "019009f0",
   "metadata": {},
   "outputs": [],
   "source": [
    "aa = [35392.7381, 100353.949, 98.2203, 1035392.9942]\n",
    "\n"
   ]
  },
  {
   "cell_type": "markdown",
   "id": "8ea3c0d2",
   "metadata": {},
   "source": [
    "<U>Expected Output</U>:  "
   ]
  },
  {
   "cell_type": "markdown",
   "id": "06cc6762",
   "metadata": {},
   "source": [
    "<pre style=\"margin: 0; padding=0\"><DIV style=\"font-family: Courier; border: 1px solid #dbdbdb; padding: 7px\">['$35,392.74', '$100,353.95', '$98.22', '$1,035,392.99']</DIV></pre>"
   ]
  },
  {
   "cell_type": "markdown",
   "id": "c29969c0",
   "metadata": {},
   "source": [
    " "
   ]
  },
  {
   "cell_type": "markdown",
   "id": "ef852636",
   "metadata": {},
   "source": [
    "LIST COMPREHENSIONS:  WORKING WITH FILES"
   ]
  },
  {
   "cell_type": "markdown",
   "id": "911a82f8",
   "metadata": {},
   "source": [
    "<B>7.27:  <B><U>Use a list comprehension to strip each line of a file</U>.</B>  Reading 'pyku.txt', use a list comprehension to generate a list of lines, each one stripped of the newline.  Print the list as a whole - do not loop through it.  </B>"
   ]
  },
  {
   "cell_type": "code",
   "execution_count": null,
   "id": "a3c05f39",
   "metadata": {},
   "outputs": [],
   "source": [
    "fh = open('../pyku.txt')\n",
    "\n",
    "# your code here - resulting list of strings should\n",
    "# be each line in 'pyku.txt' without newlines\n"
   ]
  },
  {
   "cell_type": "markdown",
   "id": "13aae4ac",
   "metadata": {},
   "source": [
    " "
   ]
  },
  {
   "cell_type": "markdown",
   "id": "fc6589b8",
   "metadata": {},
   "source": [
    "<B>7.28:  <B><U>Use a list comprehension to derive information about each line of a file</U>.</B>  Looping through 'pyku.txt', generate a new list with integers - the string length of each line in the file.  Print the list.</B>"
   ]
  },
  {
   "cell_type": "code",
   "execution_count": null,
   "id": "85f93c6b",
   "metadata": {},
   "outputs": [],
   "source": [
    "fh = open('../pyku.txt')\n",
    "\n",
    "# your code here\n"
   ]
  },
  {
   "cell_type": "markdown",
   "id": "1fba9d06",
   "metadata": {},
   "source": [
    "The resulting list of ints should be [20, 30, 30], assuming the lines have not been stripped or divided with splitlines()"
   ]
  },
  {
   "cell_type": "markdown",
   "id": "bca62b20",
   "metadata": {},
   "source": [
    " "
   ]
  },
  {
   "cell_type": "markdown",
   "id": "29352590",
   "metadata": {},
   "source": [
    "<B>7.29:  <B><U>Use a list comprehension to extract a field from each row in a CSV file</U>.</B>  Reading 'revenue.csv', use a list comprehension to generate a list of company names.  Print the list as a whole.  </B>"
   ]
  },
  {
   "cell_type": "code",
   "execution_count": null,
   "id": "be0bdaad",
   "metadata": {},
   "outputs": [],
   "source": [
    "fh = open('../revenue.csv')\n",
    "\n",
    "# your code here\n"
   ]
  },
  {
   "cell_type": "markdown",
   "id": "1e590ce5",
   "metadata": {},
   "source": [
    "The resulting list of strings should be each company listed in 'revenue.csv'"
   ]
  },
  {
   "cell_type": "markdown",
   "id": "93bd521f",
   "metadata": {},
   "source": [
    " "
   ]
  },
  {
   "cell_type": "markdown",
   "id": "71349842",
   "metadata": {},
   "source": [
    "LAB 3"
   ]
  },
  {
   "cell_type": "markdown",
   "id": "ba14b5f3",
   "metadata": {},
   "source": [
    "<div style=\"background-color: #ccffcc; padding: 10px; border: 2px solid green\"><B>7.30:  <B><U>Select items from a list using a list comprehension</U>.</B>  </B></div>"
   ]
  },
  {
   "cell_type": "markdown",
   "id": "f5b80bd2",
   "metadata": {},
   "source": [
    "Write a list comprehension that returns a list of lines that start with the year '2014'\n"
   ]
  },
  {
   "cell_type": "code",
   "execution_count": null,
   "id": "311d6a16",
   "metadata": {},
   "outputs": [],
   "source": [
    "lines = [  '2014-03-09,Wilson,Joe,Acme Inc.',\n",
    "           '2014-08-17,Fink,Bart,Beta LLC',\n",
    "           '2018-09-03,Emerson,Will,Acme Inc.',\n",
    "           '2020-12-09,Rodgers,Mary,Gamma Co.',\n",
    "           '2014-07-01,Jones,Pete,Acme Inc.'\n",
    "        ]\n",
    "\n"
   ]
  },
  {
   "cell_type": "markdown",
   "id": "edf5cd16",
   "metadata": {},
   "source": [
    "<U>Expected Output</U>:  "
   ]
  },
  {
   "cell_type": "markdown",
   "id": "f9ee7633",
   "metadata": {},
   "source": [
    "<pre style=\"margin: 0; padding=0\"><DIV style=\"font-family: Courier; border: 1px solid #dbdbdb; padding: 7px\">['2014-03-09,Wilson,Joe,Acme Inc.','2014-08-17,Fink,Bart,Beta LLC',\n",
    " '2014-07-01,Jones,Pete,Acme Inc.']</DIV></pre>"
   ]
  },
  {
   "cell_type": "markdown",
   "id": "a1a2a05b",
   "metadata": {},
   "source": [
    " "
   ]
  },
  {
   "cell_type": "markdown",
   "id": "ce594475",
   "metadata": {},
   "source": [
    "<div style=\"background-color: #ccffcc; padding: 10px; border: 2px solid green\"><B>7.31:  <B><U>Modify selected lines from a list using a list comprehension and a compound statement</U>.</B>  </B></div>"
   ]
  },
  {
   "cell_type": "markdown",
   "id": "9d5d7405",
   "metadata": {},
   "source": [
    "Write a list comprehension that returns a list of last names from each line.\n"
   ]
  },
  {
   "cell_type": "code",
   "execution_count": null,
   "id": "e98bb5b3",
   "metadata": {},
   "outputs": [],
   "source": [
    "lines = [  '2014-03-09,Wilson,Joe,Acme Inc.',\n",
    "           '2014-08-17,Fink,Bart,Beta LLC',\n",
    "           '2018-09-03,Emerson,Will,Acme Inc.',\n",
    "           '2020-12-09,Rodgers,Mary,Gamma Co.',\n",
    "           '2014-07-01,Jones,Pete,Acme Inc.'\n",
    "        ]\n",
    "\n"
   ]
  },
  {
   "cell_type": "markdown",
   "id": "1890b0cc",
   "metadata": {},
   "source": [
    "<U>Expected Output</U>:  "
   ]
  },
  {
   "cell_type": "markdown",
   "id": "e335d366",
   "metadata": {},
   "source": [
    "<pre style=\"margin: 0; padding=0\"><DIV style=\"font-family: Courier; border: 1px solid #dbdbdb; padding: 7px\">['Wilson', 'Fink', 'Emerson', 'Rodgers', 'Jones']</DIV></pre>"
   ]
  },
  {
   "cell_type": "markdown",
   "id": "17484da1",
   "metadata": {},
   "source": [
    " "
   ]
  },
  {
   "cell_type": "markdown",
   "id": "0a32a589",
   "metadata": {},
   "source": [
    "<div style=\"background-color: #ccffcc; padding: 10px; border: 2px solid green\"><B>7.32:  <B><U>Select lines from a list using a list comprehension and a compound statement</U>.</B>  </B></div>"
   ]
  },
  {
   "cell_type": "markdown",
   "id": "0a7d27e4",
   "metadata": {},
   "source": [
    "Write a list comprehension that returns a list of only 'Acme Inc.' lines.\n"
   ]
  },
  {
   "cell_type": "code",
   "execution_count": null,
   "id": "021f1520",
   "metadata": {},
   "outputs": [],
   "source": [
    "lines = [  '2014-03-09,Wilson,Joe,Acme Inc.',\n",
    "           '2014-08-17,Fink,Bart,Beta LLC',\n",
    "           '2018-09-03,Emerson,Will,Acme Inc.',\n",
    "           '2020-12-09,Rodgers,Mary,Gamma Co.',\n",
    "           '2014-07-01,Jones,Pete,Acme Inc.'\n",
    "        ]\n",
    "\n"
   ]
  },
  {
   "cell_type": "markdown",
   "id": "d9f05079",
   "metadata": {},
   "source": [
    "<U>Expected Output</U>:  "
   ]
  },
  {
   "cell_type": "markdown",
   "id": "e18b92d5",
   "metadata": {},
   "source": [
    "<pre style=\"margin: 0; padding=0\"><DIV style=\"font-family: Courier; border: 1px solid #dbdbdb; padding: 7px\">['2014-03-09,Wilson,Joe,Acme Inc.','2018-09-03,Emerson,Will,Acme Inc.',\n",
    "'2014-07-01,Jones,Pete,Acme Inc.']</DIV></pre>"
   ]
  },
  {
   "cell_type": "markdown",
   "id": "5fffdbc7",
   "metadata": {},
   "source": [
    " "
   ]
  },
  {
   "cell_type": "markdown",
   "id": "f70af13c",
   "metadata": {},
   "source": [
    "<div style=\"background-color: #ccffcc; padding: 10px; border: 2px solid green\"><B>7.33:  <B><U>Modify selected lines from a list using a list comprehension and a compound statement</U>.</B>  </B></div>"
   ]
  },
  {
   "cell_type": "markdown",
   "id": "30ab7b4a",
   "metadata": {},
   "source": [
    "Write a list comprehension that returns a list of last names only from 'Acme Inc.' lines.\n"
   ]
  },
  {
   "cell_type": "code",
   "execution_count": null,
   "id": "93f5aad0",
   "metadata": {},
   "outputs": [],
   "source": [
    "lines = [  '2014-03-09,Wilson,Joe,Acme Inc.',\n",
    "           '2014-08-17,Fink,Bart,Beta LLC',\n",
    "           '2018-09-03,Emerson,Will,Acme Inc.',\n",
    "           '2020-12-09,Rodgers,Mary,Gamma Co.',\n",
    "           '2014-07-01,Jones,Pete,Acme Inc.'\n",
    "        ]\n",
    "\n"
   ]
  },
  {
   "cell_type": "markdown",
   "id": "e5dfde5d",
   "metadata": {},
   "source": [
    "<U>Expected Output</U>:  "
   ]
  },
  {
   "cell_type": "markdown",
   "id": "d70792e8",
   "metadata": {},
   "source": [
    "<pre style=\"margin: 0; padding=0\"><DIV style=\"font-family: Courier; border: 1px solid #dbdbdb; padding: 7px\">['Wilson', 'Emerson', 'Jones']</DIV></pre>"
   ]
  },
  {
   "cell_type": "markdown",
   "id": "547c21b1",
   "metadata": {},
   "source": [
    " "
   ]
  },
  {
   "cell_type": "markdown",
   "id": "f1c18e39",
   "metadata": {},
   "source": [
    "<div style=\"background-color: #ccffcc; padding: 10px; border: 2px solid green\"><B>7.34:  <B><U>Supreme Challenge!</U>.</B>  </B></div>"
   ]
  },
  {
   "cell_type": "markdown",
   "id": "768ffe6b",
   "metadata": {},
   "source": [
    "Write a list comprehension that returns the list of lines with only the last name uppercased.\n",
    "\n",
    "(Splitting the line, you can uppercase the first element, make a list out of it, append it to the list of remaining values, and use <B>','.join()</B> with the list to reconstitute the comma-separated values.)\n"
   ]
  },
  {
   "cell_type": "code",
   "execution_count": null,
   "id": "68513792",
   "metadata": {},
   "outputs": [],
   "source": [
    "lines = [  '2014-03-09,Wilson,Joe,Acme Inc.',\n",
    "           '2014-08-17,Fink,Bart,Beta LLC',\n",
    "           '2018-09-03,Emerson,Will,Acme Inc.',\n",
    "           '2020-12-09,Rodgers,Mary,Gamma Co.',\n",
    "           '2014-07-01,Jones,Pete,Acme Inc.'\n",
    "        ]\n",
    "\n"
   ]
  },
  {
   "cell_type": "markdown",
   "id": "76f73cd1",
   "metadata": {},
   "source": [
    "<U>Expected Output</U>:  "
   ]
  },
  {
   "cell_type": "markdown",
   "id": "90816305",
   "metadata": {},
   "source": [
    "<pre style=\"margin: 0; padding=0\"><DIV style=\"font-family: Courier; border: 1px solid #dbdbdb; padding: 7px\">['2014-03-09,WILSON,Joe,Acme Inc.', '2014-08-17,FINK,Bart,Beta LLC',\n",
    "'2018-09-03,EMERSON,Will,Acme Inc.', '2020-12-09,RODGERS,Mary,Gamma Co.',\n",
    "'2014-07-01,JONES,Pete,Acme Inc.']</DIV></pre>"
   ]
  },
  {
   "cell_type": "markdown",
   "id": "0dfe37b5",
   "metadata": {},
   "source": [
    " "
   ]
  }
 ],
 "metadata": {},
 "nbformat": 4,
 "nbformat_minor": 5
}
