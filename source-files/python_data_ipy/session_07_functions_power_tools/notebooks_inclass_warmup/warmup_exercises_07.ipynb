{
 "cells": [
  {
   "cell_type": "markdown",
   "id": "11b8ed73",
   "metadata": {},
   "source": [
    "# Project Warmup Exercises, Session 7"
   ]
  },
  {
   "cell_type": "markdown",
   "id": "74d82f64",
   "metadata": {},
   "source": [
    "FUNCTIONS"
   ]
  },
  {
   "cell_type": "markdown",
   "id": "8a404da1",
   "metadata": {},
   "source": [
    "<B>7.1:  What is the correct way to call this function?</B>"
   ]
  },
  {
   "cell_type": "code",
   "execution_count": null,
   "id": "b79ac8b9",
   "metadata": {},
   "outputs": [],
   "source": [
    "def do(arg):\n",
    "    darg = arg * 2\n",
    "    return darg\n",
    "\n"
   ]
  },
  {
   "cell_type": "markdown",
   "id": "2724bede",
   "metadata": {},
   "source": [
    " "
   ]
  },
  {
   "cell_type": "markdown",
   "id": "44e7f7ca",
   "metadata": {},
   "source": [
    "<B>7.2:  What is the correct way to call this function?</B>"
   ]
  },
  {
   "cell_type": "code",
   "execution_count": null,
   "id": "2dcbddc7",
   "metadata": {},
   "outputs": [],
   "source": [
    "import random\n",
    "\n",
    "def do():\n",
    "    num = random.randint(1, 10)\n",
    "    return num\n",
    "\n"
   ]
  },
  {
   "cell_type": "markdown",
   "id": "ec366de9",
   "metadata": {},
   "source": [
    " "
   ]
  },
  {
   "cell_type": "markdown",
   "id": "0c0bf6c1",
   "metadata": {},
   "source": [
    "<B>7.3:  What is the correct way to call this function?</B>"
   ]
  },
  {
   "cell_type": "code",
   "execution_count": null,
   "id": "a6e5f92d",
   "metadata": {},
   "outputs": [],
   "source": [
    "def do(arg, otherarg):\n",
    "    svals = arg + otherarg\n",
    "    return svals\n",
    "\n"
   ]
  },
  {
   "cell_type": "markdown",
   "id": "28d48545",
   "metadata": {},
   "source": [
    " "
   ]
  },
  {
   "cell_type": "markdown",
   "id": "2be6bfc5",
   "metadata": {},
   "source": [
    "<B>7.4:  What is the correct way to call this function?</B>"
   ]
  },
  {
   "cell_type": "code",
   "execution_count": null,
   "id": "b92434d1",
   "metadata": {},
   "outputs": [],
   "source": [
    "def do(arg, otherarg):\n",
    "    darg = arg * 2\n",
    "    dotherarg = otherarg * 2\n",
    "    return darg, dotherarg\n",
    "\n"
   ]
  },
  {
   "cell_type": "markdown",
   "id": "b01c91d4",
   "metadata": {},
   "source": [
    " "
   ]
  },
  {
   "cell_type": "markdown",
   "id": "5edac9cc",
   "metadata": {},
   "source": [
    "<B>7.5:  Write a function addme() that takes two arguments, adds them together and returns the two arguments added / concatenated.  Call it thusly:</B>"
   ]
  },
  {
   "cell_type": "code",
   "execution_count": null,
   "id": "a198fde4",
   "metadata": {},
   "outputs": [],
   "source": [
    "# your code here\n",
    "\n",
    "x = addme(4, 5)\n",
    "print(x)\n",
    "\n",
    "y = addme('hey', 'you')\n",
    "print(y)"
   ]
  },
  {
   "cell_type": "markdown",
   "id": "3bca43ea",
   "metadata": {},
   "source": [
    "<U>Expected Output</U>:  "
   ]
  },
  {
   "cell_type": "markdown",
   "id": "7543cecf",
   "metadata": {},
   "source": [
    "<pre style=\"margin: 0; padding=0\"><DIV style=\"font-family: Courier; border: 1px solid #dbdbdb; padding: 7px\">9\n",
    "heyyou</DIV></pre>"
   ]
  },
  {
   "cell_type": "markdown",
   "id": "4136ae43",
   "metadata": {},
   "source": [
    " "
   ]
  },
  {
   "cell_type": "markdown",
   "id": "3e8ad853",
   "metadata": {},
   "source": [
    "SET COMPARISONS"
   ]
  },
  {
   "cell_type": "markdown",
   "id": "1e5a05aa",
   "metadata": {},
   "source": [
    "<B>7.6:  Use the set <B>.difference()</B> method to show which of the submitted addresses is not on the whitelist.  </B>"
   ]
  },
  {
   "cell_type": "code",
   "execution_count": null,
   "id": "a9590320",
   "metadata": {},
   "outputs": [],
   "source": [
    "whitelist = {'joe@me.com', 'marie@there.com'}\n",
    "submitted = {'joe@me.com', 'dark@lord.au', 'marie@there.com'}"
   ]
  },
  {
   "cell_type": "markdown",
   "id": "d5253f79",
   "metadata": {},
   "source": [
    " "
   ]
  },
  {
   "cell_type": "markdown",
   "id": "c5002233",
   "metadata": {},
   "source": [
    "<B>7.7:  Use the set <B>.intersection()</B> method to show which of the submitted addresses is on the blacklist.  </B>"
   ]
  },
  {
   "cell_type": "code",
   "execution_count": null,
   "id": "0176510a",
   "metadata": {},
   "outputs": [],
   "source": [
    "blacklist = ['dark@lord.au', 'skeevy@guy.ny', 'bad@news.eu']\n",
    "submitted = ['joe@me.com', 'dark@lord.au', 'marie@there.com']"
   ]
  },
  {
   "cell_type": "markdown",
   "id": "dd857905",
   "metadata": {},
   "source": [
    " "
   ]
  },
  {
   "cell_type": "markdown",
   "id": "5a5e9db4",
   "metadata": {},
   "source": [
    "<B>7.8:  Use the set <B>.union()</B> method to show the complete set of clients between the <B>NE\\_clients</B> and <B>NW\\_clients</B> list.  </B>"
   ]
  },
  {
   "cell_type": "code",
   "execution_count": null,
   "id": "74fafda2",
   "metadata": {},
   "outputs": [],
   "source": [
    "NE_clients = {'Alpha Industries', 'Beta Engrams, Inc.',\n",
    "              'Gamma Products, Ltd.'}\n",
    "\n",
    "NW_clients = {'Alpha Industries',  'Gamma Products, Ltd.',\n",
    "              'Epsilon Publications'}"
   ]
  },
  {
   "cell_type": "markdown",
   "id": "587a15d8",
   "metadata": {},
   "source": [
    " "
   ]
  },
  {
   "cell_type": "markdown",
   "id": "5371d9b8",
   "metadata": {},
   "source": [
    "LIST COMPREHENSIONS"
   ]
  },
  {
   "cell_type": "markdown",
   "id": "a6b9eb40",
   "metadata": {},
   "source": [
    "<B>7.9:  Run the below code to see that the list comprehension returns a list of the items from the 'source list'.  </B>"
   ]
  },
  {
   "cell_type": "code",
   "execution_count": null,
   "id": "c73e3638",
   "metadata": {},
   "outputs": [],
   "source": [
    "x = [1, 2, 3, 4]\n",
    "\n",
    "y = [ item for item in x ]"
   ]
  },
  {
   "cell_type": "markdown",
   "id": "813fde73",
   "metadata": {},
   "source": [
    " "
   ]
  },
  {
   "cell_type": "markdown",
   "id": "85f1bc1d",
   "metadata": {},
   "source": [
    "<B>7.10:  Modify the list comprehension to double each value in the source list.  </B>"
   ]
  },
  {
   "cell_type": "code",
   "execution_count": null,
   "id": "7b66660e",
   "metadata": {},
   "outputs": [],
   "source": [
    "x = [1, 2, 3, 4]\n",
    "\n",
    "y = [ item for item in x ]"
   ]
  },
  {
   "cell_type": "markdown",
   "id": "5c07b040",
   "metadata": {},
   "source": [
    " "
   ]
  },
  {
   "cell_type": "markdown",
   "id": "20b3467d",
   "metadata": {},
   "source": [
    "<B>7.11:  Write a list comprehension that halves each value in the source list.  </B>"
   ]
  },
  {
   "cell_type": "code",
   "execution_count": null,
   "id": "18bab9cb",
   "metadata": {},
   "outputs": [],
   "source": [
    "x = [1, 2, 3, 4]\n"
   ]
  },
  {
   "cell_type": "markdown",
   "id": "fd466f9c",
   "metadata": {},
   "source": [
    " "
   ]
  },
  {
   "cell_type": "markdown",
   "id": "47bb156e",
   "metadata": {},
   "source": [
    "<B>7.12:  Write a list comprehension that uppercases each string in the source list.  </B>"
   ]
  },
  {
   "cell_type": "code",
   "execution_count": null,
   "id": "588eb900",
   "metadata": {},
   "outputs": [],
   "source": [
    "x = ['hi', 'there', 'pythonistas']"
   ]
  },
  {
   "cell_type": "markdown",
   "id": "9ad90224",
   "metadata": {},
   "source": [
    " "
   ]
  },
  {
   "cell_type": "markdown",
   "id": "2d8fc0a5",
   "metadata": {},
   "source": [
    "<B>7.13:  Write a list comprehension that builds a list of only positive values (greater than 0).  </B>"
   ]
  },
  {
   "cell_type": "code",
   "execution_count": null,
   "id": "13d991a7",
   "metadata": {},
   "outputs": [],
   "source": [
    "x = [7, -2, 9, -1, 0, 1, -3, 9, 3]\n",
    "\n"
   ]
  },
  {
   "cell_type": "markdown",
   "id": "a0829b28",
   "metadata": {},
   "source": [
    " "
   ]
  },
  {
   "cell_type": "markdown",
   "id": "3ef15db3",
   "metadata": {},
   "source": [
    "<B>7.14:  Write a list comprehension that builds a list of only names starting with underscore ('\\_').    </B>"
   ]
  },
  {
   "cell_type": "code",
   "execution_count": null,
   "id": "88461b9a",
   "metadata": {},
   "outputs": [],
   "source": [
    "dirlist = [ '__str__', '__repr__', 'upper', 'lower' ]\n"
   ]
  },
  {
   "cell_type": "markdown",
   "id": "b622e99a",
   "metadata": {},
   "source": [
    " "
   ]
  },
  {
   "cell_type": "markdown",
   "id": "4b4e79d1",
   "metadata": {},
   "source": [
    "<B>7.15:  This list comprehension iterates over each line in the file (<B>line for line in fh</B>).  Apply <B>.rstrip()</B> to each line to produce a list of stripped lines.  </B>"
   ]
  },
  {
   "cell_type": "code",
   "execution_count": null,
   "id": "eeb5cdf8",
   "metadata": {},
   "outputs": [],
   "source": [
    "fh = open('../revenue.csv')\n",
    "\n",
    "lines = [ line for line in fh ]\n",
    "\n",
    "\n",
    "fh.close()"
   ]
  },
  {
   "cell_type": "markdown",
   "id": "ee893392",
   "metadata": {},
   "source": [
    " "
   ]
  },
  {
   "cell_type": "markdown",
   "id": "b763f688",
   "metadata": {},
   "source": [
    "<B>7.16:  Write a list comprehension that iterates over each line in the <B>FF\\_tiny.txt</B> file and slices out the year from each line.  </B>"
   ]
  },
  {
   "cell_type": "code",
   "execution_count": null,
   "id": "73d2b76f",
   "metadata": {},
   "outputs": [],
   "source": [
    "fh = open('../FF_tiny.txt')\n",
    "\n",
    "\n",
    "fh.close()"
   ]
  },
  {
   "cell_type": "markdown",
   "id": "52bfde7b",
   "metadata": {},
   "source": [
    " "
   ]
  },
  {
   "cell_type": "markdown",
   "id": "ab04edc9",
   "metadata": {},
   "source": [
    "<B>7.17:  Write a list comprehension that splits each line, producing a list for each line in the file.  </B>"
   ]
  },
  {
   "cell_type": "code",
   "execution_count": null,
   "id": "8baaa582",
   "metadata": {},
   "outputs": [],
   "source": [
    "fh = open('../FF_tiny.txt')\n",
    "\n",
    "\n",
    "fh.close()"
   ]
  },
  {
   "cell_type": "markdown",
   "id": "8ce868d1",
   "metadata": {},
   "source": [
    " "
   ]
  },
  {
   "cell_type": "markdown",
   "id": "aaad0c62",
   "metadata": {},
   "source": [
    "<B>7.18:  Continuing with the solution from previous exercise, subscript the <B>split()</B> so that only one item from each list is passed to the resulting list.  </B>"
   ]
  },
  {
   "cell_type": "code",
   "execution_count": null,
   "id": "b80a699b",
   "metadata": {},
   "outputs": [],
   "source": []
  },
  {
   "cell_type": "markdown",
   "id": "220cc952",
   "metadata": {},
   "source": [
    " "
   ]
  },
  {
   "cell_type": "markdown",
   "id": "7f44a338",
   "metadata": {},
   "source": [
    "<B>7.19:  Given the code below, write a list comprehension that only returns words longer than 3 letters - print the resulting list.</B>"
   ]
  },
  {
   "cell_type": "code",
   "execution_count": null,
   "id": "d31e3fe7",
   "metadata": {},
   "outputs": [],
   "source": [
    "words = [ 'Hello', 'my', 'dear', 'the', 'heart', 'is',\n",
    "          'a', 'child.' ]"
   ]
  },
  {
   "cell_type": "markdown",
   "id": "7f8159a6",
   "metadata": {},
   "source": [
    "<U>Expected Output</U>:  "
   ]
  },
  {
   "cell_type": "markdown",
   "id": "4db6928b",
   "metadata": {},
   "source": [
    "<pre style=\"margin: 0; padding=0\"><DIV style=\"font-family: Courier; border: 1px solid #dbdbdb; padding: 7px\">['Hello', 'dear', 'heart', 'child']</DIV></pre>"
   ]
  },
  {
   "cell_type": "markdown",
   "id": "b8b7c6c4",
   "metadata": {},
   "source": [
    " "
   ]
  },
  {
   "cell_type": "markdown",
   "id": "018b79b9",
   "metadata": {},
   "source": [
    "<B>7.20:  Build on the previous exercise - modify the list comprehension so that the returned words are uppercased.</B>"
   ]
  },
  {
   "cell_type": "code",
   "execution_count": null,
   "id": "67e582c2",
   "metadata": {},
   "outputs": [],
   "source": []
  },
  {
   "cell_type": "markdown",
   "id": "b35499fc",
   "metadata": {},
   "source": [
    "<U>Expected Output</U>:  "
   ]
  },
  {
   "cell_type": "markdown",
   "id": "74e7502f",
   "metadata": {},
   "source": [
    "<pre style=\"margin: 0; padding=0\"><DIV style=\"font-family: Courier; border: 1px solid #dbdbdb; padding: 7px\">['HELLO', 'DEAR', 'HEART', 'CHILD.']</DIV></pre>"
   ]
  },
  {
   "cell_type": "markdown",
   "id": "b76960d5",
   "metadata": {},
   "source": [
    " "
   ]
  },
  {
   "cell_type": "markdown",
   "id": "3dda20af",
   "metadata": {},
   "source": [
    "<B>7.21:  Open <B>../student\\_db.txt</B>.  Use a list comprehension to open the file and load it into a list as we did in previous exercises.  Print the resulting list.  (Hint:  a list comprehension loops through any iterable (object that can be looped or iterated through), so you can place the call to open() right in the list comprehension and it will loop over that (or rather, the file object returned from it.)  </B>"
   ]
  },
  {
   "cell_type": "code",
   "execution_count": null,
   "id": "c2e03079",
   "metadata": {},
   "outputs": [],
   "source": []
  },
  {
   "cell_type": "markdown",
   "id": "cc60e805",
   "metadata": {},
   "source": [
    "<U>Expected Output</U>:  "
   ]
  },
  {
   "cell_type": "markdown",
   "id": "9f9002c1",
   "metadata": {},
   "source": [
    "<pre style=\"margin: 0; padding=0\"><DIV style=\"font-family: Courier; border: 1px solid #dbdbdb; padding: 7px\">['id:address:city:state:zip\\n',\n",
    " 'jk43:23 Marfield Lane:Plainview:NY:10023\\n',\n",
    " 'ZXE99:315 W. 115th Street, Apt. 11B:New York:NY:10027\\n',\n",
    " 'jab44:23 Rivington Street, Apt. 3R:New York:NY:10002\\n',\n",
    " 'ak9:234 Main Street:Philadelphia:PA:08990\\n',\n",
    " 'ap172:19 Boxer Rd.:New York:NY:10005\\n',\n",
    " 'JB23:115 Karas Dr.:Jersey City:NJ:07127\\n',\n",
    " 'jb29:119 Xylon Dr.:Jersey City:NJ:07127\\n']</DIV></pre>"
   ]
  },
  {
   "cell_type": "markdown",
   "id": "3cc51bfa",
   "metadata": {},
   "source": [
    " "
   ]
  },
  {
   "cell_type": "markdown",
   "id": "a949995c",
   "metadata": {},
   "source": [
    "<B>7.22:  Continuing the previous exercise, use the list comprehension to remove the newline from each line in the file.  Print the resulting list - you should see each line of the file as before, but without the newline.  </B>"
   ]
  },
  {
   "cell_type": "code",
   "execution_count": null,
   "id": "4cf6e5a1",
   "metadata": {},
   "outputs": [],
   "source": []
  },
  {
   "cell_type": "markdown",
   "id": "b915480e",
   "metadata": {},
   "source": [
    "<U>Expected Output</U>:  "
   ]
  },
  {
   "cell_type": "markdown",
   "id": "7f7490b7",
   "metadata": {},
   "source": [
    "<pre style=\"margin: 0; padding=0\"><DIV style=\"font-family: Courier; border: 1px solid #dbdbdb; padding: 7px\">['id:address:city:state:zip',\n",
    " 'jk43:23 Marfield Lane:Plainview:NY:10023',\n",
    " 'ZXE99:315 W. 115th Street, Apt. 11B:New York:NY:10027',\n",
    " 'jab44:23 Rivington Street, Apt. 3R:New York:NY:10002',\n",
    " 'ak9:234 Main Street:Philadelphia:PA:08990',\n",
    " 'ap172:19 Boxer Rd.:New York:NY:10005',\n",
    " 'JB23:115 Karas Dr.:Jersey City:NJ:07127',\n",
    " 'jb29:119 Xylon Dr.:Jersey City:NJ:07127']</DIV></pre>"
   ]
  },
  {
   "cell_type": "markdown",
   "id": "51287974",
   "metadata": {},
   "source": [
    " "
   ]
  },
  {
   "cell_type": "markdown",
   "id": "b04ce064",
   "metadata": {},
   "source": [
    "<B>7.23:  Continuing the previous exercise, exclude the 1st line (the header line) from the output.  (Hint:  file.readlines() returns a list of lines, and you can slice that list.  But since we can't assign open() to a filehandle, we can simply treat open() as if it were the filehandle (because it returns it); thus we can call the readlines() method on open(), and we can slice any list returned form a method, so we can attach a slice directly to the call to readlines().  </B>"
   ]
  },
  {
   "cell_type": "code",
   "execution_count": null,
   "id": "9f6718a1",
   "metadata": {},
   "outputs": [],
   "source": []
  },
  {
   "cell_type": "markdown",
   "id": "576736c2",
   "metadata": {},
   "source": [
    "<U>Expected Output</U>:  "
   ]
  },
  {
   "cell_type": "markdown",
   "id": "18e031ff",
   "metadata": {},
   "source": [
    "<pre style=\"margin: 0; padding=0\"><DIV style=\"font-family: Courier; border: 1px solid #dbdbdb; padding: 7px\">['jk43:23 Marfield Lane:Plainview:NY:10023',\n",
    " 'ZXE99:315 W. 115th Street, Apt. 11B:New York:NY:10027',\n",
    " 'jab44:23 Rivington Street, Apt. 3R:New York:NY:10002',\n",
    " 'ak9:234 Main Street:Philadelphia:PA:08990',\n",
    " 'ap172:19 Boxer Rd.:New York:NY:10005',\n",
    " 'JB23:115 Karas Dr.:Jersey City:NJ:07127',\n",
    " 'jb29:119 Xylon Dr.:Jersey City:NJ:07127']</DIV></pre>"
   ]
  },
  {
   "cell_type": "markdown",
   "id": "59b41cc2",
   "metadata": {},
   "source": [
    " "
   ]
  }
 ],
 "metadata": {},
 "nbformat": 4,
 "nbformat_minor": 5
}
