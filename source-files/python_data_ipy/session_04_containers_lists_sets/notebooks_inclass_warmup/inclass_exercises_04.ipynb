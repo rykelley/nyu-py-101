{
 "cells": [
  {
   "cell_type": "markdown",
   "id": "3202f2ba",
   "metadata": {},
   "source": [
    "# In-Class Exercises, Session 4"
   ]
  },
  {
   "cell_type": "markdown",
   "id": "0892cea7",
   "metadata": {},
   "source": [
    "PLEASE REFER to pythonreference.com for syntax to follow in coding these Exercises"
   ]
  },
  {
   "cell_type": "markdown",
   "id": "f70f4937",
   "metadata": {},
   "source": [
    " "
   ]
  },
  {
   "cell_type": "markdown",
   "id": "da4aa8bf",
   "metadata": {},
   "source": [
    "NOTE THAT the data files read from these exercises is located in the \"parent\" directory.  Thus any filename in these exercises should be preceded with <B>../</B>.  (If you create a script in the same directory as the data file, this would not be necessary.)"
   ]
  },
  {
   "cell_type": "markdown",
   "id": "9bd9d206",
   "metadata": {},
   "source": [
    " "
   ]
  },
  {
   "cell_type": "markdown",
   "id": "6f1d2421",
   "metadata": {},
   "source": [
    "COMMAND LINE; FILES AND DIRECTORIES"
   ]
  },
  {
   "cell_type": "markdown",
   "id": "6695753a",
   "metadata": {},
   "source": [
    "<B>4.1:  <U><B>Work with the command line</B>.</U></B>"
   ]
  },
  {
   "cell_type": "markdown",
   "id": "f7fb6844",
   "metadata": {},
   "source": [
    "Open an Anaconda Prompt (Windows) or a Terminal window (Mac).  (To reach the Anaconda prompt, do a search for <B>Anaconda</B> and click <B>Anaconda Prompt</B>.)\n",
    "<UL>\n",
    "  <LI> (Mac only) Use <B>pwd</B> to see the \"present working directory\"</LI>\n",
    "  <LI> Use <B>ls</B> (Mac) or <B>dir</B> (Windows) to see a listing of the files and directories in this directory</LI>\n",
    "  <LI> Use <B>cd</B> to move into a directory you see listed in the present working directory (for example <B>cd Downloads</B>).  Use <B>pwd</B> (Mac only) to see your changed location (Windows prompt shows the location automatically).</LI>\n",
    "  <LI> Use <B>cd ..</B> to move into the \"parent\" directory of the one you are in (this will take you back to the parent of <B>Downlaods</B>.  Use <B>pwd</B> (Mac only) to see your changed location.</LI>\n",
    "  <LI> Use <B>cd /Users/[yourhomedir]/Desktop</B> to move into the <B>Desktop</B> directory.  Use <B>pwd</B> (Mac only) to see your changed location.  ([yourhomedir] should be replaced with your home directory, no brackets.</LI>\n",
    "  <LI> Use <B>cd ../Downloads</B> to move from the <B>Desktop</B> directory to the <B>Downloads</B> directory.  Use <B>pwd</B> (Mac only) to see your changed location.</LI>\n",
    "  <LI> Use <B>cd</B> (Mac) or <B>cd %HOMEPATH%</B> (Windows) to move back into the home directory.  Use <B>pwd</B> (Mac only) to see your changed location.</LI>\n",
    "</UL>"
   ]
  },
  {
   "cell_type": "markdown",
   "id": "2c6039c4",
   "metadata": {},
   "source": [
    " "
   ]
  },
  {
   "cell_type": "markdown",
   "id": "23705d3e",
   "metadata": {},
   "source": [
    "LISTS"
   ]
  },
  {
   "cell_type": "markdown",
   "id": "8bf3f629",
   "metadata": {},
   "source": [
    "<B>4.2:  <B><U>List operations</U>.</B>  </B>"
   ]
  },
  {
   "cell_type": "markdown",
   "id": "82763190",
   "metadata": {},
   "source": [
    "Initialize a list of 5 strings.  Then perform the below operations.\n"
   ]
  },
  {
   "cell_type": "code",
   "execution_count": null,
   "id": "925eb189",
   "metadata": {},
   "outputs": [],
   "source": [
    "# initialize your list of 5 strings\n",
    "mylist = ['hello', 'there', 'fine', 'Python', 'friends']\n",
    "\n",
    "\n",
    "\n",
    "# access and print the 2nd item (use list subscript)\n",
    "\n",
    "\n",
    "\n",
    "# access and print the last item (use negative subscript)\n",
    "\n",
    "\n",
    "\n",
    "# slice and print the first 3 items from the list (use list slice)\n",
    "\n",
    "\n",
    "\n",
    "# slice and print the last 3 items from the list (leave off the 'upper bound')\n",
    "\n",
    "\n"
   ]
  },
  {
   "cell_type": "markdown",
   "id": "c5ec348d",
   "metadata": {},
   "source": [
    "<U>Expected Output</U>:  "
   ]
  },
  {
   "cell_type": "markdown",
   "id": "6689c100",
   "metadata": {},
   "source": [
    "<pre style=\"margin: 0; padding=0\"><DIV style=\"font-family: Courier; border: 1px solid #dbdbdb; padding: 7px\">there\n",
    "friends\n",
    "['hello', 'there', 'fine']\n",
    "['Python', 'friends']\n",
    "5\n",
    "['Python', 'fine', 'friends', 'hello', 'there']</DIV></pre>"
   ]
  },
  {
   "cell_type": "markdown",
   "id": "e3ba8438",
   "metadata": {},
   "source": [
    " "
   ]
  },
  {
   "cell_type": "markdown",
   "id": "c7f04b64",
   "metadata": {},
   "source": [
    "<B>4.3:  <B><U>List with summary functions</U>.</B>  </B>"
   ]
  },
  {
   "cell_type": "code",
   "execution_count": null,
   "id": "755b9f6f",
   "metadata": {},
   "outputs": [],
   "source": [
    "x = [3.3, 1.1, 4.4, 2.2]\n",
    "\n",
    "\n",
    "# in one statement, show count of items in a list (use len())\n",
    "\n",
    "\n",
    "\n",
    "# sum up values in the list without looping (use sum())\n",
    "\n",
    "\n",
    "\n",
    "# show maximum value in the list (use max())\n",
    "\n",
    "\n",
    "\n",
    "# show minimum value in the list (use min())\n",
    "\n",
    "\n",
    "\n",
    "# show list items sorted lowest to highest (use sorted())\n",
    "\n",
    "\n",
    "\n",
    "# show list items sorted highest to lowest (add reverse=True)\n",
    "\n"
   ]
  },
  {
   "cell_type": "markdown",
   "id": "81fb15ed",
   "metadata": {},
   "source": [
    "<U>Expected Output</U>:  "
   ]
  },
  {
   "cell_type": "markdown",
   "id": "ac9d603e",
   "metadata": {},
   "source": [
    "<pre style=\"margin: 0; padding=0\"><DIV style=\"font-family: Courier; border: 1px solid #dbdbdb; padding: 7px\">4\n",
    "11.0\n",
    "4.4\n",
    "1.1\n",
    "[1.1, 2.2, 3.3, 4.4]\n",
    "[4.4, 3.3, 2.2, 1.1]</DIV></pre>"
   ]
  },
  {
   "cell_type": "markdown",
   "id": "04210597",
   "metadata": {},
   "source": [
    " "
   ]
  },
  {
   "cell_type": "markdown",
   "id": "a9d9f78b",
   "metadata": {},
   "source": [
    "<B>4.4:  <B><U>Use range() to count</U></B>.  </B>"
   ]
  },
  {
   "cell_type": "markdown",
   "id": "617f7394",
   "metadata": {},
   "source": [
    "Without using a counter, create a <B>for</B> loop to iterate over each integer between 0 and 5.\n"
   ]
  },
  {
   "cell_type": "code",
   "execution_count": null,
   "id": "df3b6ca7",
   "metadata": {},
   "outputs": [],
   "source": []
  },
  {
   "cell_type": "markdown",
   "id": "f41dfaf3",
   "metadata": {},
   "source": [
    "<U>Expected Output</U>:  "
   ]
  },
  {
   "cell_type": "markdown",
   "id": "3848906e",
   "metadata": {},
   "source": [
    "<pre style=\"margin: 0; padding=0\"><DIV style=\"font-family: Courier; border: 1px solid #dbdbdb; padding: 7px\">0\n",
    "1\n",
    "2\n",
    "3\n",
    "4\n",
    "5</DIV></pre>"
   ]
  },
  {
   "cell_type": "markdown",
   "id": "f6c46562",
   "metadata": {},
   "source": [
    " "
   ]
  },
  {
   "cell_type": "markdown",
   "id": "b65437f2",
   "metadata": {},
   "source": [
    "<B>4.5:  <B><U>Use range() to create a list</U></B>.  </B>"
   ]
  },
  {
   "cell_type": "markdown",
   "id": "1b757811",
   "metadata": {},
   "source": [
    "In a single statement, build a list of integers from 3 to 5.\n"
   ]
  },
  {
   "cell_type": "markdown",
   "id": "d8db2516",
   "metadata": {},
   "source": [
    "<U>Expected Output</U>:  "
   ]
  },
  {
   "cell_type": "markdown",
   "id": "e34123bb",
   "metadata": {},
   "source": [
    "<pre style=\"margin: 0; padding=0\"><DIV style=\"font-family: Courier; border: 1px solid #dbdbdb; padding: 7px\">[3, 4, 5]</DIV></pre>"
   ]
  },
  {
   "cell_type": "markdown",
   "id": "d44ce0bc",
   "metadata": {},
   "source": [
    " "
   ]
  },
  {
   "cell_type": "markdown",
   "id": "db38f25a",
   "metadata": {},
   "source": [
    "LAB 1"
   ]
  },
  {
   "cell_type": "markdown",
   "id": "8b9c10e9",
   "metadata": {},
   "source": [
    "<div style=\"background-color: #ccffcc; padding: 10px; border: 2px solid green\"><B>4.6:  Show the first 3 values in this list.  </B></div>"
   ]
  },
  {
   "cell_type": "code",
   "execution_count": null,
   "id": "c3c6195e",
   "metadata": {},
   "outputs": [],
   "source": [
    "x = [8, 1, 0, 2, 23, 4, 5, 11]\n",
    "\n"
   ]
  },
  {
   "cell_type": "markdown",
   "id": "baf812c4",
   "metadata": {},
   "source": [
    "<U>Expected Output</U>:  "
   ]
  },
  {
   "cell_type": "markdown",
   "id": "08db1ff1",
   "metadata": {},
   "source": [
    "<pre style=\"margin: 0; padding=0\"><DIV style=\"font-family: Courier; border: 1px solid #dbdbdb; padding: 7px\">[8, 1, 0]</DIV></pre>"
   ]
  },
  {
   "cell_type": "markdown",
   "id": "b7b8fdc0",
   "metadata": {},
   "source": [
    " "
   ]
  },
  {
   "cell_type": "markdown",
   "id": "ae28f7d4",
   "metadata": {},
   "source": [
    "<div style=\"background-color: #ccffcc; padding: 10px; border: 2px solid green\"><B>4.7:  Show the last 3 values in this list.  </B></div>"
   ]
  },
  {
   "cell_type": "code",
   "execution_count": null,
   "id": "ae5a3ce2",
   "metadata": {},
   "outputs": [],
   "source": [
    "x = [8, 1, 0, 2, 23, 4, 5, 11]\n",
    "\n"
   ]
  },
  {
   "cell_type": "markdown",
   "id": "c0ec6a04",
   "metadata": {},
   "source": [
    "<U>Expected Output</U>:  "
   ]
  },
  {
   "cell_type": "markdown",
   "id": "d12ef511",
   "metadata": {},
   "source": [
    "<pre style=\"margin: 0; padding=0\"><DIV style=\"font-family: Courier; border: 1px solid #dbdbdb; padding: 7px\">[4, 5, 11]</DIV></pre>"
   ]
  },
  {
   "cell_type": "markdown",
   "id": "4cef6ecc",
   "metadata": {},
   "source": [
    " "
   ]
  },
  {
   "cell_type": "markdown",
   "id": "8dee7905",
   "metadata": {},
   "source": [
    "<div style=\"background-color: #ccffcc; padding: 10px; border: 2px solid green\"><B>4.8:  Show the average of the values in this list.  </B></div>"
   ]
  },
  {
   "cell_type": "code",
   "execution_count": null,
   "id": "bb970840",
   "metadata": {},
   "outputs": [],
   "source": [
    "x = [8, 1, 0, 2, 23, 4, 5, 11]\n",
    "\n"
   ]
  },
  {
   "cell_type": "markdown",
   "id": "187aa0d9",
   "metadata": {},
   "source": [
    "<U>Expected Output</U>:  "
   ]
  },
  {
   "cell_type": "markdown",
   "id": "1ae3d7f8",
   "metadata": {},
   "source": [
    "<pre style=\"margin: 0; padding=0\"><DIV style=\"font-family: Courier; border: 1px solid #dbdbdb; padding: 7px\">6.75</DIV></pre>"
   ]
  },
  {
   "cell_type": "markdown",
   "id": "eb558e87",
   "metadata": {},
   "source": [
    " "
   ]
  },
  {
   "cell_type": "markdown",
   "id": "c2216728",
   "metadata": {},
   "source": [
    "<div style=\"background-color: #ccffcc; padding: 10px; border: 2px solid green\"><B>4.9:  Find highest and lowest values in a list.  </B></div>"
   ]
  },
  {
   "cell_type": "markdown",
   "id": "0d573f75",
   "metadata": {},
   "source": [
    "In two simple statements (not using subscripting or <B>sorted()</B>), find the highest value and lowest value in this list.  Print each value.\n"
   ]
  },
  {
   "cell_type": "code",
   "execution_count": null,
   "id": "835ef2b5",
   "metadata": {},
   "outputs": [],
   "source": [
    "x = [8, 1, 0, 2, 23, 4, 5, 11]\n",
    "\n"
   ]
  },
  {
   "cell_type": "markdown",
   "id": "26c2fa02",
   "metadata": {},
   "source": [
    "<U>Expected Output</U>:  "
   ]
  },
  {
   "cell_type": "markdown",
   "id": "7c8912dd",
   "metadata": {},
   "source": [
    "<pre style=\"margin: 0; padding=0\"><DIV style=\"font-family: Courier; border: 1px solid #dbdbdb; padding: 7px\">23\n",
    "0</DIV></pre>"
   ]
  },
  {
   "cell_type": "markdown",
   "id": "cbb84c82",
   "metadata": {},
   "source": [
    " "
   ]
  },
  {
   "cell_type": "markdown",
   "id": "118fe5de",
   "metadata": {},
   "source": [
    "<div style=\"background-color: #ccffcc; padding: 10px; border: 2px solid green\"><B>4.10:  Show the top 3 values in this list, sorted high-to-low.  </B></div>"
   ]
  },
  {
   "cell_type": "code",
   "execution_count": null,
   "id": "f41246bb",
   "metadata": {},
   "outputs": [],
   "source": [
    "x = [8, 1, 0, 2, 23, 4, 5, 11]\n",
    "\n"
   ]
  },
  {
   "cell_type": "markdown",
   "id": "c66c30e6",
   "metadata": {},
   "source": [
    "<U>Expected Output</U>:  "
   ]
  },
  {
   "cell_type": "markdown",
   "id": "c06ccad5",
   "metadata": {},
   "source": [
    "<pre style=\"margin: 0; padding=0\"><DIV style=\"font-family: Courier; border: 1px solid #dbdbdb; padding: 7px\">[23, 11, 8]</DIV></pre>"
   ]
  },
  {
   "cell_type": "markdown",
   "id": "f87dedc0",
   "metadata": {},
   "source": [
    " "
   ]
  },
  {
   "cell_type": "markdown",
   "id": "34d3b864",
   "metadata": {},
   "source": [
    "<div style=\"background-color: #ccffcc; padding: 10px; border: 2px solid green\"><B>4.11:  Show the bottom 3 values in this list, sorted low-to-high.  </B></div>"
   ]
  },
  {
   "cell_type": "code",
   "execution_count": null,
   "id": "d1bb23a2",
   "metadata": {},
   "outputs": [],
   "source": [
    "x = [8, 1, 0, 2, 23, 4, 5, 11]\n",
    "\n"
   ]
  },
  {
   "cell_type": "markdown",
   "id": "1e8ecf5e",
   "metadata": {},
   "source": [
    "<U>Expected Output</U>:  "
   ]
  },
  {
   "cell_type": "markdown",
   "id": "1db2489d",
   "metadata": {},
   "source": [
    "<pre style=\"margin: 0; padding=0\"><DIV style=\"font-family: Courier; border: 1px solid #dbdbdb; padding: 7px\">[0, 1, 2]</DIV></pre>"
   ]
  },
  {
   "cell_type": "markdown",
   "id": "e42d1b3c",
   "metadata": {},
   "source": [
    " "
   ]
  },
  {
   "cell_type": "markdown",
   "id": "3b39afb4",
   "metadata": {},
   "source": [
    "<div style=\"background-color: #ccffcc; padding: 10px; border: 2px solid green\"><B>4.12:  Show the 3rd highest value in this list.  </B></div>"
   ]
  },
  {
   "cell_type": "code",
   "execution_count": null,
   "id": "84a0afa9",
   "metadata": {},
   "outputs": [],
   "source": [
    "x = [8, 1, 0, 2, 23, 4, 5, 11]\n",
    "\n"
   ]
  },
  {
   "cell_type": "markdown",
   "id": "43d9a097",
   "metadata": {},
   "source": [
    "<U>Expected Output</U>:  "
   ]
  },
  {
   "cell_type": "markdown",
   "id": "b1f04345",
   "metadata": {},
   "source": [
    "<pre style=\"margin: 0; padding=0\"><DIV style=\"font-family: Courier; border: 1px solid #dbdbdb; padding: 7px\">8</DIV></pre>"
   ]
  },
  {
   "cell_type": "markdown",
   "id": "d1ddba08",
   "metadata": {},
   "source": [
    " "
   ]
  },
  {
   "cell_type": "markdown",
   "id": "48a73a23",
   "metadata": {},
   "source": [
    "<div style=\"background-color: #ccffcc; padding: 10px; border: 2px solid green\"><B>4.13:  Show the average of the top 50% of values in this list.  </B></div>"
   ]
  },
  {
   "cell_type": "code",
   "execution_count": null,
   "id": "1ac95b16",
   "metadata": {},
   "outputs": [],
   "source": [
    "x = [8, 1, 0, 2, 23, 4, 5, 11]\n",
    "\n"
   ]
  },
  {
   "cell_type": "markdown",
   "id": "374890dd",
   "metadata": {},
   "source": [
    "<U>Expected Output</U>:  "
   ]
  },
  {
   "cell_type": "markdown",
   "id": "b8d9c16e",
   "metadata": {},
   "source": [
    "<pre style=\"margin: 0; padding=0\"><DIV style=\"font-family: Courier; border: 1px solid #dbdbdb; padding: 7px\">11.75</DIV></pre>"
   ]
  },
  {
   "cell_type": "markdown",
   "id": "b3144362",
   "metadata": {},
   "source": [
    " "
   ]
  },
  {
   "cell_type": "markdown",
   "id": "3d06446e",
   "metadata": {},
   "source": [
    "LISTS - BUILDING FROM FILE"
   ]
  },
  {
   "cell_type": "markdown",
   "id": "96fdb69a",
   "metadata": {},
   "source": [
    "<B>4.14:  <B><U>Initialize an empty list</U></B>.  </B>"
   ]
  },
  {
   "cell_type": "markdown",
   "id": "8037788b",
   "metadata": {},
   "source": [
    "After initializing, check its length.\n"
   ]
  },
  {
   "cell_type": "code",
   "execution_count": null,
   "id": "4c98196e",
   "metadata": {},
   "outputs": [],
   "source": [
    "\n"
   ]
  },
  {
   "cell_type": "markdown",
   "id": "3734ae36",
   "metadata": {},
   "source": [
    "<U>Expected Output</U>:  "
   ]
  },
  {
   "cell_type": "markdown",
   "id": "975137c1",
   "metadata": {},
   "source": [
    "<pre style=\"margin: 0; padding=0\"><DIV style=\"font-family: Courier; border: 1px solid #dbdbdb; padding: 7px\">0</DIV></pre>"
   ]
  },
  {
   "cell_type": "markdown",
   "id": "12f74abb",
   "metadata": {},
   "source": [
    " "
   ]
  },
  {
   "cell_type": "markdown",
   "id": "b958b219",
   "metadata": {},
   "source": [
    "<B>4.15:  <B><U>Add to a list using <B>.append()</B></U></B>.  </B>"
   ]
  },
  {
   "cell_type": "markdown",
   "id": "1fcb7b6d",
   "metadata": {},
   "source": [
    "In two statements, append two items <B>5.5</B> and <B>5.6</B> to your list, then print the entire list to show that the two items have been added.\n"
   ]
  },
  {
   "cell_type": "code",
   "execution_count": null,
   "id": "e7b9e289",
   "metadata": {},
   "outputs": [],
   "source": [
    "x = [3.3, 1.1, 4.4, 2.2]\n",
    "\n"
   ]
  },
  {
   "cell_type": "markdown",
   "id": "b3e29706",
   "metadata": {},
   "source": [
    "<U>Expected Output</U>:  "
   ]
  },
  {
   "cell_type": "markdown",
   "id": "6f674fc9",
   "metadata": {},
   "source": [
    "<pre style=\"margin: 0; padding=0\"><DIV style=\"font-family: Courier; border: 1px solid #dbdbdb; padding: 7px\">[3.3, 1.1, 4.4, 2.2, 5.5, 6.6]</DIV></pre>"
   ]
  },
  {
   "cell_type": "markdown",
   "id": "8a184ab4",
   "metadata": {},
   "source": [
    " "
   ]
  },
  {
   "cell_type": "markdown",
   "id": "04322ef4",
   "metadata": {},
   "source": [
    "<B>4.16:  <B><U>Review:  loop through a list</U>.</B></B>"
   ]
  },
  {
   "cell_type": "code",
   "execution_count": null,
   "id": "d2c4a417",
   "metadata": {},
   "outputs": [],
   "source": [
    "x = [3.3, 1.1, 4.4, 2.2]\n",
    "\n",
    "# loop through the list and print each item individually (use 'for')\n",
    "\n"
   ]
  },
  {
   "cell_type": "markdown",
   "id": "49464c37",
   "metadata": {},
   "source": [
    "<U>Expected Output</U>:  "
   ]
  },
  {
   "cell_type": "markdown",
   "id": "9c9b76fc",
   "metadata": {},
   "source": [
    "<pre style=\"margin: 0; padding=0\"><DIV style=\"font-family: Courier; border: 1px solid #dbdbdb; padding: 7px\">3.3\n",
    "1.1\n",
    "4.4\n",
    "2.2</DIV></pre>"
   ]
  },
  {
   "cell_type": "markdown",
   "id": "0987cd76",
   "metadata": {},
   "source": [
    " "
   ]
  },
  {
   "cell_type": "markdown",
   "id": "0ca689c0",
   "metadata": {},
   "source": [
    "<B>4.17:  <B><U>Build a list of items from a CSV file</U>.</B>  </B>"
   ]
  },
  {
   "cell_type": "markdown",
   "id": "5b52119f",
   "metadata": {},
   "source": [
    "Begin by reviewing and running the below code.  Taking a look at file <B>revenue.csv</B>, build up a list of the float values in that file.\n"
   ]
  },
  {
   "cell_type": "code",
   "execution_count": null,
   "id": "111510e9",
   "metadata": {},
   "outputs": [],
   "source": [
    "fh = open('../revenue.csv')\n",
    "\n",
    "fvals = []\n",
    "\n",
    "for line in fh:\n",
    "    line = line.rstrip()\n",
    "    items = line.split(',')\n",
    "    print(items)\n",
    "\n",
    "\n",
    "fh.close()"
   ]
  },
  {
   "cell_type": "markdown",
   "id": "e6c06226",
   "metadata": {},
   "source": [
    "<U>Expected Output</U>:  "
   ]
  },
  {
   "cell_type": "markdown",
   "id": "2dc83002",
   "metadata": {},
   "source": [
    "<pre style=\"margin: 0; padding=0\"><DIV style=\"font-family: Courier; border: 1px solid #dbdbdb; padding: 7px\">[239.5, 53.9, 211.5, 11.98, 5.98, 23.95, 115.2]</DIV></pre>"
   ]
  },
  {
   "cell_type": "markdown",
   "id": "47c9770d",
   "metadata": {},
   "source": [
    " "
   ]
  },
  {
   "cell_type": "markdown",
   "id": "f4a35ec3",
   "metadata": {},
   "source": [
    "LAB 2"
   ]
  },
  {
   "cell_type": "markdown",
   "id": "bc3fcacb",
   "metadata": {},
   "source": [
    "<div style=\"background-color: #ccffcc; padding: 10px; border: 2px solid green\"><B>4.18:  Review:  loop through a file.  </B></div>"
   ]
  },
  {
   "cell_type": "markdown",
   "id": "bceb6597",
   "metadata": {},
   "source": [
    "Open the below file, then use the <B>next()</B> function with the file object to skip the first line of the file.  Strip and print each line.\n"
   ]
  },
  {
   "cell_type": "code",
   "execution_count": null,
   "id": "1176774a",
   "metadata": {},
   "outputs": [],
   "source": [
    "filename = '../student_db.txt'\n",
    "\n",
    "# open file\n",
    "\n",
    "\n",
    "# skip the first line of the file (use next())\n",
    "\n",
    "\n",
    "# loop through file line-by-line\n",
    "\n",
    "\n",
    "    # strip each line\n",
    "\n",
    "\n",
    "    # print each line\n",
    "\n"
   ]
  },
  {
   "cell_type": "markdown",
   "id": "2a04a2e5",
   "metadata": {},
   "source": [
    "<U>Expected Output</U>:  "
   ]
  },
  {
   "cell_type": "markdown",
   "id": "7b16f909",
   "metadata": {},
   "source": [
    "<pre style=\"margin: 0; padding=0\"><DIV style=\"font-family: Courier; border: 1px solid #dbdbdb; padding: 7px\">jk43:23 Marfield Lane:Plainview:NY:10024\n",
    "axe99:315 W. 115th Street, Apt. 11B:New York:NY:10027\n",
    "jab44:23 Rivington Street, Apt. 3R:New York:NY:10002\n",
    "ak9:234 Main Street:Philadelphia:PA:08990\n",
    "ap172:19 Boxer Rd.:New York:NY:10005\n",
    "jb23:115 Karas Dr.:Jersey City:NJ:07127\n",
    "jb29:119 Xylon Dr.:Jersey City:NJ:07127</DIV></pre>"
   ]
  },
  {
   "cell_type": "markdown",
   "id": "e5981292",
   "metadata": {},
   "source": [
    "Note that the header (<B>id:address:city:state:zip</B>) has been skipped with <B>next()</B>."
   ]
  },
  {
   "cell_type": "markdown",
   "id": "fc22c4c5",
   "metadata": {},
   "source": [
    " "
   ]
  },
  {
   "cell_type": "markdown",
   "id": "d9e06814",
   "metadata": {},
   "source": [
    "<div style=\"background-color: #ccffcc; padding: 10px; border: 2px solid green\"><B>4.19:  Review:  loop through a file and split out values.  </B></div>"
   ]
  },
  {
   "cell_type": "markdown",
   "id": "b176f635",
   "metadata": {},
   "source": [
    "Continuing the previous exercise, split each line and print the list split from each line.\n"
   ]
  },
  {
   "cell_type": "code",
   "execution_count": null,
   "id": "4a32de34",
   "metadata": {},
   "outputs": [],
   "source": [
    "filename = '../student_db.txt'\n",
    "\n",
    "fh = open(filename)\n",
    "\n",
    "next(fh)  # skip the first line of the file (use next())\n",
    "\n",
    "for line in fh:\n",
    "\n",
    "    line = line.rstrip()\n",
    "\n",
    "    # your code here -- remember that this file is colon-separated\n",
    "\n"
   ]
  },
  {
   "cell_type": "markdown",
   "id": "04780dbe",
   "metadata": {},
   "source": [
    "<U>Expected Output</U>:  "
   ]
  },
  {
   "cell_type": "markdown",
   "id": "50fda4c0",
   "metadata": {},
   "source": [
    "<pre style=\"margin: 0; padding=0\"><DIV style=\"font-family: Courier; border: 1px solid #dbdbdb; padding: 7px\">['jk43', '23 Marfield Lane', 'Plainview', 'NY', '10024']\n",
    "['axe99', '315 W. 115th Street, Apt. 11B', 'New York', 'NY', '10027']\n",
    "['jab44', '23 Rivington Street, Apt. 3R', 'New York', 'NY', '10002']\n",
    "['ak9', '234 Main Street', 'Philadelphia', 'PA', '08990']\n",
    "['ap172', '19 Boxer Rd.', 'New York', 'NY', '10005']\n",
    "['jb23', '115 Karas Dr.', 'Jersey City', 'NJ', '07127']\n",
    "['jb29', '119 Xylon Dr.', 'Jersey City', 'NJ', '07127']</DIV></pre>"
   ]
  },
  {
   "cell_type": "markdown",
   "id": "479f2791",
   "metadata": {},
   "source": [
    " "
   ]
  },
  {
   "cell_type": "markdown",
   "id": "0d369eaa",
   "metadata": {},
   "source": [
    "<div style=\"background-color: #ccffcc; padding: 10px; border: 2px solid green\"><B>4.20:  Compile a list of values from file lines.    </B></div>"
   ]
  },
  {
   "cell_type": "markdown",
   "id": "a29cbdf7",
   "metadata": {},
   "source": [
    "Build a list of student ids (first field) from <B>student\\_db.txt</B>.\n",
    "\n",
    "See comment below for how to skip header.\n"
   ]
  },
  {
   "cell_type": "code",
   "execution_count": null,
   "id": "2569b9d0",
   "metadata": {},
   "outputs": [],
   "source": [
    "filename = '../student_db.txt'\n",
    "\n",
    "fh = open(filename)\n",
    "\n",
    "next(fh)             # skip the first line of the file\n",
    "\n",
    "for line in fh:\n",
    "\n",
    "    line = line.rstrip()\n",
    "\n",
    "    items = line.split(':')\n",
    "\n"
   ]
  },
  {
   "cell_type": "markdown",
   "id": "0e463627",
   "metadata": {},
   "source": [
    "<U>Expected Output</U>:  "
   ]
  },
  {
   "cell_type": "markdown",
   "id": "4933ea90",
   "metadata": {},
   "source": [
    "<pre style=\"margin: 0; padding=0\"><DIV style=\"font-family: Courier; border: 1px solid #dbdbdb; padding: 7px\">['jk43', 'axe99', 'jab44', 'ak9', 'ap172', 'jb23', 'jb29']</DIV></pre>"
   ]
  },
  {
   "cell_type": "markdown",
   "id": "71a6d479",
   "metadata": {},
   "source": [
    "Note:  don't forget that <B>student\\_db.txt</B> is colon-separated."
   ]
  },
  {
   "cell_type": "markdown",
   "id": "e15d56b8",
   "metadata": {},
   "source": [
    " "
   ]
  },
  {
   "cell_type": "markdown",
   "id": "c9336bba",
   "metadata": {},
   "source": [
    "<div style=\"background-color: #ccffcc; padding: 10px; border: 2px solid green\"><B>4.21:  Calculate on average of values from a file.  </B></div>"
   ]
  },
  {
   "cell_type": "markdown",
   "id": "3ea7d81e",
   "metadata": {},
   "source": [
    "Show the average value from a list of the float values in file <B>revenue.csv</B>.\n"
   ]
  },
  {
   "cell_type": "code",
   "execution_count": null,
   "id": "48fcec77",
   "metadata": {},
   "outputs": [],
   "source": []
  },
  {
   "cell_type": "markdown",
   "id": "7bdf0c68",
   "metadata": {},
   "source": [
    "<U>Expected Output</U>:  "
   ]
  },
  {
   "cell_type": "markdown",
   "id": "3de1a15d",
   "metadata": {},
   "source": [
    "<pre style=\"margin: 0; padding=0\"><DIV style=\"font-family: Courier; border: 1px solid #dbdbdb; padding: 7px\">94.57285714285716</DIV></pre>"
   ]
  },
  {
   "cell_type": "markdown",
   "id": "587579c2",
   "metadata": {},
   "source": [
    " "
   ]
  },
  {
   "cell_type": "markdown",
   "id": "e86dc04b",
   "metadata": {},
   "source": [
    "<div style=\"background-color: #ccffcc; padding: 10px; border: 2px solid green\"><B>4.22:  Show the top 3 values from the last column in <B>dated\\_file.csv</B>.  </B></div>"
   ]
  },
  {
   "cell_type": "code",
   "execution_count": null,
   "id": "4f65bcea",
   "metadata": {},
   "outputs": [],
   "source": []
  },
  {
   "cell_type": "markdown",
   "id": "5f1227ab",
   "metadata": {},
   "source": [
    "<U>Expected Output</U>:  "
   ]
  },
  {
   "cell_type": "markdown",
   "id": "ee1b9cd7",
   "metadata": {},
   "source": [
    "<pre style=\"margin: 0; padding=0\"><DIV style=\"font-family: Courier; border: 1px solid #dbdbdb; padding: 7px\">[28.3, 23.85, 19.09]</DIV></pre>"
   ]
  },
  {
   "cell_type": "markdown",
   "id": "fbbae130",
   "metadata": {},
   "source": [
    " "
   ]
  },
  {
   "cell_type": "markdown",
   "id": "980e8904",
   "metadata": {},
   "source": [
    "<div style=\"background-color: #ccffcc; padding: 10px; border: 2px solid green\"><B>4.23:  Show the average of the top 25% of values in <B>dated\\_file.csv</B>.  </B></div>"
   ]
  },
  {
   "cell_type": "code",
   "execution_count": null,
   "id": "a0501a43",
   "metadata": {},
   "outputs": [],
   "source": []
  },
  {
   "cell_type": "markdown",
   "id": "8778edec",
   "metadata": {},
   "source": [
    "<U>Expected Output</U>:  "
   ]
  },
  {
   "cell_type": "markdown",
   "id": "c710df7f",
   "metadata": {},
   "source": [
    "<pre style=\"margin: 0; padding=0\"><DIV style=\"font-family: Courier; border: 1px solid #dbdbdb; padding: 7px\">26.075000000000003</DIV></pre>"
   ]
  },
  {
   "cell_type": "markdown",
   "id": "26ed8896",
   "metadata": {},
   "source": [
    " "
   ]
  },
  {
   "cell_type": "markdown",
   "id": "8fc54171",
   "metadata": {},
   "source": [
    "TUPLES - LIKE A LIST, BUT READ-ONLY"
   ]
  },
  {
   "cell_type": "markdown",
   "id": "6e9e3cb5",
   "metadata": {},
   "source": [
    "<B>4.24:  <B><U>Compare a tuple to a list</U>.</B>  </B>"
   ]
  },
  {
   "cell_type": "markdown",
   "id": "360c85c9",
   "metadata": {},
   "source": [
    "Given the below code which shows several operations that are possible with a list, change the list to a tuple (replace the square brackets with parentheses in the first line) and re-run the code to see what operations may be possible with a tuple.\n",
    "\n",
    "(Note:  spaces inside {} are included for clarity.)\n"
   ]
  },
  {
   "cell_type": "code",
   "execution_count": null,
   "id": "e6954cc8",
   "metadata": {},
   "outputs": [],
   "source": [
    "myseq = [3, 1, 5, 9, 7, 11]\n",
    "\n",
    "print(f'the sequence:  {  myseq  }')\n",
    "\n",
    "print(f'last item:     {  myseq[-1]  }')\n",
    "\n",
    "print(f'first 3 items: {  myseq[0:3] }')\n",
    "\n",
    "print(f'last 3 items:  {  myseq[-3:]  }')\n",
    "\n",
    "print(f'# of items:    {  len(myseq) }')\n",
    "\n",
    "print(f'maximum value: {  max(myseq) }')\n",
    "\n",
    "print(f'minimum value: {  min(myseq) }')\n",
    "\n",
    "print('each item in sequence:')\n",
    "for item in myseq:\n",
    "    print(item)\n",
    "print()\n",
    "\n",
    "print(f'sorted:        {  sorted(myseq)  }')\n",
    "\n",
    "print('appending to sequence: ')\n",
    "myseq.append(99)\n",
    "print(myseq)"
   ]
  },
  {
   "cell_type": "markdown",
   "id": "ab782e57",
   "metadata": {},
   "source": [
    " "
   ]
  },
  {
   "cell_type": "markdown",
   "id": "5b6e110c",
   "metadata": {},
   "source": [
    "SETS - BUILDING AND READING"
   ]
  },
  {
   "cell_type": "markdown",
   "id": "c62abfeb",
   "metadata": {},
   "source": [
    "<B>4.25:  <B><U>Compare a set to a list</U>.</B>  </B>"
   ]
  },
  {
   "cell_type": "markdown",
   "id": "8c42468d",
   "metadata": {},
   "source": [
    "Given the below code which shows several operations that are possible with a list, change the list to a set (replace the square brackets with curly braces in the first line) and re-run the code to see what operations may be possible with a tuple.\n",
    "\n",
    "(Note:  spaces inside {} are included for clarity.)\n"
   ]
  },
  {
   "cell_type": "code",
   "execution_count": null,
   "id": "9152ae1f",
   "metadata": {},
   "outputs": [],
   "source": [
    "myseq = [3, 1, 5, 9, 7, 11]\n",
    "\n",
    "print(f'the sequence:  {  myseq  }')\n",
    "\n",
    "print(f'last item:     {  myseq[-1]  }')\n",
    "\n",
    "print(f'first 3 items: {  myseq[0:3] }')\n",
    "\n",
    "print(f'last 3 items:  {  myseq[-3:]  }')\n",
    "\n",
    "print(f'# of items:    {  len(myseq) }')\n",
    "\n",
    "print(f'maximum value: {  max(myseq) }')\n",
    "\n",
    "print(f'minimum value: {  min(myseq) }')\n",
    "\n",
    "print('each item in sequence:')\n",
    "for item in myseq:\n",
    "    print(item)\n",
    "print()\n",
    "\n",
    "print(f'sorted:        {  sorted(myseq)  }')\n",
    "\n",
    "print('appending to sequence: ')\n",
    "myseq.append(99)"
   ]
  },
  {
   "cell_type": "markdown",
   "id": "59aaa178",
   "metadata": {},
   "source": [
    " "
   ]
  },
  {
   "cell_type": "markdown",
   "id": "3591895d",
   "metadata": {},
   "source": [
    "SETS - BUILDING FROM FILE"
   ]
  },
  {
   "cell_type": "markdown",
   "id": "45f6c5d6",
   "metadata": {},
   "source": [
    "<B>4.26:  <B><U>Initialize a set</U>.</B>  </B>"
   ]
  },
  {
   "cell_type": "markdown",
   "id": "c55a94cd",
   "metadata": {},
   "source": [
    "Initialize a new set of 7-10 string and number values (make sure to include both).  Use .add() to add one new, and one repeat value to the set.  Print the set to see its contents.\n"
   ]
  },
  {
   "cell_type": "code",
   "execution_count": null,
   "id": "15fa9678",
   "metadata": {},
   "outputs": [],
   "source": []
  },
  {
   "cell_type": "markdown",
   "id": "c49c7638",
   "metadata": {},
   "source": [
    "After executing, execute several more times, making note if the output changes.\n",
    "\n",
    "PLEASE NOTE that the order of the printed set is expected to change but that this apparently does not happen in Jupyter.  Run this code in PyCharm or other IDE to see the effect - the set's order changes every time you run the program."
   ]
  },
  {
   "cell_type": "markdown",
   "id": "cae3716a",
   "metadata": {},
   "source": [
    " "
   ]
  },
  {
   "cell_type": "markdown",
   "id": "f75ad302",
   "metadata": {},
   "source": [
    "<B>4.27:  <B><U>Check for item membership in a set</U>.</B>  </B>"
   ]
  },
  {
   "cell_type": "markdown",
   "id": "2e41e494",
   "metadata": {},
   "source": [
    "Check to see if the user's input value is in the set.  If it is print 'found it', otherwise print 'not found'.\n"
   ]
  },
  {
   "cell_type": "code",
   "execution_count": null,
   "id": "310fdd51",
   "metadata": {},
   "outputs": [],
   "source": [
    "# set of 4 items\n",
    "x = {'a', 'b', 'c', 'd'}\n",
    "\n",
    "\n",
    "item = input('check for an item:  ')\n",
    "\n",
    "# your code here"
   ]
  },
  {
   "cell_type": "markdown",
   "id": "5152112c",
   "metadata": {},
   "source": [
    " "
   ]
  },
  {
   "cell_type": "markdown",
   "id": "edda0ff0",
   "metadata": {},
   "source": [
    "<B>4.28:  <B><U>Build a set of items from a CSV file</U>.</B>  </B>"
   ]
  },
  {
   "cell_type": "markdown",
   "id": "894d42c0",
   "metadata": {},
   "source": [
    "Loop through the file <B>revenue.csv</B> and create a set of states drawn from the 2nd column of the file.\n"
   ]
  },
  {
   "cell_type": "code",
   "execution_count": null,
   "id": "59fb6513",
   "metadata": {},
   "outputs": [],
   "source": [
    "fh = open('../revenue.csv')\n",
    "\n",
    "states = set()       # the only way to initialize an empty set\n",
    "\n",
    "for line in fh:\n",
    "    items = line.split(',')\n",
    "\n",
    "\n",
    "fh.close()\n",
    "\n",
    "print(states)"
   ]
  },
  {
   "cell_type": "markdown",
   "id": "ceec7a98",
   "metadata": {},
   "source": [
    "<U>Expected Output</U>:  "
   ]
  },
  {
   "cell_type": "markdown",
   "id": "7434a953",
   "metadata": {},
   "source": [
    "<pre style=\"margin: 0; padding=0\"><DIV style=\"font-family: Courier; border: 1px solid #dbdbdb; padding: 7px\">{'PA', 'NY', 'NJ'}</DIV></pre>"
   ]
  },
  {
   "cell_type": "markdown",
   "id": "47027eb4",
   "metadata": {},
   "source": [
    "<U>Note</U>:  your set may display in any order."
   ]
  },
  {
   "cell_type": "markdown",
   "id": "8f14dcd5",
   "metadata": {},
   "source": [
    " "
   ]
  },
  {
   "cell_type": "markdown",
   "id": "91d53b61",
   "metadata": {},
   "source": [
    "LAB 3"
   ]
  },
  {
   "cell_type": "markdown",
   "id": "8b24ba1a",
   "metadata": {},
   "source": [
    "<div style=\"background-color: #ccffcc; padding: 10px; border: 2px solid green\"><B>4.29:  Show a set of unique cities in <B>student\\_db.txt</B>.  </B></div>"
   ]
  },
  {
   "cell_type": "markdown",
   "id": "42ff79fb",
   "metadata": {},
   "source": [
    "You can begin by running the below code, which opens the file, advances one line, then loops through each line and splits the line."
   ]
  },
  {
   "cell_type": "code",
   "execution_count": null,
   "id": "68448ede",
   "metadata": {},
   "outputs": [],
   "source": [
    "filename = '../student_db.txt'\n",
    "\n",
    "fh = open(filename)\n",
    "next(fh)\n",
    "\n",
    "for line in fh:\n",
    "    items = line.split(':')\n",
    "    print(items)\n",
    "\n"
   ]
  },
  {
   "cell_type": "markdown",
   "id": "a3df2300",
   "metadata": {},
   "source": [
    "<U>Expected Output</U>:  "
   ]
  },
  {
   "cell_type": "markdown",
   "id": "1786b02c",
   "metadata": {},
   "source": [
    "<pre style=\"margin: 0; padding=0\"><DIV style=\"font-family: Courier; border: 1px solid #dbdbdb; padding: 7px\">{'Plainview', 'Philadelphia', 'New York', 'Jersey City'}</DIV></pre>"
   ]
  },
  {
   "cell_type": "markdown",
   "id": "b4099715",
   "metadata": {},
   "source": [
    "<U>Note</U>:  don't forget that <B>student\\_db.txt</B> is colon-separated, and that you must use <B>next(fh)</B> (where <B>fh</B> is the file object) to skip the header row of this file."
   ]
  },
  {
   "cell_type": "markdown",
   "id": "dff59c5c",
   "metadata": {},
   "source": [
    " "
   ]
  },
  {
   "cell_type": "markdown",
   "id": "1cd0dbb5",
   "metadata": {},
   "source": [
    "<div style=\"background-color: #ccffcc; padding: 10px; border: 2px solid green\"><B>4.30:  Print only those lines of <B>revenue.csv</B> where the state can be found in the set of wanted states.  </B></div>"
   ]
  },
  {
   "cell_type": "code",
   "execution_count": null,
   "id": "beadd8b4",
   "metadata": {},
   "outputs": [],
   "source": [
    "wanted = {'NJ', 'PA'}\n"
   ]
  },
  {
   "cell_type": "markdown",
   "id": "61c74625",
   "metadata": {},
   "source": [
    "<U>Expected Output</U>:  "
   ]
  },
  {
   "cell_type": "markdown",
   "id": "6cb25853",
   "metadata": {},
   "source": [
    "<pre style=\"margin: 0; padding=0\"><DIV style=\"font-family: Courier; border: 1px solid #dbdbdb; padding: 7px\">Haddad's,PA,239.50\n",
    "Westfield,NJ,53.90\n",
    "The Store,NJ,211.50\n",
    "Awful's,PA,23.95</DIV></pre>"
   ]
  },
  {
   "cell_type": "markdown",
   "id": "24f3b933",
   "metadata": {},
   "source": [
    " "
   ]
  },
  {
   "cell_type": "markdown",
   "id": "4701798b",
   "metadata": {},
   "source": [
    "<div style=\"background-color: #ccffcc; padding: 10px; border: 2px solid green\"><B>4.31:  Collect a list of float values from <B>revenue.csv</B> from only those rows where the state can be found in the set of wanted states.  </B></div>"
   ]
  },
  {
   "cell_type": "code",
   "execution_count": null,
   "id": "c069a0c5",
   "metadata": {},
   "outputs": [],
   "source": [
    "wanted = {'NY', 'PA'}\n"
   ]
  },
  {
   "cell_type": "markdown",
   "id": "9cfc1d69",
   "metadata": {},
   "source": [
    "<U>Expected Output</U>:  "
   ]
  },
  {
   "cell_type": "markdown",
   "id": "dc0e5493",
   "metadata": {},
   "source": [
    "<pre style=\"margin: 0; padding=0\"><DIV style=\"font-family: Courier; border: 1px solid #dbdbdb; padding: 7px\">[239.5, 53.9, 211.5, 23.95]</DIV></pre>"
   ]
  },
  {
   "cell_type": "markdown",
   "id": "9f199f51",
   "metadata": {},
   "source": [
    " "
   ]
  },
  {
   "cell_type": "markdown",
   "id": "c0fbcc04",
   "metadata": {},
   "source": [
    "\"WHOLE FILE\" PARSING"
   ]
  },
  {
   "cell_type": "markdown",
   "id": "1e95f0b0",
   "metadata": {},
   "source": [
    "<B>4.32:  <B><U>Split a string into lines with .splitlines()</U></B>.  </B>"
   ]
  },
  {
   "cell_type": "markdown",
   "id": "3de48dee",
   "metadata": {},
   "source": [
    "Perform the operations below.\n",
    "\n"
   ]
  },
  {
   "cell_type": "code",
   "execution_count": null,
   "id": "d0b261ec",
   "metadata": {},
   "outputs": [],
   "source": [
    "# split the below multi-line string into a list of string\n",
    "# lines (use .splitlines()), and print the lines\n",
    "\n",
    "text = \"\"\"this is a line\n",
    "this is another line\n",
    "this is another line\"\"\"\n",
    "\n",
    "\n",
    "\n",
    "\n",
    "print()\n",
    "\n",
    "# read file 'pyku.txt' as a single string using .read()\n",
    "# split the string into a list of strings lines as in previous\n",
    "filename = '../pyku.txt'\n",
    "\n",
    "fh = open(filename)\n",
    "\n"
   ]
  },
  {
   "cell_type": "markdown",
   "id": "fa711ca0",
   "metadata": {},
   "source": [
    "<U>Expected Output</U>:  "
   ]
  },
  {
   "cell_type": "markdown",
   "id": "93762a03",
   "metadata": {},
   "source": [
    "<pre style=\"margin: 0; padding=0\"><DIV style=\"font-family: Courier; border: 1px solid #dbdbdb; padding: 7px\">['this is a line', 'this is another line',\n",
    " 'this is another line']\n",
    "\n",
    "[\"We're out of gouda.\", 'This parrot has ceased to be.',\n",
    " 'Spam, spam, spam, spam, spam.']</DIV></pre>"
   ]
  },
  {
   "cell_type": "markdown",
   "id": "b052df7c",
   "metadata": {},
   "source": [
    " "
   ]
  },
  {
   "cell_type": "markdown",
   "id": "2bdacdad",
   "metadata": {},
   "source": [
    "<B>4.33:  <B><U>Split a file as a list of words</U>.</B>  </B>"
   ]
  },
  {
   "cell_type": "markdown",
   "id": "87031ec3",
   "metadata": {},
   "source": [
    "Read 'pyku.txt' as a single string; use .split() to split into words.  Print the words.\n"
   ]
  },
  {
   "cell_type": "code",
   "execution_count": null,
   "id": "75de26f4",
   "metadata": {},
   "outputs": [],
   "source": [
    "filename = '../pyku.txt'\n",
    "\n",
    "fh = open(filename)\n"
   ]
  },
  {
   "cell_type": "markdown",
   "id": "56d1f3ab",
   "metadata": {},
   "source": [
    "<U>Expected Output</U>:  "
   ]
  },
  {
   "cell_type": "markdown",
   "id": "eba37fef",
   "metadata": {},
   "source": [
    "<pre style=\"margin: 0; padding=0\"><DIV style=\"font-family: Courier; border: 1px solid #dbdbdb; padding: 7px\">[\"We're\", 'out', 'of', 'gouda.', 'This', 'parrot', 'has',\n",
    " 'ceased', 'to', 'be.', 'Spam,', 'spam,', 'spam,', 'spam,',\n",
    " 'spam.']</DIV></pre>"
   ]
  },
  {
   "cell_type": "markdown",
   "id": "acaf7010",
   "metadata": {},
   "source": [
    " "
   ]
  },
  {
   "cell_type": "markdown",
   "id": "3821ee35",
   "metadata": {},
   "source": [
    "<B>4.34:  <B><U>Read a file as a list of string lines</U>.</B>  </B>"
   ]
  },
  {
   "cell_type": "markdown",
   "id": "4d9944ef",
   "metadata": {},
   "source": [
    "Read 'revenue.csv' as a list of strings (use .readlines()); print the list.  Then use a list slice to select only the 2nd through last lines of the file - print these as well.\n"
   ]
  },
  {
   "cell_type": "code",
   "execution_count": null,
   "id": "fce619fb",
   "metadata": {},
   "outputs": [],
   "source": [
    "filename = '../revenue.csv'\n",
    "\n",
    "fh = open(filename)\n",
    "\n"
   ]
  },
  {
   "cell_type": "markdown",
   "id": "fb865406",
   "metadata": {},
   "source": [
    "<U>Expected Output</U>:  "
   ]
  },
  {
   "cell_type": "markdown",
   "id": "7c5fcca2",
   "metadata": {},
   "source": [
    "<pre style=\"margin: 0; padding=0\"><DIV style=\"font-family: Courier; border: 1px solid #dbdbdb; padding: 7px\">[\"Haddad's,PA,239.50\\n\", 'Westfield,NJ,53.90\\n',\n",
    " 'The Store,NJ,211.50\\n', \"Hipster's,NY,11.98\\n\",\n",
    " 'Dothraki Fashions,NY,5.98\\n', \"Awful's,PA,23.95\\n\",\n",
    " 'The Clothiers,NY,115.20\\n']\n",
    "\n",
    "['Westfield,NJ,53.90\\n', 'The Store,NJ,211.50\\n',\n",
    " \"Hipster's,NY,11.98\\n\", 'Dothraki Fashions,NY,5.98\\n',\n",
    " \"Awful's,PA,23.95\\n\", 'The Clothiers,NY,115.20\\n']</DIV></pre>"
   ]
  },
  {
   "cell_type": "markdown",
   "id": "9ad2745e",
   "metadata": {},
   "source": [
    " "
   ]
  },
  {
   "cell_type": "markdown",
   "id": "1da8d17b",
   "metadata": {},
   "source": [
    "LAB 4"
   ]
  },
  {
   "cell_type": "markdown",
   "id": "0acf8949",
   "metadata": {},
   "source": [
    "<div style=\"background-color: #ccffcc; padding: 10px; border: 2px solid green\"><B>4.35:  Without looping, print the first and also the last line of <B>pyku.txt</B>.  </B></div>"
   ]
  },
  {
   "cell_type": "code",
   "execution_count": null,
   "id": "af41cfbd",
   "metadata": {},
   "outputs": [],
   "source": []
  },
  {
   "cell_type": "markdown",
   "id": "3ce65e0f",
   "metadata": {},
   "source": [
    "<U>Expected Output</U>:  "
   ]
  },
  {
   "cell_type": "markdown",
   "id": "950a27eb",
   "metadata": {},
   "source": [
    "<pre style=\"margin: 0; padding=0\"><DIV style=\"font-family: Courier; border: 1px solid #dbdbdb; padding: 7px\">We're out of gouda.\n",
    "\n",
    "Spam, spam, spam, spam, spam.\n",
    "</DIV></pre>"
   ]
  },
  {
   "cell_type": "markdown",
   "id": "c3823cca",
   "metadata": {},
   "source": [
    " "
   ]
  },
  {
   "cell_type": "markdown",
   "id": "fabc58db",
   "metadata": {},
   "source": [
    "<div style=\"background-color: #ccffcc; padding: 10px; border: 2px solid green\"><B>4.36:  Without looping, print the first word and also the last word of <B>pyku.txt</B>.  </B></div>"
   ]
  },
  {
   "cell_type": "code",
   "execution_count": null,
   "id": "86e7b297",
   "metadata": {},
   "outputs": [],
   "source": []
  },
  {
   "cell_type": "markdown",
   "id": "fa2f1cfc",
   "metadata": {},
   "source": [
    "<U>Expected Output</U>:  "
   ]
  },
  {
   "cell_type": "markdown",
   "id": "050c1623",
   "metadata": {},
   "source": [
    "<pre style=\"margin: 0; padding=0\"><DIV style=\"font-family: Courier; border: 1px solid #dbdbdb; padding: 7px\">We're\n",
    "spam.</DIV></pre>"
   ]
  },
  {
   "cell_type": "markdown",
   "id": "68b545c2",
   "metadata": {},
   "source": [
    " "
   ]
  },
  {
   "cell_type": "markdown",
   "id": "29e61eee",
   "metadata": {},
   "source": [
    "<div style=\"background-color: #ccffcc; padding: 10px; border: 2px solid green\"><B>4.37:  Without looping, print a slice of the 5th through 10th words of <B>pyku.txt</B>.  </B></div>"
   ]
  },
  {
   "cell_type": "code",
   "execution_count": null,
   "id": "b4ef6658",
   "metadata": {},
   "outputs": [],
   "source": []
  },
  {
   "cell_type": "markdown",
   "id": "3ce87a03",
   "metadata": {},
   "source": [
    "<U>Expected Output</U>:  "
   ]
  },
  {
   "cell_type": "markdown",
   "id": "a769d16d",
   "metadata": {},
   "source": [
    "<pre style=\"margin: 0; padding=0\"><DIV style=\"font-family: Courier; border: 1px solid #dbdbdb; padding: 7px\">['This', 'parrot', 'has', 'ceased', 'to', 'be.']</DIV></pre>"
   ]
  },
  {
   "cell_type": "markdown",
   "id": "1dab8b69",
   "metadata": {},
   "source": [
    " "
   ]
  },
  {
   "cell_type": "markdown",
   "id": "3d3b1eaa",
   "metadata": {},
   "source": [
    "<div style=\"background-color: #ccffcc; padding: 10px; border: 2px solid green\"><B>4.38:  Without looping, show how many words are in the first line of <B>pyku.txt</B>.  </B></div>"
   ]
  },
  {
   "cell_type": "code",
   "execution_count": null,
   "id": "4c74dad4",
   "metadata": {},
   "outputs": [],
   "source": []
  },
  {
   "cell_type": "markdown",
   "id": "6243b88b",
   "metadata": {},
   "source": [
    "<U>Expected Output</U>:  "
   ]
  },
  {
   "cell_type": "markdown",
   "id": "67352eb4",
   "metadata": {},
   "source": [
    "<pre style=\"margin: 0; padding=0\"><DIV style=\"font-family: Courier; border: 1px solid #dbdbdb; padding: 7px\">4</DIV></pre>"
   ]
  },
  {
   "cell_type": "markdown",
   "id": "9402ebc3",
   "metadata": {},
   "source": [
    " "
   ]
  },
  {
   "cell_type": "markdown",
   "id": "3e571968",
   "metadata": {},
   "source": [
    "<div style=\"background-color: #ccffcc; padding: 10px; border: 2px solid green\"><B>4.39:  Without looping, show how many characters are in the first line of <B>pyku.txt</B>.</B></div>"
   ]
  },
  {
   "cell_type": "code",
   "execution_count": null,
   "id": "b2f0ffd1",
   "metadata": {},
   "outputs": [],
   "source": []
  },
  {
   "cell_type": "markdown",
   "id": "135a4344",
   "metadata": {},
   "source": [
    "<U>Expected Output</U>:  "
   ]
  },
  {
   "cell_type": "markdown",
   "id": "fee0aa2a",
   "metadata": {},
   "source": [
    "<pre style=\"margin: 0; padding=0\"><DIV style=\"font-family: Courier; border: 1px solid #dbdbdb; padding: 7px\">20</DIV></pre>"
   ]
  },
  {
   "cell_type": "markdown",
   "id": "8b6716b9",
   "metadata": {},
   "source": [
    " "
   ]
  },
  {
   "cell_type": "markdown",
   "id": "fe68d3e1",
   "metadata": {},
   "source": [
    "<div style=\"background-color: #ccffcc; padding: 10px; border: 2px solid green\"><B>4.40:  Without looping, show how many lines are in <B>pyku.txt</B>.  </B></div>"
   ]
  },
  {
   "cell_type": "code",
   "execution_count": null,
   "id": "48e7d0bc",
   "metadata": {},
   "outputs": [],
   "source": []
  },
  {
   "cell_type": "markdown",
   "id": "c1110f56",
   "metadata": {},
   "source": [
    "<U>Expected Output</U>:  "
   ]
  },
  {
   "cell_type": "markdown",
   "id": "a774dc33",
   "metadata": {},
   "source": [
    "<pre style=\"margin: 0; padding=0\"><DIV style=\"font-family: Courier; border: 1px solid #dbdbdb; padding: 7px\">3</DIV></pre>"
   ]
  },
  {
   "cell_type": "markdown",
   "id": "53154ac3",
   "metadata": {},
   "source": [
    " "
   ]
  }
 ],
 "metadata": {},
 "nbformat": 4,
 "nbformat_minor": 5
}
