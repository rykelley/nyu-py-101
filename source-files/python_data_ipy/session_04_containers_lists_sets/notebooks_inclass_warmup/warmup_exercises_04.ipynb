{
 "cells": [
  {
   "cell_type": "markdown",
   "id": "abadd932",
   "metadata": {},
   "source": [
    "# Project Warmup Exercises, Session 4"
   ]
  },
  {
   "cell_type": "markdown",
   "id": "9d223cdd",
   "metadata": {},
   "source": [
    "EXERCISES RELATED TO list building assignment"
   ]
  },
  {
   "cell_type": "markdown",
   "id": "a4039d1d",
   "metadata": {},
   "source": [
    " "
   ]
  },
  {
   "cell_type": "markdown",
   "id": "d943d2d4",
   "metadata": {},
   "source": [
    "<B>4.1:  Create an empty list.  Opening and looping through the file student\\_db.txt, split each line into elements, and append just the state values (the 4th value in each row) to a list.  Print the list object.  (Hint:  make sure the list is initialized before the loop begins and is printed after the loop ends.  If either statement is found inside the loop, it will be executed multiple times.  </B>"
   ]
  },
  {
   "cell_type": "code",
   "execution_count": null,
   "id": "f1ba68b7",
   "metadata": {},
   "outputs": [],
   "source": []
  },
  {
   "cell_type": "markdown",
   "id": "ded144d0",
   "metadata": {},
   "source": [
    "<U>Expected Output</U>:  "
   ]
  },
  {
   "cell_type": "markdown",
   "id": "c0a9bb2f",
   "metadata": {},
   "source": [
    "<pre style=\"margin: 0; padding=0\"><DIV style=\"font-family: Courier; border: 1px solid #dbdbdb; padding: 7px\">['state', 'NY', 'NY', 'NY', 'PA', 'NY', 'NJ', 'NJ']</DIV></pre>"
   ]
  },
  {
   "cell_type": "markdown",
   "id": "f8aeb51c",
   "metadata": {},
   "source": [
    " "
   ]
  },
  {
   "cell_type": "markdown",
   "id": "444a4904",
   "metadata": {},
   "source": [
    "<B>4.2:  Extend the previous program by omitting the first line from the file.  One way to do this is to call <B>line = next(fh) on the file handle (assuming this is the variable name you used for the filehandle).  This should be done before the loop begins, and will advance the file pointer to the next line.  </B>"
   ]
  },
  {
   "cell_type": "code",
   "execution_count": null,
   "id": "ad4235bb",
   "metadata": {},
   "outputs": [],
   "source": []
  },
  {
   "cell_type": "markdown",
   "id": "94ee89c2",
   "metadata": {},
   "source": [
    "<U>Expected Output</U>:  "
   ]
  },
  {
   "cell_type": "markdown",
   "id": "54288618",
   "metadata": {},
   "source": [
    "<pre style=\"margin: 0; padding=0\"><DIV style=\"font-family: Courier; border: 1px solid #dbdbdb; padding: 7px\">['NY', 'NY', 'NY', 'PA', 'NY', 'NJ', 'NJ']</DIV></pre>"
   ]
  },
  {
   "cell_type": "markdown",
   "id": "02df7152",
   "metadata": {},
   "source": [
    " "
   ]
  },
  {
   "cell_type": "markdown",
   "id": "f7611ec7",
   "metadata": {},
   "source": [
    "<B>4.3:  Starting with an empty list, and then opening and looping through <B>student\\_db.txt</B>, append the 1st field (a student ID) to a list only if the state field is NY.  Print the list object.  </B>"
   ]
  },
  {
   "cell_type": "code",
   "execution_count": null,
   "id": "6b079bd7",
   "metadata": {},
   "outputs": [],
   "source": []
  },
  {
   "cell_type": "markdown",
   "id": "3ba07eba",
   "metadata": {},
   "source": [
    "<U>Expected Output</U>:  "
   ]
  },
  {
   "cell_type": "markdown",
   "id": "68e6c36a",
   "metadata": {},
   "source": [
    "<pre style=\"margin: 0; padding=0\"><DIV style=\"font-family: Courier; border: 1px solid #dbdbdb; padding: 7px\">['jk43', 'axe99', 'jab44', 'ap172']</DIV></pre>"
   ]
  },
  {
   "cell_type": "markdown",
   "id": "25e67c3b",
   "metadata": {},
   "source": [
    " "
   ]
  },
  {
   "cell_type": "markdown",
   "id": "d7091343",
   "metadata": {},
   "source": [
    "<B>4.4:  Opening and reading through <B>revenue.csv</B>, build a list from the 3rd field (the floating point value), then sum up the values using sum().  (Hint:  sum() will not work unless you convert each element to a float value before you add it to the list, so do that by calling float() on each item.)  </B>"
   ]
  },
  {
   "cell_type": "code",
   "execution_count": null,
   "id": "037730e6",
   "metadata": {},
   "outputs": [],
   "source": []
  },
  {
   "cell_type": "markdown",
   "id": "d38f13bb",
   "metadata": {},
   "source": [
    "<U>Expected Output</U>:  "
   ]
  },
  {
   "cell_type": "markdown",
   "id": "f4706d67",
   "metadata": {},
   "source": [
    "<pre style=\"margin: 0; padding=0\"><DIV style=\"font-family: Courier; border: 1px solid #dbdbdb; padding: 7px\">662.01\n",
    "\n",
    "# may have a tiny remainder, i.e., 662.0100000000001</DIV></pre>"
   ]
  },
  {
   "cell_type": "markdown",
   "id": "bec7d750",
   "metadata": {},
   "source": [
    " "
   ]
  },
  {
   "cell_type": "markdown",
   "id": "9f150084",
   "metadata": {},
   "source": [
    "<B>4.5:  Extending the previous program, use len() to determine the length of the list, then use the formula sum(flist) / len(flist) to produce an average (where flist is the list of floats you compiled).  </B>"
   ]
  },
  {
   "cell_type": "code",
   "execution_count": null,
   "id": "b783075b",
   "metadata": {},
   "outputs": [],
   "source": []
  },
  {
   "cell_type": "markdown",
   "id": "b0829ce5",
   "metadata": {},
   "source": [
    "<U>Expected Output</U>:  "
   ]
  },
  {
   "cell_type": "markdown",
   "id": "60e485fc",
   "metadata": {},
   "source": [
    "<pre style=\"margin: 0; padding=0\"><DIV style=\"font-family: Courier; border: 1px solid #dbdbdb; padding: 7px\">94.5728571429\n",
    "\n",
    "# your floating point remainder may be slightly different</DIV></pre>"
   ]
  },
  {
   "cell_type": "markdown",
   "id": "02909316",
   "metadata": {},
   "source": [
    " "
   ]
  },
  {
   "cell_type": "markdown",
   "id": "1b867224",
   "metadata": {},
   "source": [
    "<B>4.6:  Given the following code:</B>"
   ]
  },
  {
   "cell_type": "code",
   "execution_count": null,
   "id": "def3de03",
   "metadata": {},
   "outputs": [],
   "source": [
    "values = [1, 3, 4, 10, 15]"
   ]
  },
  {
   "cell_type": "markdown",
   "id": "68989e70",
   "metadata": {},
   "source": [
    "Determine and print the median (middle) value without mentioning any values directly.  (Hint:  use len() to determine the length, then use that value to figure out the \"halfway\" index.  Make sure your calculated index is an integer).\n"
   ]
  },
  {
   "cell_type": "markdown",
   "id": "4bc72495",
   "metadata": {},
   "source": [
    "<U>Expected Output</U>:  "
   ]
  },
  {
   "cell_type": "markdown",
   "id": "7707f7de",
   "metadata": {},
   "source": [
    "<pre style=\"margin: 0; padding=0\"><DIV style=\"font-family: Courier; border: 1px solid #dbdbdb; padding: 7px\">4</DIV></pre>"
   ]
  },
  {
   "cell_type": "markdown",
   "id": "9c55a3e6",
   "metadata": {},
   "source": [
    " "
   ]
  },
  {
   "cell_type": "markdown",
   "id": "cd6f3cf7",
   "metadata": {},
   "source": [
    "<B>4.7:  Given the following code:</B>"
   ]
  },
  {
   "cell_type": "code",
   "execution_count": null,
   "id": "2f9a8741",
   "metadata": {},
   "outputs": [],
   "source": [
    "values = [3, 1, 10, 15, 4]"
   ]
  },
  {
   "cell_type": "markdown",
   "id": "e101db44",
   "metadata": {},
   "source": [
    "Again, determine and print the median value.  This time you'll need to use the sorted() function, which takes an unsorted list and returns a sorted list.\n"
   ]
  },
  {
   "cell_type": "markdown",
   "id": "5e19b269",
   "metadata": {},
   "source": [
    "<U>Expected Output</U>:  "
   ]
  },
  {
   "cell_type": "markdown",
   "id": "83ce3880",
   "metadata": {},
   "source": [
    "<pre style=\"margin: 0; padding=0\"><DIV style=\"font-family: Courier; border: 1px solid #dbdbdb; padding: 7px\">4</DIV></pre>"
   ]
  },
  {
   "cell_type": "markdown",
   "id": "835c0014",
   "metadata": {},
   "source": [
    " "
   ]
  },
  {
   "cell_type": "markdown",
   "id": "de721a3a",
   "metadata": {},
   "source": [
    "<B>4.8:  Given the following code:</B>"
   ]
  },
  {
   "cell_type": "code",
   "execution_count": null,
   "id": "cc9548bb",
   "metadata": {},
   "outputs": [],
   "source": [
    "values = [30, 20, 10, 40, 50, 60]"
   ]
  },
  {
   "cell_type": "markdown",
   "id": "38ed77db",
   "metadata": {},
   "source": [
    "Determine the median value, which in an even-number of elements is halfway between the two \"middle\" values in a sorted list.  (Hint:  again use the len() of the list to calculate the indices of the middle two values.)\n"
   ]
  },
  {
   "cell_type": "markdown",
   "id": "7fac093d",
   "metadata": {},
   "source": [
    "<U>Expected Output</U>:  "
   ]
  },
  {
   "cell_type": "markdown",
   "id": "0a571875",
   "metadata": {},
   "source": [
    "<pre style=\"margin: 0; padding=0\"><DIV style=\"font-family: Courier; border: 1px solid #dbdbdb; padding: 7px\">35</DIV></pre>"
   ]
  },
  {
   "cell_type": "markdown",
   "id": "17c32c2e",
   "metadata": {},
   "source": [
    " "
   ]
  },
  {
   "cell_type": "markdown",
   "id": "0c67e22d",
   "metadata": {},
   "source": [
    "EXERCISES RELATED TO word count project"
   ]
  },
  {
   "cell_type": "markdown",
   "id": "ec0f1d75",
   "metadata": {},
   "source": [
    " "
   ]
  },
  {
   "cell_type": "markdown",
   "id": "8ab93ae7",
   "metadata": {},
   "source": [
    "<B>4.9:  Open the pyku.txt file and use the file read() method to read it into a string.  Print the length of this string using len()</B>"
   ]
  },
  {
   "cell_type": "code",
   "execution_count": null,
   "id": "58ade43c",
   "metadata": {},
   "outputs": [],
   "source": []
  },
  {
   "cell_type": "markdown",
   "id": "3f862aeb",
   "metadata": {},
   "source": [
    "<U>Expected Output</U>:  "
   ]
  },
  {
   "cell_type": "markdown",
   "id": "cc86f3c7",
   "metadata": {},
   "source": [
    "<pre style=\"margin: 0; padding=0\"><DIV style=\"font-family: Courier; border: 1px solid #dbdbdb; padding: 7px\">80</DIV></pre>"
   ]
  },
  {
   "cell_type": "markdown",
   "id": "273fb950",
   "metadata": {},
   "source": [
    " "
   ]
  },
  {
   "cell_type": "markdown",
   "id": "537d5dc0",
   "metadata": {},
   "source": [
    "<B>4.10:  Building on the previous program, count the number of times the word <B>spam</B> occurs in the file.  (Hint:  read() the file into a string and use the str count() method.)</B>"
   ]
  },
  {
   "cell_type": "code",
   "execution_count": null,
   "id": "f17a024e",
   "metadata": {},
   "outputs": [],
   "source": []
  },
  {
   "cell_type": "markdown",
   "id": "1c20d5fe",
   "metadata": {},
   "source": [
    "<U>Expected Output</U>:  "
   ]
  },
  {
   "cell_type": "markdown",
   "id": "2ed8c606",
   "metadata": {},
   "source": [
    "<pre style=\"margin: 0; padding=0\"><DIV style=\"font-family: Courier; border: 1px solid #dbdbdb; padding: 7px\">4</DIV></pre>"
   ]
  },
  {
   "cell_type": "markdown",
   "id": "25e5166a",
   "metadata": {},
   "source": [
    " "
   ]
  },
  {
   "cell_type": "markdown",
   "id": "05009436",
   "metadata": {},
   "source": [
    "<B>4.11:  Open the pyku.txt file and use the file read() method to read it into a string.  Use str splitlines() to split the string into a list of lines.  Print the type of the list returned from splitlines(), then print the first and last line from the file using list subscripts.   </B>"
   ]
  },
  {
   "cell_type": "code",
   "execution_count": null,
   "id": "51f41d3d",
   "metadata": {},
   "outputs": [],
   "source": []
  },
  {
   "cell_type": "markdown",
   "id": "dd0690c5",
   "metadata": {},
   "source": [
    "<U>Expected Output</U>:  "
   ]
  },
  {
   "cell_type": "markdown",
   "id": "ce342c45",
   "metadata": {},
   "source": [
    "<pre style=\"margin: 0; padding=0\"><DIV style=\"font-family: Courier; border: 1px solid #dbdbdb; padding: 7px\">&lt;class 'list'&gt;\n",
    "We're out of gouda.\n",
    "Spam, spam, spam, spam, spam.</DIV></pre>"
   ]
  },
  {
   "cell_type": "markdown",
   "id": "dcee1401",
   "metadata": {},
   "source": [
    " "
   ]
  },
  {
   "cell_type": "markdown",
   "id": "e978dd48",
   "metadata": {},
   "source": [
    "<B>4.12:  Open file 'pyku.txt' and use the file read() method to read it into a string.  Use the string split() method to split the entire string into a list of words.  Print the type of the list returned from split(), then print the first and last word from the file using list subscripts.    </B>"
   ]
  },
  {
   "cell_type": "code",
   "execution_count": null,
   "id": "01541eac",
   "metadata": {},
   "outputs": [],
   "source": []
  },
  {
   "cell_type": "markdown",
   "id": "140624d4",
   "metadata": {},
   "source": [
    "<U>Expected Output</U>:  "
   ]
  },
  {
   "cell_type": "markdown",
   "id": "2b574316",
   "metadata": {},
   "source": [
    "<pre style=\"margin: 0; padding=0\"><DIV style=\"font-family: Courier; border: 1px solid #dbdbdb; padding: 7px\">&lt;class 'list'&gt;\n",
    "We're\n",
    "spam.</DIV></pre>"
   ]
  },
  {
   "cell_type": "markdown",
   "id": "ab1e4927",
   "metadata": {},
   "source": [
    " "
   ]
  },
  {
   "cell_type": "markdown",
   "id": "93586704",
   "metadata": {},
   "source": [
    "<B>4.13:  Starting with this list:</B>"
   ]
  },
  {
   "cell_type": "code",
   "execution_count": null,
   "id": "ff7f30c0",
   "metadata": {},
   "outputs": [],
   "source": [
    "var = ['a', 'b', 'c', 'd']"
   ]
  },
  {
   "cell_type": "markdown",
   "id": "13f5c2bc",
   "metadata": {},
   "source": [
    "print the length of the list.  (Hint:  do not use a loop and a counter.  Use len())\n"
   ]
  },
  {
   "cell_type": "markdown",
   "id": "25b8ea85",
   "metadata": {},
   "source": [
    "<U>Expected Output</U>:  "
   ]
  },
  {
   "cell_type": "markdown",
   "id": "f1f7910d",
   "metadata": {},
   "source": [
    "<pre style=\"margin: 0; padding=0\"><DIV style=\"font-family: Courier; border: 1px solid #dbdbdb; padding: 7px\">4</DIV></pre>"
   ]
  },
  {
   "cell_type": "markdown",
   "id": "488d7335",
   "metadata": {},
   "source": [
    " "
   ]
  },
  {
   "cell_type": "markdown",
   "id": "caeeddbb",
   "metadata": {},
   "source": [
    "EXERCISES RELATED TO spell check program"
   ]
  },
  {
   "cell_type": "markdown",
   "id": "1e08469d",
   "metadata": {},
   "source": [
    " "
   ]
  },
  {
   "cell_type": "markdown",
   "id": "4893916e",
   "metadata": {},
   "source": [
    "<B>4.14:  Given a list containing duplicate values, initialize an empty <B>set()</B> (note that you cannot use empty braces because these are reserved for dicts -- use <B>set()</B>) and add each element to it to produce a set of unique values.  Print the whole set.  (Note:  just for practice, don't pass the list directly to the set() constructor -- loop through the list and add each element one at a time.)  </B>"
   ]
  },
  {
   "cell_type": "code",
   "execution_count": null,
   "id": "38d90cbd",
   "metadata": {},
   "outputs": [],
   "source": [
    "dupvals = [1, 3, 1, 1, 2, 3, 2, 1, 3]"
   ]
  },
  {
   "cell_type": "markdown",
   "id": "4c48a988",
   "metadata": {},
   "source": [
    "<U>Expected Output</U>:  "
   ]
  },
  {
   "cell_type": "markdown",
   "id": "265df22c",
   "metadata": {},
   "source": [
    "<pre style=\"margin: 0; padding=0\"><DIV style=\"font-family: Courier; border: 1px solid #dbdbdb; padding: 7px\">{1, 2, 3}</DIV></pre>"
   ]
  },
  {
   "cell_type": "markdown",
   "id": "54c887ff",
   "metadata": {},
   "source": [
    " "
   ]
  },
  {
   "cell_type": "markdown",
   "id": "ab8f724c",
   "metadata": {},
   "source": [
    "<B>4.15:  Opening the revenue.csv text file, loop through and print each line of the file, but make sure there are no blank lines printed (hint:  use rstrip() on each line to remove the newline character; <B>print()</B> itself already prints a newline at the end of every line).  </B>"
   ]
  },
  {
   "cell_type": "markdown",
   "id": "22f5b0aa",
   "metadata": {},
   "source": [
    "<U>Expected Output</U>:  "
   ]
  },
  {
   "cell_type": "markdown",
   "id": "45debc9c",
   "metadata": {},
   "source": [
    "<pre style=\"margin: 0; padding=0\"><DIV style=\"font-family: Courier; border: 1px solid #dbdbdb; padding: 7px\">Haddad's,PA,239.50\n",
    "Westfield,NJ,53.90\n",
    "The Store,NJ,211.50\n",
    "Hipster's,NY,11.98\n",
    "Dothraki Fashions,NY,5.98\n",
    "Awful's,PA,23.95\n",
    "The Clothiers,NY,115.20</DIV></pre>"
   ]
  },
  {
   "cell_type": "markdown",
   "id": "ac15beda",
   "metadata": {},
   "source": [
    " "
   ]
  },
  {
   "cell_type": "markdown",
   "id": "1a5cad2c",
   "metadata": {},
   "source": [
    "<B>4.16:  Given the following list:</B>"
   ]
  },
  {
   "cell_type": "code",
   "execution_count": null,
   "id": "00eb9525",
   "metadata": {},
   "outputs": [],
   "source": [
    "mylist = [-5, -2, 1, -3, 1.5, 7, 9]"
   ]
  },
  {
   "cell_type": "markdown",
   "id": "7eb80fad",
   "metadata": {},
   "source": [
    "Loop through mylist and build a new list that is only positive numbers (i.e., greater than 0).  Print the list.\n"
   ]
  },
  {
   "cell_type": "markdown",
   "id": "166b9d96",
   "metadata": {},
   "source": [
    "<U>Expected Output</U>:  "
   ]
  },
  {
   "cell_type": "markdown",
   "id": "605e84ea",
   "metadata": {},
   "source": [
    "<pre style=\"margin: 0; padding=0\"><DIV style=\"font-family: Courier; border: 1px solid #dbdbdb; padding: 7px\">[1, 1.5, 7, 9]</DIV></pre>"
   ]
  },
  {
   "cell_type": "markdown",
   "id": "26c36eb2",
   "metadata": {},
   "source": [
    " "
   ]
  },
  {
   "cell_type": "markdown",
   "id": "b320989e",
   "metadata": {},
   "source": [
    "<B>4.17:  Given the following code:</B>"
   ]
  },
  {
   "cell_type": "code",
   "execution_count": null,
   "id": "1fba7bfb",
   "metadata": {},
   "outputs": [],
   "source": [
    "sentence = \"I could; I wouldn't.  I might?  Might I!\""
   ]
  },
  {
   "cell_type": "markdown",
   "id": "2cfb5473",
   "metadata": {},
   "source": [
    "Split this sentence into words (without altering or processing them).  Print each word on a line.\n"
   ]
  },
  {
   "cell_type": "markdown",
   "id": "158b2f98",
   "metadata": {},
   "source": [
    "<U>Expected Output</U>:  "
   ]
  },
  {
   "cell_type": "markdown",
   "id": "b2d914c2",
   "metadata": {},
   "source": [
    "<pre style=\"margin: 0; padding=0\"><DIV style=\"font-family: Courier; border: 1px solid #dbdbdb; padding: 7px\">I\n",
    "could;\n",
    "I\n",
    "wouldn't.\n",
    "I\n",
    "might?\n",
    "Might\n",
    "I!</DIV></pre>"
   ]
  },
  {
   "cell_type": "markdown",
   "id": "0c13aae0",
   "metadata": {},
   "source": [
    " "
   ]
  },
  {
   "cell_type": "markdown",
   "id": "25d1fbd3",
   "metadata": {},
   "source": [
    "<B>4.18:  Extending the previous code, use a single call to <B>.rstrip()</B> to remove any punctuation.  (Hint:  you can place any punctuation characters to be removed together in a single string argument to rstrip(); any single character within the string will be removed.)  </B>"
   ]
  },
  {
   "cell_type": "code",
   "execution_count": null,
   "id": "8bd2fd45",
   "metadata": {},
   "outputs": [],
   "source": []
  },
  {
   "cell_type": "markdown",
   "id": "057fef8f",
   "metadata": {},
   "source": [
    "<U>Expected Output</U>:  "
   ]
  },
  {
   "cell_type": "markdown",
   "id": "0cb9362b",
   "metadata": {},
   "source": [
    "<pre style=\"margin: 0; padding=0\"><DIV style=\"font-family: Courier; border: 1px solid #dbdbdb; padding: 7px\">I\n",
    "could\n",
    "I\n",
    "wouldn't\n",
    "I\n",
    "might\n",
    "Might\n",
    "I</DIV></pre>"
   ]
  },
  {
   "cell_type": "markdown",
   "id": "b8d152b9",
   "metadata": {},
   "source": [
    " "
   ]
  },
  {
   "cell_type": "markdown",
   "id": "54583f6b",
   "metadata": {},
   "source": [
    "<B>4.19:  Extending the previous code, add an additional statement to lowercase each word.</B>"
   ]
  },
  {
   "cell_type": "code",
   "execution_count": null,
   "id": "2601d06f",
   "metadata": {},
   "outputs": [],
   "source": []
  },
  {
   "cell_type": "markdown",
   "id": "e617d9b9",
   "metadata": {},
   "source": [
    "<U>Expected Output</U>:  "
   ]
  },
  {
   "cell_type": "markdown",
   "id": "77edffcf",
   "metadata": {},
   "source": [
    "<pre style=\"margin: 0; padding=0\"><DIV style=\"font-family: Courier; border: 1px solid #dbdbdb; padding: 7px\">i\n",
    "could\n",
    "i\n",
    "wouldn't\n",
    "i\n",
    "might\n",
    "might\n",
    "i</DIV></pre>"
   ]
  },
  {
   "cell_type": "markdown",
   "id": "25c6307d",
   "metadata": {},
   "source": [
    " "
   ]
  },
  {
   "cell_type": "markdown",
   "id": "781fe5d6",
   "metadata": {},
   "source": [
    "<B>4.20:  Extending the previous code, add each word to a set(), then print the entire set.</B>"
   ]
  },
  {
   "cell_type": "code",
   "execution_count": null,
   "id": "5a5519d0",
   "metadata": {},
   "outputs": [],
   "source": []
  },
  {
   "cell_type": "markdown",
   "id": "b04fb39d",
   "metadata": {},
   "source": [
    "<U>Expected Output</U>:  "
   ]
  },
  {
   "cell_type": "markdown",
   "id": "a8541fb4",
   "metadata": {},
   "source": [
    "<pre style=\"margin: 0; padding=0\"><DIV style=\"font-family: Courier; border: 1px solid #dbdbdb; padding: 7px\">{'i', 'could', 'might', \"wouldn't\"}</DIV></pre>"
   ]
  },
  {
   "cell_type": "markdown",
   "id": "dbac178f",
   "metadata": {},
   "source": [
    " "
   ]
  },
  {
   "cell_type": "markdown",
   "id": "125e9a31",
   "metadata": {},
   "source": [
    "<B>4.21:  Open the file pyku.txt.  <B>.rstrip()</B> the line.  Loop through and print each line from the file.</B>"
   ]
  },
  {
   "cell_type": "code",
   "execution_count": null,
   "id": "d012e86e",
   "metadata": {},
   "outputs": [],
   "source": []
  },
  {
   "cell_type": "markdown",
   "id": "30ed7483",
   "metadata": {},
   "source": [
    "<U>Expected Output</U>:  "
   ]
  },
  {
   "cell_type": "markdown",
   "id": "9e7bc47c",
   "metadata": {},
   "source": [
    "<pre style=\"margin: 0; padding=0\"><DIV style=\"font-family: Courier; border: 1px solid #dbdbdb; padding: 7px\">We're out of gouda.\n",
    "\n",
    "This parrot has ceased to be.\n",
    "\n",
    "Spam, spam, spam, spam, spam.\n",
    "</DIV></pre>"
   ]
  },
  {
   "cell_type": "markdown",
   "id": "5ef57905",
   "metadata": {},
   "source": [
    " "
   ]
  },
  {
   "cell_type": "markdown",
   "id": "26b8e57c",
   "metadata": {},
   "source": [
    "<B>4.22:  Extending the previous solution, again strip each word of punctuation and lowercase each word and add each to a set.  Print the set.  </B>"
   ]
  },
  {
   "cell_type": "code",
   "execution_count": null,
   "id": "b884dfe6",
   "metadata": {},
   "outputs": [],
   "source": []
  },
  {
   "cell_type": "markdown",
   "id": "a99cb153",
   "metadata": {},
   "source": [
    "<U>Expected Output</U>:  "
   ]
  },
  {
   "cell_type": "markdown",
   "id": "453b8721",
   "metadata": {},
   "source": [
    "<pre style=\"margin: 0; padding=0\"><DIV style=\"font-family: Courier; border: 1px solid #dbdbdb; padding: 7px\">{'be', 'has', 'parrot', 'to', 'this', 'of',\n",
    " 'spam', 'ceased', \"we're\", 'gouda', 'out'}</DIV></pre>"
   ]
  },
  {
   "cell_type": "markdown",
   "id": "eaa3b97e",
   "metadata": {},
   "source": [
    " "
   ]
  },
  {
   "cell_type": "markdown",
   "id": "7b94403e",
   "metadata": {},
   "source": [
    "<B>4.23:  Start with the following code:</B>"
   ]
  },
  {
   "cell_type": "code",
   "execution_count": null,
   "id": "825c199e",
   "metadata": {},
   "outputs": [],
   "source": [
    "text = \"we're certainly out of gouda but Python is great.\""
   ]
  },
  {
   "cell_type": "markdown",
   "id": "9c29a4c4",
   "metadata": {},
   "source": [
    "Now split this text into words (no need to strip or lowercase).  Removing the printing of the set and adding to the end of the code, loop through each word in text and check the word against the set created earlier (use the in operator to check for membership).  If the word is not in the set, print it.\n"
   ]
  },
  {
   "cell_type": "markdown",
   "id": "b05d201e",
   "metadata": {},
   "source": [
    "<U>Expected Output</U>:  "
   ]
  },
  {
   "cell_type": "markdown",
   "id": "573381b6",
   "metadata": {},
   "source": [
    "<pre style=\"margin: 0; padding=0\"><DIV style=\"font-family: Courier; border: 1px solid #dbdbdb; padding: 7px\">certainly\n",
    "but\n",
    "Python\n",
    "is\n",
    "great.</DIV></pre>"
   ]
  },
  {
   "cell_type": "markdown",
   "id": "3ea86426",
   "metadata": {},
   "source": [
    " "
   ]
  }
 ],
 "metadata": {},
 "nbformat": 4,
 "nbformat_minor": 5
}
