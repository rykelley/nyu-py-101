{
 "cells": [
  {
   "cell_type": "markdown",
   "id": "cf65eac8",
   "metadata": {},
   "source": [
    "# In-Class Exercises, Session 10"
   ]
  },
  {
   "cell_type": "markdown",
   "id": "0e5da60e",
   "metadata": {},
   "source": [
    "CLASSES - INSTANCES AND METHODS"
   ]
  },
  {
   "cell_type": "markdown",
   "id": "c86fdb1e",
   "metadata": {},
   "source": [
    "<B>10.1:  <U>Define a class</U>.  </B>"
   ]
  },
  {
   "cell_type": "markdown",
   "id": "ee016857",
   "metadata": {},
   "source": [
    "Use the <B>class</B> statement with name <B>MyClass</B> (or you may substitute a name of your own choice).  To fill the otherwise empty block, use the <B>pass</B> statement.\n",
    "\n",
    "Initialize an instance of the class and print its type to show that it is an instance of the class.\n"
   ]
  },
  {
   "cell_type": "code",
   "execution_count": null,
   "id": "bc7cb28d",
   "metadata": {},
   "outputs": [],
   "source": []
  },
  {
   "cell_type": "markdown",
   "id": "09f0bfb3",
   "metadata": {},
   "source": [
    "<U>Expected Output</U>:  "
   ]
  },
  {
   "cell_type": "markdown",
   "id": "3a377493",
   "metadata": {},
   "source": [
    "<pre style=\"margin: 0; padding=0\"><DIV style=\"font-family: Courier; border: 1px solid #dbdbdb; padding: 7px\">&lt;class '__main__.MyClass'&gt;</DIV></pre>"
   ]
  },
  {
   "cell_type": "markdown",
   "id": "a543e175",
   "metadata": {},
   "source": [
    " "
   ]
  },
  {
   "cell_type": "markdown",
   "id": "c2a31e4c",
   "metadata": {},
   "source": [
    "<B>10.2:  <U>Create an 'instance' method</U>.</B>"
   ]
  },
  {
   "cell_type": "markdown",
   "id": "d6d836a3",
   "metadata": {},
   "source": [
    "Add to the class <B>Hola</B> below a new method, <B>saludar()</B>, that prints \"bienvenidos a todos\" (or whatever greeting you'd prefer) when it is called.\n"
   ]
  },
  {
   "cell_type": "code",
   "execution_count": null,
   "id": "2b74f5c2",
   "metadata": {},
   "outputs": [],
   "source": [
    "class Hola:\n",
    "    \"\"\" una clase que is amigable \"\"\"\n",
    "\n",
    "    # your code here\n",
    "\n",
    "\n",
    "yo = Hola()\n",
    "\n",
    "yo.saludar()     # should print the greeting"
   ]
  },
  {
   "cell_type": "markdown",
   "id": "2d0c080a",
   "metadata": {},
   "source": [
    "<U>Expected Output</U>:  "
   ]
  },
  {
   "cell_type": "markdown",
   "id": "28a3e61a",
   "metadata": {},
   "source": [
    "<pre style=\"margin: 0; padding=0\"><DIV style=\"font-family: Courier; border: 1px solid #dbdbdb; padding: 7px\">bienvenidos a todos</DIV></pre>"
   ]
  },
  {
   "cell_type": "markdown",
   "id": "af5f84f3",
   "metadata": {},
   "source": [
    " "
   ]
  },
  {
   "cell_type": "markdown",
   "id": "3bf4486f",
   "metadata": {},
   "source": [
    "<B>10.3:  <U>Add argument and return value to method</U>.  </B>"
   ]
  },
  {
   "cell_type": "markdown",
   "id": "c5403b6e",
   "metadata": {},
   "source": [
    "Add the method <B>doubleit()</B> below, that doubles the value passed to it.\n"
   ]
  },
  {
   "cell_type": "code",
   "execution_count": null,
   "id": "717f060d",
   "metadata": {},
   "outputs": [],
   "source": [
    "class Numbers:\n",
    "    \"\"\" various number methods \"\"\"\n",
    "\n",
    "\n",
    "num = Numbers()\n",
    "val = num.doubleit(5)\n",
    "print(val)               # 10\n",
    "\n",
    "val2 = num.doubleit(100)\n",
    "print(val2)              # 200"
   ]
  },
  {
   "cell_type": "markdown",
   "id": "a52ac712",
   "metadata": {},
   "source": [
    "<U>Expected Output</U>:  "
   ]
  },
  {
   "cell_type": "markdown",
   "id": "7393b5aa",
   "metadata": {},
   "source": [
    "<pre style=\"margin: 0; padding=0\"><DIV style=\"font-family: Courier; border: 1px solid #dbdbdb; padding: 7px\">10\n",
    "200</DIV></pre>"
   ]
  },
  {
   "cell_type": "markdown",
   "id": "5207c8fe",
   "metadata": {},
   "source": [
    " "
   ]
  },
  {
   "cell_type": "markdown",
   "id": "be5a2ccc",
   "metadata": {},
   "source": [
    "LAB 1"
   ]
  },
  {
   "cell_type": "markdown",
   "id": "c508212e",
   "metadata": {},
   "source": [
    "<div style=\"background-color: #ccffcc; padding: 10px; border: 2px solid green\"><B>10.4:  Create a class <B>Time</B> that has a method <B>get\\_time()</B> that returns the current time.  Call as shown.  </B></div>"
   ]
  },
  {
   "cell_type": "markdown",
   "id": "8dd04b7f",
   "metadata": {},
   "source": [
    "(A string showing the current time can be obtained from the <B>time</B> module using <B>time.ctime()</B>.)\n"
   ]
  },
  {
   "cell_type": "code",
   "execution_count": null,
   "id": "74303a13",
   "metadata": {},
   "outputs": [],
   "source": [
    "import time\n",
    "\n",
    "# your code here\n",
    "\n",
    "\n",
    "obj = Time()\n",
    "print(obj.get_time())  # should show the current time"
   ]
  },
  {
   "cell_type": "markdown",
   "id": "ca5b339d",
   "metadata": {},
   "source": [
    "<U>Expected Output</U>:  "
   ]
  },
  {
   "cell_type": "markdown",
   "id": "93b029d7",
   "metadata": {},
   "source": [
    "<pre style=\"margin: 0; padding=0\"><DIV style=\"font-family: Courier; border: 1px solid #dbdbdb; padding: 7px\">Sat Oct 17 18:41:34 2020    (as your specific date and time)</DIV></pre>"
   ]
  },
  {
   "cell_type": "markdown",
   "id": "8872d871",
   "metadata": {},
   "source": [
    " "
   ]
  },
  {
   "cell_type": "markdown",
   "id": "f50f931d",
   "metadata": {},
   "source": [
    "<div style=\"background-color: #ccffcc; padding: 10px; border: 2px solid green\"><B>10.5:  Create a class <B>Random</B> that has a method <B>get\\_rand(val)</B> that returns a random number from 1 to the specified value.  Call as shown.  </B></div>"
   ]
  },
  {
   "cell_type": "markdown",
   "id": "4ee94625",
   "metadata": {},
   "source": [
    "(A random number can be generated with <B>random.randint(x, y)</b> where <B>x</B> and <B>y</B> are the minimum and maximum values.)\n"
   ]
  },
  {
   "cell_type": "code",
   "execution_count": null,
   "id": "1ec51aa8",
   "metadata": {},
   "outputs": [],
   "source": [
    "import random\n",
    "\n",
    "# your code here\n",
    "\n",
    "\n",
    "\n",
    "\n",
    "obj = Random()\n",
    "\n",
    "val = obj.get_rand(5)     # random number from 1-5\n",
    "print(val)\n",
    "\n",
    "val2 = obj.get_rand(18)   # random number from 1-18\n",
    "print(val2)"
   ]
  },
  {
   "cell_type": "markdown",
   "id": "5ac89f76",
   "metadata": {},
   "source": [
    "<U>Expected Output</U>:  "
   ]
  },
  {
   "cell_type": "markdown",
   "id": "e65b4d94",
   "metadata": {},
   "source": [
    "<pre style=\"margin: 0; padding=0\"><DIV style=\"font-family: Courier; border: 1px solid #dbdbdb; padding: 7px\">4\n",
    "3</DIV></pre>"
   ]
  },
  {
   "cell_type": "markdown",
   "id": "9979bb01",
   "metadata": {},
   "source": [
    " "
   ]
  },
  {
   "cell_type": "markdown",
   "id": "ed75c76c",
   "metadata": {},
   "source": [
    "<div style=\"background-color: #ccffcc; padding: 10px; border: 2px solid green\"><B>10.6:  Create a class <B>Math</B> with method <B>add()</B> that takes two integer arguments and returns the values summed.  </B></div>"
   ]
  },
  {
   "cell_type": "code",
   "execution_count": null,
   "id": "66546f3c",
   "metadata": {},
   "outputs": [],
   "source": [
    "# your code here\n",
    "\n",
    "\n",
    "\n",
    "obj = Math()\n",
    "\n",
    "mysum = obj.add(5, 10)        # 15\n",
    "print(mysum)\n",
    "\n",
    "mysum2 = obj.add(100, 150)    # 250\n",
    "print(mysum2)"
   ]
  },
  {
   "cell_type": "markdown",
   "id": "f50d4db1",
   "metadata": {},
   "source": [
    "<U>Expected Output</U>:  "
   ]
  },
  {
   "cell_type": "markdown",
   "id": "a7259619",
   "metadata": {},
   "source": [
    "<pre style=\"margin: 0; padding=0\"><DIV style=\"font-family: Courier; border: 1px solid #dbdbdb; padding: 7px\">15\n",
    "250</DIV></pre>"
   ]
  },
  {
   "cell_type": "markdown",
   "id": "a83b3565",
   "metadata": {},
   "source": [
    " "
   ]
  },
  {
   "cell_type": "markdown",
   "id": "442e3363",
   "metadata": {},
   "source": [
    "CLASSES - CONSTRUCTOR, CLASS ATTRIBUTES AND METHODS"
   ]
  },
  {
   "cell_type": "markdown",
   "id": "f39fcc49",
   "metadata": {},
   "source": [
    "<B>10.7:  <U>Demonstration:  note the unique identifier of <B>self</B> and an instance from a class</U>.  </B>"
   ]
  },
  {
   "cell_type": "markdown",
   "id": "be084e0e",
   "metadata": {},
   "source": [
    "At the bottom of the code below, print <B>obj</B>, then call <B>obj.something()</B>, noting that this method prints <B>self</B>.  Compare the hex codes that identify the instance.\n",
    "\n",
    "Use a <B>print()</B> statement to create a blank line.\n",
    "\n",
    "Next, print <B>obj2</B> and call <B>obj2.something()</B>, and note the output, particularly the hex codes.\n"
   ]
  },
  {
   "cell_type": "code",
   "execution_count": null,
   "id": "2fc89455",
   "metadata": {},
   "outputs": [],
   "source": [
    "class Do:\n",
    "    def something(self):\n",
    "        print(self)\n",
    "\n",
    "\n",
    "obj = Do()\n",
    "obj2 = Do()\n",
    "\n",
    "# your code here"
   ]
  },
  {
   "cell_type": "markdown",
   "id": "2b2b1644",
   "metadata": {},
   "source": [
    "<U>Expected Output</U>:  "
   ]
  },
  {
   "cell_type": "markdown",
   "id": "2aa75635",
   "metadata": {},
   "source": [
    "<pre style=\"margin: 0; padding=0\"><DIV style=\"font-family: Courier; border: 1px solid #dbdbdb; padding: 7px\"><__main__.Do object at 0x10d648350>\n",
    "<__main__.Do object at 0x10d648350>\n",
    "\n",
    "<__main__.Do object at 0x10d648390>\n",
    "<__main__.Do object at 0x10d648390></DIV></pre>"
   ]
  },
  {
   "cell_type": "markdown",
   "id": "03020ac4",
   "metadata": {},
   "source": [
    " "
   ]
  },
  {
   "cell_type": "markdown",
   "id": "33fbf27c",
   "metadata": {},
   "source": [
    "<B>10.8:  <U>Create an \\_\\_init\\_\\_() method</U>.  </B>"
   ]
  },
  {
   "cell_type": "markdown",
   "id": "fabee82b",
   "metadata": {},
   "source": [
    "Add a method to the below class, <B>\\_\\_init\\_\\_(self)</B> that inside the function announces and prints the argument <B>self</B>, i.e. <B>print(f'self:    {self}')</B>.\n",
    "\n",
    "Construct 2 new instances, and then print each instance.  Put a blank line between each instance.\n"
   ]
  },
  {
   "cell_type": "code",
   "execution_count": null,
   "id": "78d5a412",
   "metadata": {},
   "outputs": [],
   "source": [
    "class Be:\n",
    "    \"\"\" this class is something! \"\"\"\n",
    "\n",
    "\n",
    "obj1 = Be()\n",
    "print(f'object:  {obj1}')\n",
    "\n",
    "print()\n",
    "\n",
    "obj2 = Be()\n",
    "print(f'object:  {obj2})"
   ]
  },
  {
   "cell_type": "markdown",
   "id": "fc86e924",
   "metadata": {},
   "source": [
    "<U>Expected Output</U>:  "
   ]
  },
  {
   "cell_type": "markdown",
   "id": "d3577706",
   "metadata": {},
   "source": [
    "<pre style=\"margin: 0; padding=0\"><DIV style=\"font-family: Courier; border: 1px solid #dbdbdb; padding: 7px\">object:  <__main__.Be object at 0x10d648250>\n",
    "self:    <__main__.Be object at 0x10d648250>\n",
    "\n",
    "object:  <__main__.Be object at 0x10d648a50>\n",
    "self:    <__main__.Be object at 0x10d648a50></DIV></pre>"
   ]
  },
  {
   "cell_type": "markdown",
   "id": "c1529a86",
   "metadata": {},
   "source": [
    "(Note that the above <B>0x</B> hex codes will not be the same as mine, but the values in each pair should match.)"
   ]
  },
  {
   "cell_type": "markdown",
   "id": "21cc1a6f",
   "metadata": {},
   "source": [
    " "
   ]
  },
  {
   "cell_type": "markdown",
   "id": "db95f4d2",
   "metadata": {},
   "source": [
    "<B>10.9:  <U>Set an instance attribute in \\_\\_init\\_\\_()</U>.  </B>"
   ]
  },
  {
   "cell_type": "markdown",
   "id": "08f8eef8",
   "metadata": {},
   "source": [
    "Create a method <B>\\_\\_init\\_\\_(self, num)</B> that sets <B>num</B>in <B>self</B> as a <B>.value</B> attribute.  At bottom, print <B>obj.value</B> to see the value.\n"
   ]
  },
  {
   "cell_type": "code",
   "execution_count": null,
   "id": "1da36ffb",
   "metadata": {},
   "outputs": [],
   "source": [
    "class Live:\n",
    "    \"\"\" a class that just wants to live \"\"\"\n",
    "    # your __init__() code here\n",
    "\n",
    "\n",
    "obj = Live(5)\n",
    "\n",
    "# print obj.value here"
   ]
  },
  {
   "cell_type": "markdown",
   "id": "cdbe6289",
   "metadata": {},
   "source": [
    "<U>Expected Output</U>:  "
   ]
  },
  {
   "cell_type": "markdown",
   "id": "818df8e4",
   "metadata": {},
   "source": [
    "<pre style=\"margin: 0; padding=0\"><DIV style=\"font-family: Courier; border: 1px solid #dbdbdb; padding: 7px\">5</DIV></pre>"
   ]
  },
  {
   "cell_type": "markdown",
   "id": "a375c4ec",
   "metadata": {},
   "source": [
    " "
   ]
  },
  {
   "cell_type": "markdown",
   "id": "ec9c4396",
   "metadata": {},
   "source": [
    "<B>10.10:  <U>Create a \"getter\" method</U>.  </B>"
   ]
  },
  {
   "cell_type": "markdown",
   "id": "7d247b0b",
   "metadata": {},
   "source": [
    "Create a method <B>get\\_value()</B> that returns the <B>.value</B> attribute from the instance.\n"
   ]
  },
  {
   "cell_type": "code",
   "execution_count": null,
   "id": "084f8e07",
   "metadata": {},
   "outputs": [],
   "source": [
    "class Say:\n",
    "    def __init__(self, val):\n",
    "        self.value = val\n",
    "\n",
    "    # your code here\n",
    "\n",
    "\n",
    "obj = Say(100)\n",
    "\n",
    "vl = obj.get_value()\n",
    "print(vl)                # 100"
   ]
  },
  {
   "cell_type": "markdown",
   "id": "75abe97e",
   "metadata": {},
   "source": [
    "<U>Expected Output</U>:  "
   ]
  },
  {
   "cell_type": "markdown",
   "id": "93b9bd73",
   "metadata": {},
   "source": [
    "<pre style=\"margin: 0; padding=0\"><DIV style=\"font-family: Courier; border: 1px solid #dbdbdb; padding: 7px\">100</DIV></pre>"
   ]
  },
  {
   "cell_type": "markdown",
   "id": "1d3352e0",
   "metadata": {},
   "source": [
    " "
   ]
  },
  {
   "cell_type": "markdown",
   "id": "9af85316",
   "metadata": {},
   "source": [
    "<B>10.11:  <U>Demonstrate class attributes</U>.  </B>"
   ]
  },
  {
   "cell_type": "markdown",
   "id": "1ac0240a",
   "metadata": {},
   "source": [
    "In the class below, set a class variable <B>cvar</B> to value <B>1000</B>.\n",
    "\n",
    "Print the value of <B>cvar</B> in three places:  1) instance <B>a</B> (<B>a.cvar</B>); 2) instance <B>b</B> (<B>b.cvar</B>); 3) the class itself (<B>Something.cvar</B>)\n",
    "\n",
    "Also print the <B>.attr</B> attribute from each of the two instances.\n"
   ]
  },
  {
   "cell_type": "code",
   "execution_count": null,
   "id": "68c02df7",
   "metadata": {},
   "outputs": [],
   "source": [
    "class Something:\n",
    "    # your class variable here\n",
    "\n",
    "    def __init__(self, xx):\n",
    "        self.attr = xx\n",
    "\n",
    "a = Something('hi')\n",
    "b = Something('there')\n",
    "\n",
    "\n",
    "# print cvar in 3 places here\n",
    "\n",
    "# print .attr from each of the two instances here"
   ]
  },
  {
   "cell_type": "markdown",
   "id": "5784ef9f",
   "metadata": {},
   "source": [
    "<U>Expected Output</U>:  "
   ]
  },
  {
   "cell_type": "markdown",
   "id": "b8faf796",
   "metadata": {},
   "source": [
    "<pre style=\"margin: 0; padding=0\"><DIV style=\"font-family: Courier; border: 1px solid #dbdbdb; padding: 7px\">1000\n",
    "1000\n",
    "1000\n",
    "hi\n",
    "there</DIV></pre>"
   ]
  },
  {
   "cell_type": "markdown",
   "id": "cf131668",
   "metadata": {},
   "source": [
    " "
   ]
  },
  {
   "cell_type": "markdown",
   "id": "a5f55883",
   "metadata": {},
   "source": [
    "<B>10.12:  <U>Create a class method</U>.</B>"
   ]
  },
  {
   "cell_type": "markdown",
   "id": "6057e87f",
   "metadata": {},
   "source": [
    "Add a class method <B>classincrement(cls)</B> that uses its <B>cls</B> argument to increment the <B>cattr</B> class variable (<B>cattr</B> will be found to be an attribute of <B>cls</B>.\n",
    "\n",
    "Call <B>classincrement()</B> through the instance <B>obj</B> as well as through the class <B>MyClass</B>.\n",
    "\n",
    "The values printed below should both be <B>1</B>.\n",
    "\n",
    "Before this can work as shown, however, you must decorate <B>classincrement()</B> with <B>@classmethod</B>.\n"
   ]
  },
  {
   "cell_type": "code",
   "execution_count": null,
   "id": "dd545563",
   "metadata": {},
   "outputs": [],
   "source": [
    "class MyClass:\n",
    "    cattr = 0\n",
    "\n",
    "    # your classincrement(cls) method here\n",
    "\n",
    "\n",
    "obj = MyClass()\n",
    "\n",
    "\n",
    "obj.classincrement()\n",
    "\n",
    "print(obj.cattr)          # should be 1\n",
    "print(MyClass.cattr)      # should be 1"
   ]
  },
  {
   "cell_type": "markdown",
   "id": "39e58d0b",
   "metadata": {},
   "source": [
    "<U>Expected Output</U>:  "
   ]
  },
  {
   "cell_type": "markdown",
   "id": "a955447c",
   "metadata": {},
   "source": [
    "<pre style=\"margin: 0; padding=0\"><DIV style=\"font-family: Courier; border: 1px solid #dbdbdb; padding: 7px\">1\n",
    "1</DIV></pre>"
   ]
  },
  {
   "cell_type": "markdown",
   "id": "49a89a37",
   "metadata": {},
   "source": [
    " "
   ]
  },
  {
   "cell_type": "markdown",
   "id": "2cf01141",
   "metadata": {},
   "source": [
    "<B>10.13:  <U>Create a static method</U>.</B>"
   ]
  },
  {
   "cell_type": "markdown",
   "id": "00b206af",
   "metadata": {},
   "source": [
    "To the below class add the static method <B>ftoc(temp)</B> which converts a temperature in Fahrenheit to Celcius.\n",
    "\n",
    "The formula is (temp - 32) * 5 / 9\n",
    "\n",
    "To be a static method, the method must not take <B>self</B> as an argument, and must be decorated with <B>@staticmethod</B>.\n"
   ]
  },
  {
   "cell_type": "code",
   "execution_count": null,
   "id": "24aa05f2",
   "metadata": {},
   "outputs": [],
   "source": [
    "class Forecast:\n",
    "\n",
    "    def __init__(self, forecast, high=0, low=0):\n",
    "        self.text = forecast\n",
    "        self.hightemp = high\n",
    "        self.lowtemp = low\n",
    "\n",
    "    def ftoc(temp):\n",
    "        return (temp - 32) * 5 / 9\n",
    "\n",
    "t = Forecast('Light rain', high=62, low=48)\n",
    "\n",
    "print(t.ftoc(32))       # 0.0\n",
    "print(t.ftoc(212))      # 100.0"
   ]
  },
  {
   "cell_type": "markdown",
   "id": "ebf8d656",
   "metadata": {},
   "source": [
    "<U>Expected Output</U>:  "
   ]
  },
  {
   "cell_type": "markdown",
   "id": "9883830d",
   "metadata": {},
   "source": [
    "<pre style=\"margin: 0; padding=0\"><DIV style=\"font-family: Courier; border: 1px solid #dbdbdb; padding: 7px\">0.0\n",
    "100.0</DIV></pre>"
   ]
  },
  {
   "cell_type": "markdown",
   "id": "f56c3c73",
   "metadata": {},
   "source": [
    " "
   ]
  },
  {
   "cell_type": "markdown",
   "id": "c08bd6fb",
   "metadata": {},
   "source": [
    "LAB 2"
   ]
  },
  {
   "cell_type": "markdown",
   "id": "48cee4fc",
   "metadata": {},
   "source": [
    "<div style=\"background-color: #ccffcc; padding: 10px; border: 2px solid green\"><B>10.14:  Create class <B>Counter</B>, initialized with an integer as shown below.  Set the attribute <B>.counterval</B> in \\_\\_init\\_\\_ so that it is available in the instance.  </B></div>"
   ]
  },
  {
   "cell_type": "code",
   "execution_count": null,
   "id": "2bce139f",
   "metadata": {},
   "outputs": [],
   "source": [
    "# your code here\n",
    "\n",
    "\n",
    "c = Counter(5)\n",
    "\n",
    "print(c.counterval)    # 5"
   ]
  },
  {
   "cell_type": "markdown",
   "id": "6e1fcf66",
   "metadata": {},
   "source": [
    "<U>Expected Output</U>:  "
   ]
  },
  {
   "cell_type": "markdown",
   "id": "abfcfcca",
   "metadata": {},
   "source": [
    "<pre style=\"margin: 0; padding=0\"><DIV style=\"font-family: Courier; border: 1px solid #dbdbdb; padding: 7px\">5</DIV></pre>"
   ]
  },
  {
   "cell_type": "markdown",
   "id": "94337b98",
   "metadata": {},
   "source": [
    " "
   ]
  },
  {
   "cell_type": "markdown",
   "id": "6664c51f",
   "metadata": {},
   "source": [
    "<div style=\"background-color: #ccffcc; padding: 10px; border: 2px solid green\"><B>10.15:  Update <B>Counter</B> with an <B>.increment()</B> method that increments the attribute value each time it is called.  Call <B>.increment()</B> twice, then print the value of <B>.counterval</B> through the instance.  </B></div>"
   ]
  },
  {
   "cell_type": "code",
   "execution_count": null,
   "id": "1d3ef60d",
   "metadata": {},
   "outputs": [],
   "source": [
    "class Counter:\n",
    "    def __init__(self, val):\n",
    "        self.counterval = val\n",
    "\n",
    "    # your code here\n",
    "\n",
    "\n",
    "c = Counter(5)\n",
    "\n",
    "c.increment()\n",
    "c.increment()\n",
    "\n",
    "print(c.counterval)    # 7"
   ]
  },
  {
   "cell_type": "markdown",
   "id": "441aa6f0",
   "metadata": {},
   "source": [
    "<U>Expected Output</U>:  "
   ]
  },
  {
   "cell_type": "markdown",
   "id": "0a320090",
   "metadata": {},
   "source": [
    "<pre style=\"margin: 0; padding=0\"><DIV style=\"font-family: Courier; border: 1px solid #dbdbdb; padding: 7px\">7</DIV></pre>"
   ]
  },
  {
   "cell_type": "markdown",
   "id": "81a2c0e9",
   "metadata": {},
   "source": [
    " "
   ]
  },
  {
   "cell_type": "markdown",
   "id": "80dfcf2c",
   "metadata": {},
   "source": [
    "<div style=\"background-color: #ccffcc; padding: 10px; border: 2px solid green\"><B>10.16:  Update Counter with a show\\_value() method that returns the attribute value.  </B></div>"
   ]
  },
  {
   "cell_type": "code",
   "execution_count": null,
   "id": "c86322d8",
   "metadata": {},
   "outputs": [],
   "source": [
    "class Counter:\n",
    "    def __init__(self, val):\n",
    "        self.counterval = val\n",
    "\n",
    "    def increment(self):\n",
    "        self.counterval = self.counterval + 1\n",
    "\n",
    "    # your code here\n",
    "\n",
    "\n",
    "c = Counter(5)\n",
    "\n",
    "c.increment()\n",
    "c.increment()\n",
    "\n",
    "print(c.counterval)    # 7\n"
   ]
  },
  {
   "cell_type": "markdown",
   "id": "471bd56e",
   "metadata": {},
   "source": [
    "<U>Expected Output</U>:  "
   ]
  },
  {
   "cell_type": "markdown",
   "id": "750cfc40",
   "metadata": {},
   "source": [
    "<pre style=\"margin: 0; padding=0\"><DIV style=\"font-family: Courier; border: 1px solid #dbdbdb; padding: 7px\">7</DIV></pre>"
   ]
  },
  {
   "cell_type": "markdown",
   "id": "e205096b",
   "metadata": {},
   "source": [
    " "
   ]
  },
  {
   "cell_type": "markdown",
   "id": "8193ad62",
   "metadata": {},
   "source": [
    "<div style=\"background-color: #ccffcc; padding: 10px; border: 2px solid green\"><B>10.17:  Set a class variable, 'increment\\_value', that specifies how much the <B>increment()</B> method should increase the attribute.  Add this value to the <B>.counterval</B> attribute in <B>increment()</B>.  </B></div>"
   ]
  },
  {
   "cell_type": "code",
   "execution_count": null,
   "id": "9751e742",
   "metadata": {},
   "outputs": [],
   "source": [
    "class Counter:\n",
    "    # your class variable here\n",
    "\n",
    "    def __init__(self, val):\n",
    "        self.counterval = val\n",
    "\n",
    "    def increment(self):\n",
    "        self.counterval = self.counterval + 1\n",
    "        # add the value of increment_value here\n",
    "\n",
    "c = Counter(5)\n",
    "\n",
    "c.increment()\n",
    "c.increment()\n",
    "\n",
    "print(c.counterval)    # 5 + (2 * increment_value)"
   ]
  },
  {
   "cell_type": "markdown",
   "id": "04f35457",
   "metadata": {},
   "source": [
    "<U>Expected Output</U>:  "
   ]
  },
  {
   "cell_type": "markdown",
   "id": "9fa18e7f",
   "metadata": {},
   "source": [
    "<pre style=\"margin: 0; padding=0\"><DIV style=\"font-family: Courier; border: 1px solid #dbdbdb; padding: 7px\">7</DIV></pre>"
   ]
  },
  {
   "cell_type": "markdown",
   "id": "e3e6f774",
   "metadata": {},
   "source": [
    " "
   ]
  },
  {
   "cell_type": "markdown",
   "id": "2a3b9e41",
   "metadata": {},
   "source": [
    "USEFUL MODULES"
   ]
  },
  {
   "cell_type": "markdown",
   "id": "10062694",
   "metadata": {},
   "source": [
    "<B>10.18:  <B><U>Exploring documentation:  math</U>.</B>  </B>"
   ]
  },
  {
   "cell_type": "markdown",
   "id": "6e9ce9f0",
   "metadata": {},
   "source": [
    "Do a google search for <B>python documentation</B>.  At the documentation page, choose <B>Library Reference</b>.  Note all the many modules listed on this page -- these are the modules that are included in the Python standard distribution -- the Python install provided by <B>python.org</b>.\n",
    "\n",
    "Find the <B>math</B> module.  Below, see if you can <B>import math</B> and then make use of one of the functions in the module."
   ]
  },
  {
   "cell_type": "markdown",
   "id": "75d91f98",
   "metadata": {},
   "source": [
    " "
   ]
  },
  {
   "cell_type": "markdown",
   "id": "470333c1",
   "metadata": {},
   "source": [
    "<B>10.19:  <B><U>Featured module:  zipfile</U>.</B>  </B>"
   ]
  },
  {
   "cell_type": "code",
   "execution_count": null,
   "id": "a5e1cbe9",
   "metadata": {},
   "outputs": [],
   "source": [
    "import zipfile as zp\n",
    "\n",
    "myzip = zp.ZipFile('myzip.zip', 'w')\n",
    "\n",
    "# add names of files in the current directory\n",
    "myzip.write()      # write 1st filename here\n",
    "myzip.write()      # write 2nd filename here\n",
    "\n",
    "myzip.close()\n",
    "\n",
    "print('done')"
   ]
  },
  {
   "cell_type": "markdown",
   "id": "217f2ffe",
   "metadata": {},
   "source": [
    "After running the above, check the session files directory -- you should see a new <B>.zip</B> file added."
   ]
  },
  {
   "cell_type": "markdown",
   "id": "4b3de126",
   "metadata": {},
   "source": [
    " "
   ]
  },
  {
   "cell_type": "markdown",
   "id": "e1555073",
   "metadata": {},
   "source": [
    "<B>10.20:  <B><U>Featured module:  time</U>.</B>  </B>"
   ]
  },
  {
   "cell_type": "code",
   "execution_count": null,
   "id": "d73fd054",
   "metadata": {},
   "outputs": [],
   "source": [
    "import time\n",
    "\n",
    "secs = time.time()\n",
    "\n",
    "# print(time.ctime(secs))\n",
    "\n",
    "# print(time.localtime(secs))\n",
    "\n",
    "# time.sleep(5)\n"
   ]
  },
  {
   "cell_type": "markdown",
   "id": "5fee8f06",
   "metadata": {},
   "source": [
    " "
   ]
  },
  {
   "cell_type": "markdown",
   "id": "990083e1",
   "metadata": {},
   "source": [
    "<B>10.21:  <B><U>Featured module:  datetime</U>.</B>  </B>"
   ]
  },
  {
   "cell_type": "code",
   "execution_count": null,
   "id": "b52152f0",
   "metadata": {},
   "outputs": [],
   "source": [
    "import datetime as dt\n",
    "\n",
    "# mydate = dt.date(2019, 9, 3)\n",
    "\n",
    "# mydate = dt.date.today()\n",
    "\n",
    "# mydatetime = dt.datetime(2019, 9, 3, 12, 5, 30)\n",
    "\n",
    "# mydatetime = dt.datetime.now()\n",
    "\n",
    "\n",
    "#secs = time.time()\n",
    "#time_elements = time.localtime(secs)\n",
    "#print(time_elements)\n",
    "\n",
    "\n",
    "# myinterval = dt.timedelta(days=3, seconds=120)\n",
    "\n",
    "# newdate = mydate + myinterval\n",
    "\n",
    "# print(newdate)\n",
    "\n",
    "# print(newdate.strftime('%Y-%m-%d'))\n",
    "\n",
    "# dt.datetime.strptime('2019-03-03', '%Y-%m-%d')"
   ]
  },
  {
   "cell_type": "markdown",
   "id": "a9698792",
   "metadata": {},
   "source": [
    " "
   ]
  },
  {
   "cell_type": "markdown",
   "id": "3214db98",
   "metadata": {},
   "source": [
    "<B>10.22:  <B><U>Featured module:  random</U>.</B>  </B>"
   ]
  },
  {
   "cell_type": "code",
   "execution_count": null,
   "id": "079dfd1d",
   "metadata": {},
   "outputs": [],
   "source": [
    "import random\n",
    "\n",
    "myfloat = random.random()\n",
    "\n",
    "# num = random.randint(10)\n",
    "\n",
    "# num = random.randint(3,5)\n",
    "\n",
    "# x = ['a', 'b', 'c']\n",
    "\n",
    "# choice = random.choice(x)"
   ]
  },
  {
   "cell_type": "markdown",
   "id": "aa58f9ad",
   "metadata": {},
   "source": [
    " "
   ]
  },
  {
   "cell_type": "markdown",
   "id": "e366dcff",
   "metadata": {},
   "source": [
    "<B>10.23:  <B><U>Featured module:  csv</U>.</B>  </B>"
   ]
  },
  {
   "cell_type": "code",
   "execution_count": null,
   "id": "450aecab",
   "metadata": {},
   "outputs": [],
   "source": [
    "import csv\n",
    "\n",
    "fh = open('../dated_file.csv')\n",
    "reader = csv.reader(fh)\n",
    "\n",
    "for row in reader:\n",
    "    print(row)\n",
    "\n",
    "fh.close()\n",
    "\n",
    "\n",
    "# wfh = open('../newfile.csv', 'w', newline='')\n",
    "# writer = csv.writer(wfh)\n",
    "\n",
    "# writer.writerow(['a', 'b', 'c'])\n",
    "\n",
    "# wfh.close()\n",
    "\n",
    "# Again, please be advised that you will not see writes to a file\n",
    "# until you close the file with fh.close() or until the program\n",
    "# ends execution.  This is particularly critical with Jupyter as\n",
    "# it is basically a running program."
   ]
  },
  {
   "cell_type": "markdown",
   "id": "2980da99",
   "metadata": {},
   "source": [
    " "
   ]
  },
  {
   "cell_type": "markdown",
   "id": "ecf81831",
   "metadata": {},
   "source": [
    "<B>10.24:  <B><U>Featured module:  openpyxl</U>.</B>  </B>"
   ]
  },
  {
   "cell_type": "markdown",
   "id": "00f0a716",
   "metadata": {},
   "source": [
    "(Note:  if not using Anaconda Python, this module must be installed separately.)\n"
   ]
  },
  {
   "cell_type": "code",
   "execution_count": null,
   "id": "82325708",
   "metadata": {},
   "outputs": [],
   "source": [
    "import openpyxl as ox\n",
    "\n",
    "\n",
    "# read an Excel workbook from a file\n",
    "# read_only=True will limit your actions to reading\n",
    "wb = ox.load_workbook('../revenue.xlsx', read_only=True)\n",
    "\n",
    "\n",
    "# show list of sheets within the workbook\n",
    "print(wb.sheetnames)\n",
    "  # ['transactions']\n",
    "\n",
    "\n",
    "# access a single sheet within the workbook\n",
    "ws = wb['transactions']\n",
    "\n",
    "\n",
    "# loop through the entire worksheet and look at each row\n",
    "for row in ws.iter_rows():\n",
    "\n",
    "    # subscript out two fields from the row\n",
    "    col1 = row[0].value\n",
    "    col2 = row[1].value\n",
    "\n",
    "\n",
    "# to skip rows (for example, headers) you can use min_row= argument:\n",
    "for row in ws.iter_rows(min_row=2):\n",
    "\n",
    "    # subscript out two fields from the row\n",
    "    col1 = row[0].value\n",
    "    col2 = row[1].value\n",
    "\n",
    "# note that older versions of openpyxl may use the skip_rows= argument instead of min_row=.\n",
    "\n",
    "\n",
    "# access one cell by Excel cellname\n",
    "c = ws['A2']           # 'cell' object\n",
    "print(c.value)          # the value in the cell\n",
    "\n",
    "print(ws['B2'].value)   # access value in one statement\n"
   ]
  },
  {
   "cell_type": "markdown",
   "id": "08d8716e",
   "metadata": {},
   "source": [
    " "
   ]
  },
  {
   "cell_type": "markdown",
   "id": "020b5184",
   "metadata": {},
   "source": [
    "<B>10.25:  <B><U>Featured module:  sqlite3</U>.</B>  </B>"
   ]
  },
  {
   "cell_type": "code",
   "execution_count": null,
   "id": "9e4a258b",
   "metadata": {},
   "outputs": [],
   "source": [
    "import sqlite3\n",
    "\n",
    "conn = sqlite3.connect('../mydatabase.db')\n",
    "\n",
    "cur = conn.cursor()\n",
    "\n",
    "cur.execute(\"CREATE TABLE mytable (name TEXT, years INT, balance FLOAT)\")\n",
    "\n",
    "cur.execute(\"INSERT INTO mytable VALUES ('Joe', 23, 23.9)\")\n",
    "cur.execute(\"INSERT INTO mytable VALUES ('Marie', 19, 7.95)\")\n",
    "cur.execute(\"INSERT INTO mytable VALUES ('Zoe', 29, 17.5)\")\n",
    "\n",
    "conn.commit()\n",
    "\n",
    "\n",
    "cur = conn.cursor()\n",
    "\n",
    "rs = cur.execute('SELECT * FROM mytable')\n",
    "\n",
    "for row in rs:\n",
    "    print(row)\n"
   ]
  },
  {
   "cell_type": "markdown",
   "id": "f0e1473d",
   "metadata": {},
   "source": [
    " "
   ]
  },
  {
   "cell_type": "markdown",
   "id": "41954177",
   "metadata": {},
   "source": [
    "<B>10.26:  <B><U>Featured module:  pandas data acquisition</U>.</B>  </B>"
   ]
  },
  {
   "cell_type": "markdown",
   "id": "8e2503e3",
   "metadata": {},
   "source": [
    "(Note:  if not using Anaconda Python, this module must be installed separately.)\n"
   ]
  },
  {
   "cell_type": "code",
   "execution_count": null,
   "id": "738d952e",
   "metadata": {},
   "outputs": [],
   "source": [
    "import pandas as pd\n",
    "import sqlite3\n",
    "\n",
    "df = pd.read_csv('../dated_file.csv')\n",
    "\n",
    "# write DataFrame to excel\n",
    "#df.to_excel('../dated_file.xls')\n",
    "\n",
    "# read from database through query\n",
    "# conn = sqlite3.connect('../testdb.db')\n",
    "# df = pd.read_sql('SELECT * FROM test', conn)"
   ]
  },
  {
   "cell_type": "markdown",
   "id": "6a2c6d78",
   "metadata": {},
   "source": [
    " "
   ]
  },
  {
   "cell_type": "markdown",
   "id": "5dcc0b02",
   "metadata": {},
   "source": [
    "<B>10.27:  <B><U>pandas data management</U>.</B>  </B>"
   ]
  },
  {
   "cell_type": "code",
   "execution_count": null,
   "id": "593f5234",
   "metadata": {},
   "outputs": [],
   "source": [
    "df = pd.read_csv('../dated_file.csv')\n",
    "\n",
    "\n",
    "# sum, average, etc. a column\n",
    "\n",
    "\n",
    "\n",
    "# create a new column\n",
    "\n",
    "# select rows thru a filter\n",
    "\n",
    "# groupby aggregation\n",
    "\n",
    "\n"
   ]
  },
  {
   "cell_type": "markdown",
   "id": "8e296f27",
   "metadata": {},
   "source": [
    " "
   ]
  },
  {
   "cell_type": "markdown",
   "id": "7132c1c9",
   "metadata": {},
   "source": [
    "<B>10.28:  <B><U>pandas visualization</U>.</B>  </B>"
   ]
  },
  {
   "cell_type": "code",
   "execution_count": null,
   "id": "a5bb96df",
   "metadata": {},
   "outputs": [],
   "source": [
    "# groupby bar chart\n",
    "\n",
    "\n",
    "# weather temp line chart\n",
    "\n"
   ]
  },
  {
   "cell_type": "markdown",
   "id": "14fcd7dd",
   "metadata": {},
   "source": [
    " "
   ]
  },
  {
   "cell_type": "markdown",
   "id": "d0cdc24d",
   "metadata": {},
   "source": [
    "<B>10.29:  <B><U>Featured module: bs4</U>.</B>  </B>"
   ]
  },
  {
   "cell_type": "markdown",
   "id": "54e12a0e",
   "metadata": {},
   "source": [
    "(Note:  if not using Anaconda Python, this module must be installed separately.)\n"
   ]
  },
  {
   "cell_type": "code",
   "execution_count": null,
   "id": "042edbb2",
   "metadata": {},
   "outputs": [],
   "source": [
    "import bs4\n",
    "\n",
    "fh = open('../dormouse.html')\n",
    "\n",
    "text = fh.read()\n",
    "\n",
    "page = bs4.BeautifulSoup(text, 'html.parser')\n",
    "\n",
    "print(page.title)\n",
    "\n",
    "fh.close()"
   ]
  },
  {
   "cell_type": "markdown",
   "id": "457413cf",
   "metadata": {},
   "source": [
    " "
   ]
  },
  {
   "cell_type": "markdown",
   "id": "f7f6fede",
   "metadata": {},
   "source": [
    "<B>10.30:  <B><U>Featured module:  requests</U>.</B>  </B>"
   ]
  },
  {
   "cell_type": "markdown",
   "id": "859e1eda",
   "metadata": {},
   "source": [
    "(Note:  if not using Anaconda Python, bs4 must be installed separately.)"
   ]
  },
  {
   "cell_type": "code",
   "execution_count": null,
   "id": "af565e20",
   "metadata": {},
   "outputs": [],
   "source": [
    "import requests\n",
    "import bs4\n",
    "\n",
    "response = requests.get('http://www.nytimes.com')\n",
    "\n",
    "page = bs4.BeautifulSoup(response.text, 'html.parser')\n",
    "\n",
    "print(page.title)"
   ]
  },
  {
   "cell_type": "markdown",
   "id": "00133deb",
   "metadata": {},
   "source": [
    " "
   ]
  },
  {
   "cell_type": "markdown",
   "id": "7da46997",
   "metadata": {},
   "source": [
    "<B>10.31:  <B><U>Featured module:  re</U>.</B>  </B>"
   ]
  },
  {
   "cell_type": "code",
   "execution_count": null,
   "id": "c4bc6f35",
   "metadata": {},
   "outputs": [],
   "source": [
    "import re\n",
    "\n",
    "line = 'a phone number:  213-298-1990'\n",
    "\n",
    "matchobj = re.search(r'(\\d\\d\\d)\\-(\\d\\d\\d)\\-(\\d\\d\\d\\d)', line)\n",
    "\n",
    "print(matchobj.group(1))"
   ]
  },
  {
   "cell_type": "markdown",
   "id": "c13081cc",
   "metadata": {},
   "source": [
    " "
   ]
  },
  {
   "cell_type": "markdown",
   "id": "e4815bc7",
   "metadata": {},
   "source": [
    "<B>10.32:  <B><U>Featured module:  subprocess</U>.</B>  </B>"
   ]
  },
  {
   "cell_type": "code",
   "execution_count": null,
   "id": "09fed3ed",
   "metadata": {},
   "outputs": [],
   "source": [
    "import subprocess\n",
    "\n",
    "subprocess.call(['python', 'hello.py'])\n",
    "\n",
    "# out = subprocess.check_output(['python', 'hello.py')"
   ]
  },
  {
   "cell_type": "markdown",
   "id": "aaf156c6",
   "metadata": {},
   "source": [
    " "
   ]
  },
  {
   "cell_type": "markdown",
   "id": "5722e211",
   "metadata": {},
   "source": [
    "<B>10.33:  <B><U>Featured module:  textwrap</U>.</B>  </B>"
   ]
  },
  {
   "cell_type": "code",
   "execution_count": null,
   "id": "a335281b",
   "metadata": {},
   "outputs": [],
   "source": [
    "import textwrap\n",
    "\n",
    "text = (\"This is some really long text that we would like to wrap.  \"\n",
    "        \"Wouldn't you know it, there's a module for that!  \")\n",
    "\n",
    "\n",
    "items = textwrap.wrap(text, 10)\n",
    "\n",
    "print('\\n'.join(items))"
   ]
  },
  {
   "cell_type": "markdown",
   "id": "db425439",
   "metadata": {},
   "source": [
    " "
   ]
  }
 ],
 "metadata": {},
 "nbformat": 4,
 "nbformat_minor": 5
}
