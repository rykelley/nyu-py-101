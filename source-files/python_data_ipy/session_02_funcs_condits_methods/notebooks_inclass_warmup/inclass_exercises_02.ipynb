{
 "cells": [
  {
   "cell_type": "markdown",
   "id": "1fd10ef4",
   "metadata": {},
   "source": [
    "# In-Class Exercises, Session 2"
   ]
  },
  {
   "cell_type": "markdown",
   "id": "f6f6c542",
   "metadata": {},
   "source": [
    "PLEASE REFER to pythonreference.com for syntax to follow in coding these Exercises"
   ]
  },
  {
   "cell_type": "markdown",
   "id": "12d32219",
   "metadata": {},
   "source": [
    " "
   ]
  },
  {
   "cell_type": "markdown",
   "id": "a2ef4616",
   "metadata": {},
   "source": [
    "IF/ELIF/ELSE with COMPARISON OPERATORS"
   ]
  },
  {
   "cell_type": "markdown",
   "id": "d339fbda",
   "metadata": {},
   "source": [
    " "
   ]
  },
  {
   "cell_type": "markdown",
   "id": "cd0c67a5",
   "metadata": {},
   "source": [
    "<B>2.1:  <B><U>Use 'if' and 'if not' with comparison operators</U></B> to perform the noted comparisons.  </B>"
   ]
  },
  {
   "cell_type": "code",
   "execution_count": null,
   "id": "8a35e869",
   "metadata": {},
   "outputs": [],
   "source": [
    "# if aa is greater than bb, print 'ok1' (use '>')\n",
    "aa = 50\n",
    "bb = 35\n",
    "\n",
    "\n",
    "# if vara is equal to varb, print 'ok2' (use '==')\n",
    "vara = 50\n",
    "varb = 50.0\n",
    "\n",
    "\n",
    "# if mya is greater than or equal to thisx, print 'ok3' (use '>=')\n",
    "mya = 5\n",
    "thisx = 4.9\n",
    "\n",
    "\n",
    "# if var_x is the same string value as var_y, print 'ok4' (use '==')\n",
    "var_x = 'hello'\n",
    "var_y = 'hello'\n",
    "\n",
    "\n",
    "# if the value of variable 'this' is NOT equal to variable 'that', print 'ok5'\n",
    "# do this two ways, without using 'else' (use '!=' and '==' with not')\n",
    "this = 5.0\n",
    "that = 5.01\n"
   ]
  },
  {
   "cell_type": "markdown",
   "id": "430fa1a6",
   "metadata": {},
   "source": [
    "<U>Expected Output</U>:  "
   ]
  },
  {
   "cell_type": "markdown",
   "id": "0bc8cad2",
   "metadata": {},
   "source": [
    "<pre style=\"margin: 0; padding=0\"><DIV style=\"font-family: Courier; border: 1px solid #dbdbdb; padding: 7px\">ok\n",
    "ok2\n",
    "ok3\n",
    "ok4\n",
    "ok5\n",
    "ok5</DIV></pre>"
   ]
  },
  {
   "cell_type": "markdown",
   "id": "7fefea1a",
   "metadata": {},
   "source": [
    " "
   ]
  },
  {
   "cell_type": "markdown",
   "id": "c8437bb1",
   "metadata": {},
   "source": [
    "<B>2.2:  <B><U>Use 'if' with 'else'</U>.</B>  </B>"
   ]
  },
  {
   "cell_type": "markdown",
   "id": "62bf3920",
   "metadata": {},
   "source": [
    "If 'a' is greater than or equal to 'b', print 'greater than or equal to'.  Otherwise (without an additional test) print 'lesser than'.  Change the values to show both parts of the if/else are working correctly.\n"
   ]
  },
  {
   "cell_type": "code",
   "execution_count": null,
   "id": "8ab3bdbf",
   "metadata": {},
   "outputs": [],
   "source": [
    "a = 5\n",
    "b = 3\n"
   ]
  },
  {
   "cell_type": "markdown",
   "id": "79a72b49",
   "metadata": {},
   "source": [
    " "
   ]
  },
  {
   "cell_type": "markdown",
   "id": "e142283d",
   "metadata": {},
   "source": [
    "<B>2.3:  <B><U>Use 'if' with 'elif' and 'else'</U>.</B>  </B>"
   ]
  },
  {
   "cell_type": "markdown",
   "id": "af1f7ab7",
   "metadata": {},
   "source": [
    "If variable 'myaa' is greater than variable 'mybb', print 'greater'; otherwise if 'myaa' is less than 'mybb', print 'lesser', otherwise, print 'equal'.  Again, change the values to prove that all 3 conditions are correctly handled.\n"
   ]
  },
  {
   "cell_type": "code",
   "execution_count": null,
   "id": "d4fceb59",
   "metadata": {},
   "outputs": [],
   "source": [
    "myaa = 20\n",
    "mybb = 10\n"
   ]
  },
  {
   "cell_type": "markdown",
   "id": "9dc5968d",
   "metadata": {},
   "source": [
    " "
   ]
  },
  {
   "cell_type": "markdown",
   "id": "a5c80416",
   "metadata": {},
   "source": [
    "<B>2.4:  <U>Test to see if one string can be found in another</U>.  </B>"
   ]
  },
  {
   "cell_type": "markdown",
   "id": "9840d276",
   "metadata": {},
   "source": [
    "Use <B>if</B> with <B>in</B> to see if the characters in <B>varx</B> can be found in <B>vary</B>; if so, print 'is a substring'.\n"
   ]
  },
  {
   "cell_type": "code",
   "execution_count": null,
   "id": "99ee0f5a",
   "metadata": {},
   "outputs": [],
   "source": [
    "varx = 'Python is awesome'\n",
    "vary = 'awe'\n",
    "\n"
   ]
  },
  {
   "cell_type": "markdown",
   "id": "eaa0aeaf",
   "metadata": {},
   "source": [
    "<U>Expected Output</U>:  "
   ]
  },
  {
   "cell_type": "markdown",
   "id": "2a16c91f",
   "metadata": {},
   "source": [
    "<pre style=\"margin: 0; padding=0\"><DIV style=\"font-family: Courier; border: 1px solid #dbdbdb; padding: 7px\">is a substring</DIV></pre>"
   ]
  },
  {
   "cell_type": "markdown",
   "id": "bc2c46f9",
   "metadata": {},
   "source": [
    " "
   ]
  },
  {
   "cell_type": "markdown",
   "id": "1920806c",
   "metadata": {},
   "source": [
    "AND, OR, NOT"
   ]
  },
  {
   "cell_type": "markdown",
   "id": "6ad7cdb3",
   "metadata": {},
   "source": [
    "<B>2.5:  <B><U>Use 'or', 'and' and 'not'</U></B> to perform the noted comparisons.</B>"
   ]
  },
  {
   "cell_type": "code",
   "execution_count": null,
   "id": "4d6fd81b",
   "metadata": {},
   "outputs": [],
   "source": [
    "vara= 5\n",
    "myb = -5\n",
    "\n",
    "# single statement:  if variable 'vara' is greater than 0\n",
    "# and also greater than 'myb', print 'ok1'\n",
    "\n",
    "\n",
    "# single statement:  if variable 'vara' is greater than 0\n",
    "# or 'myb' is greater than 0, print 'ok2'\n",
    "\n",
    "\n",
    "# single statement:  if variable 'vara' is less than 0\n",
    "# or 'myb' is not greater than 0, print 'ok3'\n",
    "\n"
   ]
  },
  {
   "cell_type": "markdown",
   "id": "e45d0e74",
   "metadata": {},
   "source": [
    "<U>Expected Output</U>:  "
   ]
  },
  {
   "cell_type": "markdown",
   "id": "d414843e",
   "metadata": {},
   "source": [
    "<pre style=\"margin: 0; padding=0\"><DIV style=\"font-family: Courier; border: 1px solid #dbdbdb; padding: 7px\">ok1\n",
    "ok2\n",
    "ok3</DIV></pre>"
   ]
  },
  {
   "cell_type": "markdown",
   "id": "e7979c22",
   "metadata": {},
   "source": [
    " "
   ]
  },
  {
   "cell_type": "markdown",
   "id": "8793426f",
   "metadata": {},
   "source": [
    "<B>2.6:  <B><U>Use 'or' to test a variable for multiple values</U>.</B>  </B>"
   ]
  },
  {
   "cell_type": "markdown",
   "id": "f11d909b",
   "metadata": {},
   "source": [
    "In a single statement, if user's input is equal to \"q\" or \"quit\", print \"quitting...\"; otherwise, print \"NOT quitting\".\n"
   ]
  },
  {
   "cell_type": "code",
   "execution_count": null,
   "id": "d5626df9",
   "metadata": {},
   "outputs": [],
   "source": [
    "aa = input('\"q\" or \"quit\" to quit:  ')\n",
    "\n"
   ]
  },
  {
   "cell_type": "markdown",
   "id": "fdbe15e7",
   "metadata": {},
   "source": [
    " "
   ]
  },
  {
   "cell_type": "markdown",
   "id": "ec9fd614",
   "metadata": {},
   "source": [
    "<B>2.7:  <B><U>Use 'not' to negate a test</U>.</B>  </B>"
   ]
  },
  {
   "cell_type": "markdown",
   "id": "4551535d",
   "metadata": {},
   "source": [
    "Use <B>not</B> in front of the <B>in</B> operator to see if user's input is not in the sentence.  If cannot be found there, print <B>not found</B>.\n"
   ]
  },
  {
   "cell_type": "code",
   "execution_count": null,
   "id": "ee326dbd",
   "metadata": {},
   "outputs": [],
   "source": [
    "text = 'Calculation is the name of the game.  '\n",
    "\n",
    "num = input('please enter search text:  ')\n",
    "\n"
   ]
  },
  {
   "cell_type": "markdown",
   "id": "8e1b4865",
   "metadata": {},
   "source": [
    " "
   ]
  },
  {
   "cell_type": "markdown",
   "id": "e7908900",
   "metadata": {},
   "source": [
    "LAB 1"
   ]
  },
  {
   "cell_type": "markdown",
   "id": "b00670bb",
   "metadata": {},
   "source": [
    "<div style=\"background-color: #ccffcc; padding: 10px; border: 2px solid green\"><B>2.8:  <U>Compare user input to string</U>.  </B></div>"
   ]
  },
  {
   "cell_type": "markdown",
   "id": "d45918e6",
   "metadata": {},
   "source": [
    "Take keyboard input from the user, then see if it is equal to 'quit'.  If it is, print <B>quitting...</B>.  Make sure to test with 'quit' and with another input value.\n"
   ]
  },
  {
   "cell_type": "code",
   "execution_count": null,
   "id": "e206f2c4",
   "metadata": {},
   "outputs": [],
   "source": []
  },
  {
   "cell_type": "markdown",
   "id": "971e44bf",
   "metadata": {},
   "source": [
    " "
   ]
  },
  {
   "cell_type": "markdown",
   "id": "4cc90dbe",
   "metadata": {},
   "source": [
    "<div style=\"background-color: #ccffcc; padding: 10px; border: 2px solid green\"><B>2.9:  <U>Compare user input for a number to an integer for equivalence</U>.</B></div>"
   ]
  },
  {
   "cell_type": "markdown",
   "id": "d53023cb",
   "metadata": {},
   "source": [
    "Take keyboard input for a number from the user, then see if the number is equal to integer <B>5</B>.  If so, print 'is equal to 5'.  Again, test both with <B>5</B> and another value."
   ]
  },
  {
   "cell_type": "code",
   "execution_count": null,
   "id": "7ba82234",
   "metadata": {},
   "outputs": [],
   "source": [
    "test_int = 5\n",
    "\n",
    "ui = input('please enter an int value: ')\n"
   ]
  },
  {
   "cell_type": "markdown",
   "id": "a03f5344",
   "metadata": {},
   "source": [
    " "
   ]
  },
  {
   "cell_type": "markdown",
   "id": "02467ac8",
   "metadata": {},
   "source": [
    "<div style=\"background-color: #ccffcc; padding: 10px; border: 2px solid green\"><B>2.10:  <U>Compare user input for a number to an integer for greater than or less than</U>.</B></div>"
   ]
  },
  {
   "cell_type": "markdown",
   "id": "40d26767",
   "metadata": {},
   "source": [
    "Take keyboard input for a number from the user, then see if the number is greater than <B>0</B>; if so, print 'positive'.  Otherwise, see if it is less than 0; if so, print 'negative'.  Otherwise, print 'zero'.  Again, test with positive and negative values, and 0.  (Don't forget that if your logic says 'otherwise', it should use <B>elif</B> or <B>else</B>.)"
   ]
  },
  {
   "cell_type": "code",
   "execution_count": null,
   "id": "17a520a4",
   "metadata": {},
   "outputs": [],
   "source": [
    "ui = input('please enter an int value: ')\n"
   ]
  },
  {
   "cell_type": "markdown",
   "id": "f8f45d53",
   "metadata": {},
   "source": [
    " "
   ]
  },
  {
   "cell_type": "markdown",
   "id": "5e610ab5",
   "metadata": {},
   "source": [
    "<div style=\"background-color: #ccffcc; padding: 10px; border: 2px solid green\"><B>2.11:  <U>Take user input for a number, then say whether the number is even or odd</U>.  Remember to test for both!  </B></div>"
   ]
  },
  {
   "cell_type": "code",
   "execution_count": null,
   "id": "7516d527",
   "metadata": {},
   "outputs": [],
   "source": [
    "ui = input('please enter an int value: ')\n"
   ]
  },
  {
   "cell_type": "markdown",
   "id": "4f37ac7c",
   "metadata": {},
   "source": [
    " "
   ]
  },
  {
   "cell_type": "markdown",
   "id": "2d49a36f",
   "metadata": {},
   "source": [
    "<div style=\"background-color: #ccffcc; padding: 10px; border: 2px solid green\"><B>2.12:  <U>Take user input, say if it is a substring of another string</U>.  </B></div>"
   ]
  },
  {
   "cell_type": "markdown",
   "id": "993d02ce",
   "metadata": {},
   "source": [
    "If the user types a string of characters that can be found in <B>test\\_string</B>, print <B>True</B> otherwise print <B>False</B>.  Remember to test!"
   ]
  },
  {
   "cell_type": "code",
   "execution_count": null,
   "id": "d718a4ae",
   "metadata": {},
   "outputs": [],
   "source": [
    "test_string = 'Hello Pythonistas well met.'\n",
    "\n",
    "ui = input('please enter a substring: ')\n"
   ]
  },
  {
   "cell_type": "markdown",
   "id": "8189bce1",
   "metadata": {},
   "source": [
    " "
   ]
  },
  {
   "cell_type": "markdown",
   "id": "27100966",
   "metadata": {},
   "source": [
    "<div style=\"background-color: #ccffcc; padding: 10px; border: 2px solid green\"><B>2.13:  <U>Take user input for a number, say if it is equal to one value or equal to another value</U>.  If the user's number is equal to 5 or equal to 15, print 'true'; otherwise, print 'false'.  </B></div>"
   ]
  },
  {
   "cell_type": "code",
   "execution_count": null,
   "id": "db602bef",
   "metadata": {},
   "outputs": [],
   "source": [
    "ui = input('please enter an int value:  ')\n",
    "\n"
   ]
  },
  {
   "cell_type": "markdown",
   "id": "d31b846b",
   "metadata": {},
   "source": [
    " "
   ]
  },
  {
   "cell_type": "markdown",
   "id": "312d2fa0",
   "metadata": {},
   "source": [
    "<div style=\"background-color: #ccffcc; padding: 10px; border: 2px solid green\"><B>2.14:  <U>Take user input for a number, say if it is less than one value and greater than another value</U>.  If the user's number is less than 101 and greater than 0, print 'within range'; otherwise, print 'out of range'.  </B></div>"
   ]
  },
  {
   "cell_type": "code",
   "execution_count": null,
   "id": "fe99fdb6",
   "metadata": {},
   "outputs": [],
   "source": [
    "ui = input('please enter an int value:  ')\n",
    "\n"
   ]
  },
  {
   "cell_type": "markdown",
   "id": "d1243e1d",
   "metadata": {},
   "source": [
    " "
   ]
  },
  {
   "cell_type": "markdown",
   "id": "5d0284af",
   "metadata": {},
   "source": [
    "WHILE"
   ]
  },
  {
   "cell_type": "markdown",
   "id": "a7bc1eb6",
   "metadata": {},
   "source": [
    "<B>2.15:  <B><U>Increment a value 3 times</U>.  In 3 statements, use incrementation (num = num + 1, or <B>num += 1</B>) to bring the value <B>num</B> to <B>3</B>.  </B>"
   ]
  },
  {
   "cell_type": "code",
   "execution_count": null,
   "id": "a0ab20cd",
   "metadata": {},
   "outputs": [],
   "source": [
    "num = 0\n",
    "\n",
    "num = num + 1\n",
    "num = num + 1\n",
    "num += 1           # same as above 2 statements\n",
    "\n",
    "print(num)         # 3"
   ]
  },
  {
   "cell_type": "markdown",
   "id": "4bd7338a",
   "metadata": {},
   "source": [
    " "
   ]
  },
  {
   "cell_type": "markdown",
   "id": "ce764a27",
   "metadata": {},
   "source": [
    "<B>2.16:  <B><U>While loop until threshold value</U>.  Increment <\\B>num<B> until it reaches the value of <\\B>threshold.  </B>"
   ]
  },
  {
   "cell_type": "markdown",
   "id": "1441028e",
   "metadata": {},
   "source": [
    "(Note if you can't get out of a loop, in PyCharm use the red square to the left of the Run window; in Jupyter notebook, restart the kernel.)\n"
   ]
  },
  {
   "cell_type": "code",
   "execution_count": null,
   "id": "2c5d1a83",
   "metadata": {},
   "outputs": [],
   "source": [
    "num = 0\n",
    "threshold = 5\n",
    "\n",
    "# your while loop here\n",
    "\n",
    "\n",
    "\n",
    "\n",
    "print('done')"
   ]
  },
  {
   "cell_type": "markdown",
   "id": "cef6cb2f",
   "metadata": {},
   "source": [
    "<U>Expected Output</U>:  "
   ]
  },
  {
   "cell_type": "markdown",
   "id": "06ad2675",
   "metadata": {},
   "source": [
    "<pre style=\"margin: 0; padding=0\"><DIV style=\"font-family: Courier; border: 1px solid #dbdbdb; padding: 7px\">1\n",
    "2\n",
    "3\n",
    "4\n",
    "5\n",
    "done</DIV></pre>"
   ]
  },
  {
   "cell_type": "markdown",
   "id": "35b11070",
   "metadata": {},
   "source": [
    " "
   ]
  },
  {
   "cell_type": "markdown",
   "id": "5dfa1910",
   "metadata": {},
   "source": [
    "<B>2.17:  <B><U>While loop until arbitrary value</U>.  Add a test so that this <B>while</B> loop continues looping until the user's input is equal to 'yes'.</B>   </B>"
   ]
  },
  {
   "cell_type": "markdown",
   "id": "5b854246",
   "metadata": {},
   "source": [
    "(Note if you can't get out of a loop, in PyCharm use the red square to the left of the Run window; in Jupyter notebook, restart the kernel.)\n"
   ]
  },
  {
   "cell_type": "code",
   "execution_count": null,
   "id": "d95a82ea",
   "metadata": {},
   "outputs": [],
   "source": [
    "# continue looping until input is equal to 'yes'\n",
    "ui = ''\n",
    "\n",
    "while  # your test here\n",
    "\n",
    "    ui = input(\"please say yes, otherwise I'll ask again: \" )\n",
    "\n",
    "\n",
    "\n",
    "\n",
    "\n",
    "print('done')"
   ]
  },
  {
   "cell_type": "markdown",
   "id": "f26233f2",
   "metadata": {},
   "source": [
    "<U>Expected Output</U>:  "
   ]
  },
  {
   "cell_type": "markdown",
   "id": "baac00cb",
   "metadata": {},
   "source": [
    "<pre style=\"margin: 0; padding=0\"><DIV style=\"font-family: Courier; border: 1px solid #dbdbdb; padding: 7px\">please say yes, otherwise I'll ask again: no\n",
    "please say yes, otherwise I'll ask again: well\n",
    "please say yes, otherwise I'll ask again: what\n",
    "please say yes, otherwise I'll ask again: yes\n",
    "done</DIV></pre>"
   ]
  },
  {
   "cell_type": "markdown",
   "id": "3cbb9060",
   "metadata": {},
   "source": [
    " "
   ]
  },
  {
   "cell_type": "markdown",
   "id": "70a208e8",
   "metadata": {},
   "source": [
    "BREAK AND CONTINUE"
   ]
  },
  {
   "cell_type": "markdown",
   "id": "01bb4445",
   "metadata": {},
   "source": [
    "<B>2.18:  <B><U>Use 'break' to break out of a loop if a condition is True</U>.</B>  </B>"
   ]
  },
  {
   "cell_type": "markdown",
   "id": "c8ff6ec9",
   "metadata": {},
   "source": [
    "The below loop will loop indefinitely, asking the user for input (try it, then use the red square to the left of the Run window, or in Jupyter restart the kernel to get out of the loop).  Add a statement to test if equal to 'q', break out of the loop (otherwise, loop should take us back to input again).\n"
   ]
  },
  {
   "cell_type": "code",
   "execution_count": null,
   "id": "33d9c858",
   "metadata": {},
   "outputs": [],
   "source": [
    "while True:\n",
    "\n",
    "    ui = input('please enter \"q\" to quit:  ')\n",
    "\n",
    "    # your code here\n",
    "\n",
    "    print('continuing...')\n",
    "\n",
    "\n",
    "print('done')"
   ]
  },
  {
   "cell_type": "markdown",
   "id": "16ccf4d4",
   "metadata": {},
   "source": [
    " "
   ]
  },
  {
   "cell_type": "markdown",
   "id": "fe0071d8",
   "metadata": {},
   "source": [
    "<B>2.19:  <B><U>Use 'continue' to keep iterating</U>.</B>  </B>"
   ]
  },
  {
   "cell_type": "markdown",
   "id": "d091cb7d",
   "metadata": {},
   "source": [
    "Run this code first.  Then if value of 'count' is < 3, use 'continue' to keep iterating without printing.    You should see only '3' and '4' printed."
   ]
  },
  {
   "cell_type": "code",
   "execution_count": null,
   "id": "d5f0ee28",
   "metadata": {},
   "outputs": [],
   "source": [
    "maxval = 4\n",
    "count = 0\n",
    "\n",
    "while count < maxval:\n",
    "\n",
    "    count = count + 1\n",
    "\n",
    "    # your code here:  loop back if count < 3\n",
    "\n",
    "    print(count)\n",
    "\n",
    "\n",
    "print('done')"
   ]
  },
  {
   "cell_type": "markdown",
   "id": "b4898602",
   "metadata": {},
   "source": [
    "<U>Expected Output</U>:  "
   ]
  },
  {
   "cell_type": "markdown",
   "id": "aeaed735",
   "metadata": {},
   "source": [
    "<pre style=\"margin: 0; padding=0\"><DIV style=\"font-family: Courier; border: 1px solid #dbdbdb; padding: 7px\">3\n",
    "4\n",
    "done</DIV></pre>"
   ]
  },
  {
   "cell_type": "markdown",
   "id": "7790654a",
   "metadata": {},
   "source": [
    " "
   ]
  },
  {
   "cell_type": "markdown",
   "id": "3a8a9d1e",
   "metadata": {},
   "source": [
    "<B>2.20:  <B><U>Review:  Modulus operator</U>.</B>  </B>"
   ]
  },
  {
   "cell_type": "markdown",
   "id": "06768789",
   "metadata": {},
   "source": [
    "What is <B>a % b</B>?  What is <B>a % c</B>?  Can you tell why this operator is returning these values?"
   ]
  },
  {
   "cell_type": "code",
   "execution_count": null,
   "id": "002f47a0",
   "metadata": {},
   "outputs": [],
   "source": [
    "a = 8\n",
    "b = 3\n",
    "c = 2"
   ]
  },
  {
   "cell_type": "markdown",
   "id": "16062693",
   "metadata": {},
   "source": [
    " "
   ]
  },
  {
   "cell_type": "markdown",
   "id": "55fb5d67",
   "metadata": {},
   "source": [
    "LAB 2"
   ]
  },
  {
   "cell_type": "markdown",
   "id": "294f5ae7",
   "metadata": {},
   "source": [
    "<div style=\"background-color: #ccffcc; padding: 10px; border: 2px solid green\"><B>2.21:  <U>Create a while loop with a counter and terminal value</U>.  </B></div>"
   ]
  },
  {
   "cell_type": "markdown",
   "id": "b2abfbc2",
   "metadata": {},
   "source": [
    "Inside a <B>while</B> block, increment the counter and print the counter value.  If the counter is greater than 3, the <B>while</B> loop should exit.  In other words, it should keep looping while it is less than or equal to 3 (do not use <B>break</B> here).\n"
   ]
  },
  {
   "cell_type": "code",
   "execution_count": null,
   "id": "8cd8818d",
   "metadata": {},
   "outputs": [],
   "source": [
    "counter = 0\n"
   ]
  },
  {
   "cell_type": "markdown",
   "id": "b395dbd5",
   "metadata": {},
   "source": [
    "<U>Expected Output</U>:  "
   ]
  },
  {
   "cell_type": "markdown",
   "id": "06575c33",
   "metadata": {},
   "source": [
    "<pre style=\"margin: 0; padding=0\"><DIV style=\"font-family: Courier; border: 1px solid #dbdbdb; padding: 7px\">1\n",
    "2\n",
    "3\n",
    "4</DIV></pre>"
   ]
  },
  {
   "cell_type": "markdown",
   "id": "f7a06df8",
   "metadata": {},
   "source": [
    " "
   ]
  },
  {
   "cell_type": "markdown",
   "id": "968622a6",
   "metadata": {},
   "source": [
    "<div style=\"background-color: #ccffcc; padding: 10px; border: 2px solid green\"><B>2.22:  <U>Create a while loop that breaks if user input equals a certain value</U>.  </B></div>"
   ]
  },
  {
   "cell_type": "markdown",
   "id": "2194c1fa",
   "metadata": {},
   "source": [
    "Inside a <B>while True</B> block, take user input.  If the user typed 'quit', break out of the loop.  Otherwise, allow the loop to loop back and ask again.\n"
   ]
  },
  {
   "cell_type": "code",
   "execution_count": null,
   "id": "2c75c624",
   "metadata": {},
   "outputs": [],
   "source": []
  },
  {
   "cell_type": "markdown",
   "id": "980a721a",
   "metadata": {},
   "source": [
    " "
   ]
  },
  {
   "cell_type": "markdown",
   "id": "a78e5f6d",
   "metadata": {},
   "source": [
    "<div style=\"background-color: #ccffcc; padding: 10px; border: 2px solid green\"><B>2.23:  <U>Create a while loop that continues if user input does not equal a certain value, otherwise breaks</U>.  </B></div>"
   ]
  },
  {
   "cell_type": "markdown",
   "id": "57aa35da",
   "metadata": {},
   "source": [
    "Inside a <B>while True</B> block, take user input.  If the user did not type 'quit', use <B>continue</B> to go back to the top of the while block; otherwise, <B>break</b> out of the loop.\n"
   ]
  },
  {
   "cell_type": "code",
   "execution_count": null,
   "id": "2c502c04",
   "metadata": {},
   "outputs": [],
   "source": []
  },
  {
   "cell_type": "markdown",
   "id": "bb3db712",
   "metadata": {},
   "source": [
    " "
   ]
  },
  {
   "cell_type": "markdown",
   "id": "9fec512a",
   "metadata": {},
   "source": [
    "<div style=\"background-color: #ccffcc; padding: 10px; border: 2px solid green\"><B>2.24:  <U>Create a while loop that uses modulus to determine whether to continue</U>.  </B></div>"
   ]
  },
  {
   "cell_type": "markdown",
   "id": "aca6527e",
   "metadata": {},
   "source": [
    "Create a <B>while</B> loop that increments the counter and stops looping if <B>counter</B> becomes greater than 10.\n",
    "\n",
    "Now add an <B>if</B> statement that checks to see if <B>counter</B> is even.  If it is, it prints the counter.  You should see only even numbers printed."
   ]
  },
  {
   "cell_type": "code",
   "execution_count": null,
   "id": "a3aacc34",
   "metadata": {},
   "outputs": [],
   "source": [
    "counter = 0\n"
   ]
  },
  {
   "cell_type": "markdown",
   "id": "72c73013",
   "metadata": {},
   "source": [
    "<U>Expected Output</U>:  "
   ]
  },
  {
   "cell_type": "markdown",
   "id": "1a052610",
   "metadata": {},
   "source": [
    "<pre style=\"margin: 0; padding=0\"><DIV style=\"font-family: Courier; border: 1px solid #dbdbdb; padding: 7px\">2\n",
    "4\n",
    "6\n",
    "8\n",
    "10</DIV></pre>"
   ]
  },
  {
   "cell_type": "markdown",
   "id": "a1cb84b8",
   "metadata": {},
   "source": [
    " "
   ]
  },
  {
   "cell_type": "markdown",
   "id": "407e3dba",
   "metadata": {},
   "source": [
    "'TRANSFORMING' STRING METHODS"
   ]
  },
  {
   "cell_type": "markdown",
   "id": "63a046bc",
   "metadata": {},
   "source": [
    "<B>2.25:  <B><U>Use string methods that transform a string</U></B> with the below operations.  </B>"
   ]
  },
  {
   "cell_type": "code",
   "execution_count": null,
   "id": "62c08b33",
   "metadata": {},
   "outputs": [],
   "source": [
    "# lowercase and print this string (use .lower())\n",
    "xx = 'HELLO'\n",
    "\n",
    "\n",
    "# uppercase and print this string (use .upper())\n",
    "zz = 'what?'\n",
    "\n",
    "\n",
    "# replace 'this' with 'that' in the sentence,\n",
    "# then print the replaced string (use .replace())\n",
    "sentence = \"I can't say no to this.\"\n"
   ]
  },
  {
   "cell_type": "markdown",
   "id": "e440add3",
   "metadata": {},
   "source": [
    "<U>Expected Output</U>:  "
   ]
  },
  {
   "cell_type": "markdown",
   "id": "7454777c",
   "metadata": {},
   "source": [
    "<pre style=\"margin: 0; padding=0\"><DIV style=\"font-family: Courier; border: 1px solid #dbdbdb; padding: 7px\">hello\n",
    "WHAT?\n",
    "I can't say no to that.</DIV></pre>"
   ]
  },
  {
   "cell_type": "markdown",
   "id": "37aaa000",
   "metadata": {},
   "source": [
    " "
   ]
  },
  {
   "cell_type": "markdown",
   "id": "d07691b9",
   "metadata": {},
   "source": [
    "'INSPECTNG' STRING METHODS"
   ]
  },
  {
   "cell_type": "markdown",
   "id": "e1f76ef4",
   "metadata": {},
   "source": [
    "<B>2.26:  <B><U>Use string methods that evaluate a string</U>.</B> </B>"
   ]
  },
  {
   "cell_type": "markdown",
   "id": "53ceafdc",
   "metadata": {},
   "source": [
    "Perform the following operations:\n"
   ]
  },
  {
   "cell_type": "code",
   "execution_count": null,
   "id": "32be2437",
   "metadata": {},
   "outputs": [],
   "source": [
    "# if string variable 'varstr' is all digits, print \"all digits\" (use .isdigit())\n",
    "varstr = '555'\n",
    "\n",
    "\n",
    "\n",
    "# if string variable 'varstr2' is not all digits, print \"not all digits\"\n",
    "# (use 'not' in front of .isdigit()))\n",
    "varstr2 = '555a'\n",
    "\n",
    "\n",
    "\n",
    "# if the string 'filename' starts with a \".\" (period), print \"hidden\"\n",
    "# (incidentally, this signifies a \"hidden\" file on your computer's filesystem)\n",
    "# (use .startswith())\n",
    "filename = '.hidden'\n",
    "\n",
    "\n",
    "\n",
    "# if the string 'filename2' ends with '.txt' (a text file), print \"text file\"\n",
    "# (use .endswith())\n",
    "filename2 = 'myfile.txt'\n",
    "\n",
    "\n"
   ]
  },
  {
   "cell_type": "markdown",
   "id": "9f7545d9",
   "metadata": {},
   "source": [
    "<U>Expected Output</U>:  "
   ]
  },
  {
   "cell_type": "markdown",
   "id": "2406caac",
   "metadata": {},
   "source": [
    "<pre style=\"margin: 0; padding=0\"><DIV style=\"font-family: Courier; border: 1px solid #dbdbdb; padding: 7px\">all digits\n",
    "hidden\n",
    "text file</DIV></pre>"
   ]
  },
  {
   "cell_type": "markdown",
   "id": "fdd2dd83",
   "metadata": {},
   "source": [
    " "
   ]
  },
  {
   "cell_type": "markdown",
   "id": "9ba2a5a2",
   "metadata": {},
   "source": [
    "'f' STRINGS"
   ]
  },
  {
   "cell_type": "markdown",
   "id": "706b2c73",
   "metadata": {},
   "source": [
    " "
   ]
  },
  {
   "cell_type": "markdown",
   "id": "b5436f60",
   "metadata": {},
   "source": [
    "<B>2.27:  <B><U>Use an f'' string to perform string formatting operations</U>.</B></B>"
   ]
  },
  {
   "cell_type": "code",
   "execution_count": null,
   "id": "e4ae1998",
   "metadata": {},
   "outputs": [],
   "source": [
    "# insert numbers into a string:  using the below variables\n",
    "# in one statement without concatenation,\n",
    "# print '7 days a week, 365 days a year'\n",
    "\n",
    "year = 365\n",
    "week = 7\n",
    "\n",
    "\n",
    "\n",
    "# insert a string variable into another string:\n",
    "# without concatenation, print \"my name is Python\"\n",
    "\n",
    "name = 'Python'\n",
    "\n",
    "\n",
    "\n",
    "# call a function inside a string:  in one statement,\n",
    "# without using the literal '5', and without concatenation,\n",
    "# print the string and also its length.\n",
    "# the output should be \"The string is \"aeiou\" and its length is 5\"\n",
    "\n",
    "x = 'aeiou'\n",
    "\n",
    "\n"
   ]
  },
  {
   "cell_type": "markdown",
   "id": "e8f67856",
   "metadata": {},
   "source": [
    "<U>Expected Output</U>:  "
   ]
  },
  {
   "cell_type": "markdown",
   "id": "07b0054a",
   "metadata": {},
   "source": [
    "<pre style=\"margin: 0; padding=0\"><DIV style=\"font-family: Courier; border: 1px solid #dbdbdb; padding: 7px\">7 days a week, 365 days a year\n",
    "my name is Python\n",
    "The string is \"aeiou\" and its length is 5</DIV></pre>"
   ]
  },
  {
   "cell_type": "markdown",
   "id": "61eb0801",
   "metadata": {},
   "source": [
    " "
   ]
  },
  {
   "cell_type": "markdown",
   "id": "60d5deb6",
   "metadata": {},
   "source": [
    "LAB 3"
   ]
  },
  {
   "cell_type": "markdown",
   "id": "a878101f",
   "metadata": {},
   "source": [
    "<div style=\"background-color: #ccffcc; padding: 10px; border: 2px solid green\"><B>2.28:  <U>Validate a user's input string, case-insensitively.</U>.  </B></div>"
   ]
  },
  {
   "cell_type": "markdown",
   "id": "94970ea3",
   "metadata": {},
   "source": [
    "Take user input, then check to see if it is equal to <B>quit</B> but in any string case (<B>Quit</B>, <B>qUIt</B>, <B>QUIT</B>, etc.)  Do not try to account for every combination -- instead, lowercase the user's string before testing.  Print 'quitting...'.  Make sure to test multiple combinations of case!"
   ]
  },
  {
   "cell_type": "code",
   "execution_count": null,
   "id": "577076a1",
   "metadata": {},
   "outputs": [],
   "source": []
  },
  {
   "cell_type": "markdown",
   "id": "2e5851b4",
   "metadata": {},
   "source": [
    " "
   ]
  },
  {
   "cell_type": "markdown",
   "id": "6a6a2a31",
   "metadata": {},
   "source": [
    "<div style=\"background-color: #ccffcc; padding: 10px; border: 2px solid green\"><B>2.29:  <U>Check to see if a user's input string is all digits</U>.  </B></div>"
   ]
  },
  {
   "cell_type": "markdown",
   "id": "b01ec688",
   "metadata": {},
   "source": [
    "Take user input and see if it is all digit characters.  If it is, print <B>all digits</B>, otherwise print <B>not all digits</B>.  Make sure to test with all digits and with a string that is not all digits."
   ]
  },
  {
   "cell_type": "code",
   "execution_count": null,
   "id": "24b53ca8",
   "metadata": {},
   "outputs": [],
   "source": []
  },
  {
   "cell_type": "markdown",
   "id": "0907c4b3",
   "metadata": {},
   "source": [
    " "
   ]
  },
  {
   "cell_type": "markdown",
   "id": "9b4df5ce",
   "metadata": {},
   "source": [
    "<div style=\"background-color: #ccffcc; padding: 10px; border: 2px solid green\"><B>2.30:  <U>Check to see if a user's input string starts with a substring</U>.  </B></div>"
   ]
  },
  {
   "cell_type": "markdown",
   "id": "45c46c62",
   "metadata": {},
   "source": [
    "Take user input and if the input starts with a space character, print <B>True</B> otherwise print <B>False</B>."
   ]
  },
  {
   "cell_type": "code",
   "execution_count": null,
   "id": "51b803de",
   "metadata": {},
   "outputs": [],
   "source": []
  },
  {
   "cell_type": "markdown",
   "id": "8f470b2f",
   "metadata": {},
   "source": [
    " "
   ]
  },
  {
   "cell_type": "markdown",
   "id": "15cf895e",
   "metadata": {},
   "source": [
    "<div style=\"background-color: #ccffcc; padding: 10px; border: 2px solid green\"><B>2.31:  <U>Insert a number into a string</U>.  </B></div>"
   ]
  },
  {
   "cell_type": "markdown",
   "id": "90dd9f05",
   "metadata": {},
   "source": [
    "Print <B>Python was created in 1989.</B> exactly as shown, without using <B>str()</B>, concatenation or a comma inside <B>print()</B> (or the literal value <B>1989</B> of course -- use <B>anno</B>)."
   ]
  },
  {
   "cell_type": "code",
   "execution_count": null,
   "id": "567003b4",
   "metadata": {},
   "outputs": [],
   "source": [
    "anno = 1989\n",
    "\n"
   ]
  },
  {
   "cell_type": "markdown",
   "id": "ea74630c",
   "metadata": {},
   "source": [
    "<U>Expected Output</U>:  "
   ]
  },
  {
   "cell_type": "markdown",
   "id": "0aaa6fdc",
   "metadata": {},
   "source": [
    "<pre style=\"margin: 0; padding=0\"><DIV style=\"font-family: Courier; border: 1px solid #dbdbdb; padding: 7px\">Python was created in 1989.</DIV></pre>"
   ]
  },
  {
   "cell_type": "markdown",
   "id": "bad3abff",
   "metadata": {},
   "source": [
    " "
   ]
  }
 ],
 "metadata": {},
 "nbformat": 4,
 "nbformat_minor": 5
}
