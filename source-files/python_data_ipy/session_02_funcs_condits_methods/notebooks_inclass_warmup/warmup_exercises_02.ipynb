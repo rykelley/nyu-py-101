{
 "cells": [
  {
   "cell_type": "markdown",
   "id": "90f0f429",
   "metadata": {},
   "source": [
    "# Project Warmup Exercises, Session 2"
   ]
  },
  {
   "cell_type": "markdown",
   "id": "31c3c9dd",
   "metadata": {},
   "source": [
    "EXERCISES RELATED TO Reverse Number Guessor"
   ]
  },
  {
   "cell_type": "markdown",
   "id": "29c7131f",
   "metadata": {},
   "source": [
    " "
   ]
  },
  {
   "cell_type": "markdown",
   "id": "41baa20a",
   "metadata": {},
   "source": [
    "<B>2.1:  Write a program that takes user input and prints whatever the user typed. </B>"
   ]
  },
  {
   "cell_type": "code",
   "execution_count": null,
   "id": "b2e2647d",
   "metadata": {},
   "outputs": [],
   "source": []
  },
  {
   "cell_type": "markdown",
   "id": "101473d2",
   "metadata": {},
   "source": [
    "<U>Sample Output</U>:  "
   ]
  },
  {
   "cell_type": "markdown",
   "id": "08a25e3c",
   "metadata": {},
   "source": [
    "<pre style=\"margin: 0; padding=0\"><DIV style=\"font-family: Courier; border: 1px solid #dbdbdb; padding: 7px\">please enter some text:  hey what up\n",
    "you just wrote:  \"hey what up\"</DIV></pre>"
   ]
  },
  {
   "cell_type": "markdown",
   "id": "6ab6c948",
   "metadata": {},
   "source": [
    " "
   ]
  },
  {
   "cell_type": "markdown",
   "id": "16b3ac58",
   "metadata": {},
   "source": [
    "<B>2.2:  Write a program that takes user input and compares it to the word <B>'quit'</B>.  If input is equal to <B>'quit'</B>, the program prints <B>quitting...</B>, otherwise it prints <B>not quitting...</B>.</B>"
   ]
  },
  {
   "cell_type": "code",
   "execution_count": null,
   "id": "0694c948",
   "metadata": {},
   "outputs": [],
   "source": []
  },
  {
   "cell_type": "markdown",
   "id": "2f1730c6",
   "metadata": {},
   "source": [
    "<U>Sample program runs</U>:  "
   ]
  },
  {
   "cell_type": "markdown",
   "id": "75b2e2f1",
   "metadata": {},
   "source": [
    "<pre style=\"margin: 0; padding=0\"><DIV style=\"font-family: Courier; border: 1px solid #dbdbdb; padding: 7px\">please enter some text ('quit' to quit):  hello\n",
    "not quitting...</DIV></pre>"
   ]
  },
  {
   "cell_type": "markdown",
   "id": "108612b8",
   "metadata": {},
   "source": [
    "<pre style=\"margin: 0; padding=0\"><DIV style=\"font-family: Courier; border: 1px solid #dbdbdb; padding: 7px\">please enter some text ('quit' to quit):  quit\n",
    "quitting...</DIV></pre>"
   ]
  },
  {
   "cell_type": "markdown",
   "id": "30337d80",
   "metadata": {},
   "source": [
    " "
   ]
  },
  {
   "cell_type": "markdown",
   "id": "caede980",
   "metadata": {},
   "source": [
    "<B>2.3:  Extending the previous program, put the <B>input()</B> call inside a <B>while True:</B> loop.  If the user asks to quit, break out of the loop.  If not, allow the loop to return to the top (remember that all <B>while</B> loops automatically reset execution to the top of the loop when they reach the end; <B>while True</B> loops only stop looping when they hit <B>break</B>).  </B>"
   ]
  },
  {
   "cell_type": "code",
   "execution_count": null,
   "id": "1c1478ea",
   "metadata": {},
   "outputs": [],
   "source": []
  },
  {
   "cell_type": "markdown",
   "id": "382a43dc",
   "metadata": {},
   "source": [
    "<U>Sample program run</U>:  "
   ]
  },
  {
   "cell_type": "markdown",
   "id": "89ece083",
   "metadata": {},
   "source": [
    "<pre style=\"margin: 0; padding=0\"><DIV style=\"font-family: Courier; border: 1px solid #dbdbdb; padding: 7px\">please enter some text ('quit' to quit):  hello\n",
    "not quitting...\n",
    "please enter some text ('quit' to quit):  hello\n",
    "not quitting...\n",
    "please enter some text ('quit' to quit):  quit\n",
    "quitting...</DIV></pre>"
   ]
  },
  {
   "cell_type": "markdown",
   "id": "bda1548f",
   "metadata": {},
   "source": [
    " "
   ]
  },
  {
   "cell_type": "markdown",
   "id": "f64b6b5a",
   "metadata": {},
   "source": [
    "<B>2.4:  Write a program that asks user to enter a number and sees if it is greater than 0, less than 0 or equal to 0.  (Remember that <B>if</B> can be used with <B>else</B> to have Python do one thing or another depending on the result of the test.) </B>"
   ]
  },
  {
   "cell_type": "code",
   "execution_count": null,
   "id": "009aee5a",
   "metadata": {},
   "outputs": [],
   "source": []
  },
  {
   "cell_type": "markdown",
   "id": "d4192753",
   "metadata": {},
   "source": [
    "<U>Sample program runs</U>:  "
   ]
  },
  {
   "cell_type": "markdown",
   "id": "eb5e12be",
   "metadata": {},
   "source": [
    "<pre style=\"margin: 0; padding=0\"><DIV style=\"font-family: Courier; border: 1px solid #dbdbdb; padding: 7px\">please enter a number:  0\n",
    "your value is equal to 0.</DIV></pre>"
   ]
  },
  {
   "cell_type": "markdown",
   "id": "103e22d1",
   "metadata": {},
   "source": [
    "<pre style=\"margin: 0; padding=0\"><DIV style=\"font-family: Courier; border: 1px solid #dbdbdb; padding: 7px\">please enter a number:  -2\n",
    "your value is less than 0.</DIV></pre>"
   ]
  },
  {
   "cell_type": "markdown",
   "id": "4fd505c3",
   "metadata": {},
   "source": [
    "<pre style=\"margin: 0; padding=0\"><DIV style=\"font-family: Courier; border: 1px solid #dbdbdb; padding: 7px\">please enter a number:  5\n",
    "your value is greater than 0.</DIV></pre>"
   ]
  },
  {
   "cell_type": "markdown",
   "id": "4582ee29",
   "metadata": {},
   "source": [
    " "
   ]
  },
  {
   "cell_type": "markdown",
   "id": "f318b7ee",
   "metadata": {},
   "source": [
    "<B>2.5:  Use input() to request the user to enter a number, and then test to see whether it is all digits (hint:  use the <B>str</B> <B>.isdigit()</B> method in an <B>if</B> test).  Simply print a success message if all digits, a failure message if no.   </B>"
   ]
  },
  {
   "cell_type": "code",
   "execution_count": null,
   "id": "530bf6ac",
   "metadata": {},
   "outputs": [],
   "source": []
  },
  {
   "cell_type": "markdown",
   "id": "9dfa24b2",
   "metadata": {},
   "source": [
    "<U>Sample program runs</U>:  "
   ]
  },
  {
   "cell_type": "markdown",
   "id": "c018a0dc",
   "metadata": {},
   "source": [
    "<pre style=\"margin: 0; padding=0\"><DIV style=\"font-family: Courier; border: 1px solid #dbdbdb; padding: 7px\">please enter an integer:  hello\n",
    "that was NOT an integer!</DIV></pre>"
   ]
  },
  {
   "cell_type": "markdown",
   "id": "fa432baf",
   "metadata": {},
   "source": [
    "<pre style=\"margin: 0; padding=0\"><DIV style=\"font-family: Courier; border: 1px solid #dbdbdb; padding: 7px\">please enter an integer:  55.5\n",
    "that was NOT an integer!</DIV></pre>"
   ]
  },
  {
   "cell_type": "markdown",
   "id": "b30e09b2",
   "metadata": {},
   "source": [
    "<pre style=\"margin: 0; padding=0\"><DIV style=\"font-family: Courier; border: 1px solid #dbdbdb; padding: 7px\">please enter an integer:  \"55\"\n",
    "that was NOT an integer!</DIV></pre>"
   ]
  },
  {
   "cell_type": "markdown",
   "id": "ff14a2e3",
   "metadata": {},
   "source": [
    "<pre style=\"margin: 0; padding=0\"><DIV style=\"font-family: Courier; border: 1px solid #dbdbdb; padding: 7px\">please enter an integer:  55\n",
    "THANKS FOR THE INTEGER!</DIV></pre>"
   ]
  },
  {
   "cell_type": "markdown",
   "id": "3968ec46",
   "metadata": {},
   "source": [
    " "
   ]
  },
  {
   "cell_type": "markdown",
   "id": "a85ec492",
   "metadata": {},
   "source": [
    "EXERCISES RELATED TO TEXT REPLACEMENT HOMEWORK"
   ]
  },
  {
   "cell_type": "markdown",
   "id": "e8110fa3",
   "metadata": {},
   "source": [
    "<B>2.6:  Use the string count() method to count the number of times 'or' appears in the below text.  </B>"
   ]
  },
  {
   "cell_type": "code",
   "execution_count": null,
   "id": "a99899dc",
   "metadata": {},
   "outputs": [],
   "source": [
    "msg = 'I am happy or sad or angry or mad or generous or stingy.'"
   ]
  },
  {
   "cell_type": "markdown",
   "id": "1776cfe3",
   "metadata": {},
   "source": [
    "<U>Sample program run</U>:  "
   ]
  },
  {
   "cell_type": "markdown",
   "id": "a0f785d9",
   "metadata": {},
   "source": [
    "<pre style=\"margin: 0; padding=0\"><DIV style=\"font-family: Courier; border: 1px solid #dbdbdb; padding: 7px\">5</DIV></pre>"
   ]
  },
  {
   "cell_type": "markdown",
   "id": "ba668d63",
   "metadata": {},
   "source": [
    " "
   ]
  },
  {
   "cell_type": "markdown",
   "id": "5ee8eca2",
   "metadata": {},
   "source": [
    "<B>2.7:  Modifying the previous program, take user input of a string to count, and then report the number of occurrences in the sentence.</B>"
   ]
  },
  {
   "cell_type": "code",
   "execution_count": null,
   "id": "a24c6cec",
   "metadata": {},
   "outputs": [],
   "source": [
    "msg = 'I am happy or sad or angry or mad or generous or stingy.'"
   ]
  },
  {
   "cell_type": "markdown",
   "id": "c21e1420",
   "metadata": {},
   "source": [
    "<U>Sample program runs</U>:  "
   ]
  },
  {
   "cell_type": "markdown",
   "id": "81132270",
   "metadata": {},
   "source": [
    "<pre style=\"margin: 0; padding=0\"><DIV style=\"font-family: Courier; border: 1px solid #dbdbdb; padding: 7px\">please enter a string to search:  or\n",
    "\n",
    "5</DIV></pre>"
   ]
  },
  {
   "cell_type": "markdown",
   "id": "4120a634",
   "metadata": {},
   "source": [
    "<pre style=\"margin: 0; padding=0\"><DIV style=\"font-family: Courier; border: 1px solid #dbdbdb; padding: 7px\">please enter a string to search:  m\n",
    "\n",
    "2</DIV></pre>"
   ]
  },
  {
   "cell_type": "markdown",
   "id": "a6e5b177",
   "metadata": {},
   "source": [
    "<pre style=\"margin: 0; padding=0\"><DIV style=\"font-family: Courier; border: 1px solid #dbdbdb; padding: 7px\">please enter a string to search:  x\n",
    "\n",
    "0</DIV></pre>"
   ]
  },
  {
   "cell_type": "markdown",
   "id": "1945c2e5",
   "metadata": {},
   "source": [
    " "
   ]
  },
  {
   "cell_type": "markdown",
   "id": "7016b315",
   "metadata": {},
   "source": [
    "<B>2.8:  Taking a user input \"substring\", replace the substring in the string with 'x's.  </B>"
   ]
  },
  {
   "cell_type": "code",
   "execution_count": null,
   "id": "6a73de1c",
   "metadata": {},
   "outputs": [],
   "source": [
    "msg = 'I am happy or sad or angry or mad or generous or stingy.'"
   ]
  },
  {
   "cell_type": "markdown",
   "id": "5152d0e5",
   "metadata": {},
   "source": [
    "<U>Sample program runs</U>:  "
   ]
  },
  {
   "cell_type": "markdown",
   "id": "fc504880",
   "metadata": {},
   "source": [
    "<pre style=\"margin: 0; padding=0\"><DIV style=\"font-family: Courier; border: 1px solid #dbdbdb; padding: 7px\">I am happy or sad or angry or mad or generous or stingy.\n",
    "please enter a character to replace:  a\n",
    "I xm hxppy or sxd or xngry or mxd or generous or stingy.</DIV></pre>"
   ]
  },
  {
   "cell_type": "markdown",
   "id": "e9559f53",
   "metadata": {},
   "source": [
    "<pre style=\"margin: 0; padding=0\"><DIV style=\"font-family: Courier; border: 1px solid #dbdbdb; padding: 7px\">I am happy or sad or angry or mad or generous or stingy.\n",
    "please enter a character to replace:  or\n",
    "I am happy x sad x angry x mad x generous x stingy.</DIV></pre>"
   ]
  },
  {
   "cell_type": "markdown",
   "id": "e944ce92",
   "metadata": {},
   "source": [
    " "
   ]
  },
  {
   "cell_type": "markdown",
   "id": "48a600fa",
   "metadata": {},
   "source": [
    "EXERCISES RELATED TO EXTRA CREDIT / SUPPLEMENTARY <B>while</B> LOOP HOMEWORK (you can safely skip these until after the homework)"
   ]
  },
  {
   "cell_type": "markdown",
   "id": "8b524ab4",
   "metadata": {},
   "source": [
    " "
   ]
  },
  {
   "cell_type": "markdown",
   "id": "26b1ee9e",
   "metadata": {},
   "source": [
    "<B>2.9:  Based on the earlier exercise in which we said <B>THANKS FOR THE INTEGER!</B>, place your whole program inside a while True: block.  If the input is all digits (i.e., an integer), include the print statement indicating success, and follow it with a break statement to leave the loop.  As you know, if you do not break, at the end of the block while's \"automatic return\" will return to the top of the block automatically and your block will take input() again. </B>"
   ]
  },
  {
   "cell_type": "code",
   "execution_count": null,
   "id": "8e3cb5bd",
   "metadata": {},
   "outputs": [],
   "source": []
  },
  {
   "cell_type": "markdown",
   "id": "4350eeb0",
   "metadata": {},
   "source": [
    "<U>Sample program run</U>:  "
   ]
  },
  {
   "cell_type": "markdown",
   "id": "f4a8c7fb",
   "metadata": {},
   "source": [
    "<pre style=\"margin: 0; padding=0\"><DIV style=\"font-family: Courier; border: 1px solid #dbdbdb; padding: 7px\">please enter an integer:  hello\n",
    "that was NOT an integer!\n",
    "please enter an integer:  one?\n",
    "that was NOT an integer!\n",
    "please enter an integer:  5\n",
    "THANKS FOR THE INTEGER!</DIV></pre>"
   ]
  },
  {
   "cell_type": "markdown",
   "id": "270602a3",
   "metadata": {},
   "source": [
    " "
   ]
  },
  {
   "cell_type": "markdown",
   "id": "9d282d8d",
   "metadata": {},
   "source": [
    "<B>2.10:  Use a while loop to count from 1 to 10.  Before the loop begins, initialize an integer counter (count) to 1.  The while test should test to see if the counter is less than or equal to 10.  Inside the loop, \"increment\" count  with count = count + 1 (i.e., it will be incremented upon each iteration of the loop).  Print each new value of the integer.  (Note that the slides contain this solution, so your job is to be able to code a program like this from scratch.  Repeat it until it is second nature if you can!)  </B>"
   ]
  },
  {
   "cell_type": "code",
   "execution_count": null,
   "id": "05064d74",
   "metadata": {},
   "outputs": [],
   "source": []
  },
  {
   "cell_type": "markdown",
   "id": "e0c0e8ea",
   "metadata": {},
   "source": [
    "<U>Expected Output</U>:  "
   ]
  },
  {
   "cell_type": "markdown",
   "id": "f0402290",
   "metadata": {},
   "source": [
    "<pre style=\"margin: 0; padding=0\"><DIV style=\"font-family: Courier; border: 1px solid #dbdbdb; padding: 7px\">1\n",
    "2\n",
    "3\n",
    "4\n",
    "5\n",
    "6\n",
    "7\n",
    "8\n",
    "9\n",
    "10</DIV></pre>"
   ]
  },
  {
   "cell_type": "markdown",
   "id": "a2ec0286",
   "metadata": {},
   "source": [
    " "
   ]
  },
  {
   "cell_type": "markdown",
   "id": "2dd02646",
   "metadata": {},
   "source": [
    "<B>2.11:  Similar to the previous program, use a while loop and a counter to print \"Happy birthday to you!\" 10 times (do not print the integer count in this version).  </B>"
   ]
  },
  {
   "cell_type": "code",
   "execution_count": null,
   "id": "cc0e5b05",
   "metadata": {},
   "outputs": [],
   "source": []
  },
  {
   "cell_type": "markdown",
   "id": "bd0a8ee8",
   "metadata": {},
   "source": [
    "<U>Sample program run</U>:  "
   ]
  },
  {
   "cell_type": "markdown",
   "id": "ecaccc5f",
   "metadata": {},
   "source": [
    "<pre style=\"margin: 0; padding=0\"><DIV style=\"font-family: Courier; border: 1px solid #dbdbdb; padding: 7px\">Happy birthday to you!\n",
    "Happy birthday to you!\n",
    "Happy birthday to you!\n",
    "Happy birthday to you!\n",
    "Happy birthday to you!\n",
    "Happy birthday to you!\n",
    "Happy birthday to you!\n",
    "Happy birthday to you!\n",
    "Happy birthday to you!\n",
    "Happy birthday to you!</DIV></pre>"
   ]
  },
  {
   "cell_type": "markdown",
   "id": "eb058753",
   "metadata": {},
   "source": [
    " "
   ]
  },
  {
   "cell_type": "markdown",
   "id": "a0001d2d",
   "metadata": {},
   "source": [
    "<B>2.12:  Modify the previous program to take user input with input() and print the message that many times.  (Hint:  since we know that input() returns a string, the value will have to be converted to an int before it can be used in the while test with the loop count value.)  </B>"
   ]
  },
  {
   "cell_type": "code",
   "execution_count": null,
   "id": "e0dc93fb",
   "metadata": {},
   "outputs": [],
   "source": []
  },
  {
   "cell_type": "markdown",
   "id": "e9381d0b",
   "metadata": {},
   "source": [
    "<U>Sample program run</U>:  "
   ]
  },
  {
   "cell_type": "markdown",
   "id": "219c3ebb",
   "metadata": {},
   "source": [
    "<pre style=\"margin: 0; padding=0\"><DIV style=\"font-family: Courier; border: 1px solid #dbdbdb; padding: 7px\">how many times should I greet you?  3\n",
    "Happy birthday to you!\n",
    "Happy birthday to you!\n",
    "Happy birthday to you!</DIV></pre>"
   ]
  },
  {
   "cell_type": "markdown",
   "id": "1f9985e6",
   "metadata": {},
   "source": [
    " "
   ]
  },
  {
   "cell_type": "markdown",
   "id": "51925f8b",
   "metadata": {},
   "source": [
    "<B>2.13:  Modify the previous program to test the user input to make sure it is a usable integer.  (Hint:  as we did earlier, use <B>str</B> <B>isdigit()</B>).   If the input is not all digits, you can use exit('error message') to exit the program.  </B>"
   ]
  },
  {
   "cell_type": "code",
   "execution_count": null,
   "id": "e94390b0",
   "metadata": {},
   "outputs": [],
   "source": []
  },
  {
   "cell_type": "markdown",
   "id": "9714f5d3",
   "metadata": {},
   "source": [
    "<U>Sample program runs</U>:  "
   ]
  },
  {
   "cell_type": "markdown",
   "id": "266b4176",
   "metadata": {},
   "source": [
    "<pre style=\"margin: 0; padding=0\"><DIV style=\"font-family: Courier; border: 1px solid #dbdbdb; padding: 7px\">how many times should I greet you?  three\n",
    "error:  please enter an integer     # i.e., exit('error: please...')</DIV></pre>"
   ]
  },
  {
   "cell_type": "markdown",
   "id": "138efb97",
   "metadata": {},
   "source": [
    "<pre style=\"margin: 0; padding=0\"><DIV style=\"font-family: Courier; border: 1px solid #dbdbdb; padding: 7px\">how many times should I greet you?  3\n",
    "Happy birthday to you!\n",
    "Happy birthday to you!\n",
    "Happy birthday to you!</DIV></pre>"
   ]
  },
  {
   "cell_type": "markdown",
   "id": "07791278",
   "metadata": {},
   "source": [
    "<pre style=\"margin: 0; padding=0\"><DIV style=\"font-family: Courier; border: 1px solid #dbdbdb; padding: 7px\">how many times should I greet you?  2\n",
    "Happy birthday to you!\n",
    "Happy birthday to you!</DIV></pre>"
   ]
  },
  {
   "cell_type": "markdown",
   "id": "59d3f5d9",
   "metadata": {},
   "source": [
    " "
   ]
  }
 ],
 "metadata": {},
 "nbformat": 4,
 "nbformat_minor": 5
}
