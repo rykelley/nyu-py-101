{
 "cells": [
  {
   "cell_type": "markdown",
   "id": "3398764d",
   "metadata": {},
   "source": [
    "# In-Class Exercises, Session 1"
   ]
  },
  {
   "cell_type": "markdown",
   "id": "8f820b67",
   "metadata": {},
   "source": [
    "PLEASE REFER to pythonreference.com for syntax to follow in coding these Exercises"
   ]
  },
  {
   "cell_type": "markdown",
   "id": "d6b080c3",
   "metadata": {},
   "source": [
    " "
   ]
  },
  {
   "cell_type": "markdown",
   "id": "24b85305",
   "metadata": {},
   "source": [
    "VARIABLES AND ASSIGNMENT; IDENTIFYING OBJECT TYPE"
   ]
  },
  {
   "cell_type": "markdown",
   "id": "972a614e",
   "metadata": {},
   "source": [
    "<B>1.1:  <B><U>Numeric and string assignment, and type() function</U>.</B>  </B>"
   ]
  },
  {
   "cell_type": "markdown",
   "id": "a1940d89",
   "metadata": {},
   "source": [
    "Assign an integer to new variable 'vari', a float to 'varf' and a string to 'varstr'.  Print, and use the type() function to print the value and type of one or more of them.\n"
   ]
  },
  {
   "cell_type": "code",
   "execution_count": null,
   "id": "3dd08b94",
   "metadata": {},
   "outputs": [],
   "source": []
  },
  {
   "cell_type": "markdown",
   "id": "7f3b00bd",
   "metadata": {},
   "source": [
    " "
   ]
  },
  {
   "cell_type": "markdown",
   "id": "a7eddd36",
   "metadata": {},
   "source": [
    "MATH AND STRING OPERATORS"
   ]
  },
  {
   "cell_type": "markdown",
   "id": "135f59d9",
   "metadata": {},
   "source": [
    "<B>1.2:  <B><U>Math operators</U>.</b>  </B>"
   ]
  },
  {
   "cell_type": "markdown",
   "id": "4bafa2a1",
   "metadata": {},
   "source": [
    "Multiply 'a' by 'b' and divide by 'c' (result should be 25.0).\n"
   ]
  },
  {
   "cell_type": "code",
   "execution_count": null,
   "id": "3d56eb52",
   "metadata": {},
   "outputs": [],
   "source": [
    "a = 5\n",
    "b = 10\n",
    "c = 2\n"
   ]
  },
  {
   "cell_type": "markdown",
   "id": "4be65870",
   "metadata": {},
   "source": [
    " "
   ]
  },
  {
   "cell_type": "markdown",
   "id": "67969baa",
   "metadata": {},
   "source": [
    "<B>1.3:  <B><U>Exponentiation operator</U>.</B>  </B>"
   ]
  },
  {
   "cell_type": "markdown",
   "id": "3f4945cc",
   "metadata": {},
   "source": [
    "Use '**' to raise <B>a</B> to the power of <B>b</B> (result should be <B>125</B>).\n"
   ]
  },
  {
   "cell_type": "code",
   "execution_count": null,
   "id": "b82df5a3",
   "metadata": {},
   "outputs": [],
   "source": [
    "a = 5\n",
    "b = 3\n"
   ]
  },
  {
   "cell_type": "markdown",
   "id": "042ddd1e",
   "metadata": {},
   "source": [
    " "
   ]
  },
  {
   "cell_type": "markdown",
   "id": "b5cbe54c",
   "metadata": {},
   "source": [
    "<B>1.4:  <B><U>Modulus operator</U>.</B>  </B>"
   ]
  },
  {
   "cell_type": "markdown",
   "id": "5db5be8e",
   "metadata": {},
   "source": [
    "What is <B>a % b</B>?  What is <B>a % c</B>?  Can you tell why this operator is returning these values?"
   ]
  },
  {
   "cell_type": "code",
   "execution_count": null,
   "id": "701c3c13",
   "metadata": {},
   "outputs": [],
   "source": [
    "a = 8\n",
    "b = 3\n",
    "c = 2"
   ]
  },
  {
   "cell_type": "markdown",
   "id": "68f7b474",
   "metadata": {},
   "source": [
    " "
   ]
  },
  {
   "cell_type": "markdown",
   "id": "b7303615",
   "metadata": {},
   "source": [
    "<B>1.5:  <B><U>Concatenation operator</U>.</B>  </B>"
   ]
  },
  {
   "cell_type": "markdown",
   "id": "94e48edb",
   "metadata": {},
   "source": [
    "Use '+' to concatenate <B>xvar</B>, <B>yvar</B> and <B>zvar</B> together.\n"
   ]
  },
  {
   "cell_type": "code",
   "execution_count": null,
   "id": "4f9de04f",
   "metadata": {},
   "outputs": [],
   "source": [
    "xvar = 'supercali'\n",
    "yvar = 'fragilistic'\n",
    "zvar = 'expialidocious'\n"
   ]
  },
  {
   "cell_type": "markdown",
   "id": "8f2d7f1e",
   "metadata": {},
   "source": [
    " "
   ]
  },
  {
   "cell_type": "markdown",
   "id": "dbb95202",
   "metadata": {},
   "source": [
    "<B>1.6:  <B><U>String repetition operator</U>.</B>  </B>"
   ]
  },
  {
   "cell_type": "markdown",
   "id": "c4a63d25",
   "metadata": {},
   "source": [
    "Use '*' to repeat the string in <B>greet</B> 3 times to return a new str value <B>yoyoyo</B>.\n"
   ]
  },
  {
   "cell_type": "code",
   "execution_count": null,
   "id": "ee6c450b",
   "metadata": {},
   "outputs": [],
   "source": [
    "greet = 'yo'\n"
   ]
  },
  {
   "cell_type": "markdown",
   "id": "6aeeca6a",
   "metadata": {},
   "source": [
    " "
   ]
  },
  {
   "cell_type": "markdown",
   "id": "a5a5197d",
   "metadata": {},
   "source": [
    "LAB 1"
   ]
  },
  {
   "cell_type": "markdown",
   "id": "36315f32",
   "metadata": {},
   "source": [
    "<div style=\"background-color: #ccffcc; padding: 10px; border: 2px solid green\"><B>1.7:  <B><U>Square a number</U>.</B></B></div>"
   ]
  },
  {
   "cell_type": "code",
   "execution_count": null,
   "id": "7dc48b76",
   "metadata": {},
   "outputs": [],
   "source": [
    "gg = 5\n"
   ]
  },
  {
   "cell_type": "markdown",
   "id": "3f6814fc",
   "metadata": {},
   "source": [
    "<U>Expected Output</U>:  "
   ]
  },
  {
   "cell_type": "markdown",
   "id": "91a9cabd",
   "metadata": {},
   "source": [
    "<pre style=\"margin: 0; padding=0\"><DIV style=\"font-family: Courier; border: 1px solid #dbdbdb; padding: 7px\">25</DIV></pre>"
   ]
  },
  {
   "cell_type": "markdown",
   "id": "0c43a580",
   "metadata": {},
   "source": [
    " "
   ]
  },
  {
   "cell_type": "markdown",
   "id": "ecee468e",
   "metadata": {},
   "source": [
    "<div style=\"background-color: #ccffcc; padding: 10px; border: 2px solid green\"><B>1.8:  <B><U>Multiply 2 numbers, then square the result</U>.</B></B></div>"
   ]
  },
  {
   "cell_type": "code",
   "execution_count": null,
   "id": "962d9556",
   "metadata": {},
   "outputs": [],
   "source": [
    "xx = 5\n",
    "yy = 3\n"
   ]
  },
  {
   "cell_type": "markdown",
   "id": "24385e78",
   "metadata": {},
   "source": [
    "<U>Expected Output</U>:  "
   ]
  },
  {
   "cell_type": "markdown",
   "id": "f00929b8",
   "metadata": {},
   "source": [
    "<pre style=\"margin: 0; padding=0\"><DIV style=\"font-family: Courier; border: 1px solid #dbdbdb; padding: 7px\">225</DIV></pre>"
   ]
  },
  {
   "cell_type": "markdown",
   "id": "271c0166",
   "metadata": {},
   "source": [
    "Note that the exponientation operator has greater <I>precedence</I> than the multiplication operator, so it is evaluated first.  You must use parentheses to enforce a different precendence."
   ]
  },
  {
   "cell_type": "markdown",
   "id": "cc41a95c",
   "metadata": {},
   "source": [
    " "
   ]
  },
  {
   "cell_type": "markdown",
   "id": "4dde58d2",
   "metadata": {},
   "source": [
    "<div style=\"background-color: #ccffcc; padding: 10px; border: 2px solid green\"><B>1.9:  <B><U>Add two numbers together and then divide by 2</U>.</B></B></div>"
   ]
  },
  {
   "cell_type": "code",
   "execution_count": null,
   "id": "a120bb83",
   "metadata": {},
   "outputs": [],
   "source": [
    "aa = 3\n",
    "myb = 5\n",
    "\n"
   ]
  },
  {
   "cell_type": "markdown",
   "id": "5377d99b",
   "metadata": {},
   "source": [
    "<U>Expected Output</U>:  "
   ]
  },
  {
   "cell_type": "markdown",
   "id": "738d26a5",
   "metadata": {},
   "source": [
    "<pre style=\"margin: 0; padding=0\"><DIV style=\"font-family: Courier; border: 1px solid #dbdbdb; padding: 7px\">4.0</DIV></pre>"
   ]
  },
  {
   "cell_type": "markdown",
   "id": "c09cae0c",
   "metadata": {},
   "source": [
    "Consider that the division operator gets evaluated before the plus operator.  If you are calculating both in the same statement, use parentheses to cause Python to evaluate the plus first."
   ]
  },
  {
   "cell_type": "markdown",
   "id": "4df217e9",
   "metadata": {},
   "source": [
    " "
   ]
  },
  {
   "cell_type": "markdown",
   "id": "979810b5",
   "metadata": {},
   "source": [
    "<div style=\"background-color: #ccffcc; padding: 10px; border: 2px solid green\"><B>1.10:  <B><U>Calculate a tip</U>.</B>  </B></div>"
   ]
  },
  {
   "cell_type": "markdown",
   "id": "1d3ea30e",
   "metadata": {},
   "source": [
    "With a bill of $100, 5 people in your party and a 20% tip, how much does each person owe?\n"
   ]
  },
  {
   "cell_type": "code",
   "execution_count": null,
   "id": "8b70c8f3",
   "metadata": {},
   "outputs": [],
   "source": [
    "bill = 100\n",
    "people = 5\n",
    "tip_pct = 20\n"
   ]
  },
  {
   "cell_type": "markdown",
   "id": "1771dc5a",
   "metadata": {},
   "source": [
    "<U>Expected Output</U>:  "
   ]
  },
  {
   "cell_type": "markdown",
   "id": "36cabada",
   "metadata": {},
   "source": [
    "<pre style=\"margin: 0; padding=0\"><DIV style=\"font-family: Courier; border: 1px solid #dbdbdb; padding: 7px\">24.0</DIV></pre>"
   ]
  },
  {
   "cell_type": "markdown",
   "id": "8b485847",
   "metadata": {},
   "source": [
    " "
   ]
  },
  {
   "cell_type": "markdown",
   "id": "2db089dc",
   "metadata": {},
   "source": [
    "<div style=\"background-color: #ccffcc; padding: 10px; border: 2px solid green\"><B>1.11:  <B><U>Concatenate strings together into a sentence</U>.</B>  </B></div>"
   ]
  },
  {
   "cell_type": "markdown",
   "id": "8cd0f4d4",
   "metadata": {},
   "source": [
    "See if you can make the output look as expected.\n"
   ]
  },
  {
   "cell_type": "code",
   "execution_count": null,
   "id": "49fa429e",
   "metadata": {},
   "outputs": [],
   "source": [
    "adjective = 'happy'\n",
    "event = 'birthday'"
   ]
  },
  {
   "cell_type": "markdown",
   "id": "234c74ce",
   "metadata": {},
   "source": [
    "<U>Expected Output</U>:  "
   ]
  },
  {
   "cell_type": "markdown",
   "id": "935a45b9",
   "metadata": {},
   "source": [
    "<pre style=\"margin: 0; padding=0\"><DIV style=\"font-family: Courier; border: 1px solid #dbdbdb; padding: 7px\">happy birthday</DIV></pre>"
   ]
  },
  {
   "cell_type": "markdown",
   "id": "04288f5f",
   "metadata": {},
   "source": [
    " "
   ]
  },
  {
   "cell_type": "markdown",
   "id": "6220b85b",
   "metadata": {},
   "source": [
    "<div style=\"background-color: #ccffcc; padding: 10px; border: 2px solid green\"><B>1.12:  <B><U>Use the variable 'x' below to make a 40-character dotted line</U>.</B></B></div>"
   ]
  },
  {
   "cell_type": "code",
   "execution_count": null,
   "id": "8997c03c",
   "metadata": {},
   "outputs": [],
   "source": [
    "x = '-'\n"
   ]
  },
  {
   "cell_type": "markdown",
   "id": "34f6f5c4",
   "metadata": {},
   "source": [
    "<U>Expected Output</U>:  "
   ]
  },
  {
   "cell_type": "markdown",
   "id": "c1af3260",
   "metadata": {},
   "source": [
    "<pre style=\"margin: 0; padding=0\"><DIV style=\"font-family: Courier; border: 1px solid #dbdbdb; padding: 7px\">----------------------------------------</DIV></pre>"
   ]
  },
  {
   "cell_type": "markdown",
   "id": "076392c7",
   "metadata": {},
   "source": [
    " "
   ]
  },
  {
   "cell_type": "markdown",
   "id": "5222ac65",
   "metadata": {},
   "source": [
    "\"PROCESSING\" FUNCTIONS len() and round()"
   ]
  },
  {
   "cell_type": "markdown",
   "id": "00db2168",
   "metadata": {},
   "source": [
    " "
   ]
  },
  {
   "cell_type": "markdown",
   "id": "7cd23f17",
   "metadata": {},
   "source": [
    "<B>1.13:  <B><U>Get the length of strings with len()</U>.</B>  </B>"
   ]
  },
  {
   "cell_type": "markdown",
   "id": "ceba4f62",
   "metadata": {},
   "source": [
    "Print the length of each of the below strings.  Both strings should be length of 11.\n"
   ]
  },
  {
   "cell_type": "code",
   "execution_count": null,
   "id": "de1904a4",
   "metadata": {},
   "outputs": [],
   "source": [
    "x = 'hello there'\n",
    "\n",
    "y = 'hi       ok'\n",
    "\n",
    "\n"
   ]
  },
  {
   "cell_type": "markdown",
   "id": "7a2043f2",
   "metadata": {},
   "source": [
    "<U>Expected Output</U>:  "
   ]
  },
  {
   "cell_type": "markdown",
   "id": "4467c3d4",
   "metadata": {},
   "source": [
    "<pre style=\"margin: 0; padding=0\"><DIV style=\"font-family: Courier; border: 1px solid #dbdbdb; padding: 7px\">11\n",
    "11</DIV></pre>"
   ]
  },
  {
   "cell_type": "markdown",
   "id": "8db0f116",
   "metadata": {},
   "source": [
    " "
   ]
  },
  {
   "cell_type": "markdown",
   "id": "bd82a353",
   "metadata": {},
   "source": [
    "<B>1.14:  <B><U>Round numbers with round()</U>.</B>  </B>"
   ]
  },
  {
   "cell_type": "markdown",
   "id": "da17e70f",
   "metadata": {},
   "source": [
    "Round the number to two places (<B>43.99</B>), and to an int (<B>44</B>).\n"
   ]
  },
  {
   "cell_type": "code",
   "execution_count": null,
   "id": "d5b5217a",
   "metadata": {},
   "outputs": [],
   "source": [
    "x = 43.985\n",
    "\n"
   ]
  },
  {
   "cell_type": "markdown",
   "id": "cb3946aa",
   "metadata": {},
   "source": [
    "<U>Expected Output</U>:  "
   ]
  },
  {
   "cell_type": "markdown",
   "id": "92f90960",
   "metadata": {},
   "source": [
    "<pre style=\"margin: 0; padding=0\"><DIV style=\"font-family: Courier; border: 1px solid #dbdbdb; padding: 7px\">43.99\n",
    "44</DIV></pre>"
   ]
  },
  {
   "cell_type": "markdown",
   "id": "e9d88247",
   "metadata": {},
   "source": [
    " "
   ]
  },
  {
   "cell_type": "markdown",
   "id": "fa86ffad",
   "metadata": {},
   "source": [
    "<B>1.15:  <B><U>Integerize a float value with int()</U>.</B>  </B>"
   ]
  },
  {
   "cell_type": "markdown",
   "id": "18647dff",
   "metadata": {},
   "source": [
    "Use the <B>int()</B> function to round the number <B>43.985</B> down to <B>43</B>.\n"
   ]
  },
  {
   "cell_type": "code",
   "execution_count": null,
   "id": "bbd72d2b",
   "metadata": {},
   "outputs": [],
   "source": [
    "x = 43.985\n",
    "\n"
   ]
  },
  {
   "cell_type": "markdown",
   "id": "96318427",
   "metadata": {},
   "source": [
    "<U>Expected Output</U>:  "
   ]
  },
  {
   "cell_type": "markdown",
   "id": "57c20528",
   "metadata": {},
   "source": [
    "<pre style=\"margin: 0; padding=0\"><DIV style=\"font-family: Courier; border: 1px solid #dbdbdb; padding: 7px\">43</DIV></pre>"
   ]
  },
  {
   "cell_type": "markdown",
   "id": "e3fb92ab",
   "metadata": {},
   "source": [
    " "
   ]
  },
  {
   "cell_type": "markdown",
   "id": "389a81db",
   "metadata": {},
   "source": [
    "\"ACTION\" FUNCTIONS INPUT, PRINT, SYS.EXIT"
   ]
  },
  {
   "cell_type": "markdown",
   "id": "d8e57d41",
   "metadata": {},
   "source": [
    "<B>1.16:  <B><U>input(), print() and sys.exit() functions</U>.</B>  </B>"
   ]
  },
  {
   "cell_type": "markdown",
   "id": "f768fa7f",
   "metadata": {},
   "source": [
    "Take user input with <B>input()</B>.  Print the result and its type.  Then call <B>sys.exit()</B> to signal an exit.\n"
   ]
  },
  {
   "cell_type": "code",
   "execution_count": null,
   "id": "f53350f3",
   "metadata": {},
   "outputs": [],
   "source": [
    "import sys\n",
    "\n",
    "\n"
   ]
  },
  {
   "cell_type": "markdown",
   "id": "afc2e7ca",
   "metadata": {},
   "source": [
    "Note that in Jupyter Notebook, the notebook will not exit, but will show that <B>sys.exit()</B> has been called.  <B>sys.exit()</B> is more appropriate for standalone programs."
   ]
  },
  {
   "cell_type": "markdown",
   "id": "d86dad1e",
   "metadata": {},
   "source": [
    " "
   ]
  },
  {
   "cell_type": "markdown",
   "id": "a1bd1a17",
   "metadata": {},
   "source": [
    "\"TYPE CONVERSION\" FUNCTIONS INT, FLOAT, STR"
   ]
  },
  {
   "cell_type": "markdown",
   "id": "ffa2662e",
   "metadata": {},
   "source": [
    "<B>1.17:  <B><U>int(), float() and str() functions</U>.</B>  </B>"
   ]
  },
  {
   "cell_type": "markdown",
   "id": "68ffd7ca",
   "metadata": {},
   "source": [
    "Convert the below string to an integer, then double the value (to 106).  Convert this value to a float (106.0) and convert that value to a string.  Retrieve and print the length of this string (should be 5).\n"
   ]
  },
  {
   "cell_type": "code",
   "execution_count": null,
   "id": "af58e753",
   "metadata": {},
   "outputs": [],
   "source": [
    "zzy = '53'\n"
   ]
  },
  {
   "cell_type": "markdown",
   "id": "227a48a5",
   "metadata": {},
   "source": [
    " "
   ]
  },
  {
   "cell_type": "markdown",
   "id": "bb4429e3",
   "metadata": {},
   "source": [
    "REPLICATING CODE EXAMPLES"
   ]
  },
  {
   "cell_type": "markdown",
   "id": "5e3546c5",
   "metadata": {},
   "source": [
    "<B>1.18:  <B><U>Replicating code examples</U> (1/2).</B>  </B>"
   ]
  },
  {
   "cell_type": "markdown",
   "id": "cbbb45ce",
   "metadata": {},
   "source": [
    "Review <B>pythonreference.com</B> for the function <B>len()</B>.  Use <B>len()</b> to check the length of the variable <B>sentence</b> (length should be 3).  Next, use <B>len()</B> to check the length of the literal string value <B>'sentence'</B> (length should be 8)."
   ]
  },
  {
   "cell_type": "code",
   "execution_count": null,
   "id": "efd4d9d0",
   "metadata": {},
   "outputs": [],
   "source": [
    "sentence = 'hi!'\n"
   ]
  },
  {
   "cell_type": "markdown",
   "id": "e8309b76",
   "metadata": {},
   "source": [
    "Please note that variable <B>sentence</B> (no quotes) is entirely different from string <B>'sentence'</B> (with quotes).  A word without quotes is a variable (a value assigned to a name).  A word with quotes around it is a string literal (a literal string value)."
   ]
  },
  {
   "cell_type": "markdown",
   "id": "0a84a997",
   "metadata": {},
   "source": [
    " "
   ]
  },
  {
   "cell_type": "markdown",
   "id": "55cf9ff1",
   "metadata": {},
   "source": [
    "<B>1.19:  <B><U>Replicating code examples</U> (2/2).</b>  </B>"
   ]
  },
  {
   "cell_type": "markdown",
   "id": "028de149",
   "metadata": {},
   "source": [
    "Review <B>pythonreference.com</B> for the function <B>round()</B>.  Perform operations listed below:\n"
   ]
  },
  {
   "cell_type": "code",
   "execution_count": null,
   "id": "67536706",
   "metadata": {},
   "outputs": [],
   "source": [
    "myfloat = 3.927\n",
    "\n",
    "\n",
    "# round myfloat to 2 decimal places (should be 3.93).\n",
    "\n",
    "\n",
    "\n",
    "# round myfloat to 0 places (i.e., to produce an integer - should be 4)\n",
    "\n"
   ]
  },
  {
   "cell_type": "markdown",
   "id": "b36b1a35",
   "metadata": {},
   "source": [
    " "
   ]
  },
  {
   "cell_type": "markdown",
   "id": "ec6c2997",
   "metadata": {},
   "source": [
    "LAB 2"
   ]
  },
  {
   "cell_type": "markdown",
   "id": "5b8468cf",
   "metadata": {},
   "source": [
    "<div style=\"background-color: #ccffcc; padding: 10px; border: 2px solid green\"><B>1.20:  <B><U>Get the character length of the preamble to the constitution</U>.</B></B></div>"
   ]
  },
  {
   "cell_type": "code",
   "execution_count": null,
   "id": "0c051bea",
   "metadata": {},
   "outputs": [],
   "source": [
    "preamble = \"\"\"We the People of the United States, in Order to form a more\n",
    "perfect Union, establish Justice, insure domestic Tranquility, provide for\n",
    "the common defense, promote the general Welfare, and secure the Blessings\n",
    "of Liberty to ourselves and our Posterity, do ordain and establish\n",
    "this Constitution for the United States of America.\"\"\"\n"
   ]
  },
  {
   "cell_type": "markdown",
   "id": "9a14009e",
   "metadata": {},
   "source": [
    "<U>Expected Output</U>:  "
   ]
  },
  {
   "cell_type": "markdown",
   "id": "7acd2bda",
   "metadata": {},
   "source": [
    "<pre style=\"margin: 0; padding=0\"><DIV style=\"font-family: Courier; border: 1px solid #dbdbdb; padding: 7px\">327</DIV></pre>"
   ]
  },
  {
   "cell_type": "markdown",
   "id": "7000d5de",
   "metadata": {},
   "source": [
    " "
   ]
  },
  {
   "cell_type": "markdown",
   "id": "3fd24634",
   "metadata": {},
   "source": [
    "<div style=\"background-color: #ccffcc; padding: 10px; border: 2px solid green\"><B>1.21:  <B><U>Divide 5 by 3 and round to 2 places</U>.</B></B></div>"
   ]
  },
  {
   "cell_type": "code",
   "execution_count": null,
   "id": "7d56d499",
   "metadata": {},
   "outputs": [],
   "source": [
    "xx = 5\n",
    "goofy = 3\n"
   ]
  },
  {
   "cell_type": "markdown",
   "id": "bb6585bd",
   "metadata": {},
   "source": [
    "<U>Expected Output</U>:  "
   ]
  },
  {
   "cell_type": "markdown",
   "id": "7a7a8b8a",
   "metadata": {},
   "source": [
    "<pre style=\"margin: 0; padding=0\"><DIV style=\"font-family: Courier; border: 1px solid #dbdbdb; padding: 7px\">1.67</DIV></pre>"
   ]
  },
  {
   "cell_type": "markdown",
   "id": "3b2b7f82",
   "metadata": {},
   "source": [
    " "
   ]
  },
  {
   "cell_type": "markdown",
   "id": "7e0285c3",
   "metadata": {},
   "source": [
    "<div style=\"background-color: #ccffcc; padding: 10px; border: 2px solid green\"><B>1.22:  <B><U>Take input for name and print 'hello, [name]!'</U>.</B></B></div>"
   ]
  },
  {
   "cell_type": "code",
   "execution_count": null,
   "id": "a3e0460b",
   "metadata": {},
   "outputs": [],
   "source": [
    "name = input('please enter your name: ')\n"
   ]
  },
  {
   "cell_type": "markdown",
   "id": "44e1449f",
   "metadata": {},
   "source": [
    "<U>Expected Output</U>:  "
   ]
  },
  {
   "cell_type": "markdown",
   "id": "96d8deb3",
   "metadata": {},
   "source": [
    "<pre style=\"margin: 0; padding=0\"><DIV style=\"font-family: Courier; border: 1px solid #dbdbdb; padding: 7px\">Hello, David!  (assumes the user typed <B>David</B>)</DIV></pre>"
   ]
  },
  {
   "cell_type": "markdown",
   "id": "9713f985",
   "metadata": {},
   "source": [
    " "
   ]
  },
  {
   "cell_type": "markdown",
   "id": "437376dd",
   "metadata": {},
   "source": [
    "<div style=\"background-color: #ccffcc; padding: 10px; border: 2px solid green\"><B>1.23:  <B><U>Take input and print the user's value 3 times <I>as a single string</I></U>.</B></B></div>"
   ]
  },
  {
   "cell_type": "code",
   "execution_count": null,
   "id": "e71ca13d",
   "metadata": {},
   "outputs": [],
   "source": [
    "val = input('please type anything: ')\n"
   ]
  },
  {
   "cell_type": "markdown",
   "id": "c93e38c0",
   "metadata": {},
   "source": [
    "<U>Expected Output</U>:  "
   ]
  },
  {
   "cell_type": "markdown",
   "id": "57558b2e",
   "metadata": {},
   "source": [
    "<pre style=\"margin: 0; padding=0\"><DIV style=\"font-family: Courier; border: 1px solid #dbdbdb; padding: 7px\">spamspamspam   (assumes the user typed <B>spam</B>)</DIV></pre>"
   ]
  },
  {
   "cell_type": "markdown",
   "id": "ef8e710c",
   "metadata": {},
   "source": [
    " "
   ]
  },
  {
   "cell_type": "markdown",
   "id": "bec88b8c",
   "metadata": {},
   "source": [
    "<div style=\"background-color: #ccffcc; padding: 10px; border: 2px solid green\"><B>1.24:  <B><U>Take input for a number and double it</U>.</B></B></div>"
   ]
  },
  {
   "cell_type": "code",
   "execution_count": null,
   "id": "eb7178c3",
   "metadata": {},
   "outputs": [],
   "source": [
    "x = input('Please enter a number: ')\n"
   ]
  },
  {
   "cell_type": "markdown",
   "id": "a8038268",
   "metadata": {},
   "source": [
    "<U>Expected Output</U>:  "
   ]
  },
  {
   "cell_type": "markdown",
   "id": "0b3cf76e",
   "metadata": {},
   "source": [
    "<pre style=\"margin: 0; padding=0\"><DIV style=\"font-family: Courier; border: 1px solid #dbdbdb; padding: 7px\">20             (assumes the user typed <B>10</B>)</DIV></pre>"
   ]
  },
  {
   "cell_type": "markdown",
   "id": "3bad795e",
   "metadata": {},
   "source": [
    " "
   ]
  },
  {
   "cell_type": "markdown",
   "id": "58f22bbf",
   "metadata": {},
   "source": [
    "<div style=\"background-color: #ccffcc; padding: 10px; border: 2px solid green\"><B>1.25:  <B><U>Get the length of 1000000</U>.</B></B></div>"
   ]
  },
  {
   "cell_type": "code",
   "execution_count": null,
   "id": "6ac5f2ff",
   "metadata": {},
   "outputs": [],
   "source": [
    "n = 1000000\n"
   ]
  },
  {
   "cell_type": "markdown",
   "id": "40cb9d9b",
   "metadata": {},
   "source": [
    "<U>Expected Output</U>:  "
   ]
  },
  {
   "cell_type": "markdown",
   "id": "950650f4",
   "metadata": {},
   "source": [
    "<pre style=\"margin: 0; padding=0\"><DIV style=\"font-family: Courier; border: 1px solid #dbdbdb; padding: 7px\">7</DIV></pre>"
   ]
  },
  {
   "cell_type": "markdown",
   "id": "f256d4d6",
   "metadata": {},
   "source": [
    " "
   ]
  },
  {
   "cell_type": "markdown",
   "id": "b23e9b11",
   "metadata": {},
   "source": [
    "<div style=\"background-color: #ccffcc; padding: 10px; border: 2px solid green\"><B>1.26:  <B><U>Take 2 numbers and concatenate them</U>.</B></B></div>"
   ]
  },
  {
   "cell_type": "code",
   "execution_count": null,
   "id": "e41e72fc",
   "metadata": {},
   "outputs": [],
   "source": [
    "xx = 65\n",
    "yy = 43\n"
   ]
  },
  {
   "cell_type": "markdown",
   "id": "645f3909",
   "metadata": {},
   "source": [
    "<U>Expected Output</U>:  "
   ]
  },
  {
   "cell_type": "markdown",
   "id": "81a01f71",
   "metadata": {},
   "source": [
    "<pre style=\"margin: 0; padding=0\"><DIV style=\"font-family: Courier; border: 1px solid #dbdbdb; padding: 7px\">6543</DIV></pre>"
   ]
  },
  {
   "cell_type": "markdown",
   "id": "bf0b43c1",
   "metadata": {},
   "source": [
    " "
   ]
  },
  {
   "cell_type": "markdown",
   "id": "531f49d7",
   "metadata": {},
   "source": [
    "<div style=\"background-color: #ccffcc; padding: 10px; border: 2px solid green\"><B>1.27:  <B><U>Take a number and repeat it 3 times</U>.</B></B></div>"
   ]
  },
  {
   "cell_type": "code",
   "execution_count": null,
   "id": "eda2d969",
   "metadata": {},
   "outputs": [],
   "source": [
    "yxy = 500\n"
   ]
  },
  {
   "cell_type": "markdown",
   "id": "46924ab8",
   "metadata": {},
   "source": [
    "<U>Expected Output</U>:  "
   ]
  },
  {
   "cell_type": "markdown",
   "id": "80bf4f63",
   "metadata": {},
   "source": [
    "<pre style=\"margin: 0; padding=0\"><DIV style=\"font-family: Courier; border: 1px solid #dbdbdb; padding: 7px\">500500500</DIV></pre>"
   ]
  },
  {
   "cell_type": "markdown",
   "id": "17123ecd",
   "metadata": {},
   "source": [
    " "
   ]
  },
  {
   "cell_type": "markdown",
   "id": "af984147",
   "metadata": {},
   "source": [
    "<div style=\"background-color: #ccffcc; padding: 10px; border: 2px solid green\"><B>1.28:  <B><U>Take float input and round it</U>.</B></B></div>"
   ]
  },
  {
   "cell_type": "code",
   "execution_count": null,
   "id": "9bbbe774",
   "metadata": {},
   "outputs": [],
   "source": [
    "ui = input('please enter a floating-point number: ')\n"
   ]
  },
  {
   "cell_type": "markdown",
   "id": "768565a8",
   "metadata": {},
   "source": [
    "<U>Expected Output</U>:  "
   ]
  },
  {
   "cell_type": "markdown",
   "id": "2f0356bb",
   "metadata": {},
   "source": [
    "<pre style=\"margin: 0; padding=0\"><DIV style=\"font-family: Courier; border: 1px solid #dbdbdb; padding: 7px\">3.93             (assumes user typed 3.926)</DIV></pre>"
   ]
  },
  {
   "cell_type": "markdown",
   "id": "6d51467e",
   "metadata": {},
   "source": [
    " "
   ]
  }
 ],
 "metadata": {},
 "nbformat": 4,
 "nbformat_minor": 5
}
