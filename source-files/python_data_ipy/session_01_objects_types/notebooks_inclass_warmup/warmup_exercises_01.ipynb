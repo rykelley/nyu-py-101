{
 "cells": [
  {
   "cell_type": "markdown",
   "id": "0efc3662",
   "metadata": {},
   "source": [
    "# Project Warmup Exercises, Session 1"
   ]
  },
  {
   "cell_type": "markdown",
   "id": "feb8dd0a",
   "metadata": {},
   "source": [
    "PLEASE NOTE:  EXERCISES ARE NOT TO BE TURNED IN.  FOR HOMEWORK TO BE TURNED IN, PLEASE SEE 'PROJECTS'"
   ]
  },
  {
   "cell_type": "markdown",
   "id": "8e3497e6",
   "metadata": {},
   "source": [
    "<B>1.1:  Assign two new integer objects and one float object to three variable names.  Sum up the three variables and assign the resulting object to a new variable name.  Indicate (by printing) the value and type of this resulting object.  </B>"
   ]
  },
  {
   "cell_type": "code",
   "execution_count": null,
   "id": "efd8dffc",
   "metadata": {},
   "outputs": [],
   "source": []
  },
  {
   "cell_type": "markdown",
   "id": "cb543cb2",
   "metadata": {},
   "source": [
    " "
   ]
  },
  {
   "cell_type": "markdown",
   "id": "4318817e",
   "metadata": {},
   "source": [
    "<B>1.2:  Assign two new integer objects to two variable names.  Multiply the two variables and assign the resulting object to a new variable name.  Indicate (by printing) the value and type of this resulting variable's object.  </B>"
   ]
  },
  {
   "cell_type": "code",
   "execution_count": null,
   "id": "a28426f7",
   "metadata": {},
   "outputs": [],
   "source": []
  },
  {
   "cell_type": "markdown",
   "id": "2bb54807",
   "metadata": {},
   "source": [
    " "
   ]
  },
  {
   "cell_type": "markdown",
   "id": "95c5d2c2",
   "metadata": {},
   "source": [
    "<B>1.3:  Starting with the sample code, sum up the values to produce the integer value 15.  (Hint:  apply a conversion function to each string so it can be used as a number.)  </B>"
   ]
  },
  {
   "cell_type": "code",
   "execution_count": null,
   "id": "39a3b743",
   "metadata": {},
   "outputs": [],
   "source": [
    "var = '5'\n",
    "var2 = '10'"
   ]
  },
  {
   "cell_type": "markdown",
   "id": "643f60cd",
   "metadata": {},
   "source": [
    "<U>Expected Output</U>:  "
   ]
  },
  {
   "cell_type": "markdown",
   "id": "7f602805",
   "metadata": {},
   "source": [
    "<pre style=\"margin: 0; padding=0\"><DIV style=\"font-family: Courier; border: 1px solid #dbdbdb; padding: 7px\">15</DIV></pre>"
   ]
  },
  {
   "cell_type": "markdown",
   "id": "d8a4649e",
   "metadata": {},
   "source": [
    " "
   ]
  },
  {
   "cell_type": "markdown",
   "id": "a4665f5f",
   "metadata": {},
   "source": [
    "<B>1.4:  Take user input for an integer and print that value doubled.</B>"
   ]
  },
  {
   "cell_type": "code",
   "execution_count": null,
   "id": "9c7efbe3",
   "metadata": {},
   "outputs": [],
   "source": []
  },
  {
   "cell_type": "markdown",
   "id": "c954262e",
   "metadata": {},
   "source": [
    "<U>Sample Output</U>:  "
   ]
  },
  {
   "cell_type": "markdown",
   "id": "a7a6e0f4",
   "metadata": {},
   "source": [
    "<pre style=\"margin: 0; padding=0\"><DIV style=\"font-family: Courier; border: 1px solid #dbdbdb; padding: 7px\">Please enter an integer:  5\n",
    "5 doubled is 10.</DIV></pre>"
   ]
  },
  {
   "cell_type": "markdown",
   "id": "3d8e030f",
   "metadata": {},
   "source": [
    " "
   ]
  },
  {
   "cell_type": "markdown",
   "id": "2ef1c076",
   "metadata": {},
   "source": [
    "<B>1.5:  Take user input for a 'place' and then greet the place enthusiastically.  </B>"
   ]
  },
  {
   "cell_type": "code",
   "execution_count": null,
   "id": "c1b33e02",
   "metadata": {},
   "outputs": [],
   "source": []
  },
  {
   "cell_type": "markdown",
   "id": "a5be0de0",
   "metadata": {},
   "source": [
    "<U>Sample program runs</U>:  "
   ]
  },
  {
   "cell_type": "markdown",
   "id": "2b844173",
   "metadata": {},
   "source": [
    "<pre style=\"margin: 0; padding=0\"><DIV style=\"font-family: Courier; border: 1px solid #dbdbdb; padding: 7px\">Please enter a place name:  Hawaii\n",
    "Hello, Hawaii!</DIV></pre>"
   ]
  },
  {
   "cell_type": "markdown",
   "id": "2d30fe53",
   "metadata": {},
   "source": [
    "<pre style=\"margin: 0; padding=0\"><DIV style=\"font-family: Courier; border: 1px solid #dbdbdb; padding: 7px\">Please enter a place name:  Kathmandu\n",
    "Hello, Kathmandu!</DIV></pre>"
   ]
  },
  {
   "cell_type": "markdown",
   "id": "2e0cb15a",
   "metadata": {},
   "source": [
    " "
   ]
  },
  {
   "cell_type": "markdown",
   "id": "7c2fbe2d",
   "metadata": {},
   "source": [
    "<B>1.6:  Take user input for an integer and apply that many exclamation points to the phrase, \"Hello, world!\"  (Hint:  use the \"string repetition\" operator)</B>"
   ]
  },
  {
   "cell_type": "code",
   "execution_count": null,
   "id": "173e8436",
   "metadata": {},
   "outputs": [],
   "source": []
  },
  {
   "cell_type": "markdown",
   "id": "8116547e",
   "metadata": {},
   "source": [
    "<U>Sample program runs</U>:  "
   ]
  },
  {
   "cell_type": "markdown",
   "id": "8eba8187",
   "metadata": {},
   "source": [
    "<pre style=\"margin: 0; padding=0\"><DIV style=\"font-family: Courier; border: 1px solid #dbdbdb; padding: 7px\">Please enter an integer:  2\n",
    "Hello, World!!</DIV></pre>"
   ]
  },
  {
   "cell_type": "markdown",
   "id": "0c419815",
   "metadata": {},
   "source": [
    "<pre style=\"margin: 0; padding=0\"><DIV style=\"font-family: Courier; border: 1px solid #dbdbdb; padding: 7px\">Please enter an integer:  11\n",
    "Hello, World!!!!!!!!!!!</DIV></pre>"
   ]
  },
  {
   "cell_type": "markdown",
   "id": "9e75408d",
   "metadata": {},
   "source": [
    " "
   ]
  },
  {
   "cell_type": "markdown",
   "id": "06381d8d",
   "metadata": {},
   "source": [
    "<B>1.7:  Assign the float value 35.30 to a variable, then round the value to 35.  </B>"
   ]
  },
  {
   "cell_type": "code",
   "execution_count": null,
   "id": "dd04155a",
   "metadata": {},
   "outputs": [],
   "source": []
  },
  {
   "cell_type": "markdown",
   "id": "218a9087",
   "metadata": {},
   "source": [
    "<U>Expected Output</U>:  "
   ]
  },
  {
   "cell_type": "markdown",
   "id": "a08784ac",
   "metadata": {},
   "source": [
    "<pre style=\"margin: 0; padding=0\"><DIV style=\"font-family: Courier; border: 1px solid #dbdbdb; padding: 7px\">35</DIV></pre>"
   ]
  },
  {
   "cell_type": "markdown",
   "id": "d5ed3391",
   "metadata": {},
   "source": [
    " "
   ]
  },
  {
   "cell_type": "markdown",
   "id": "3bc37765",
   "metadata": {},
   "source": [
    "<B>1.8:  Assign the float value 35.359958 to a variable, then round the value to two decimal places.  </B>"
   ]
  },
  {
   "cell_type": "code",
   "execution_count": null,
   "id": "c59f4fd1",
   "metadata": {},
   "outputs": [],
   "source": []
  },
  {
   "cell_type": "markdown",
   "id": "a4d7d54e",
   "metadata": {},
   "source": [
    "<U>Expected Output</U>:  "
   ]
  },
  {
   "cell_type": "markdown",
   "id": "b6575fa7",
   "metadata": {},
   "source": [
    "<pre style=\"margin: 0; padding=0\"><DIV style=\"font-family: Courier; border: 1px solid #dbdbdb; padding: 7px\">35.36</DIV></pre>"
   ]
  },
  {
   "cell_type": "markdown",
   "id": "49c3cf68",
   "metadata": {},
   "source": [
    " "
   ]
  },
  {
   "cell_type": "markdown",
   "id": "3add5dfd",
   "metadata": {},
   "source": [
    "<B>1.9:  Starting with the following code (make sure it is included exactly as written), divide the first number by the second number. </B>"
   ]
  },
  {
   "cell_type": "code",
   "execution_count": null,
   "id": "2928bf4c",
   "metadata": {},
   "outputs": [],
   "source": [
    "var = \"5\"\n",
    "var2 = \"4\""
   ]
  },
  {
   "cell_type": "markdown",
   "id": "f488bed2",
   "metadata": {},
   "source": [
    "<U>Expected Output</U>:  "
   ]
  },
  {
   "cell_type": "markdown",
   "id": "7aa597f9",
   "metadata": {},
   "source": [
    "<pre style=\"margin: 0; padding=0\"><DIV style=\"font-family: Courier; border: 1px solid #dbdbdb; padding: 7px\">1.25</DIV></pre>"
   ]
  },
  {
   "cell_type": "markdown",
   "id": "dab45b54",
   "metadata": {},
   "source": [
    " "
   ]
  }
 ],
 "metadata": {},
 "nbformat": 4,
 "nbformat_minor": 5
}
