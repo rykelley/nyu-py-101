{
 "cells": [
  {
   "cell_type": "markdown",
   "id": "4fefa437",
   "metadata": {},
   "source": [
    "# In-Class Exercises, Session 6"
   ]
  },
  {
   "cell_type": "markdown",
   "id": "c07ded6b",
   "metadata": {},
   "source": [
    "PLEASE REFER to pythonreference.com for syntax to follow in coding these Exercises"
   ]
  },
  {
   "cell_type": "markdown",
   "id": "f9fc700b",
   "metadata": {},
   "source": [
    " "
   ]
  },
  {
   "cell_type": "markdown",
   "id": "61ee431a",
   "metadata": {},
   "source": [
    "REVIEW:  SUBSCRIPTING A LIST OR DICT"
   ]
  },
  {
   "cell_type": "markdown",
   "id": "7e56ac64",
   "metadata": {},
   "source": [
    "<B>6.1:  <B><U>List ;</U>.</B>  </B>"
   ]
  },
  {
   "cell_type": "markdown",
   "id": "d188f31e",
   "metadata": {},
   "source": [
    "Print the 1st item in the list, then print the 2nd item.  (Use list subscript.)\n"
   ]
  },
  {
   "cell_type": "code",
   "execution_count": null,
   "id": "5f34e9c1",
   "metadata": {},
   "outputs": [],
   "source": [
    "x = [1, 2, 3, 4]\n"
   ]
  },
  {
   "cell_type": "markdown",
   "id": "e0ed4edb",
   "metadata": {},
   "source": [
    "<U>Expected Output</U>:  "
   ]
  },
  {
   "cell_type": "markdown",
   "id": "4b585f79",
   "metadata": {},
   "source": [
    "<pre style=\"margin: 0; padding=0\"><DIV style=\"font-family: Courier; border: 1px solid #dbdbdb; padding: 7px\">1\n",
    "2</DIV></pre>"
   ]
  },
  {
   "cell_type": "markdown",
   "id": "2f4a2421",
   "metadata": {},
   "source": [
    " "
   ]
  },
  {
   "cell_type": "markdown",
   "id": "67004933",
   "metadata": {},
   "source": [
    "<B>6.2:  <B><U>List item access from end (negative subscript)</U>.</B>  Use a negative list subscript to print the last item in the list.  </B>"
   ]
  },
  {
   "cell_type": "code",
   "execution_count": null,
   "id": "5cedf5ea",
   "metadata": {},
   "outputs": [],
   "source": [
    "x = [1, 2, 3, 4]\n"
   ]
  },
  {
   "cell_type": "markdown",
   "id": "1f27cf14",
   "metadata": {},
   "source": [
    "<U>Expected Output</U>:  "
   ]
  },
  {
   "cell_type": "markdown",
   "id": "33f1fbdf",
   "metadata": {},
   "source": [
    "<pre style=\"margin: 0; padding=0\"><DIV style=\"font-family: Courier; border: 1px solid #dbdbdb; padding: 7px\">4</DIV></pre>"
   ]
  },
  {
   "cell_type": "markdown",
   "id": "b3235dc8",
   "metadata": {},
   "source": [
    " "
   ]
  },
  {
   "cell_type": "markdown",
   "id": "21dc80e7",
   "metadata": {},
   "source": [
    "<B>6.3:  <B><U>Dict item access</U>.</B>  Print the value <b>5.4</b> in this dict, then print the value <B>1.2</B>.  Use dict subscript.    </B>"
   ]
  },
  {
   "cell_type": "code",
   "execution_count": null,
   "id": "3a4ed052",
   "metadata": {},
   "outputs": [],
   "source": [
    "ccitypop = { 'Toronto': 5.4,\n",
    "             'Montreal': 3.5,\n",
    "             'Vancouver': 2.2,\n",
    "             'Calgary': 1.2}\n"
   ]
  },
  {
   "cell_type": "markdown",
   "id": "201f361a",
   "metadata": {},
   "source": [
    "<U>Expected Output</U>:  "
   ]
  },
  {
   "cell_type": "markdown",
   "id": "faabb0a8",
   "metadata": {},
   "source": [
    "<pre style=\"margin: 0; padding=0\"><DIV style=\"font-family: Courier; border: 1px solid #dbdbdb; padding: 7px\">5.4\n",
    "1.2</DIV></pre>"
   ]
  },
  {
   "cell_type": "markdown",
   "id": "e9f4f717",
   "metadata": {},
   "source": [
    " "
   ]
  },
  {
   "cell_type": "markdown",
   "id": "fa59e0d9",
   "metadata": {},
   "source": [
    "REVIEW:  LOOPING THROUGH A LIST OR DICT"
   ]
  },
  {
   "cell_type": "markdown",
   "id": "1cb2308e",
   "metadata": {},
   "source": [
    "<B>6.4:  <B><U>Loop through a list</U>.</B>  Loop through each item in the list.  Use 'for'.  </B>"
   ]
  },
  {
   "cell_type": "code",
   "execution_count": null,
   "id": "0112a454",
   "metadata": {},
   "outputs": [],
   "source": [
    "x = ['a', 'c', 'b', 'd']\n"
   ]
  },
  {
   "cell_type": "markdown",
   "id": "e285be43",
   "metadata": {},
   "source": [
    "<U>Expected Output</U>:  "
   ]
  },
  {
   "cell_type": "markdown",
   "id": "ae2c70b2",
   "metadata": {},
   "source": [
    "<pre style=\"margin: 0; padding=0\"><DIV style=\"font-family: Courier; border: 1px solid #dbdbdb; padding: 7px\">a\n",
    "c\n",
    "b\n",
    "d</DIV></pre>"
   ]
  },
  {
   "cell_type": "markdown",
   "id": "b2c70843",
   "metadata": {},
   "source": [
    " "
   ]
  },
  {
   "cell_type": "markdown",
   "id": "85044de7",
   "metadata": {},
   "source": [
    "<B>6.5:  <B><U>Loop through dict keys and print values</U>.</B>  Loop through each key and print each key, and also value for that key, in the dict.  Use 'for' with a dict subscript.  </B>"
   ]
  },
  {
   "cell_type": "code",
   "execution_count": null,
   "id": "e46f2312",
   "metadata": {},
   "outputs": [],
   "source": [
    "tvshows = { 'The Twilight Zone': 1959,\n",
    "            'Star Trek': 1966,\n",
    "            'I Love Lucy': 1951,\n",
    "            'Lost': 2004 }\n"
   ]
  },
  {
   "cell_type": "markdown",
   "id": "ab9e7da1",
   "metadata": {},
   "source": [
    "<U>Expected Output</U>:  "
   ]
  },
  {
   "cell_type": "markdown",
   "id": "71ebf6ad",
   "metadata": {},
   "source": [
    "<pre style=\"margin: 0; padding=0\"><DIV style=\"font-family: Courier; border: 1px solid #dbdbdb; padding: 7px\">The Twilight Zone 1959\n",
    "Star Trek 1966\n",
    "I Love Lucy 1951\n",
    "Lost 2004</DIV></pre>"
   ]
  },
  {
   "cell_type": "markdown",
   "id": "4f3096ac",
   "metadata": {},
   "source": [
    "(You can use a comma to separate two values printed within the same print statement - Python will insert a space between them.)"
   ]
  },
  {
   "cell_type": "markdown",
   "id": "48bc254c",
   "metadata": {},
   "source": [
    " "
   ]
  },
  {
   "cell_type": "markdown",
   "id": "0a51a2a5",
   "metadata": {},
   "source": [
    "MULTIDIMENSIONAL STRUCTURES:  ACCESSING AN ITEM"
   ]
  },
  {
   "cell_type": "markdown",
   "id": "ff00b16c",
   "metadata": {},
   "source": [
    "<B>6.6:  <B><U>Item access:  list of lists</U>.</B>  </B>"
   ]
  },
  {
   "cell_type": "markdown",
   "id": "56fff4f5",
   "metadata": {},
   "source": [
    "Print the value 'beta', and also print the value 'Fantastic'.  Use a double subscript.\n"
   ]
  },
  {
   "cell_type": "code",
   "execution_count": null,
   "id": "f1851d0a",
   "metadata": {},
   "outputs": [],
   "source": [
    "mylist = [\n",
    "  [ 'a', 'b', 'c', 'd' ],\n",
    "  [ 1, 2, 3, 4 ],\n",
    "  [ 'alpha', 'beta', 'gamma', 'delta' ],\n",
    "  [ 'Torchy', 'Thing', 'Girl', 'Fantastic' ]\n",
    "]\n"
   ]
  },
  {
   "cell_type": "markdown",
   "id": "16588146",
   "metadata": {},
   "source": [
    "<U>Expected Output</U>:  "
   ]
  },
  {
   "cell_type": "markdown",
   "id": "858fd619",
   "metadata": {},
   "source": [
    "<pre style=\"margin: 0; padding=0\"><DIV style=\"font-family: Courier; border: 1px solid #dbdbdb; padding: 7px\">beta\n",
    "Fantastic</DIV></pre>"
   ]
  },
  {
   "cell_type": "markdown",
   "id": "f63a4ca5",
   "metadata": {},
   "source": [
    " "
   ]
  },
  {
   "cell_type": "markdown",
   "id": "c4dedffe",
   "metadata": {},
   "source": [
    "<B>6.7:  <B><U>Item access:  list of dicts</U>.</B>  </B>"
   ]
  },
  {
   "cell_type": "markdown",
   "id": "aabcb1e5",
   "metadata": {},
   "source": [
    "Print the value 'KY', and also the value 'Gamma Husbandry'.  Use a double subscript.\n"
   ]
  },
  {
   "cell_type": "code",
   "execution_count": null,
   "id": "721246da",
   "metadata": {},
   "outputs": [],
   "source": [
    "lod = [\n",
    "   {\n",
    "      'name': 'Apex Pharma',\n",
    "      'city': 'Louisville',\n",
    "      'state': 'KY',\n",
    "   },\n",
    "   {\n",
    "      'name': 'Beta IT',\n",
    "      'city': 'New York',\n",
    "      'state': 'NY',\n",
    "   },\n",
    "   {\n",
    "      'name': 'Gamma Husbandry',\n",
    "      'city': 'Lancaster',\n",
    "      'state': 'PA',\n",
    "   },\n",
    "]\n"
   ]
  },
  {
   "cell_type": "markdown",
   "id": "b677852b",
   "metadata": {},
   "source": [
    "<U>Expected Output</U>:  "
   ]
  },
  {
   "cell_type": "markdown",
   "id": "2a1a5f0f",
   "metadata": {},
   "source": [
    "<pre style=\"margin: 0; padding=0\"><DIV style=\"font-family: Courier; border: 1px solid #dbdbdb; padding: 7px\">KY\n",
    "Gamma Husbandry</DIV></pre>"
   ]
  },
  {
   "cell_type": "markdown",
   "id": "20b3094b",
   "metadata": {},
   "source": [
    " "
   ]
  },
  {
   "cell_type": "markdown",
   "id": "9976f3ee",
   "metadata": {},
   "source": [
    "<B>6.8:  <B><U>Item access:  dict of lists</U>.</B>   </B>"
   ]
  },
  {
   "cell_type": "markdown",
   "id": "f51da1df",
   "metadata": {},
   "source": [
    "Access the value 300, then sum up the values in the list associated with 'b'.  Use a subscript.\n"
   ]
  },
  {
   "cell_type": "code",
   "execution_count": null,
   "id": "a82a9bf3",
   "metadata": {},
   "outputs": [],
   "source": [
    "dol = { 'a': [1, 2, 3],\n",
    "        'b': [10, 20, 30],\n",
    "        'c': [100, 200, 300] }\n"
   ]
  },
  {
   "cell_type": "markdown",
   "id": "5e95aa71",
   "metadata": {},
   "source": [
    "<U>Expected Output</U>:  "
   ]
  },
  {
   "cell_type": "markdown",
   "id": "2514b426",
   "metadata": {},
   "source": [
    "<pre style=\"margin: 0; padding=0\"><DIV style=\"font-family: Courier; border: 1px solid #dbdbdb; padding: 7px\">300\n",
    "60</DIV></pre>"
   ]
  },
  {
   "cell_type": "markdown",
   "id": "ccbd2c04",
   "metadata": {},
   "source": [
    " "
   ]
  },
  {
   "cell_type": "markdown",
   "id": "d9251daa",
   "metadata": {},
   "source": [
    "<B>6.9:  <B><U>Item access:  dict of dicts</U>.</B>  </B>"
   ]
  },
  {
   "cell_type": "markdown",
   "id": "0430a68f",
   "metadata": {},
   "source": [
    "Access and print the name 'Ally' and then the name 'Smith'.  Use a double subscript.\n"
   ]
  },
  {
   "cell_type": "code",
   "execution_count": null,
   "id": "69a8b3f5",
   "metadata": {},
   "outputs": [],
   "source": [
    "dod = {\n",
    "\n",
    "    'ak23':  { 'fname': 'Ally',\n",
    "               'lname': 'Kane' },\n",
    "\n",
    "    'bb98':  { 'fname': 'Bernie',\n",
    "               'lname': 'Bain' },\n",
    "\n",
    "    'js7':   { 'fname': 'Josie',\n",
    "               'lname': 'Smith' },\n",
    "\n",
    "}\n"
   ]
  },
  {
   "cell_type": "markdown",
   "id": "6820c3b4",
   "metadata": {},
   "source": [
    "<U>Expected Output</U>:  "
   ]
  },
  {
   "cell_type": "markdown",
   "id": "b0339116",
   "metadata": {},
   "source": [
    "<pre style=\"margin: 0; padding=0\"><DIV style=\"font-family: Courier; border: 1px solid #dbdbdb; padding: 7px\">Ally\n",
    "Smith</DIV></pre>"
   ]
  },
  {
   "cell_type": "markdown",
   "id": "f3328d56",
   "metadata": {},
   "source": [
    " "
   ]
  },
  {
   "cell_type": "markdown",
   "id": "f3f37429",
   "metadata": {},
   "source": [
    "MULTIDIMENSIONAL STRUCTURES:  LOOPING THROUGH"
   ]
  },
  {
   "cell_type": "markdown",
   "id": "9b8b6bea",
   "metadata": {},
   "source": [
    "<B>6.10:  <B><U>Looping through:  list of lists</U>.</B>  </B>"
   ]
  },
  {
   "cell_type": "markdown",
   "id": "93bd3ddc",
   "metadata": {},
   "source": [
    "Loop through and print each item in 'mylist'.  Then modify the loop so that instead of printing each list, print the first item in each list ('a', 1 ,'alpha', 'Torchy').  Use 'for' with a list subscript.\n"
   ]
  },
  {
   "cell_type": "code",
   "execution_count": null,
   "id": "ffae15ad",
   "metadata": {},
   "outputs": [],
   "source": [
    "mylist = [\n",
    "\n",
    "    [ 'a', 'b', 'c', 'd' ],\n",
    "    [ 1, 2, 3, 4 ],\n",
    "    [ 'alpha', 'beta', 'gamma', 'delta' ],\n",
    "    [ 'Torchy', 'Thing', 'Girl', 'Fantastic' ]\n",
    "\n",
    "]\n"
   ]
  },
  {
   "cell_type": "markdown",
   "id": "8899b32d",
   "metadata": {},
   "source": [
    "<U>Expected Output</U>:  "
   ]
  },
  {
   "cell_type": "markdown",
   "id": "372b5320",
   "metadata": {},
   "source": [
    "<pre style=\"margin: 0; padding=0\"><DIV style=\"font-family: Courier; border: 1px solid #dbdbdb; padding: 7px\">a\n",
    "1\n",
    "alpha\n",
    "Torchy</DIV></pre>"
   ]
  },
  {
   "cell_type": "markdown",
   "id": "591a7465",
   "metadata": {},
   "source": [
    " "
   ]
  },
  {
   "cell_type": "markdown",
   "id": "ae258f52",
   "metadata": {},
   "source": [
    "<B>6.11:  <B><U>Looping through:  list of dicts</U>.</B>  </B>"
   ]
  },
  {
   "cell_type": "markdown",
   "id": "b0e9528f",
   "metadata": {},
   "source": [
    "Loop through each item in the list and print it (each item is a dict).  Then instead of printing each dict, print the city value for each dict (Louisville, New York, Lancaster).  Use 'for' with a dict subscript.\n"
   ]
  },
  {
   "cell_type": "code",
   "execution_count": null,
   "id": "9116051d",
   "metadata": {},
   "outputs": [],
   "source": [
    "lod = [\n",
    "   {\n",
    "      'name': 'Apex Pharma',\n",
    "      'city': 'Louisville',\n",
    "      'state': 'KY',\n",
    "   },\n",
    "   {\n",
    "      'name': 'Beta IT',\n",
    "      'city': 'New York',\n",
    "      'state': 'NY',\n",
    "   },\n",
    "   {\n",
    "      'name': 'Gamma Husbandry',\n",
    "      'city': 'Lancaster',\n",
    "      'state': 'PA',\n",
    "   },\n",
    "]\n"
   ]
  },
  {
   "cell_type": "markdown",
   "id": "a9c3310a",
   "metadata": {},
   "source": [
    "<U>Expected Output</U>:  "
   ]
  },
  {
   "cell_type": "markdown",
   "id": "83c9cf0a",
   "metadata": {},
   "source": [
    "<pre style=\"margin: 0; padding=0\"><DIV style=\"font-family: Courier; border: 1px solid #dbdbdb; padding: 7px\">Louisville\n",
    "New York\n",
    "Lancaster</DIV></pre>"
   ]
  },
  {
   "cell_type": "markdown",
   "id": "5ce6c941",
   "metadata": {},
   "source": [
    " "
   ]
  },
  {
   "cell_type": "markdown",
   "id": "98b824e8",
   "metadata": {},
   "source": [
    "<B>6.12:  <B><U>Looping through:  dict of lists</U>.</B>  </B>"
   ]
  },
  {
   "cell_type": "markdown",
   "id": "d26d2148",
   "metadata": {},
   "source": [
    "Loop through each key in the dict and print the key and associated value (a list) (you can use a comma to separate the key and value).  Then instead of printing each list with the key, print the sum of each list.  Use 'for' with dict subscript.\n"
   ]
  },
  {
   "cell_type": "code",
   "execution_count": null,
   "id": "d57e17f5",
   "metadata": {},
   "outputs": [],
   "source": [
    "dol = { 'a': [1, 2, 3],\n",
    "        'b': [10, 20, 30],\n",
    "        'c': [100, 200, 300] }\n"
   ]
  },
  {
   "cell_type": "markdown",
   "id": "7fc7d04f",
   "metadata": {},
   "source": [
    "<U>Expected Output</U>:  "
   ]
  },
  {
   "cell_type": "markdown",
   "id": "b26cfcd8",
   "metadata": {},
   "source": [
    "<pre style=\"margin: 0; padding=0\"><DIV style=\"font-family: Courier; border: 1px solid #dbdbdb; padding: 7px\">a 6\n",
    "b 60\n",
    "c 600</DIV></pre>"
   ]
  },
  {
   "cell_type": "markdown",
   "id": "d63f2cb8",
   "metadata": {},
   "source": [
    " "
   ]
  },
  {
   "cell_type": "markdown",
   "id": "93d07454",
   "metadata": {},
   "source": [
    "<B>6.13:  <B><U>Looping through:  dict of dicts</U>.</B>  </B>"
   ]
  },
  {
   "cell_type": "markdown",
   "id": "8216668a",
   "metadata": {},
   "source": [
    "Loop through each key in the dict and print the key and associated value (a dict).  Then instead of printing each dict, print the key and 'lname' value for each key.  Use 'for' with a dict subscript, but make sure to confirm the type of each item in your loop.\n"
   ]
  },
  {
   "cell_type": "code",
   "execution_count": null,
   "id": "f2fd82a9",
   "metadata": {},
   "outputs": [],
   "source": [
    "dod = {\n",
    "\n",
    "    'ak23':  { 'fname': 'Ally',\n",
    "               'lname': 'Kane' },\n",
    "\n",
    "    'bb98':  { 'fname': 'Bernie',\n",
    "               'lname': 'Bain' },\n",
    "\n",
    "    'js7':   { 'fname': 'Josie',\n",
    "               'lname': 'Smith' },\n",
    "\n",
    "}\n",
    "\n"
   ]
  },
  {
   "cell_type": "markdown",
   "id": "e9baff2f",
   "metadata": {},
   "source": [
    "<U>Expected Output</U>:  "
   ]
  },
  {
   "cell_type": "markdown",
   "id": "d094145e",
   "metadata": {},
   "source": [
    "<pre style=\"margin: 0; padding=0\"><DIV style=\"font-family: Courier; border: 1px solid #dbdbdb; padding: 7px\">ak23 Kane\n",
    "bb98 Bain\n",
    "js7 Smith</DIV></pre>"
   ]
  },
  {
   "cell_type": "markdown",
   "id": "8682a8f9",
   "metadata": {},
   "source": [
    " "
   ]
  },
  {
   "cell_type": "markdown",
   "id": "84751429",
   "metadata": {},
   "source": [
    "LAB 1"
   ]
  },
  {
   "cell_type": "markdown",
   "id": "588b624c",
   "metadata": {},
   "source": [
    "<div style=\"background-color: #ccffcc; padding: 10px; border: 2px solid green\"><B>6.14:  Access and print the value <B>5.03</B>.  </B></div>"
   ]
  },
  {
   "cell_type": "code",
   "execution_count": null,
   "id": "1ec6c9b6",
   "metadata": {},
   "outputs": [],
   "source": [
    "lol = [\n",
    "  [ 2.76, 1.93, 2.2 ],\n",
    "  [ 1.07, 5.03, 1.1 ],\n",
    "  [ 99.03, 3.0, 1.7 ]\n",
    "]\n",
    "\n",
    "# your code here"
   ]
  },
  {
   "cell_type": "markdown",
   "id": "f41e2cd9",
   "metadata": {},
   "source": [
    "<U>Expected Output</U>:  "
   ]
  },
  {
   "cell_type": "markdown",
   "id": "b4d9e83d",
   "metadata": {},
   "source": [
    "<pre style=\"margin: 0; padding=0\"><DIV style=\"font-family: Courier; border: 1px solid #dbdbdb; padding: 7px\">5.03</DIV></pre>"
   ]
  },
  {
   "cell_type": "markdown",
   "id": "c836cacc",
   "metadata": {},
   "source": [
    " "
   ]
  },
  {
   "cell_type": "markdown",
   "id": "f793cbcb",
   "metadata": {},
   "source": [
    "<div style=\"background-color: #ccffcc; padding: 10px; border: 2px solid green\"><B>6.15:  Access and print the value <B>9.8</B>.  </B></div>"
   ]
  },
  {
   "cell_type": "code",
   "execution_count": null,
   "id": "af8cd57b",
   "metadata": {},
   "outputs": [],
   "source": [
    "dol = { 'a': [1.7, 1.2, 1.7],\n",
    "        'b': [2.2, 2.07, 1.3],\n",
    "        'c': [9.8, 1.17, 0.003] }\n",
    "\n",
    "# your code here"
   ]
  },
  {
   "cell_type": "markdown",
   "id": "d13067f5",
   "metadata": {},
   "source": [
    "<U>Expected Output</U>:  "
   ]
  },
  {
   "cell_type": "markdown",
   "id": "59fe4649",
   "metadata": {},
   "source": [
    "<pre style=\"margin: 0; padding=0\"><DIV style=\"font-family: Courier; border: 1px solid #dbdbdb; padding: 7px\">9.8</DIV></pre>"
   ]
  },
  {
   "cell_type": "markdown",
   "id": "2dd2ed61",
   "metadata": {},
   "source": [
    " "
   ]
  },
  {
   "cell_type": "markdown",
   "id": "16bf4371",
   "metadata": {},
   "source": [
    "<div style=\"background-color: #ccffcc; padding: 10px; border: 2px solid green\"><B>6.16:  Access and print the value <B>-0.08</B>.  </B></div>"
   ]
  },
  {
   "cell_type": "code",
   "execution_count": null,
   "id": "011e1784",
   "metadata": {},
   "outputs": [],
   "source": [
    "value_table = [\n",
    "    { 'date': '19260701', 'MktRF': 0.09, 'SMB': -0.22,\n",
    "      'HML': -0.30, 'RF': 0.009 },\n",
    "\n",
    "    { 'date': '19260702', 'MktRF': 0.44, 'SMB': -0.35,\n",
    "      'HML': -0.08, 'RF': 0.009 },\n",
    "\n",
    "    { 'date': '19260706', 'MktRF': 0.17, 'SMB': 0.26,\n",
    "      'HML': -0.37, 'RF': 0.009 }\n",
    "]\n",
    "\n",
    "# your code here"
   ]
  },
  {
   "cell_type": "markdown",
   "id": "cd2ae4c3",
   "metadata": {},
   "source": [
    "<U>Expected Output</U>:  "
   ]
  },
  {
   "cell_type": "markdown",
   "id": "4a54b32a",
   "metadata": {},
   "source": [
    "<pre style=\"margin: 0; padding=0\"><DIV style=\"font-family: Courier; border: 1px solid #dbdbdb; padding: 7px\">-0.08</DIV></pre>"
   ]
  },
  {
   "cell_type": "markdown",
   "id": "b4029fc9",
   "metadata": {},
   "source": [
    " "
   ]
  },
  {
   "cell_type": "markdown",
   "id": "8147508a",
   "metadata": {},
   "source": [
    "<div style=\"background-color: #ccffcc; padding: 10px; border: 2px solid green\"><B>6.17:  Access and print the value <B>-0.30</B> (will print as <B>-0.3<B>).  </B></div>"
   ]
  },
  {
   "cell_type": "code",
   "execution_count": null,
   "id": "0de5e7e6",
   "metadata": {},
   "outputs": [],
   "source": [
    "date_values = {\n",
    "    '19260701':   { 'MktRF':  0.09,\n",
    "                    'SMB':   -0.22,\n",
    "                    'HML':   -0.30,\n",
    "                    'RF':    0.009 },\n",
    "    '19260702':   { 'MktRF':  0.44,\n",
    "                    'SMB':   -0.35,\n",
    "                    'HML':   -0.08,\n",
    "                    'RF':    0.009 },\n",
    "}\n",
    "\n",
    "# your code here"
   ]
  },
  {
   "cell_type": "markdown",
   "id": "99867c00",
   "metadata": {},
   "source": [
    "<U>Expected Output</U>:  "
   ]
  },
  {
   "cell_type": "markdown",
   "id": "b7b6ef59",
   "metadata": {},
   "source": [
    "<pre style=\"margin: 0; padding=0\"><DIV style=\"font-family: Courier; border: 1px solid #dbdbdb; padding: 7px\">-0.3</DIV></pre>"
   ]
  },
  {
   "cell_type": "markdown",
   "id": "1838856e",
   "metadata": {},
   "source": [
    " "
   ]
  },
  {
   "cell_type": "markdown",
   "id": "8c59a63d",
   "metadata": {},
   "source": [
    "<div style=\"background-color: #ccffcc; padding: 10px; border: 2px solid green\"><B>6.18:  Access the value <B>12</B>.  </B></div>"
   ]
  },
  {
   "cell_type": "code",
   "execution_count": null,
   "id": "0f8b1e3d",
   "metadata": {},
   "outputs": [],
   "source": [
    "x = {\n",
    "  'a': {\n",
    "    'xx': [5, 9, 11, 23],\n",
    "    'zz': 1,\n",
    "    'yy': 2\n",
    "  },\n",
    "  'b': {\n",
    "    'xx': [2, 4, 8, 12],\n",
    "    'zz': 5,\n",
    "    'yy': 10\n",
    "  }\n",
    "}"
   ]
  },
  {
   "cell_type": "markdown",
   "id": "d0aff884",
   "metadata": {},
   "source": [
    "<U>Expected Output</U>:  "
   ]
  },
  {
   "cell_type": "markdown",
   "id": "5240bcf4",
   "metadata": {},
   "source": [
    "<pre style=\"margin: 0; padding=0\"><DIV style=\"font-family: Courier; border: 1px solid #dbdbdb; padding: 7px\">12</DIV></pre>"
   ]
  },
  {
   "cell_type": "markdown",
   "id": "147cb11a",
   "metadata": {},
   "source": [
    " "
   ]
  },
  {
   "cell_type": "markdown",
   "id": "d067edc0",
   "metadata": {},
   "source": [
    "<div style=\"background-color: #ccffcc; padding: 10px; border: 2px solid green\"><B>6.19:  Access the value <B>97</B>.  </B></div>"
   ]
  },
  {
   "cell_type": "code",
   "execution_count": null,
   "id": "789b7fb9",
   "metadata": {},
   "outputs": [],
   "source": [
    "hh = {\n",
    "  'key1': ['a', 'b', 'c'],\n",
    "  'key2': {\n",
    "    'innerkey1': 5,\n",
    "    'innerkey2': {\n",
    "      'u': [85, 86, 87],\n",
    "      'v': [95, 96, 97]\n",
    "    }\n",
    "  },\n",
    "  'key3':  55.09,\n",
    "  'key4':  'hello'\n",
    "}"
   ]
  },
  {
   "cell_type": "markdown",
   "id": "ceba40fe",
   "metadata": {},
   "source": [
    "<U>Expected Output</U>:  "
   ]
  },
  {
   "cell_type": "markdown",
   "id": "dea7e00a",
   "metadata": {},
   "source": [
    "<pre style=\"margin: 0; padding=0\"><DIV style=\"font-family: Courier; border: 1px solid #dbdbdb; padding: 7px\">97</DIV></pre>"
   ]
  },
  {
   "cell_type": "markdown",
   "id": "e26531a6",
   "metadata": {},
   "source": [
    " "
   ]
  },
  {
   "cell_type": "markdown",
   "id": "83c4e975",
   "metadata": {},
   "source": [
    "<div style=\"background-color: #ccffcc; padding: 10px; border: 2px solid green\"><B>6.20:  Loop through the \"outer\" list (<B>value\\_table</B>) and print the sum of the values in each \"inner\" list (use the <B>sum()</B> function -- don't attempt to loop through the \"inner\" lists).  Print each sum rounded to 3 places as you loop.  </B></div>"
   ]
  },
  {
   "cell_type": "code",
   "execution_count": null,
   "id": "6e899a08",
   "metadata": {},
   "outputs": [],
   "source": [
    "value_table =       [\n",
    "                       [ 0.09, -0.22, -0.30, 0.009 ],\n",
    "                       [ 0.44, -0.35, -0.08, 0.009 ],\n",
    "                       [ 0.17, 0.26,  -0.37, 0.009 ]\n",
    "                    ]"
   ]
  },
  {
   "cell_type": "markdown",
   "id": "0106ea30",
   "metadata": {},
   "source": [
    "<U>Expected Output</U>:  "
   ]
  },
  {
   "cell_type": "markdown",
   "id": "25ff35d3",
   "metadata": {},
   "source": [
    "<pre style=\"margin: 0; padding=0\"><DIV style=\"font-family: Courier; border: 1px solid #dbdbdb; padding: 7px\">-0.421\n",
    "0.019\n",
    "0.069</DIV></pre>"
   ]
  },
  {
   "cell_type": "markdown",
   "id": "7058153a",
   "metadata": {},
   "source": [
    " "
   ]
  },
  {
   "cell_type": "markdown",
   "id": "7d0521ee",
   "metadata": {},
   "source": [
    "<div style=\"background-color: #ccffcc; padding: 10px; border: 2px solid green\"><B>6.21:  Loop through and print the last item of each list.  </B></div>"
   ]
  },
  {
   "cell_type": "code",
   "execution_count": null,
   "id": "45c0ba71",
   "metadata": {},
   "outputs": [],
   "source": [
    "yr_vals = { '1926': [ 0.09,  0.44,  0.17, -0.15, -0.06,\n",
    "                      -0.55,  0.61,  0.05, 0.51 ],\n",
    "\n",
    "            '1927': [ -0.97,  0.30,  0.13, -0.18,  0.31,\n",
    "                      0.39,  0.14, -0.27, 0.05 ],\n",
    "\n",
    "            '1928': [ 0.43, -0.14, -0.71,  0.61,  0.13,\n",
    "                      -0.88, -0.85,  0.12, 0.48 ]  }"
   ]
  },
  {
   "cell_type": "markdown",
   "id": "9a81edd2",
   "metadata": {},
   "source": [
    "<U>Expected Output</U>:  "
   ]
  },
  {
   "cell_type": "markdown",
   "id": "fa228a1a",
   "metadata": {},
   "source": [
    "<pre style=\"margin: 0; padding=0\"><DIV style=\"font-family: Courier; border: 1px solid #dbdbdb; padding: 7px\">0.51\n",
    "0.05\n",
    "0.48</DIV></pre>"
   ]
  },
  {
   "cell_type": "markdown",
   "id": "98ec35e2",
   "metadata": {},
   "source": [
    " "
   ]
  },
  {
   "cell_type": "markdown",
   "id": "d4529a34",
   "metadata": {},
   "source": [
    "<div style=\"background-color: #ccffcc; padding: 10px; border: 2px solid green\"><B>6.22:  Loop through and print the date and <B>MktRF</B> value from each \"inner\" dict.  </B></div>"
   ]
  },
  {
   "cell_type": "code",
   "execution_count": null,
   "id": "fa10415c",
   "metadata": {},
   "outputs": [],
   "source": [
    "date_values = {\n",
    "    '19260701':   { 'MktRF':  0.09,\n",
    "                    'SMB':   -0.22,\n",
    "                    'HML':   -0.30,\n",
    "                    'RF':    0.009 },\n",
    "    '19260702':   { 'MktRF':  0.44,\n",
    "                    'SMB':   -0.35,\n",
    "                    'HML':   -0.08,\n",
    "                    'RF':    0.009 },\n",
    "}"
   ]
  },
  {
   "cell_type": "markdown",
   "id": "bdde0cce",
   "metadata": {},
   "source": [
    "<U>Expected Output</U>:  "
   ]
  },
  {
   "cell_type": "markdown",
   "id": "ba729910",
   "metadata": {},
   "source": [
    "<pre style=\"margin: 0; padding=0\"><DIV style=\"font-family: Courier; border: 1px solid #dbdbdb; padding: 7px\">19260701:  0.09\n",
    "19250702:  0.44</DIV></pre>"
   ]
  },
  {
   "cell_type": "markdown",
   "id": "5a9a42ee",
   "metadata": {},
   "source": [
    " "
   ]
  },
  {
   "cell_type": "markdown",
   "id": "0bc6824b",
   "metadata": {},
   "source": [
    "<div style=\"background-color: #ccffcc; padding: 10px; border: 2px solid green\"><B>6.23:  Loop through this list of dicts, and loop through each \"inner\" dict, printing all keys and values found.  Also print a blank line between dicts.  </B></div>"
   ]
  },
  {
   "cell_type": "markdown",
   "id": "c9ac276b",
   "metadata": {},
   "source": [
    "Note that you can use a comma within a print statement to print two items together (this introduces a space between items)."
   ]
  },
  {
   "cell_type": "code",
   "execution_count": null,
   "id": "02fe3bb5",
   "metadata": {},
   "outputs": [],
   "source": [
    "lod = [\n",
    "  {\n",
    "    'zz': 1,\n",
    "    'yy': 2\n",
    "  },\n",
    "  {\n",
    "    'ww': 99,\n",
    "    'xx': 89\n",
    "  },\n",
    "]"
   ]
  },
  {
   "cell_type": "markdown",
   "id": "30e1f461",
   "metadata": {},
   "source": [
    "<U>Expected Output</U>:  "
   ]
  },
  {
   "cell_type": "markdown",
   "id": "49687b37",
   "metadata": {},
   "source": [
    "<pre style=\"margin: 0; padding=0\"><DIV style=\"font-family: Courier; border: 1px solid #dbdbdb; padding: 7px\">zz 1\n",
    "yy 2\n",
    "\n",
    "ww 99\n",
    "xx 89</DIV></pre>"
   ]
  },
  {
   "cell_type": "markdown",
   "id": "3dc04132",
   "metadata": {},
   "source": [
    " "
   ]
  },
  {
   "cell_type": "markdown",
   "id": "90023a1b",
   "metadata": {},
   "source": [
    "<div style=\"background-color: #ccffcc; padding: 10px; border: 2px solid green\"><B>6.24:  Loop through this dict of dicts printing each key as well as looping through each \"inner\" dict, printing all keys and values found.  </B></div>"
   ]
  },
  {
   "cell_type": "markdown",
   "id": "fd53c155",
   "metadata": {},
   "source": [
    "Note that you can use a comma within a print statement to print two items together (this introduces a space between items)."
   ]
  },
  {
   "cell_type": "code",
   "execution_count": null,
   "id": "97dc5576",
   "metadata": {},
   "outputs": [],
   "source": [
    "dod = {\n",
    "  'a':  {\n",
    "    'zz': 1,\n",
    "    'yy': 2\n",
    "  },\n",
    "  'b':  {\n",
    "    'zz': 5,\n",
    "    'yy': 10\n",
    "  }\n",
    "}"
   ]
  },
  {
   "cell_type": "markdown",
   "id": "c1a00e6c",
   "metadata": {},
   "source": [
    "<U>Expected Output</U>:  "
   ]
  },
  {
   "cell_type": "markdown",
   "id": "4818980a",
   "metadata": {},
   "source": [
    "<pre style=\"margin: 0; padding=0\"><DIV style=\"font-family: Courier; border: 1px solid #dbdbdb; padding: 7px\">a\n",
    "  zz 1\n",
    "  yy 2\n",
    "b\n",
    "  zz 5\n",
    "  yy 10</DIV></pre>"
   ]
  },
  {
   "cell_type": "markdown",
   "id": "16f177e5",
   "metadata": {},
   "source": [
    " "
   ]
  },
  {
   "cell_type": "markdown",
   "id": "e1b9f3e1",
   "metadata": {},
   "source": [
    "<div style=\"background-color: #ccffcc; padding: 10px; border: 2px solid green\"><B>6.25:  Print the date value from each dict in 'data'.  <U>Hint</U>:  determine the chained subscript that reaches the 'data' list, and assign to a variable.  Then loop through that variable as you would any list of dicts.  </B></div>"
   ]
  },
  {
   "cell_type": "code",
   "execution_count": null,
   "id": "26c80a23",
   "metadata": {},
   "outputs": [],
   "source": [
    "json_struct = {\n",
    "\n",
    "  'json_rpc': '1.1',\n",
    "\n",
    "  'result': {\n",
    "\n",
    "    'meta': {\n",
    "      'last_refresh': '20201019',\n",
    "      'size': 2395 },\n",
    "\n",
    "    'data': [\n",
    "      { 'date': '19260701', 'MktRF': 0.09, 'SMB': -0.22,\n",
    "        'HML': -0.30, 'RF': 0.009 },\n",
    "\n",
    "      { 'date': '19260702', 'MktRF': 0.44, 'SMB': -0.35,\n",
    "        'HML': -0.08, 'RF': 0.009 },\n",
    "\n",
    "      { 'date': '19260706', 'MktRF': 0.17, 'SMB': 0.26,\n",
    "        'HML': -0.37, 'RF': 0.009 }\n",
    "    ],\n",
    "\n",
    "  },\n",
    "\n",
    "}"
   ]
  },
  {
   "cell_type": "markdown",
   "id": "eac9dc82",
   "metadata": {},
   "source": [
    "<U>Expected Output</U>:  "
   ]
  },
  {
   "cell_type": "markdown",
   "id": "403374dc",
   "metadata": {},
   "source": [
    "<pre style=\"margin: 0; padding=0\"><DIV style=\"font-family: Courier; border: 1px solid #dbdbdb; padding: 7px\">19260701\n",
    "19260702\n",
    "19260706</DIV></pre>"
   ]
  },
  {
   "cell_type": "markdown",
   "id": "8c7be18e",
   "metadata": {},
   "source": [
    " "
   ]
  },
  {
   "cell_type": "markdown",
   "id": "33e37c6c",
   "metadata": {},
   "source": [
    "REVIEW:  TRAPPING EXCEPTIONS -- TRY/EXCEPT"
   ]
  },
  {
   "cell_type": "markdown",
   "id": "737b54a6",
   "metadata": {},
   "source": [
    "<B>6.26:  <B><U>Trap a \"missing file\" error</U>.</B>  If the below file can't be found, Python will raise an exception.  First, allow the exception to occur and note the exception type as well as the line number.  Next, wrap the line in a <B>try:</B> block and follow with an <B>except:</B> block that notes the type.  In the <B>except:</B> block, print an error message that indicates that the file can't be opened, and then exit the program (in Jupyter Notebook, make sure to use <B>sys.exit()</B>).  </B>"
   ]
  },
  {
   "cell_type": "code",
   "execution_count": null,
   "id": "da355aa2",
   "metadata": {},
   "outputs": [],
   "source": [
    "import sys\n",
    "\n",
    "filename = '../whatfiledoyoumean'\n",
    "\n",
    "fh = open(filename)\n",
    "\n",
    "for row in fh:\n",
    "    print(row)"
   ]
  },
  {
   "cell_type": "markdown",
   "id": "ca9432e6",
   "metadata": {},
   "source": [
    " "
   ]
  },
  {
   "cell_type": "markdown",
   "id": "2f5dcb60",
   "metadata": {},
   "source": [
    "<B>6.27:  <B><U>Review:  trap a \"bad dict key\" error</U>.</B>  If the user's key can't be found in the dict, an error occurs -- test this by inputting a key of 'XXX'.  Once you have observed the exception and exception type, use a 'try/except' statement to trap the exception and instead print 'key does not exist'.  Make sure to put your 'try' block around just one line of code.  </B>"
   ]
  },
  {
   "cell_type": "code",
   "execution_count": null,
   "id": "c3c3a73b",
   "metadata": {},
   "outputs": [],
   "source": [
    "z = {'a': 1, 'b': 2, 'c': 3}\n",
    "\n",
    "ukey = input('please enter a key:  ')\n",
    "\n",
    "print(z[ukey])"
   ]
  },
  {
   "cell_type": "markdown",
   "id": "7c24bb0c",
   "metadata": {},
   "source": [
    "<U>Sample program run</U>:  "
   ]
  },
  {
   "cell_type": "markdown",
   "id": "cb400d56",
   "metadata": {},
   "source": [
    "<pre style=\"margin: 0; padding=0\"><DIV style=\"font-family: Courier; border: 1px solid #dbdbdb; padding: 7px\">please enter a key:  XXX\n",
    "key does not exist\n",
    "</DIV></pre>"
   ]
  },
  {
   "cell_type": "markdown",
   "id": "84495f80",
   "metadata": {},
   "source": [
    " "
   ]
  },
  {
   "cell_type": "markdown",
   "id": "a3190a64",
   "metadata": {},
   "source": [
    "<B>6.28:  <B><U>Review:  trap a \"bad list index\" error</U>.</B>   If the user's index can't be found in the list, an error occurs -- test this by inputting an index of 9.  Once you have observed the exception and exception type, use a 'try/except' statement to trap the exception and instead print 'no value at that index'.  Make sure to put your 'try' block around just one line of code.</B>"
   ]
  },
  {
   "cell_type": "code",
   "execution_count": null,
   "id": "8b5ff07c",
   "metadata": {},
   "outputs": [],
   "source": [
    "x = ['a', 'b', 'c', 'd']\n",
    "\n",
    "uidx = int(input('please enter an index:  '))\n",
    "\n",
    "print(x[uidx])"
   ]
  },
  {
   "cell_type": "markdown",
   "id": "3cc73bef",
   "metadata": {},
   "source": [
    "<U>Sample program run</U>:  "
   ]
  },
  {
   "cell_type": "markdown",
   "id": "b8754637",
   "metadata": {},
   "source": [
    "<pre style=\"margin: 0; padding=0\"><DIV style=\"font-family: Courier; border: 1px solid #dbdbdb; padding: 7px\">please enter an index:  9\n",
    "no value at that index</DIV></pre>"
   ]
  },
  {
   "cell_type": "markdown",
   "id": "d8efca25",
   "metadata": {},
   "source": [
    " "
   ]
  },
  {
   "cell_type": "markdown",
   "id": "59463419",
   "metadata": {},
   "source": [
    "LAB 2"
   ]
  },
  {
   "cell_type": "markdown",
   "id": "6b49d931",
   "metadata": {},
   "source": [
    "<div style=\"background-color: #ccffcc; padding: 10px; border: 2px solid green\"><B>6.29:  <B><U>Identify and trap an exception</U>.</B></B></div>"
   ]
  },
  {
   "cell_type": "markdown",
   "id": "38b02f3b",
   "metadata": {},
   "source": [
    "Run the program and allow the exception to happen.  Then wrap your <B>try:</B> block around the minimum # of lines and follow with an <B>except:</B> block that identifies the exception prints a warning.  (Remember not to use <B>except:</B> by itself or <B>except Exception:</B>.)\n"
   ]
  },
  {
   "cell_type": "code",
   "execution_count": null,
   "id": "ffbcfc03",
   "metadata": {},
   "outputs": [],
   "source": [
    "ui = input('please enter a float value: ')\n",
    "\n",
    "fui = float(ui)\n"
   ]
  },
  {
   "cell_type": "markdown",
   "id": "2fdb6ae5",
   "metadata": {},
   "source": [
    "<U>Expected Output</U>:  "
   ]
  },
  {
   "cell_type": "markdown",
   "id": "0d0f8ac6",
   "metadata": {},
   "source": [
    "<pre style=\"margin: 0; padding=0\"><DIV style=\"font-family: Courier; border: 1px solid #dbdbdb; padding: 7px\">Warning:  there was an error.</DIV></pre>"
   ]
  },
  {
   "cell_type": "markdown",
   "id": "c284a127",
   "metadata": {},
   "source": [
    "<U>Please note</U> that we would normally do more than just say 'there was an error'.  Error messages need to be specific in order to alert the user to what happened or what they need to do in response."
   ]
  },
  {
   "cell_type": "markdown",
   "id": "e2c053cb",
   "metadata": {},
   "source": [
    " "
   ]
  },
  {
   "cell_type": "markdown",
   "id": "ed570e5d",
   "metadata": {},
   "source": [
    "<div style=\"background-color: #ccffcc; padding: 10px; border: 2px solid green\"><B>6.30:  <B><U>Identify and trap an exception (2)</U>.</B></B></div>"
   ]
  },
  {
   "cell_type": "markdown",
   "id": "124939fc",
   "metadata": {},
   "source": [
    "Run the program and allow the exception to happen.  Then wrap your <B>try:</B> block around the minimum # of lines and follow with an <B>except:</B> block that identifies the exception prints a warning.  (Remember not to use <B>except:</B> by itself or <B>except Exception:</B>.)\n"
   ]
  },
  {
   "cell_type": "code",
   "execution_count": null,
   "id": "b3624186",
   "metadata": {},
   "outputs": [],
   "source": [
    "filename = input('please enter a filename:  ')\n",
    "\n",
    "fh = open(filename)\n"
   ]
  },
  {
   "cell_type": "markdown",
   "id": "7186ce94",
   "metadata": {},
   "source": [
    "<U>Expected Output</U>:  "
   ]
  },
  {
   "cell_type": "markdown",
   "id": "53387eb8",
   "metadata": {},
   "source": [
    "<pre style=\"margin: 0; padding=0\"><DIV style=\"font-family: Courier; border: 1px solid #dbdbdb; padding: 7px\">Warning:  there was an error.</DIV></pre>"
   ]
  },
  {
   "cell_type": "markdown",
   "id": "9ae5cafa",
   "metadata": {},
   "source": [
    "<U>Please note</U> that we would normally do more than just say 'there was an error'.  Error messages need to be specific in order to alert the user to what happened or what they need to do in response."
   ]
  },
  {
   "cell_type": "markdown",
   "id": "68012863",
   "metadata": {},
   "source": [
    " "
   ]
  },
  {
   "cell_type": "markdown",
   "id": "e81e4afa",
   "metadata": {},
   "source": [
    "<div style=\"background-color: #ccffcc; padding: 10px; border: 2px solid green\"><B>6.31:  <B><U>Identify and trap an exception (3)</U>.</B></B></div>"
   ]
  },
  {
   "cell_type": "markdown",
   "id": "63831797",
   "metadata": {},
   "source": [
    "Run the program and allow the exception to happen.  Then wrap your <B>try:</B> block around the minimum # of lines and follow with an <B>except:</B> block that identifies the exception prints a warning.  (Remember not to use <B>except:</B> by itself or <B>except Exception:</B>.)\n"
   ]
  },
  {
   "cell_type": "code",
   "execution_count": null,
   "id": "e7bb89c1",
   "metadata": {},
   "outputs": [],
   "source": [
    "countries = { 'USA': 328.2,\n",
    "              'Canada': 37.59,\n",
    "              'Mexico': 127.6  }\n",
    "\n",
    "ukey = input('please enter a country name: ')\n",
    "\n",
    "print(f'{ukey} population is {countries[ukey]}')"
   ]
  },
  {
   "cell_type": "markdown",
   "id": "28fb6482",
   "metadata": {},
   "source": [
    "<U>Expected Output</U>:  "
   ]
  },
  {
   "cell_type": "markdown",
   "id": "2159f1d9",
   "metadata": {},
   "source": [
    "<pre style=\"margin: 0; padding=0\"><DIV style=\"font-family: Courier; border: 1px solid #dbdbdb; padding: 7px\">Warning:  there was an error.</DIV></pre>"
   ]
  },
  {
   "cell_type": "markdown",
   "id": "2881c5bc",
   "metadata": {},
   "source": [
    "<U>Please note</U> that we would normally do more than just say 'there was an error'.  Error messages need to be specific in order to alert the user to what happened or what they need to do in response."
   ]
  },
  {
   "cell_type": "markdown",
   "id": "6a6ffc72",
   "metadata": {},
   "source": [
    " "
   ]
  },
  {
   "cell_type": "markdown",
   "id": "9887bb59",
   "metadata": {},
   "source": [
    "MULTIDIMENSIONAL STRUCTURES:  BUILDING FROM FILE"
   ]
  },
  {
   "cell_type": "markdown",
   "id": "58f42986",
   "metadata": {},
   "source": [
    "<B>6.32:  <B><U>Review:  build a list from file</U>.</B>  </B>"
   ]
  },
  {
   "cell_type": "markdown",
   "id": "91bdc45d",
   "metadata": {},
   "source": [
    "Opening and reading <B>revenue.csv</B>, build a list of float values from the file.\n"
   ]
  },
  {
   "cell_type": "code",
   "execution_count": null,
   "id": "2c0853de",
   "metadata": {},
   "outputs": [],
   "source": [
    "fh = open('../revenue.csv')\n",
    "\n",
    "for line in fh:\n",
    "    line = line.rstrip()\n",
    "    name, state, fval = line.split(',')\n",
    "    fval = float(fval)\n",
    "\n",
    "\n",
    "fh.close()"
   ]
  },
  {
   "cell_type": "markdown",
   "id": "ab8e280a",
   "metadata": {},
   "source": [
    "<U>Expected Output</U>:  "
   ]
  },
  {
   "cell_type": "markdown",
   "id": "4cc88261",
   "metadata": {},
   "source": [
    "<pre style=\"margin: 0; padding=0\"><DIV style=\"font-family: Courier; border: 1px solid #dbdbdb; padding: 7px\">[239.5, 53.9, 211.5, 11.98, 5.98, 23.95, 115.2]</DIV></pre>"
   ]
  },
  {
   "cell_type": "markdown",
   "id": "6fe838bd",
   "metadata": {},
   "source": [
    " "
   ]
  },
  {
   "cell_type": "markdown",
   "id": "0a578d43",
   "metadata": {},
   "source": [
    "<B>6.33:  <B><U>Review:  build a dict from file</U>.</B>  </B>"
   ]
  },
  {
   "cell_type": "markdown",
   "id": "6c2d4c87",
   "metadata": {},
   "source": [
    "Opening and reading <B>revenue.csv</B>, build a dict of company names (the first value on the line) paired with revenue values (the last value on the line))\n"
   ]
  },
  {
   "cell_type": "code",
   "execution_count": null,
   "id": "3a70c0b9",
   "metadata": {},
   "outputs": [],
   "source": [
    "fh = open('../revenue.csv')\n",
    "\n",
    "for line in fh:\n",
    "    line = line.rstrip()\n",
    "    name, state, fval = line.split(',')\n",
    "    fval = float(fval)\n",
    "\n",
    "\n",
    "fh.close()"
   ]
  },
  {
   "cell_type": "markdown",
   "id": "2b071ef9",
   "metadata": {},
   "source": [
    "<U>Expected Output</U>:  "
   ]
  },
  {
   "cell_type": "markdown",
   "id": "65379f97",
   "metadata": {},
   "source": [
    "<pre style=\"margin: 0; padding=0\"><DIV style=\"font-family: Courier; border: 1px solid #dbdbdb; padding: 7px\">{\"Haddad's\": 239.5, 'Westfield': 53.9, 'The Store': 211.5,\n",
    " \"Hipster's\": 11.98, 'Dothraki Fashions': 5.98,\n",
    " \"Awful's\": 23.95, 'The Clothiers': 115.2}</DIV></pre>"
   ]
  },
  {
   "cell_type": "markdown",
   "id": "53d908a9",
   "metadata": {},
   "source": [
    " "
   ]
  },
  {
   "cell_type": "markdown",
   "id": "b1cd9fd5",
   "metadata": {},
   "source": [
    "<B>6.34:  <B><U>Build a list of lists</U>.</B>  </B>"
   ]
  },
  {
   "cell_type": "markdown",
   "id": "320c6448",
   "metadata": {},
   "source": [
    "Opening and reading <B>revenue.csv</B>, build a list of lists where each item in the \"outer\" list is a row, and each row is an \"inner\" list of values split from the line.\n"
   ]
  },
  {
   "cell_type": "code",
   "execution_count": null,
   "id": "cc0cec8e",
   "metadata": {},
   "outputs": [],
   "source": [
    "fh = open('../revenue.csv')\n",
    "\n",
    "for line in fh:\n",
    "    line = line.rstrip()\n",
    "    name, state, fval = line.split(',')\n",
    "    fval = float(fval)\n",
    "\n",
    "\n",
    "fh.close()"
   ]
  },
  {
   "cell_type": "markdown",
   "id": "e94d7d00",
   "metadata": {},
   "source": [
    "<U>Expected Output</U>:  "
   ]
  },
  {
   "cell_type": "markdown",
   "id": "5c2b8197",
   "metadata": {},
   "source": [
    "<pre style=\"margin: 0; padding=0\"><DIV style=\"font-family: Courier; border: 1px solid #dbdbdb; padding: 7px\">[[\"Haddad's\", 'PA', 239.5], ['Westfield', 'NJ', 53.9],\n",
    " ['The Store', 'NJ', 211.5], [\"Hipster's\", 'NY', 11.98],\n",
    " ['Dothraki Fashions', 'NY', 5.98], [\"Awful's\", 'PA', 23.95],\n",
    " ['The Clothiers', 'NY', 115.2]]</DIV></pre>"
   ]
  },
  {
   "cell_type": "markdown",
   "id": "60c51f4e",
   "metadata": {},
   "source": [
    " "
   ]
  },
  {
   "cell_type": "markdown",
   "id": "2e7c4728",
   "metadata": {},
   "source": [
    "<B>6.35:  <B><U>Build a list of dicts</U>.</B>  </B>"
   ]
  },
  {
   "cell_type": "markdown",
   "id": "efcb4f86",
   "metadata": {},
   "source": [
    "Opening and reading <B>revenue.csv</B>, build a list of dicts where each list item in the \"outer\" list is a dict, and each \"inner\" dict represents a row from the file (with keys 'name', 'state' and 'revenue').\n"
   ]
  },
  {
   "cell_type": "code",
   "execution_count": null,
   "id": "918dbcee",
   "metadata": {},
   "outputs": [],
   "source": [
    "fh = open('../revenue.csv')\n",
    "\n",
    "for line in fh:\n",
    "    line = line.rstrip()\n",
    "    name, state, fval = line.split(',')\n",
    "    fval = float(fval)\n",
    "\n",
    "\n",
    "fh.close()"
   ]
  },
  {
   "cell_type": "markdown",
   "id": "b45063ec",
   "metadata": {},
   "source": [
    "<U>Expected Output</U>:  "
   ]
  },
  {
   "cell_type": "markdown",
   "id": "87e82da4",
   "metadata": {},
   "source": [
    "<pre style=\"margin: 0; padding=0\"><DIV style=\"font-family: Courier; border: 1px solid #dbdbdb; padding: 7px\">[\n",
    " {'name': \"Haddad's\", 'state': 'PA', 'revenue': 239.5},\n",
    " {'name': 'Westfield', 'state': 'NJ', 'revenue': 53.9},\n",
    " {'name': 'The Store', 'state': 'NJ', 'revenue': 211.5},\n",
    " {'name': \"Hipster's\", 'state': 'NY', 'revenue': 11.98},\n",
    " {'name': 'Dothraki Fashions', 'state': 'NY', 'revenue': 5.98},\n",
    " {'name': \"Awful's\", 'state': 'PA', 'revenue': 23.95},\n",
    " {'name': 'The Clothiers', 'state': 'NY', 'revenue': 115.2}\n",
    "]</DIV></pre>"
   ]
  },
  {
   "cell_type": "markdown",
   "id": "edec229e",
   "metadata": {},
   "source": [
    " "
   ]
  },
  {
   "cell_type": "markdown",
   "id": "daf390e3",
   "metadata": {},
   "source": [
    "<B>6.36:  <B><U>Build a dict of dicts</U>.</B>  </B>"
   ]
  },
  {
   "cell_type": "markdown",
   "id": "ed98bc41",
   "metadata": {},
   "source": [
    "Opening and reading <B>revenue.csv</B>, build a dict of dicts where each \"outer\" dict key is the name from the line, and each value is another dict.  The \"inner\" dict should have the remaining values from the row, with keys 'state' and 'revenue').\n"
   ]
  },
  {
   "cell_type": "code",
   "execution_count": null,
   "id": "b96f82f5",
   "metadata": {},
   "outputs": [],
   "source": [
    "fh = open('../revenue.csv')\n",
    "\n",
    "for line in fh:\n",
    "    line = line.rstrip()\n",
    "    name, state, fval = line.split(',')\n",
    "    fval = float(fval)\n",
    "\n",
    "\n",
    "fh.close()"
   ]
  },
  {
   "cell_type": "markdown",
   "id": "f5687f42",
   "metadata": {},
   "source": [
    "<U>Expected Output</U>:  "
   ]
  },
  {
   "cell_type": "markdown",
   "id": "c5cd6399",
   "metadata": {},
   "source": [
    "<pre style=\"margin: 0; padding=0\"><DIV style=\"font-family: Courier; border: 1px solid #dbdbdb; padding: 7px\">{\"Haddad's\": {'state': 'PA', 'revenue': 239.5},\n",
    " 'Westfield': {'state': 'NJ', 'revenue': 53.9},\n",
    " 'The Store': {'state': 'NJ', 'revenue': 211.5},\n",
    " \"Hipster's\": {'state': 'NY', 'revenue': 11.98},\n",
    " 'Dothraki Fashions': {'state': 'NY', 'revenue': 5.98},\n",
    " \"Awful's\": {'state': 'PA', 'revenue': 23.95},\n",
    " 'The Clothiers': {'state': 'NY', 'revenue': 115.2}}</DIV></pre>"
   ]
  },
  {
   "cell_type": "markdown",
   "id": "315903fc",
   "metadata": {},
   "source": [
    " "
   ]
  },
  {
   "cell_type": "markdown",
   "id": "c9173746",
   "metadata": {},
   "source": [
    "<B>6.37:  <B><U>Build a dict of lists</U>.</B>  </B>"
   ]
  },
  {
   "cell_type": "markdown",
   "id": "087b1425",
   "metadata": {},
   "source": [
    "Opening and reading <B>revenue.csv</B>, build a dict of lists where each \"outer\" dict key is a state, and each value is a list of revenue values found on the same line as that state.\n"
   ]
  },
  {
   "cell_type": "code",
   "execution_count": null,
   "id": "231fa5fd",
   "metadata": {},
   "outputs": [],
   "source": [
    "fh = open('../revenue.csv')\n",
    "\n",
    "for line in fh:\n",
    "    line = line.rstrip()\n",
    "    name, state, fval = line.split(',')\n",
    "    fval = float(fval)\n",
    "\n",
    "\n",
    "fh.close()"
   ]
  },
  {
   "cell_type": "markdown",
   "id": "09efca9d",
   "metadata": {},
   "source": [
    "<U>Expected Output</U>:  "
   ]
  },
  {
   "cell_type": "markdown",
   "id": "2dbf15bc",
   "metadata": {},
   "source": [
    "<pre style=\"margin: 0; padding=0\"><DIV style=\"font-family: Courier; border: 1px solid #dbdbdb; padding: 7px\">{'PA': [239.5, 23.95], 'NJ': [53.9, 211.5],\n",
    " 'NY': [11.98, 5.98, 115.2]}</DIV></pre>"
   ]
  },
  {
   "cell_type": "markdown",
   "id": "3be8194f",
   "metadata": {},
   "source": [
    " "
   ]
  }
 ],
 "metadata": {},
 "nbformat": 4,
 "nbformat_minor": 5
}
