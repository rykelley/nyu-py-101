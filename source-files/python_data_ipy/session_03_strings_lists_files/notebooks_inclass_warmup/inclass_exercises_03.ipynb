{
 "cells": [
  {
   "cell_type": "markdown",
   "id": "cd9c5ff7",
   "metadata": {},
   "source": [
    "# In-Class Exercises, Session 3"
   ]
  },
  {
   "cell_type": "markdown",
   "id": "881145e9",
   "metadata": {},
   "source": [
    "PLEASE REFER to pythonreference.com for syntax to follow in coding these Exercises"
   ]
  },
  {
   "cell_type": "markdown",
   "id": "8c794248",
   "metadata": {},
   "source": [
    " "
   ]
  },
  {
   "cell_type": "markdown",
   "id": "d954362e",
   "metadata": {},
   "source": [
    "NOTE THAT the data files read from these exercises is located in the \"parent\" directory.  Thus any filename in these exercises should be preceded with <B>../</B>.  (If you create a script in the same directory as the data file, this would not be necessary.)"
   ]
  },
  {
   "cell_type": "markdown",
   "id": "5ce62b1e",
   "metadata": {},
   "source": [
    " "
   ]
  },
  {
   "cell_type": "markdown",
   "id": "97149b62",
   "metadata": {},
   "source": [
    "STRINGS"
   ]
  },
  {
   "cell_type": "markdown",
   "id": "dd8d28f6",
   "metadata": {},
   "source": [
    "<B>3.1:  <B><U>String operations</U>.</B>  </B>"
   ]
  },
  {
   "cell_type": "markdown",
   "id": "eac75ae5",
   "metadata": {},
   "source": [
    "Perform the noted operations on strings 'sentence' and 'csv\\_line':\n"
   ]
  },
  {
   "cell_type": "code",
   "execution_count": null,
   "id": "2648b194",
   "metadata": {},
   "outputs": [],
   "source": [
    "sentence = 'Hello  there   treasured  Python friends.'\n",
    "csv_line = 'California,31,39.51,3200\\n'\n",
    "\n",
    "\n",
    "# use len() to determine the length of 'sentence'\n",
    "\n",
    "\n",
    "# strip csv-\n",
    "\n",
    "\n",
    "# strip 'sentence' of the period, then split into a list of 5 words\n",
    "\n",
    "\n",
    "# split 'csv_line' into a list of 4 fields\n",
    "\n",
    "\n",
    "# strip 'csv_line' of a newline, then split into 4 fields\n",
    "\n",
    "\n",
    "# use variables to slice the first 5 characters\n",
    "start_index = 0\n",
    "end_index = 5\n",
    "\n",
    "\n",
    "# special demo:  loop through a string?!\n",
    "s = 'Hi there.'\n",
    "\n"
   ]
  },
  {
   "cell_type": "markdown",
   "id": "2fb602f8",
   "metadata": {},
   "source": [
    "<U>Expected Output</U>:  "
   ]
  },
  {
   "cell_type": "markdown",
   "id": "6c3136be",
   "metadata": {},
   "source": [
    "<pre style=\"margin: 0; padding=0\"><DIV style=\"font-family: Courier; border: 1px solid #dbdbdb; padding: 7px\">40\n",
    "['Hello', 'there', 'treasured', 'Python', 'friends.']\n",
    "['California', '31', '39.51', '3200\\n']\n",
    "['California', '31', '39.51', '3200']\n",
    "Calif\n",
    "Calif\n",
    "H\n",
    "i\n",
    "\n",
    "t\n",
    "h\n",
    "e\n",
    "r\n",
    "e\n",
    ".</DIV></pre>"
   ]
  },
  {
   "cell_type": "markdown",
   "id": "0acfab56",
   "metadata": {},
   "source": [
    " "
   ]
  },
  {
   "cell_type": "markdown",
   "id": "6ec7bd48",
   "metadata": {},
   "source": [
    "LISTS"
   ]
  },
  {
   "cell_type": "markdown",
   "id": "c21dcb63",
   "metadata": {},
   "source": [
    "<B>3.2:  <B><U>List operations</U>.</B>  </B>"
   ]
  },
  {
   "cell_type": "markdown",
   "id": "6c041530",
   "metadata": {},
   "source": [
    "Perform the noted operations on list 'x'\n"
   ]
  },
  {
   "cell_type": "code",
   "execution_count": null,
   "id": "1ca6cf3d",
   "metadata": {},
   "outputs": [],
   "source": [
    "x = ['hello', 'there', 'Python', 'friends']\n",
    "\n",
    "\n",
    "# print the type of the list (use type())\n",
    "\n",
    "\n",
    "\n",
    "# show the length of the list (use len())\n",
    "\n",
    "\n",
    "\n",
    "# access and print the first item of the list (use list subscript)\n",
    "\n",
    "\n",
    "\n",
    "# access and print the last item of the list (use negative subscript)\n",
    "\n",
    "\n",
    "\n",
    "# use a variable index to print the last item\n",
    "last_idx = -1\n",
    "\n",
    "\n",
    "\n",
    "# loop through and print each individual item in the list (use 'for')\n",
    "\n",
    "\n",
    "\n",
    "print()"
   ]
  },
  {
   "cell_type": "markdown",
   "id": "fc944107",
   "metadata": {},
   "source": [
    "<U>Expected Output</U>:  "
   ]
  },
  {
   "cell_type": "markdown",
   "id": "11dccc13",
   "metadata": {},
   "source": [
    "<pre style=\"margin: 0; padding=0\"><DIV style=\"font-family: Courier; border: 1px solid #dbdbdb; padding: 7px\">&lt;class 'list'&gt;\n",
    "hello\n",
    "friends\n",
    "4\n",
    "\n",
    "hello\n",
    "there\n",
    "Python\n",
    "friends</DIV></pre>"
   ]
  },
  {
   "cell_type": "markdown",
   "id": "1ef6287e",
   "metadata": {},
   "source": [
    " "
   ]
  },
  {
   "cell_type": "markdown",
   "id": "71bbb08b",
   "metadata": {},
   "source": [
    "LAB 1"
   ]
  },
  {
   "cell_type": "markdown",
   "id": "81236bf8",
   "metadata": {},
   "source": [
    "<div style=\"background-color: #ccffcc; padding: 10px; border: 2px solid green\"><B>3.3:  <B><U>Print item from a delimited string</U>.</B>  </B></div>"
   ]
  },
  {
   "cell_type": "markdown",
   "id": "9d37ead4",
   "metadata": {},
   "source": [
    "Select and print the value <B>39.51</B>.  Do not use a slice."
   ]
  },
  {
   "cell_type": "code",
   "execution_count": null,
   "id": "b560f6f2",
   "metadata": {},
   "outputs": [],
   "source": [
    "delimited = 'New York,31,39.51,3200'\n"
   ]
  },
  {
   "cell_type": "markdown",
   "id": "603261f3",
   "metadata": {},
   "source": [
    "<U>Expected Output</U>:  "
   ]
  },
  {
   "cell_type": "markdown",
   "id": "c3d1990b",
   "metadata": {},
   "source": [
    "<pre style=\"margin: 0; padding=0\"><DIV style=\"font-family: Courier; border: 1px solid #dbdbdb; padding: 7px\">39.51</DIV></pre>"
   ]
  },
  {
   "cell_type": "markdown",
   "id": "32a97cfc",
   "metadata": {},
   "source": [
    " "
   ]
  },
  {
   "cell_type": "markdown",
   "id": "76488f38",
   "metadata": {},
   "source": [
    "<div style=\"background-color: #ccffcc; padding: 10px; border: 2px solid green\"><B>3.4:  <B><U>Select number from a delimited string, use as number</U>.</B>  </B></div>"
   ]
  },
  {
   "cell_type": "markdown",
   "id": "e18e0867",
   "metadata": {},
   "source": [
    "Select the value <B>31</B>, then double it to <B>62</B>"
   ]
  },
  {
   "cell_type": "code",
   "execution_count": null,
   "id": "b913df5c",
   "metadata": {},
   "outputs": [],
   "source": [
    "delimited = 'New York,31,39.51,3200'\n"
   ]
  },
  {
   "cell_type": "markdown",
   "id": "5cb88398",
   "metadata": {},
   "source": [
    "<U>Expected Output</U>:  "
   ]
  },
  {
   "cell_type": "markdown",
   "id": "3adc573d",
   "metadata": {},
   "source": [
    "<pre style=\"margin: 0; padding=0\"><DIV style=\"font-family: Courier; border: 1px solid #dbdbdb; padding: 7px\">62</DIV></pre>"
   ]
  },
  {
   "cell_type": "markdown",
   "id": "7eff9028",
   "metadata": {},
   "source": [
    " "
   ]
  },
  {
   "cell_type": "markdown",
   "id": "a3bbae25",
   "metadata": {},
   "source": [
    "<div style=\"background-color: #ccffcc; padding: 10px; border: 2px solid green\"><B>3.5:  <B><U>Print a word from undelimited string</U>.</B>  </B></div>"
   ]
  },
  {
   "cell_type": "markdown",
   "id": "0866f8a7",
   "metadata": {},
   "source": [
    "Print the word <B>best</B> from <B>dickens</B>.  Then print <B>times</B> with the trailing comma stripped.\n"
   ]
  },
  {
   "cell_type": "code",
   "execution_count": null,
   "id": "45c45587",
   "metadata": {},
   "outputs": [],
   "source": [
    "dickens = 'It was the best of times, it was the worst of times.'\n",
    "\n"
   ]
  },
  {
   "cell_type": "markdown",
   "id": "c171d5b0",
   "metadata": {},
   "source": [
    "<U>Expected Output</U>:  "
   ]
  },
  {
   "cell_type": "markdown",
   "id": "498c98ac",
   "metadata": {},
   "source": [
    "<pre style=\"margin: 0; padding=0\"><DIV style=\"font-family: Courier; border: 1px solid #dbdbdb; padding: 7px\">best\n",
    "times</DIV></pre>"
   ]
  },
  {
   "cell_type": "markdown",
   "id": "d153ce60",
   "metadata": {},
   "source": [
    " "
   ]
  },
  {
   "cell_type": "markdown",
   "id": "0398913e",
   "metadata": {},
   "source": [
    "<div style=\"background-color: #ccffcc; padding: 10px; border: 2px solid green\"><B>3.6:  <B><U>Determine number of words in a string</U>.</B>  </B></div>"
   ]
  },
  {
   "cell_type": "markdown",
   "id": "d6fc2906",
   "metadata": {},
   "source": [
    "In just two additional statements (not including printing), show the number of words in the string.\n"
   ]
  },
  {
   "cell_type": "code",
   "execution_count": null,
   "id": "b8b916e6",
   "metadata": {},
   "outputs": [],
   "source": [
    "swanns_way = 'For a long time I used to go to bed early.'\n",
    "\n"
   ]
  },
  {
   "cell_type": "markdown",
   "id": "b4d8b65d",
   "metadata": {},
   "source": [
    "<U>Expected Output</U>:  "
   ]
  },
  {
   "cell_type": "markdown",
   "id": "90875956",
   "metadata": {},
   "source": [
    "<pre style=\"margin: 0; padding=0\"><DIV style=\"font-family: Courier; border: 1px solid #dbdbdb; padding: 7px\">11</DIV></pre>"
   ]
  },
  {
   "cell_type": "markdown",
   "id": "e0a8e813",
   "metadata": {},
   "source": [
    " "
   ]
  },
  {
   "cell_type": "markdown",
   "id": "ed420a1b",
   "metadata": {},
   "source": [
    "<div style=\"background-color: #ccffcc; padding: 10px; border: 2px solid green\"><B>3.7:  <B><U>Show selected words from a string</U>.</B>  </B></div>"
   ]
  },
  {
   "cell_type": "markdown",
   "id": "486a0978",
   "metadata": {},
   "source": [
    "Print the 1st word in the setence, the 5th word in the sentence, and the last word in the sentence.\n"
   ]
  },
  {
   "cell_type": "code",
   "execution_count": null,
   "id": "15de9884",
   "metadata": {},
   "outputs": [],
   "source": [
    "gatsby = \"In my younger and more vulnerable years my father gave me some advice...\"\n"
   ]
  },
  {
   "cell_type": "markdown",
   "id": "e50216fd",
   "metadata": {},
   "source": [
    "<U>Expected Output</U>:  "
   ]
  },
  {
   "cell_type": "markdown",
   "id": "88fc2ec2",
   "metadata": {},
   "source": [
    "<pre style=\"margin: 0; padding=0\"><DIV style=\"font-family: Courier; border: 1px solid #dbdbdb; padding: 7px\">In\n",
    "more\n",
    "advice...</DIV></pre>"
   ]
  },
  {
   "cell_type": "markdown",
   "id": "73e72043",
   "metadata": {},
   "source": [
    " "
   ]
  },
  {
   "cell_type": "markdown",
   "id": "43acdd52",
   "metadata": {},
   "source": [
    "<div style=\"background-color: #ccffcc; padding: 10px; border: 2px solid green\"><B>3.8:  <B><U>Loop through words from a string</U>.</B>  </B></div>"
   ]
  },
  {
   "cell_type": "markdown",
   "id": "0b8c6b41",
   "metadata": {},
   "source": [
    "Print each word from this string on a separate line.\n"
   ]
  },
  {
   "cell_type": "code",
   "execution_count": null,
   "id": "b90c0186",
   "metadata": {},
   "outputs": [],
   "source": [
    "moby = 'Call me Ishmael.'\n"
   ]
  },
  {
   "cell_type": "markdown",
   "id": "646164f6",
   "metadata": {},
   "source": [
    "<U>Expected Output</U>:  "
   ]
  },
  {
   "cell_type": "markdown",
   "id": "89dcdd5a",
   "metadata": {},
   "source": [
    "<pre style=\"margin: 0; padding=0\"><DIV style=\"font-family: Courier; border: 1px solid #dbdbdb; padding: 7px\">Call\n",
    "me\n",
    "Ishmael.</DIV></pre>"
   ]
  },
  {
   "cell_type": "markdown",
   "id": "fe26521b",
   "metadata": {},
   "source": [
    " "
   ]
  },
  {
   "cell_type": "markdown",
   "id": "8060bc9b",
   "metadata": {},
   "source": [
    "<div style=\"background-color: #ccffcc; padding: 10px; border: 2px solid green\"><B>3.9:  <B><U>Slice part of a string</U>.</B>  </B></div>"
   ]
  },
  {
   "cell_type": "markdown",
   "id": "e788232b",
   "metadata": {},
   "source": [
    "Print the numeric SKU value from <B>serial</B>.\n"
   ]
  },
  {
   "cell_type": "code",
   "execution_count": null,
   "id": "80e18c67",
   "metadata": {},
   "outputs": [],
   "source": [
    "serial = '#SKU000095327 MRCOFFEE 8CUP CAPUC'\n",
    "\n"
   ]
  },
  {
   "cell_type": "markdown",
   "id": "3d50737f",
   "metadata": {},
   "source": [
    "<U>Expected Output</U>:  "
   ]
  },
  {
   "cell_type": "markdown",
   "id": "f99416d9",
   "metadata": {},
   "source": [
    "<pre style=\"margin: 0; padding=0\"><DIV style=\"font-family: Courier; border: 1px solid #dbdbdb; padding: 7px\">000095327</DIV></pre>"
   ]
  },
  {
   "cell_type": "markdown",
   "id": "25f2d84c",
   "metadata": {},
   "source": [
    " "
   ]
  },
  {
   "cell_type": "markdown",
   "id": "0ff568a8",
   "metadata": {},
   "source": [
    "FILES"
   ]
  },
  {
   "cell_type": "markdown",
   "id": "a0a39cec",
   "metadata": {},
   "source": [
    "<B>3.10:  <B><U>List iteration and summary</U>.</B>  </B>"
   ]
  },
  {
   "cell_type": "markdown",
   "id": "646a7996",
   "metadata": {},
   "source": [
    "Use 'for' to loop through list 'xval' and count the number of iterations, then extend it to also sum up the values.  Print the sum and the count.\n"
   ]
  },
  {
   "cell_type": "code",
   "execution_count": null,
   "id": "0045bb92",
   "metadata": {},
   "outputs": [],
   "source": [
    "xval = [3.9, 0.3, 2.1, 0.03]\n",
    "\n"
   ]
  },
  {
   "cell_type": "markdown",
   "id": "d4aa2f74",
   "metadata": {},
   "source": [
    "<U>Expected Output</U>:  "
   ]
  },
  {
   "cell_type": "markdown",
   "id": "3dee7df9",
   "metadata": {},
   "source": [
    "<pre style=\"margin: 0; padding=0\"><DIV style=\"font-family: Courier; border: 1px solid #dbdbdb; padding: 7px\">4\n",
    "6.33</DIV></pre>"
   ]
  },
  {
   "cell_type": "markdown",
   "id": "6470ebef",
   "metadata": {},
   "source": [
    " "
   ]
  },
  {
   "cell_type": "markdown",
   "id": "2c2ae2a7",
   "metadata": {},
   "source": [
    "<B>3.11:  <B><U>File operations</U>.</B>  </B>"
   ]
  },
  {
   "cell_type": "markdown",
   "id": "a8c08ac5",
   "metadata": {},
   "source": [
    "Perform the below operations:\n"
   ]
  },
  {
   "cell_type": "code",
   "execution_count": null,
   "id": "c9ee98ec",
   "metadata": {},
   "outputs": [],
   "source": [
    "filename = '../pyku.txt'\n",
    "\n",
    "\n",
    "\n",
    "# open file 'pyku.txt' and assign to variable 'fh' (use open())\n",
    "\n",
    "\n",
    "\n",
    "# print the type of variable 'fh'\n",
    "\n",
    "\n",
    "print()\n",
    "\n",
    "# iterate over the variable 'fh' with 'for' and print each line in the file\n",
    "\n"
   ]
  },
  {
   "cell_type": "markdown",
   "id": "e582c067",
   "metadata": {},
   "source": [
    "<U>Expected Output</U>:  "
   ]
  },
  {
   "cell_type": "markdown",
   "id": "1be8c7ea",
   "metadata": {},
   "source": [
    "<pre style=\"margin: 0; padding=0\"><DIV style=\"font-family: Courier; border: 1px solid #dbdbdb; padding: 7px\">&lt;class '_io.TextIOWrapper'&gt;\n",
    "\n",
    "We're out of gouda.\n",
    "\n",
    "This parrot has ceased to be.\n",
    "\n",
    "Spam, spam, spam, spam, spam.</DIV></pre>"
   ]
  },
  {
   "cell_type": "markdown",
   "id": "8eec0ed4",
   "metadata": {},
   "source": [
    " "
   ]
  },
  {
   "cell_type": "markdown",
   "id": "44b7a98f",
   "metadata": {},
   "source": [
    "LAB 2"
   ]
  },
  {
   "cell_type": "markdown",
   "id": "bfa78e1a",
   "metadata": {},
   "source": [
    "<div style=\"background-color: #ccffcc; padding: 10px; border: 2px solid green\"><B>3.12:  <B><U>Loop through file and print</U>.</B>  </B></div>"
   ]
  },
  {
   "cell_type": "markdown",
   "id": "1824429c",
   "metadata": {},
   "source": [
    "Loop through the file <B>pyku.txt</B> and print each line as you go.  You should see a blank line between each printed line (this is the newline character).\n"
   ]
  },
  {
   "cell_type": "code",
   "execution_count": null,
   "id": "577be7b3",
   "metadata": {},
   "outputs": [],
   "source": [
    "filename = '../pyku.txt'\n",
    "\n"
   ]
  },
  {
   "cell_type": "markdown",
   "id": "82e96061",
   "metadata": {},
   "source": [
    "<U>Expected Output</U>:  "
   ]
  },
  {
   "cell_type": "markdown",
   "id": "530a3ae3",
   "metadata": {},
   "source": [
    "<pre style=\"margin: 0; padding=0\"><DIV style=\"font-family: Courier; border: 1px solid #dbdbdb; padding: 7px\">We're all out of gouda.\n",
    "\n",
    "This parrot has ceased to be.\n",
    "\n",
    "Spam, spam, spam, spam, spam.\n",
    "</DIV></pre>"
   ]
  },
  {
   "cell_type": "markdown",
   "id": "84ab3991",
   "metadata": {},
   "source": [
    " "
   ]
  },
  {
   "cell_type": "markdown",
   "id": "aebb440a",
   "metadata": {},
   "source": [
    "<div style=\"background-color: #ccffcc; padding: 10px; border: 2px solid green\"><B>3.13:  <B><U>Loop through file and strip</U>.</B>  </B></div>"
   ]
  },
  {
   "cell_type": "markdown",
   "id": "d517828f",
   "metadata": {},
   "source": [
    "Loop through the file <B>pyku.txt</B> and strip each line as you go.  You should see the lines printed without a blank line in between.\n"
   ]
  },
  {
   "cell_type": "code",
   "execution_count": null,
   "id": "de9ffd7a",
   "metadata": {},
   "outputs": [],
   "source": [
    "filename = '../pyku.txt'\n",
    "\n",
    "fh = open(filename)\n",
    "\n",
    "for line in fh:\n",
    "    # your code here"
   ]
  },
  {
   "cell_type": "markdown",
   "id": "62af9ba3",
   "metadata": {},
   "source": [
    "<U>Expected Output</U>:  "
   ]
  },
  {
   "cell_type": "markdown",
   "id": "fc2605ad",
   "metadata": {},
   "source": [
    "<pre style=\"margin: 0; padding=0\"><DIV style=\"font-family: Courier; border: 1px solid #dbdbdb; padding: 7px\">We're all out of gouda.\n",
    "This parrot has ceased to be.\n",
    "Spam, spam, spam, spam, spam.</DIV></pre>"
   ]
  },
  {
   "cell_type": "markdown",
   "id": "acbbc4bc",
   "metadata": {},
   "source": [
    " "
   ]
  },
  {
   "cell_type": "markdown",
   "id": "1d0ebd57",
   "metadata": {},
   "source": [
    "<div style=\"background-color: #ccffcc; padding: 10px; border: 2px solid green\"><B>3.14:  <B><U>Loop through file and count</U>.</B></B></div>"
   ]
  },
  {
   "cell_type": "markdown",
   "id": "f224902d",
   "metadata": {},
   "source": [
    "Loop through the file <B>pyku.txt</B> and keep a running count of each line.  Print the count at the end.\n"
   ]
  },
  {
   "cell_type": "code",
   "execution_count": null,
   "id": "934f0ae6",
   "metadata": {},
   "outputs": [],
   "source": [
    "filename = '../pyku.txt'\n",
    "\n",
    "fh = open(filename)\n",
    "\n",
    "for line in fh:\n",
    "    # your code here\n"
   ]
  },
  {
   "cell_type": "markdown",
   "id": "bcfe4e49",
   "metadata": {},
   "source": [
    "<U>Expected Output</U>:  "
   ]
  },
  {
   "cell_type": "markdown",
   "id": "798f6168",
   "metadata": {},
   "source": [
    "<pre style=\"margin: 0; padding=0\"><DIV style=\"font-family: Courier; border: 1px solid #dbdbdb; padding: 7px\">3</DIV></pre>"
   ]
  },
  {
   "cell_type": "markdown",
   "id": "05cdddc8",
   "metadata": {},
   "source": [
    " "
   ]
  },
  {
   "cell_type": "markdown",
   "id": "2b50ada4",
   "metadata": {},
   "source": [
    "<div style=\"background-color: #ccffcc; padding: 10px; border: 2px solid green\"><B>3.15:  <B><U>Loop through file and print one field</U>.</B>  </B></div>"
   ]
  },
  {
   "cell_type": "markdown",
   "id": "06ebc5fe",
   "metadata": {},
   "source": [
    "Loop through <B>datafile.csv</B> and print just the first field from each line.\n"
   ]
  },
  {
   "cell_type": "code",
   "execution_count": null,
   "id": "fe41c506",
   "metadata": {},
   "outputs": [],
   "source": [
    "filename = '../datafile.csv'\n",
    "\n",
    "fh = open(filename)\n",
    "\n",
    "for line in fh:\n",
    "    # your code here"
   ]
  },
  {
   "cell_type": "markdown",
   "id": "cc5fde46",
   "metadata": {},
   "source": [
    "<U>Expected Output</U>:  "
   ]
  },
  {
   "cell_type": "markdown",
   "id": "94aafc25",
   "metadata": {},
   "source": [
    "<pre style=\"margin: 0; padding=0\"><DIV style=\"font-family: Courier; border: 1px solid #dbdbdb; padding: 7px\">this\n",
    "that\n",
    "this\n",
    "other\n",
    "something</DIV></pre>"
   ]
  },
  {
   "cell_type": "markdown",
   "id": "8a723891",
   "metadata": {},
   "source": [
    " "
   ]
  },
  {
   "cell_type": "markdown",
   "id": "ddd4371f",
   "metadata": {},
   "source": [
    "<div style=\"background-color: #ccffcc; padding: 10px; border: 2px solid green\"><B>3.16:  <B><U>Loop through file and print one slice</U>.</B>  </B></div>"
   ]
  },
  {
   "cell_type": "markdown",
   "id": "ac9b82b4",
   "metadata": {},
   "source": [
    "Print the month and day from each line in <B>FF\\_tiny.txt</B>\n"
   ]
  },
  {
   "cell_type": "code",
   "execution_count": null,
   "id": "fea27ea6",
   "metadata": {},
   "outputs": [],
   "source": [
    "filename = '../FF_tiny.txt'\n",
    "\n",
    "fh = open(filename)\n",
    "\n",
    "for line in fh:\n",
    "    # your code here\n"
   ]
  },
  {
   "cell_type": "markdown",
   "id": "f8cce7ba",
   "metadata": {},
   "source": [
    "<U>Expected Output</U>:  "
   ]
  },
  {
   "cell_type": "markdown",
   "id": "3ea47abf",
   "metadata": {},
   "source": [
    "<pre style=\"margin: 0; padding=0\"><DIV style=\"font-family: Courier; border: 1px solid #dbdbdb; padding: 7px\">0701\n",
    "0702\n",
    "0103\n",
    "0104\n",
    "0201\n",
    "0202\n",
    "0103\n",
    "0104\n",
    "0105</DIV></pre>"
   ]
  },
  {
   "cell_type": "markdown",
   "id": "fc05cb77",
   "metadata": {},
   "source": [
    " "
   ]
  },
  {
   "cell_type": "markdown",
   "id": "a9510c82",
   "metadata": {},
   "source": [
    "<div style=\"background-color: #ccffcc; padding: 10px; border: 2px solid green\"><B>3.17:  <B><U>Loop through file, isolate and double numeric value</U>.</B></B></div>"
   ]
  },
  {
   "cell_type": "markdown",
   "id": "0676b689",
   "metadata": {},
   "source": [
    "Looping through <B>datafile.csv</B>, isolate the int value (4th field) and double it, printing each doubled value as you loop.\n"
   ]
  },
  {
   "cell_type": "code",
   "execution_count": null,
   "id": "9ba33e58",
   "metadata": {},
   "outputs": [],
   "source": [
    "fname = '../datafile.csv'\n",
    "\n",
    "fh = open(fname)\n",
    "\n",
    "for line in fh:\n",
    "    # your code here\n"
   ]
  },
  {
   "cell_type": "markdown",
   "id": "44432ce7",
   "metadata": {},
   "source": [
    "<U>Expected Output</U>:  "
   ]
  },
  {
   "cell_type": "markdown",
   "id": "5fe32b5c",
   "metadata": {},
   "source": [
    "<pre style=\"margin: 0; padding=0\"><DIV style=\"font-family: Courier; border: 1px solid #dbdbdb; padding: 7px\">3\n",
    "1\n",
    "0\n",
    "4\n",
    "2</DIV></pre>"
   ]
  },
  {
   "cell_type": "markdown",
   "id": "0c2916f8",
   "metadata": {},
   "source": [
    " "
   ]
  },
  {
   "cell_type": "markdown",
   "id": "77d3fc20",
   "metadata": {},
   "source": [
    "<div style=\"background-color: #ccffcc; padding: 10px; border: 2px solid green\"><B>3.18:  <B><U>Loop through file, isolate values and add together</U>.</B> </B></div>"
   ]
  },
  {
   "cell_type": "markdown",
   "id": "68433598",
   "metadata": {},
   "source": [
    "Looping through <B>datafile.csv</B>, isolate the int value and float value (4th and 5th fields) and add them together, printing each summed value as you loop.\n",
    "\n"
   ]
  },
  {
   "cell_type": "code",
   "execution_count": null,
   "id": "fc68f28e",
   "metadata": {},
   "outputs": [],
   "source": [
    "name = '../datafile.csv'\n",
    "\n",
    "fh = open(name)\n",
    "\n",
    "for line in fh:\n",
    "    # your code here\n"
   ]
  },
  {
   "cell_type": "markdown",
   "id": "06a9696f",
   "metadata": {},
   "source": [
    "<U>Expected Output</U>:  "
   ]
  },
  {
   "cell_type": "markdown",
   "id": "de99cf91",
   "metadata": {},
   "source": [
    "<pre style=\"margin: 0; padding=0\"><DIV style=\"font-family: Courier; border: 1px solid #dbdbdb; padding: 7px\">6.3\n",
    "2.1\n",
    "2.2\n",
    "4.8\n",
    "3.6</DIV></pre>"
   ]
  },
  {
   "cell_type": "markdown",
   "id": "defae045",
   "metadata": {},
   "source": [
    " "
   ]
  },
  {
   "cell_type": "markdown",
   "id": "7b4a2670",
   "metadata": {},
   "source": [
    "<div style=\"background-color: #ccffcc; padding: 10px; border: 2px solid green\"><B>3.19:  <B><U>Loop through file and sum up values in column</U>.</B>  </B></div>"
   ]
  },
  {
   "cell_type": "markdown",
   "id": "f7f0eeb7",
   "metadata": {},
   "source": [
    "Looping through <B>datafile.csv</B>, sum up the last column of float values.  Print the sum at the end.\n"
   ]
  },
  {
   "cell_type": "code",
   "execution_count": null,
   "id": "e318bc30",
   "metadata": {},
   "outputs": [],
   "source": [
    "fname = '../datafile.csv'\n",
    "\n",
    "fh = open(fname)\n",
    "\n",
    "for line in fh:\n",
    "    line = line.rstrip()\n",
    "    # your code here\n"
   ]
  },
  {
   "cell_type": "markdown",
   "id": "ddb4f01c",
   "metadata": {},
   "source": [
    "<U>Expected Output</U>:  "
   ]
  },
  {
   "cell_type": "markdown",
   "id": "d85a63aa",
   "metadata": {},
   "source": [
    "<pre style=\"margin: 0; padding=0\"><DIV style=\"font-family: Courier; border: 1px solid #dbdbdb; padding: 7px\">9.0</DIV></pre>"
   ]
  },
  {
   "cell_type": "markdown",
   "id": "1c001f87",
   "metadata": {},
   "source": [
    " "
   ]
  },
  {
   "cell_type": "markdown",
   "id": "fdf60073",
   "metadata": {},
   "source": [
    "<div style=\"background-color: #ccffcc; padding: 10px; border: 2px solid green\"><B>3.20:  <B><U>Loop through file and selectively print using split()</U>.</B></B></div>"
   ]
  },
  {
   "cell_type": "markdown",
   "id": "3f77264a",
   "metadata": {},
   "source": [
    "Looping through <B>revenue.csv</B>, print the company names for rows with 'NY' as the state.\n"
   ]
  },
  {
   "cell_type": "code",
   "execution_count": null,
   "id": "9a7ce85d",
   "metadata": {},
   "outputs": [],
   "source": [
    "filename = '../revenue.csv'\n",
    "\n",
    "fh = open(filename)\n",
    "\n",
    "for line in fh:\n",
    "    # your code here\n"
   ]
  },
  {
   "cell_type": "markdown",
   "id": "c33419c1",
   "metadata": {},
   "source": [
    "<U>Expected Output</U>:  "
   ]
  },
  {
   "cell_type": "markdown",
   "id": "c1c7c4ad",
   "metadata": {},
   "source": [
    "<pre style=\"margin: 0; padding=0\"><DIV style=\"font-family: Courier; border: 1px solid #dbdbdb; padding: 7px\">Hipster's\n",
    "Dothraki Fashions\n",
    "The Clothiers</DIV></pre>"
   ]
  },
  {
   "cell_type": "markdown",
   "id": "057be768",
   "metadata": {},
   "source": [
    " "
   ]
  },
  {
   "cell_type": "markdown",
   "id": "85f980a2",
   "metadata": {},
   "source": [
    "<div style=\"background-color: #ccffcc; padding: 10px; border: 2px solid green\"><B>3.21:  <B><U>Loop through file and selectively print using a slice</U>.</B> </B></div>"
   ]
  },
  {
   "cell_type": "markdown",
   "id": "b490450b",
   "metadata": {},
   "source": [
    "Looping through <B>FF\\_tiny.txt</B>, print the last float value on each line for the year <B>1927</B>.\n"
   ]
  },
  {
   "cell_type": "code",
   "execution_count": null,
   "id": "553819b4",
   "metadata": {},
   "outputs": [],
   "source": [
    "filename = '../FF_tiny.txt'\n",
    "\n",
    "fh = open(filename)\n",
    "\n",
    "for line in fh:\n",
    "    # your code here\n",
    "\n"
   ]
  },
  {
   "cell_type": "markdown",
   "id": "f1f91f0d",
   "metadata": {},
   "source": [
    "<U>Expected Output</U>:  "
   ]
  },
  {
   "cell_type": "markdown",
   "id": "621d2e70",
   "metadata": {},
   "source": [
    "<pre style=\"margin: 0; padding=0\"><DIV style=\"font-family: Courier; border: 1px solid #dbdbdb; padding: 7px\">0.015\n",
    "0.011\n",
    "0.022\n",
    "0.018</DIV></pre>"
   ]
  },
  {
   "cell_type": "markdown",
   "id": "a947d085",
   "metadata": {},
   "source": [
    " "
   ]
  },
  {
   "cell_type": "markdown",
   "id": "a88c3d6a",
   "metadata": {},
   "source": [
    "<div style=\"background-color: #ccffcc; padding: 10px; border: 2px solid green\"><B>3.22:  <B><U>Loop through file and sum up selected value</U>.</B>  </B></div>"
   ]
  },
  {
   "cell_type": "markdown",
   "id": "c5cd3493",
   "metadata": {},
   "source": [
    "Looping through <B>revenue.csv</B>, sum up the float value (3rd field) only for those rows from <B>NJ</B> (2nd field).\n"
   ]
  },
  {
   "cell_type": "code",
   "execution_count": null,
   "id": "5a87512f",
   "metadata": {},
   "outputs": [],
   "source": [
    "fname = '../revenue.csv'\n",
    "\n",
    "fh = open(fname)\n",
    "\n",
    "for line in fh:\n",
    "    line = line.rstrip()\n"
   ]
  },
  {
   "cell_type": "markdown",
   "id": "1e9954ac",
   "metadata": {},
   "source": [
    "<U>Expected Output</U>:  "
   ]
  },
  {
   "cell_type": "markdown",
   "id": "31b9da0b",
   "metadata": {},
   "source": [
    "<pre style=\"margin: 0; padding=0\"><DIV style=\"font-family: Courier; border: 1px solid #dbdbdb; padding: 7px\">265.40</DIV></pre>"
   ]
  },
  {
   "cell_type": "markdown",
   "id": "38d9ab3d",
   "metadata": {},
   "source": [
    " "
   ]
  },
  {
   "cell_type": "markdown",
   "id": "68b3cb29",
   "metadata": {},
   "source": [
    "SUMMARY ALGORITHM; BUILDING FROM FILE"
   ]
  },
  {
   "cell_type": "markdown",
   "id": "bc996978",
   "metadata": {},
   "source": [
    "<B>3.23:  <B><U>File line iteration and summary</U>.</B>  </B>"
   ]
  },
  {
   "cell_type": "markdown",
   "id": "8c45b2dc",
   "metadata": {},
   "source": [
    "Use 'for' to loop through file 'revenue.csv' and count the number of iterations, then perform the operations noted below:  <U>test each step as you proceed</U>.\n"
   ]
  },
  {
   "cell_type": "code",
   "execution_count": null,
   "id": "95d9fbd0",
   "metadata": {},
   "outputs": [],
   "source": [
    "filename = '../revenue.csv'\n",
    "fh = open(filename)\n",
    "\n",
    "counter = 0\n",
    "summer = 0.0\n",
    "\n",
    "# 1. loop through file line-by-line; strip and print each line\n",
    "\n",
    "    # 2. count each iteration; print count at end\n",
    "\n",
    "    # 3. split each line on a comma; print each split line\n",
    "\n",
    "    # 4. subscript float value from split list; print each subscripted value\n",
    "\n",
    "    # 5. convert float value (a string) to float\n",
    "\n",
    "    # 6. sum up float values; print sum after loop ends\n",
    "\n",
    "    # 7. adding a horizontal bar to separate iterations\n",
    "    print('------------------------------')\n",
    "\n",
    "\n",
    "# close file\n",
    "\n",
    "\n",
    "# print sum and count\n"
   ]
  },
  {
   "cell_type": "markdown",
   "id": "25c10335",
   "metadata": {},
   "source": [
    "<U>Expected Output</U>:  "
   ]
  },
  {
   "cell_type": "markdown",
   "id": "3307311f",
   "metadata": {},
   "source": [
    "<pre style=\"margin: 0; padding=0\"><DIV style=\"font-family: Courier; border: 1px solid #dbdbdb; padding: 7px\">Haddad's,PA,239.50\n",
    "\n",
    "[\"Haddad's\", 'PA', '239.50\\n']\n",
    "239.50\n",
    "------------------------------\n",
    "Westfield,NJ,53.90\n",
    "\n",
    "['Westfield', 'NJ', '53.90\\n']\n",
    "53.90\n",
    "------------------------------\n",
    "The Store,NJ,211.50\n",
    "\n",
    "['The Store', 'NJ', '211.50\\n']\n",
    "211.50\n",
    "------------------------------\n",
    "Hipster's,NY,11.98\n",
    "\n",
    "[\"Hipster's\", 'NY', '11.98\\n']\n",
    "11.98\n",
    "------------------------------\n",
    "Dothraki Fashions,NY,5.98\n",
    "\n",
    "['Dothraki Fashions', 'NY', '5.98\\n']\n",
    "5.98\n",
    "------------------------------\n",
    "Awful's,PA,23.95\n",
    "\n",
    "[\"Awful's\", 'PA', '23.95\\n']\n",
    "23.95\n",
    "------------------------------\n",
    "The Clothiers,NY,115.20\n",
    "\n",
    "['The Clothiers', 'NY', '115.20\\n']\n",
    "115.20\n",
    "------------------------------\n",
    "7\n",
    "662.0100000000001</DIV></pre>"
   ]
  },
  {
   "cell_type": "markdown",
   "id": "1052e5f8",
   "metadata": {},
   "source": [
    " "
   ]
  }
 ],
 "metadata": {},
 "nbformat": 4,
 "nbformat_minor": 5
}
