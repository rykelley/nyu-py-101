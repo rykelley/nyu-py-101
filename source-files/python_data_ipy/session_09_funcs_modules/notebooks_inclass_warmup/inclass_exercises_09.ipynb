{
 "cells": [
  {
   "cell_type": "markdown",
   "id": "dcb849ec",
   "metadata": {},
   "source": [
    "# In-Class Exercises, Session 9"
   ]
  },
  {
   "cell_type": "markdown",
   "id": "2fd4da53",
   "metadata": {},
   "source": [
    "PLEASE REFER to pythonreference.com for syntax to follow in coding these Exercises"
   ]
  },
  {
   "cell_type": "markdown",
   "id": "bfc2ba9d",
   "metadata": {},
   "source": [
    " "
   ]
  },
  {
   "cell_type": "markdown",
   "id": "ffc06c76",
   "metadata": {},
   "source": [
    "FUNCTIONS:  REVIEW"
   ]
  },
  {
   "cell_type": "markdown",
   "id": "43d29cfa",
   "metadata": {},
   "source": [
    "<B>9.1:  <B><U>Write a function that takes an argument and returns a value</U>.</B>  </B>"
   ]
  },
  {
   "cell_type": "markdown",
   "id": "5cf1152e",
   "metadata": {},
   "source": [
    "Function <B>doubleit()</B> takes one argument and returns its argument value doubled.\n"
   ]
  },
  {
   "cell_type": "code",
   "execution_count": null,
   "id": "f5aa9608",
   "metadata": {},
   "outputs": [],
   "source": [
    "# your def here\n",
    "# you must not print inside the function\n",
    "# you must not take input() inside the function\n",
    "# you must not use 'y' inside the function\n",
    "\n",
    "\n",
    "\n",
    "y = 5\n",
    "\n",
    "dy = doubleit(y)     # calling 'doubleit()', expecting one return value\n",
    "print(dy)            # 10\n"
   ]
  },
  {
   "cell_type": "markdown",
   "id": "caa6c71f",
   "metadata": {},
   "source": [
    " "
   ]
  },
  {
   "cell_type": "markdown",
   "id": "4f44ccf6",
   "metadata": {},
   "source": [
    "<B>9.2:  <B><U>Write another function that takes an argument and returns a value</U>.</B>  </B>"
   ]
  },
  {
   "cell_type": "markdown",
   "id": "12f5c3a5",
   "metadata": {},
   "source": [
    "Write a function <B>get\\_greeting()</B> that takes one string argument (a name) and returns \"Hello, \" followed by the name and an exclamation point.\n"
   ]
  },
  {
   "cell_type": "code",
   "execution_count": null,
   "id": "5bb104a2",
   "metadata": {},
   "outputs": [],
   "source": [
    "# your def here\n",
    "# you must not print inside the function\n",
    "# you must not take input() inside the function\n",
    "# you must not use 'x' or 'y' inside the function\n",
    "\n",
    "\n",
    "\n",
    "\n",
    "x = 'World'\n",
    "y = 'Guido'\n",
    "\n",
    "\n",
    "# here, call get_greeting() with 'x' as argument\n",
    "# make sure to expect a return value\n",
    "# the return value should be 'Hello, World!'\n",
    "\n",
    "\n",
    "# here, call get_greeting() with 'y' as argument\n",
    "# make sure to expect a return value\n",
    "# the return value should be 'Hello, Guido!'\n",
    "\n"
   ]
  },
  {
   "cell_type": "markdown",
   "id": "6d350790",
   "metadata": {},
   "source": [
    " "
   ]
  },
  {
   "cell_type": "markdown",
   "id": "79274bb5",
   "metadata": {},
   "source": [
    "<B>9.3:  <B><U>Write a function that takes two arguments and returns one value</U>.</B>  </B>"
   ]
  },
  {
   "cell_type": "markdown",
   "id": "3ff0a56e",
   "metadata": {},
   "source": [
    "Define function <B>multiplyem()</B> that takes two numbers, multiplies them together, and returns the product.\n"
   ]
  },
  {
   "cell_type": "code",
   "execution_count": null,
   "id": "928c22c5",
   "metadata": {},
   "outputs": [],
   "source": [
    "# your def here\n",
    "# you must not print inside the function\n",
    "# you must not take input() inside the function\n",
    "# you must not use 'a' or 'b' inside the function\n",
    "\n",
    "\n",
    "a = 5\n",
    "b = 10\n",
    "\n",
    "\n",
    "\n",
    "# here, call multiplyem() with 'a' and 'b' as arguments\n",
    "# make sure to expect a return value\n",
    "# the return value should be 50\n"
   ]
  },
  {
   "cell_type": "markdown",
   "id": "2e89afa4",
   "metadata": {},
   "source": [
    " "
   ]
  },
  {
   "cell_type": "markdown",
   "id": "912ee57b",
   "metadata": {},
   "source": [
    "<B>9.4:  <B><U>Write a function that takes one argument and returns two values</U>.</B>  </B>"
   ]
  },
  {
   "cell_type": "markdown",
   "id": "f160cdb3",
   "metadata": {},
   "source": [
    "Function <B>mul\\_and\\_div</B> takes an int argument and returns the value doubled and the value halved (/2)\n"
   ]
  },
  {
   "cell_type": "code",
   "execution_count": null,
   "id": "6b27babb",
   "metadata": {},
   "outputs": [],
   "source": [
    "# your def here\n",
    "# you must not print inside the function\n",
    "# you must not take input() inside the function\n",
    "# you must not use 'a' inside the function\n",
    "\n",
    "\n",
    "\n",
    "a = 5\n",
    "\n",
    "d, h = mul_and_div(a)\n",
    "\n",
    "print(d)       # 10\n",
    "print(h)       # 2.5"
   ]
  },
  {
   "cell_type": "markdown",
   "id": "b6a4ff46",
   "metadata": {},
   "source": [
    " "
   ]
  },
  {
   "cell_type": "markdown",
   "id": "ac8f3913",
   "metadata": {},
   "source": [
    "<B>9.5:  <B><U>Write a function that takes one positional (required) argument and one keyword (optional) argument</U>.</B>  </B>"
   ]
  },
  {
   "cell_type": "markdown",
   "id": "f3c91c04",
   "metadata": {},
   "source": [
    "Define function <B>mul</B>, which should take a required integer argument and an optional integer argument.  If the optional arg is not passed, it should default to <B>1</B> (so that the argument value is multiplied by 1 and thus returned unchanged).\n"
   ]
  },
  {
   "cell_type": "code",
   "execution_count": null,
   "id": "c151af0f",
   "metadata": {},
   "outputs": [],
   "source": [
    "# your def here\n",
    "\n",
    "\n",
    "\n",
    "a = 5\n",
    "\n",
    "b = mul(5, multiplier=3)     # int, 15\n",
    "\n",
    "c = mul(5)                   # int, 5"
   ]
  },
  {
   "cell_type": "markdown",
   "id": "ebc4b174",
   "metadata": {},
   "source": [
    " "
   ]
  },
  {
   "cell_type": "markdown",
   "id": "122f148b",
   "metadata": {},
   "source": [
    "<B>9.6:  <B><U>Write a function that returns None (without explicitly returning it)</U>.</B>  </B>"
   ]
  },
  {
   "cell_type": "markdown",
   "id": "e97086f9",
   "metadata": {},
   "source": [
    "Write function <B>greet()</B>, which simply prints 'Hello, world!'.  Printing <B>x</B> should show <B>None</B>.\n"
   ]
  },
  {
   "cell_type": "code",
   "execution_count": null,
   "id": "df3e7297",
   "metadata": {},
   "outputs": [],
   "source": [
    "# make sure your function does not attempt to return anything\n",
    "\n",
    "\n",
    "\n",
    "x = greet()\n",
    "print(x)         # None"
   ]
  },
  {
   "cell_type": "markdown",
   "id": "bb0981fe",
   "metadata": {},
   "source": [
    " "
   ]
  },
  {
   "cell_type": "markdown",
   "id": "16f94551",
   "metadata": {},
   "source": [
    "<B>9.7:  <B><U>Demonstration:  remove a <B>return</B> statement and note the value</U>.  </B></B>"
   ]
  },
  {
   "cell_type": "markdown",
   "id": "b3eba0cb",
   "metadata": {},
   "source": [
    "The below function returns the sum of its arguments.  First run the program and note the printed value, then remove the <B>return</B> statement to see the printed value.\n"
   ]
  },
  {
   "cell_type": "code",
   "execution_count": null,
   "id": "d71c23a6",
   "metadata": {},
   "outputs": [],
   "source": [
    "def get_sum(val1, val2):\n",
    "    valsum = val1 + val2\n",
    "    return valsum\n",
    "\n",
    "\n",
    "r = get_sum(5, 10)\n",
    "print(r)"
   ]
  },
  {
   "cell_type": "markdown",
   "id": "f455d28e",
   "metadata": {},
   "source": [
    " "
   ]
  },
  {
   "cell_type": "markdown",
   "id": "de1bc168",
   "metadata": {},
   "source": [
    "MULTI-TARGET ASSIGNMENT"
   ]
  },
  {
   "cell_type": "markdown",
   "id": "fa182704",
   "metadata": {},
   "source": [
    "<B>9.8:  <B><U>Explore multi-target assignment errors</U>.</B>  </B>"
   ]
  },
  {
   "cell_type": "markdown",
   "id": "ba659724",
   "metadata": {},
   "source": [
    "Try removing a variable from either the left or right side of the =.  What happens?\n"
   ]
  },
  {
   "cell_type": "code",
   "execution_count": null,
   "id": "8bb6af28",
   "metadata": {},
   "outputs": [],
   "source": [
    "a = 5\n",
    "b = 10\n",
    "c = 15\n",
    "\n",
    "x, y, z = a, b, c"
   ]
  },
  {
   "cell_type": "markdown",
   "id": "20a0ddec",
   "metadata": {},
   "source": [
    " "
   ]
  },
  {
   "cell_type": "markdown",
   "id": "d6602516",
   "metadata": {},
   "source": [
    "FUNCTIONS:  VARIABLE SCOPES"
   ]
  },
  {
   "cell_type": "markdown",
   "id": "819eb631",
   "metadata": {},
   "source": [
    "<B>9.9:  <B><U>Explore function scoping</U>.</B>  </B>"
   ]
  },
  {
   "cell_type": "markdown",
   "id": "de5d3518",
   "metadata": {},
   "source": [
    "Call this function, then attempt to print <B>lvar</B> after calling the function.  Is <B>lvar</B> available outside the function?\n"
   ]
  },
  {
   "cell_type": "code",
   "execution_count": null,
   "id": "2a7005e8",
   "metadata": {},
   "outputs": [],
   "source": [
    "def do(arg):\n",
    "    lvar = arg * 2\n",
    "    return lvar\n",
    "\n",
    "\n",
    "a = do(5)\n",
    "print(a)"
   ]
  },
  {
   "cell_type": "markdown",
   "id": "94ae9724",
   "metadata": {},
   "source": [
    " "
   ]
  },
  {
   "cell_type": "markdown",
   "id": "66d97f82",
   "metadata": {},
   "source": [
    "<B>9.10:  <B><U>Explore global variables inside functions</U>.</B>  </B>"
   ]
  },
  {
   "cell_type": "markdown",
   "id": "fad5bdf9",
   "metadata": {},
   "source": [
    "Replace <B>2</B> with <B>gvar</B> inside the function, then call the function.  Is <B>gvar</B> available inside the function?\n"
   ]
  },
  {
   "cell_type": "code",
   "execution_count": null,
   "id": "68897106",
   "metadata": {},
   "outputs": [],
   "source": [
    "gvar = 2\n",
    "\n",
    "def do(arg):\n",
    "    lvar = arg * 2\n",
    "    return lvar\n",
    "\n",
    "\n",
    "a = do(5)\n",
    "print(a)"
   ]
  },
  {
   "cell_type": "markdown",
   "id": "e34901ad",
   "metadata": {},
   "source": [
    " "
   ]
  },
  {
   "cell_type": "markdown",
   "id": "2a7091d9",
   "metadata": {},
   "source": [
    "<B>9.11:  <B><U>Identify local and global variables</U>.</B>  </B>"
   ]
  },
  {
   "cell_type": "markdown",
   "id": "3b63dacd",
   "metadata": {},
   "source": [
    "Identify the 3 local variables and 2 global variables in the below code:"
   ]
  },
  {
   "cell_type": "code",
   "execution_count": null,
   "id": "64349372",
   "metadata": {},
   "outputs": [],
   "source": [
    "filename = '../pyku.txt'\n",
    "\n",
    "def get_text(fname):\n",
    "    fh = open(fname)\n",
    "    text = fh.read()\n",
    "    return text\n",
    "\n",
    "txt = get_text(filename)"
   ]
  },
  {
   "cell_type": "markdown",
   "id": "4b70be74",
   "metadata": {},
   "source": [
    " "
   ]
  },
  {
   "cell_type": "markdown",
   "id": "020b7739",
   "metadata": {},
   "source": [
    "REVIEW:  RAISE STATEMENT"
   ]
  },
  {
   "cell_type": "markdown",
   "id": "074c44ef",
   "metadata": {},
   "source": [
    "<B>9.12:  <B><U>Raise an exception</U>.</B>  Test to see if the user's input matches one of the values in the <B>valid\\_choices</B> list (use <B>if uchoice not in valid\\_choices</B>).  If not, raise a <B>ValueError</B> exception with a descriptive error message.  </B>"
   ]
  },
  {
   "cell_type": "code",
   "execution_count": null,
   "id": "bc8eb9a8",
   "metadata": {},
   "outputs": [],
   "source": [
    "def validate_choice(uchoice):\n",
    "\n",
    "    valid_choices = ['run', 'stop', 'rewind']\n",
    "\n",
    "    if uchoice not in valid_choices:\n",
    "        # your code here\n",
    "\n",
    "\n",
    "validate_choice('run')           # should have no visible effect - function did not raise\n",
    "\n",
    "validate_choice('fastforward')   # should raise ValueError with a message"
   ]
  },
  {
   "cell_type": "markdown",
   "id": "5a5d8027",
   "metadata": {},
   "source": [
    " "
   ]
  },
  {
   "cell_type": "markdown",
   "id": "6163e945",
   "metadata": {},
   "source": [
    "<B>9.13:  <B><U>Detect object type and raise TypeError</U>.</B>  Use the <B>isinstance()</B> function to see if the argument to this function is an integer.  If it isn't, raise your own <B>TypeError</B> exception with a descriptive error message.  </B>"
   ]
  },
  {
   "cell_type": "code",
   "execution_count": null,
   "id": "a3c1a92e",
   "metadata": {},
   "outputs": [],
   "source": [
    "def doubleit(arg):\n",
    "    if not isinstance(arg, int):\n",
    "        # your code here\n",
    "    return arg * 2\n",
    "\n",
    "x = doubleit('5')\n"
   ]
  },
  {
   "cell_type": "markdown",
   "id": "1f4eec4c",
   "metadata": {},
   "source": [
    " "
   ]
  },
  {
   "cell_type": "markdown",
   "id": "3306d267",
   "metadata": {},
   "source": [
    "LAB 1"
   ]
  },
  {
   "cell_type": "markdown",
   "id": "121af863",
   "metadata": {},
   "source": [
    "<div style=\"background-color: #ccffcc; padding: 10px; border: 2px solid green\"><B>9.14:  <B><U>Multi-target assignment</U>.</B>  </B></div>"
   ]
  },
  {
   "cell_type": "markdown",
   "id": "60150dc1",
   "metadata": {},
   "source": [
    "In one statement, assign the variables a, b and c to x, y and z respectively.\n"
   ]
  },
  {
   "cell_type": "code",
   "execution_count": null,
   "id": "7ffd59ee",
   "metadata": {},
   "outputs": [],
   "source": [
    "a = 5\n",
    "b = 10\n",
    "c = 15\n",
    "\n",
    "# your code here\n",
    "\n",
    "\n",
    "print(x)            # 5\n",
    "print(y)            # 10\n",
    "print(z)            # 15"
   ]
  },
  {
   "cell_type": "markdown",
   "id": "f9c5c02e",
   "metadata": {},
   "source": [
    "<U>Expected Output</U>:  "
   ]
  },
  {
   "cell_type": "markdown",
   "id": "16d9603b",
   "metadata": {},
   "source": [
    "<pre style=\"margin: 0; padding=0\"><DIV style=\"font-family: Courier; border: 1px solid #dbdbdb; padding: 7px\">5\n",
    "10\n",
    "15</DIV></pre>"
   ]
  },
  {
   "cell_type": "markdown",
   "id": "2b66d5ba",
   "metadata": {},
   "source": [
    " "
   ]
  },
  {
   "cell_type": "markdown",
   "id": "6f31df2f",
   "metadata": {},
   "source": [
    "<div style=\"background-color: #ccffcc; padding: 10px; border: 2px solid green\"><B>9.15:  <B><U>Write a function that validates its argument</U>.</B>  </B></div>"
   ]
  },
  {
   "cell_type": "markdown",
   "id": "5c4d45a6",
   "metadata": {},
   "source": [
    "Define function <B>make\\_case()</B>, which takes two arguments:  <B>text</B>, a string to be modified, and <B>case</B> a string that must be either 'upper' or 'lower'.  If <B>case</B> is not one of these, the function should <B>raise</B> a <B>ValueError</B> exception.  Then based on the case argument, return the string uppercased or lowercased.\n"
   ]
  },
  {
   "cell_type": "code",
   "execution_count": null,
   "id": "ebc0e0be",
   "metadata": {},
   "outputs": [],
   "source": [
    "# your function def here\n",
    "\n",
    "\n",
    "\n",
    "greeting = 'Hello.'\n",
    "\n",
    "x = case(greeting, 'upper')         # str, 'HELLO.'\n",
    "print(x)\n",
    "\n",
    "y = case(greeting, 'lower')         # str, 'hello.'\n",
    "print(y)\n",
    "\n",
    "z = case(greeting, 'middle')        # ValueError:  \"middle\" is not a valid argument:\n",
    "                                    #              must be \"upper\" or \"lower\""
   ]
  },
  {
   "cell_type": "markdown",
   "id": "1227636c",
   "metadata": {},
   "source": [
    "<U>Expected Output</U>:  "
   ]
  },
  {
   "cell_type": "markdown",
   "id": "0eccb87e",
   "metadata": {},
   "source": [
    "<pre style=\"margin: 0; padding=0\"><DIV style=\"font-family: Courier; border: 1px solid #dbdbdb; padding: 7px\">HELLO.\n",
    "hello.\n",
    "ValueError:  \"middle\" is not a valid argument:  must be \"upper\" or \"lower\"</DIV></pre>"
   ]
  },
  {
   "cell_type": "markdown",
   "id": "d6b435b8",
   "metadata": {},
   "source": [
    " "
   ]
  },
  {
   "cell_type": "markdown",
   "id": "bde56482",
   "metadata": {},
   "source": [
    "<div style=\"background-color: #ccffcc; padding: 10px; border: 2px solid green\"><B>9.16:  <B><U>Write a function with an optional argument</U>.</B>  </B></div>"
   ]
  },
  {
   "cell_type": "markdown",
   "id": "6d373e38",
   "metadata": {},
   "source": [
    "Modify the above function so that the 2nd argument is optional, with default 'upper'.  Make sure it behaves as shown when called as shown below.\n"
   ]
  },
  {
   "cell_type": "code",
   "execution_count": null,
   "id": "4f588bff",
   "metadata": {},
   "outputs": [],
   "source": [
    "# your function def here\n",
    "\n",
    "\n",
    "greeting = 'Hello.'\n",
    "\n",
    "a = make_case(greeting, case='lower')     # str, 'hello.'\n",
    "print(a)\n",
    "\n",
    "b = make_case(greeting, case='upper')     # str, 'HELLO.'\n",
    "\n",
    "c = make_case(greeting)                   # str, 'HELLO.'\n",
    "print(c)\n",
    "\n",
    "d = make_case(greeting, case='title')     # ValueError:  \"title\" is not a valid argument:\n",
    "print(d)                                  #              must be \"upper\" or \"lower\""
   ]
  },
  {
   "cell_type": "markdown",
   "id": "7d6bb139",
   "metadata": {},
   "source": [
    "<U>Expected Output</U>:  "
   ]
  },
  {
   "cell_type": "markdown",
   "id": "9c05a141",
   "metadata": {},
   "source": [
    "<pre style=\"margin: 0; padding=0\"><DIV style=\"font-family: Courier; border: 1px solid #dbdbdb; padding: 7px\">hello.\n",
    "HELLO.\n",
    "HELLO.\n",
    "ValueError:  \"title\" is not a valid argument:  must be \"upper\" or \"lower\"</DIV></pre>"
   ]
  },
  {
   "cell_type": "markdown",
   "id": "01034bf3",
   "metadata": {},
   "source": [
    " "
   ]
  },
  {
   "cell_type": "markdown",
   "id": "31b71776",
   "metadata": {},
   "source": [
    "<div style=\"background-color: #ccffcc; padding: 10px; border: 2px solid green\"><B>9.17:  <B><U>Write a function with both positional and optional arguments</U>.</B></B></div>"
   ]
  },
  {
   "cell_type": "markdown",
   "id": "846fa9f6",
   "metadata": {},
   "source": [
    "Write function <B>temp\\_convert()</B> that takes one required argument <B>temp</B>, a temperature value, and an optional argument <B>scale=</B>, which must be 'C' or 'F', and a default value of 'C'.  If <B>scale</B> is not 'C' or 'F', the function raises a <B>ValueError</B>.\n",
    "\n",
    "Formula for F->C:  (x − 32) * 5/9\n",
    "Formula for C->F:  (x * 9/5) + 32\n",
    "\n",
    "Make sure the function behaves as shown below with the below arguments.\n"
   ]
  },
  {
   "cell_type": "code",
   "execution_count": null,
   "id": "d4117c84",
   "metadata": {},
   "outputs": [],
   "source": [
    "# your function def here\n",
    "\n",
    "\n",
    "\n",
    "c = temp_convert(212, scale='C')       # 100\n",
    "print(c)\n",
    "\n",
    "f = temp_convert(0, scale='F')         # 32\n",
    "print(f)\n",
    "\n",
    "cc = temp_convert(32)                  # 0\n",
    "print(cc)\n",
    "\n",
    "ff = temp_convert(-1, scale='Fahrenheit')   # ValueError:  \"Fahrenheit\" is not a\n",
    "                                            # valid argument:  must be \"C\" or \"F\"\n",
    "print(ff)"
   ]
  },
  {
   "cell_type": "markdown",
   "id": "5c0f4a3e",
   "metadata": {},
   "source": [
    "<U>Expected Output</U>:  "
   ]
  },
  {
   "cell_type": "markdown",
   "id": "1449469f",
   "metadata": {},
   "source": [
    "<pre style=\"margin: 0; padding=0\"><DIV style=\"font-family: Courier; border: 1px solid #dbdbdb; padding: 7px\">100\n",
    "32\n",
    "0\n",
    "ValueError:  \"Fahrenheit\" is not a valid argument:  must be \"C\" or \"F\"</DIV></pre>"
   ]
  },
  {
   "cell_type": "markdown",
   "id": "ef1f2604",
   "metadata": {},
   "source": [
    " "
   ]
  },
  {
   "cell_type": "markdown",
   "id": "f1d2eedd",
   "metadata": {},
   "source": [
    "<div style=\"background-color: #ccffcc; padding: 10px; border: 2px solid green\"><B>9.18:  <B><U>Write a function that returns multiple values</U>.</B>  </B></div>"
   ]
  },
  {
   "cell_type": "markdown",
   "id": "be399296",
   "metadata": {},
   "source": [
    "Define function <B>name\\_split()</B>, which takes a single string and attempts to split it on whitespace into 2 or 3 items.  If there are more than 3 or fewer than 2 items, it raises a <B>ValueError</B> with a descriptive message.  If there are three items, it returns them; if there are two items, it returns the first item, <B>None</B>, and the second item.\n",
    "\n",
    "Make sure the function return values are as shown below.\n"
   ]
  },
  {
   "cell_type": "code",
   "execution_count": null,
   "id": "e3ea8bd4",
   "metadata": {},
   "outputs": [],
   "source": [
    "# your function def here\n",
    "\n",
    "\n",
    "\n",
    "\n",
    "first, second, third = name_split('George Patrick Flanahanahan')\n",
    "print(first, second, third)      # 'George', 'Patrick', 'Flanahanahan'\n",
    "\n",
    "fname, sname, tname = name_split('Aimee Vonda')\n",
    "print(fname, sname, tname)       # 'Aimee', None, 'Vonda'\n",
    "\n",
    "fn, sn, tn = name_split('Gimpy P. W. Simpson')\n",
    "print(fn, sn, tn)                # ValueError:  must be 2 or 3 words in name"
   ]
  },
  {
   "cell_type": "markdown",
   "id": "546aebc0",
   "metadata": {},
   "source": [
    "<U>Expected Output</U>:  "
   ]
  },
  {
   "cell_type": "markdown",
   "id": "59ed5f10",
   "metadata": {},
   "source": [
    "<pre style=\"margin: 0; padding=0\"><DIV style=\"font-family: Courier; border: 1px solid #dbdbdb; padding: 7px\">George Patrick Flanahanahan\n",
    "Aimee None Vonda\n",
    "ValueError:  must be 2 or 3 words in name</DIV></pre>"
   ]
  },
  {
   "cell_type": "markdown",
   "id": "492dc4d0",
   "metadata": {},
   "source": [
    " "
   ]
  },
  {
   "cell_type": "markdown",
   "id": "69be1eee",
   "metadata": {},
   "source": [
    "<div style=\"background-color: #ccffcc; padding: 10px; border: 2px solid green\"><B>9.19:  <B><U>Identify global and local variables</U>.</B>  </B></div>"
   ]
  },
  {
   "cell_type": "markdown",
   "id": "520f99fb",
   "metadata": {},
   "source": [
    "Identify the global and local names in the below code.  There are 3 local and 4 global names to be identified.\n"
   ]
  },
  {
   "cell_type": "code",
   "execution_count": null,
   "id": "624ed621",
   "metadata": {},
   "outputs": [],
   "source": [
    "a = 5\n",
    "\n",
    "def do(c, d):\n",
    "    e = c * d\n",
    "    return e\n",
    "\n",
    "b = 100\n",
    "\n",
    "x = do(a, b)       # 500\n",
    "print(x)"
   ]
  },
  {
   "cell_type": "markdown",
   "id": "22070f3e",
   "metadata": {},
   "source": [
    " "
   ]
  },
  {
   "cell_type": "markdown",
   "id": "4c2e2966",
   "metadata": {},
   "source": [
    "READING FROM MODULES"
   ]
  },
  {
   "cell_type": "markdown",
   "id": "d700e8c0",
   "metadata": {},
   "source": [
    "<B>9.20:  <B><U>Import a module and use its variables</U>.</B>  Import module 'mymod' (located in the 'lib' directory) and print one of its variables.  </B>"
   ]
  },
  {
   "cell_type": "code",
   "execution_count": null,
   "id": "2e0681f9",
   "metadata": {},
   "outputs": [],
   "source": [
    "import sys\n",
    "\n",
    "sys.path.append('../lib')    # temporary - puts mymod.py's directory\n",
    "                             #             in your import path\n",
    "\n",
    "# your import and code here"
   ]
  },
  {
   "cell_type": "markdown",
   "id": "195246ca",
   "metadata": {},
   "source": [
    " "
   ]
  },
  {
   "cell_type": "markdown",
   "id": "a2c09c6b",
   "metadata": {},
   "source": [
    "<B>9.21:  <B><U>Import a module as a different name and use its variables</U>.</B>  Perform the same as above but import the module as 'mm'.  Again, print one of the varibles from mymod.py.  </B>"
   ]
  },
  {
   "cell_type": "code",
   "execution_count": null,
   "id": "25dd4d93",
   "metadata": {},
   "outputs": [],
   "source": [
    "import sys\n",
    "\n",
    "sys.path.append('../lib')    # temporary - puts mymod.py's directory\n",
    "                             #             in your import path\n",
    "\n",
    "# your import and code here"
   ]
  },
  {
   "cell_type": "markdown",
   "id": "665dd05e",
   "metadata": {},
   "source": [
    " "
   ]
  },
  {
   "cell_type": "markdown",
   "id": "e61938f4",
   "metadata": {},
   "source": [
    "<B>9.22:  <B><U>Import a variable from a module into the program's namespace</U>.</B>  </B>"
   ]
  },
  {
   "cell_type": "markdown",
   "id": "e3437bf9",
   "metadata": {},
   "source": [
    "Perform the same as above but import a variable from 'mymod.py' directly into this program's namespace.  You should be able to print this variable without prepending the name with <B>mymod</B> or <B>mm</B>.  Again, print one of the varibles.\n"
   ]
  },
  {
   "cell_type": "code",
   "execution_count": null,
   "id": "c9745a4a",
   "metadata": {},
   "outputs": [],
   "source": [
    "import sys\n",
    "\n",
    "sys.path.append('../lib')    # temporary - puts mymod.py's diretory\n",
    "                             #             in your import path\n",
    "\n",
    "# your import and code here"
   ]
  },
  {
   "cell_type": "markdown",
   "id": "9e367f6b",
   "metadata": {},
   "source": [
    " "
   ]
  }
 ],
 "metadata": {},
 "nbformat": 4,
 "nbformat_minor": 5
}
